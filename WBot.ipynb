{
 "cells": [
  {
   "cell_type": "code",
   "execution_count": 1,
   "id": "7c3a7a00",
   "metadata": {
    "collapsed": true
   },
   "outputs": [
    {
     "name": "stdout",
     "output_type": "stream",
     "text": [
      "Requirement already satisfied: selenium in c:\\programdata\\anaconda3\\lib\\site-packages (4.1.3)\n",
      "Requirement already satisfied: trio-websocket~=0.9 in c:\\programdata\\anaconda3\\lib\\site-packages (from selenium) (0.9.2)\n",
      "Requirement already satisfied: trio~=0.17 in c:\\programdata\\anaconda3\\lib\\site-packages (from selenium) (0.20.0)\n",
      "Requirement already satisfied: urllib3[secure,socks]~=1.26 in c:\\programdata\\anaconda3\\lib\\site-packages (from selenium) (1.26.7)\n",
      "Requirement already satisfied: cffi>=1.14 in c:\\programdata\\anaconda3\\lib\\site-packages (from trio~=0.17->selenium) (1.14.6)\n",
      "Requirement already satisfied: idna in c:\\programdata\\anaconda3\\lib\\site-packages (from trio~=0.17->selenium) (3.2)\n",
      "Requirement already satisfied: outcome in c:\\programdata\\anaconda3\\lib\\site-packages (from trio~=0.17->selenium) (1.1.0)\n",
      "Requirement already satisfied: sortedcontainers in c:\\programdata\\anaconda3\\lib\\site-packages (from trio~=0.17->selenium) (2.4.0)\n",
      "Requirement already satisfied: async-generator>=1.9 in c:\\programdata\\anaconda3\\lib\\site-packages (from trio~=0.17->selenium) (1.10)\n",
      "Requirement already satisfied: sniffio in c:\\programdata\\anaconda3\\lib\\site-packages (from trio~=0.17->selenium) (1.2.0)\n",
      "Requirement already satisfied: attrs>=19.2.0 in c:\\programdata\\anaconda3\\lib\\site-packages (from trio~=0.17->selenium) (21.2.0)\n",
      "Requirement already satisfied: pycparser in c:\\programdata\\anaconda3\\lib\\site-packages (from cffi>=1.14->trio~=0.17->selenium) (2.20)\n",
      "Requirement already satisfied: wsproto>=0.14 in c:\\programdata\\anaconda3\\lib\\site-packages (from trio-websocket~=0.9->selenium) (1.1.0)\n",
      "Requirement already satisfied: PySocks!=1.5.7,<2.0,>=1.5.6 in c:\\programdata\\anaconda3\\lib\\site-packages (from urllib3[secure,socks]~=1.26->selenium) (1.7.1)\n",
      "Requirement already satisfied: pyOpenSSL>=0.14 in c:\\programdata\\anaconda3\\lib\\site-packages (from urllib3[secure,socks]~=1.26->selenium) (21.0.0)\n",
      "Requirement already satisfied: cryptography>=1.3.4 in c:\\programdata\\anaconda3\\lib\\site-packages (from urllib3[secure,socks]~=1.26->selenium) (3.4.8)\n",
      "Requirement already satisfied: certifi in c:\\programdata\\anaconda3\\lib\\site-packages (from urllib3[secure,socks]~=1.26->selenium) (2021.10.8)\n",
      "Requirement already satisfied: six>=1.5.2 in c:\\programdata\\anaconda3\\lib\\site-packages (from pyOpenSSL>=0.14->urllib3[secure,socks]~=1.26->selenium) (1.16.0)\n",
      "Requirement already satisfied: h11<1,>=0.9.0 in c:\\programdata\\anaconda3\\lib\\site-packages (from wsproto>=0.14->trio-websocket~=0.9->selenium) (0.13.0)\n"
     ]
    }
   ],
   "source": [
    "! pip install selenium"
   ]
  },
  {
   "cell_type": "code",
   "execution_count": 2,
   "id": "4d637886",
   "metadata": {},
   "outputs": [],
   "source": [
    "from selenium import webdriver\n",
    "from selenium.webdriver.common.by import By\n",
    "from selenium.webdriver import Keys\n",
    "from selenium.webdriver.common.action_chains import ActionChains\n",
    "from time import sleep\n",
    "import random"
   ]
  },
  {
   "cell_type": "code",
   "execution_count": 3,
   "id": "5cf2c97a",
   "metadata": {},
   "outputs": [],
   "source": [
    "search_name = \"Духи\"\n",
    "articul_num = \"1713520\""
   ]
  },
  {
   "cell_type": "code",
   "execution_count": 3,
   "id": "c692f72b",
   "metadata": {},
   "outputs": [
    {
     "name": "stderr",
     "output_type": "stream",
     "text": [
      "C:\\Users\\75BD~1\\AppData\\Local\\Temp/ipykernel_12968/3149595701.py:1: DeprecationWarning: executable_path has been deprecated, please pass in a Service object\n",
      "  driver = webdriver.Chrome(\"./chrome/chromedriver\")\n"
     ]
    }
   ],
   "source": [
    "driver = webdriver.Chrome(\"./chrome/chromedriver\")\n",
    "\n",
    "driver.get(\"https://www.wildberries.ru/\")"
   ]
  },
  {
   "cell_type": "code",
   "execution_count": 26,
   "id": "fe534876",
   "metadata": {},
   "outputs": [],
   "source": [
    "def login(number):\n",
    "    driver.find_element(By.CLASS_NAME, 'j-main-login').click()\n",
    "    sleep(random.uniform(3,5))\n",
    "    driver.find_element(By.CLASS_NAME, 'input-item').send_keys(number)\n",
    "    sleep(random.uniform(2,4))\n",
    "    driver.find_element(By.CLASS_NAME, 'login__btn').click()\n",
    "    \n",
    "\n",
    "     \n",
    "def search(key):\n",
    "    driver.find_element(By.ID, 'searchInput').click()\n",
    "    driver.find_element(By.ID, 'searchInput').send_keys(key)\n",
    "    driver.find_element(By.ID, 'searchInput').send_keys(Keys.ENTER)\n",
    "    \n",
    "def card_search(articul, scrolling=True, fake_choose=True): #Возвращает элемент страницы карточки товара\n",
    "    hover = ActionChains(driver)\n",
    "    card_finded = False\n",
    "    scroll_step = 500\n",
    "    while not card_finded:\n",
    "        Y = 150\n",
    "        card_cnt = 4\n",
    "\n",
    "        cards = driver.find_elements(By.XPATH, '//div[contains(@class, \"product-card j-card-item\")]')\n",
    "        for card in cards:\n",
    "            print(card.get_attribute(\"id\")[1:])\n",
    "            if scrolling: # Каждые 4 провереных товара скролим экран\n",
    "                if card_cnt == 4:\n",
    "                    driver.execute_script(\"window.scrollTo({top: \"+str(Y+random.randint(-20, 20))+\",behavior: 'smooth'})\")\n",
    "                    sleep(random.uniform(1,5))\n",
    "                    Y = Y+scroll_step\n",
    "                    print(Y)\n",
    "                    card_cnt = 0\n",
    "                card_cnt += 1\n",
    "            if fake_choose:\n",
    "                if random.randint(1,10) == 8:\n",
    "                    _articul = card.get_attribute(\"id\")\n",
    "                    img = driver.find_element(By.XPATH, '//div[@id=\"'+ _articul +'\"]/div/a/div/div/img')\n",
    "                    hover.move_to_element(img).perform()\n",
    "                    sleep(1.5)\n",
    "                    card_button = driver.find_element(By.XPATH, '//div[@id=\"'+ _articul +'\"]/div/a/div/button')\n",
    "                    card_button.click()\n",
    "                    sleep(random.uniform(3,7))\n",
    "#                     if random.randint(1,5) == 3:\n",
    "                    if random.randint(1,3) == 3:\n",
    "                        if random.randint(1,2) == 2:\n",
    "                            see_images()\n",
    "                        card_to_basket()\n",
    "                        sleep(2.5)\n",
    "                    sleep(random.uniform(2,5))\n",
    "                    close_card_modal()\n",
    "            # Проверяем товар по артиклу\n",
    "            sleep(random.uniform(0,1))\n",
    "            if card.get_attribute(\"id\")[1:] == articul:\n",
    "                _articul = card.get_attribute(\"id\")\n",
    "                img = driver.find_element(By.XPATH, '//div[@id=\"'+ _articul +'\"]/div/a/div/div/img')\n",
    "                hover.move_to_element(img).perform()\n",
    "                sleep(1.5)\n",
    "                sleep(random.uniform(1,3))\n",
    "                card_button = driver.find_element(By.XPATH, '//div[@id=\"'+ _articul +'\"]/div/a/div/button')\n",
    "                card_button.click()\n",
    "                sleep(random.uniform(3,7))\n",
    "                if random.randint(2,2) == 2:\n",
    "                    see_images()\n",
    "                card_to_basket()\n",
    "                sleep(random.uniform(3,5))\n",
    "                close_card_modal()\n",
    "                return\n",
    "\n",
    "        if not card_finded:\n",
    "            next_page()\n",
    "            sleep(2)\n",
    "    \n",
    "def next_page():\n",
    "    driver.find_element(By.CLASS_NAME, 'pagination__next').click()\n",
    "    \n",
    "def close_card_modal():\n",
    "    try:\n",
    "        driver.find_element(By.CLASS_NAME, 'popup__close').click()\n",
    "    except:\n",
    "        page_back()\n",
    "        sleep(2.5)\n",
    "    \n",
    "def see_images():\n",
    "    hover = ActionChains(driver)\n",
    "\n",
    "    for slide in driver.find_elements(By.CLASS_NAME, 'slide'):\n",
    "        hover.move_to_element(slide).perform()\n",
    "        sleep(random.uniform(1,5))\n",
    "        if random.randint(1,4) == 3:\n",
    "            return\n",
    "\n",
    "def go_to_basket():\n",
    "    driver.find_element(By.CLASS_NAME, 'navbar-pc__icon--basket').click()\n",
    "    \n",
    "def like():\n",
    "    driver.find_element(By.CLASS_NAME, 'btn-heart').click()\n",
    "    \n",
    "def delete_other_cards_in_basket(articul):\n",
    "    hover = ActionChains(driver)\n",
    "    while True:\n",
    "        card_names = driver.find_elements(By.XPATH, '//a[contains(@href, \"catalog\") and @class=\"good-info__title j-product-popup\"]')\n",
    "        card_name = card_names[random.choice(list(range(len(card_names))))]\n",
    "        if card_name.get_attribute('href').find(articul) <= 0:\n",
    "            counter = card_name.find_element(By.XPATH, '../../../div[contains(@class,\"count\")]')\n",
    "            hover.move_to_element(counter).perform()\n",
    "            sleep(random.uniform(1,5))\n",
    "            counter.find_element(By.CLASS_NAME, 'btn__del').click()\n",
    "        if len(card_names)<=1:\n",
    "            return\n",
    "            \n",
    "def card_to_basket():\n",
    "    try:\n",
    "        basket_btn = driver.find_element(By.XPATH, '//span[contains(text(), \"Добавить в корзину\")]/..')\n",
    "        if basket_btn:\n",
    "#             size = driver.find_element(By.CLASS_NAME, 'j-size')\n",
    "#             print('size', size)\n",
    "#             if size:\n",
    "#                 size.click()\n",
    "            sleep(1)\n",
    "            print('basket_btn', basket_btn)\n",
    "            basket_btn.click()\n",
    "    except:\n",
    "        pass\n",
    "\n",
    "def choose_post_place(adress):\n",
    "    driver.find_element(By.XPATH, '//h2[text()=\"Способ доставки\"]/../../div[text()=\"Выбрать адрес доставки\"]').click()\n",
    "    sleep(1)\n",
    "    driver.find_element(By.XPATH, '//button[text()=\"Выбрать адрес доставки\"]').click()\n",
    "    sleep(2)\n",
    "    driver.find_element(By.XPATH, '//input[@placeholder=\"Введите адрес\"]').send_keys(adress)\n",
    "    sleep(2)\n",
    "    driver.find_element(By.XPATH, '//ymaps[text()=\"Найти\"]').click()\n",
    "    sleep(2)\n",
    "    try:\n",
    "        driver.find_element(By.XPATH, '//ymaps[contains(@class, \"__first\")]').click()\n",
    "    except:\n",
    "        pass\n",
    "    sleep(2)\n",
    "    driver.find_element(By.XPATH, '//span[contains(text(), \"'+ adress +'\")]').click()\n",
    "    sleep(2)\n",
    "    driver.find_element(By.XPATH, '//div[@class=\"balloon-content-block\"]/button').click()\n",
    "    sleep(2)\n",
    "    driver.find_element(By.XPATH, '//button[@class=\"popup__btn-main\"]').click()\n",
    "    sleep(2)\n",
    "    \n",
    "def choose_payment_method(payment_method=\"Оплата по QR-коду\"):\n",
    "    driver.find_element(By.XPATH, '//h2[text()=\"Способ оплаты\"]/../../div[text()=\"Выбрать способ оплаты\"]').click()\n",
    "    sleep(1)\n",
    "    driver.find_element(By.XPATH, '//span[text()=\"' + payment_method + '\"]').click()\n",
    "    sleep(2)\n",
    "    driver.find_element(By.XPATH, '//button[contains(@class,\"popup__btn-main\")]').click()\n",
    "    sleep(2)\n",
    "    \n",
    "def get_qr_code(file_name):\n",
    "    driver.find_element(By.XPATH, '//button[text()=\"                Оплатить заказ                \"]').click()\n",
    "    sleep(2)\n",
    "    driver.find_element(By.XPATH, '//button[contains(@class,\"popup__btn-main\")]').click()\n",
    "    sleep(2)\n",
    "    svg = driver.find_element(By.XPATH, '//div[@class=\"qr-code__value\"]')\n",
    "    save_qr_code(svg, file_name)\n",
    "    sleep(2)\n",
    "    driver.find_element(By.CLASS_NAME, 'popup__close').click()\n",
    "\n",
    "def save_qr_code(svg, file_name):\n",
    "    svg.screenshot(file_name)\n",
    "    \n",
    "def page_back():\n",
    "    driver.back()\n",
    "    \n",
    "def main_page_surfing():\n",
    "    pass \n",
    "\n",
    "def choose_filter_checkbox(filter_name,value):\n",
    "    labels = driver.find_elements(By.XPATH, '//span[text()=\"'+filter_name+'\" and contains(@class,\"filter__name\")]/../../div/fieldset/label')\n",
    "    for label in labels:\n",
    "        text = label.text\n",
    "        text = text[:text.index(\"(\")]\n",
    "        text = text.strip()\n",
    "        if text == value:\n",
    "            label.click()\n",
    "            break\n",
    "\n",
    "def find_filter_checkbox(filter_name,value):\n",
    "    search_field = driver.find_element(By.XPATH, '//span[text()=\"'+filter_name+'\" and contains(@class,\"filter__name\")]/../../div/div/input')\n",
    "    search_field.click()\n",
    "    search_field.send_keys(value)\n",
    "    sleep(1)\n",
    "    choose_filter_checkbox(filter_name,value)\n",
    "    \n",
    "def price_filter(min_price, max_price):\n",
    "    min_price_field = driver.find_element(By.XPATH, '//span[text()=\"Цена, ₽\" and contains(@class,\"filter__name\")]/../../div/div/div/div/div/input[@name=\"startN\"]')\n",
    "    max_price_field = driver.find_element(By.XPATH, '//span[text()=\"Цена, ₽\" and contains(@class,\"filter__name\")]/../../div/div/div/div/div/input[@name=\"endN\"]') \n",
    "    min_price_field.click() \n",
    "    min_price_field.send_keys(Keys.CONTROL + \"a\") \n",
    "    min_price_field.send_keys(Keys.DELETE)\n",
    "    min_price_field.send_keys(min_price)\n",
    "    max_price_field.click\n",
    "    max_price_field.send_keys(Keys.CONTROL + \"a\")\n",
    "    max_price_field.send_keys(Keys.DELETE)\n",
    "    max_price_field.send_keys(max_price)\n"
   ]
  },
  {
   "cell_type": "code",
   "execution_count": 14,
   "id": "4852ca94",
   "metadata": {},
   "outputs": [],
   "source": [
    "filter_name=\"\"\n",
    "value = \"al-rehab\""
   ]
  },
  {
   "cell_type": "code",
   "execution_count": null,
   "id": "25b98541",
   "metadata": {},
   "outputs": [],
   "source": [
    "price_filter(7000, 14000)"
   ]
  },
  {
   "cell_type": "code",
   "execution_count": 32,
   "id": "f56a9d9b",
   "metadata": {},
   "outputs": [],
   "source": [
    "find_filter_checkbox (\"Бренд\", \"al-rehab\")"
   ]
  },
  {
   "cell_type": "code",
   "execution_count": 30,
   "id": "2aae4893",
   "metadata": {
    "scrolled": false
   },
   "outputs": [
    {
     "ename": "NameError",
     "evalue": "name 'search_name' is not defined",
     "output_type": "error",
     "traceback": [
      "\u001b[1;31m---------------------------------------------------------------------------\u001b[0m",
      "\u001b[1;31mNameError\u001b[0m                                 Traceback (most recent call last)",
      "\u001b[1;32mC:\\Users\\75BD~1\\AppData\\Local\\Temp/ipykernel_12968/2879136.py\u001b[0m in \u001b[0;36m<module>\u001b[1;34m\u001b[0m\n\u001b[1;32m----> 1\u001b[1;33m \u001b[0msearch\u001b[0m\u001b[1;33m(\u001b[0m\u001b[0msearch_name\u001b[0m\u001b[1;33m)\u001b[0m\u001b[1;33m\u001b[0m\u001b[1;33m\u001b[0m\u001b[0m\n\u001b[0m\u001b[0;32m      2\u001b[0m \u001b[0msleep\u001b[0m\u001b[1;33m(\u001b[0m\u001b[1;36m2\u001b[0m\u001b[1;33m)\u001b[0m\u001b[1;33m\u001b[0m\u001b[1;33m\u001b[0m\u001b[0m\n\u001b[0;32m      3\u001b[0m \u001b[0mcard_search\u001b[0m\u001b[1;33m(\u001b[0m\u001b[0marticul_num\u001b[0m\u001b[1;33m)\u001b[0m\u001b[1;33m\u001b[0m\u001b[1;33m\u001b[0m\u001b[0m\n\u001b[0;32m      4\u001b[0m \u001b[0mgo_to_basket\u001b[0m\u001b[1;33m(\u001b[0m\u001b[1;33m)\u001b[0m\u001b[1;33m\u001b[0m\u001b[1;33m\u001b[0m\u001b[0m\n\u001b[0;32m      5\u001b[0m \u001b[0msleep\u001b[0m\u001b[1;33m(\u001b[0m\u001b[1;36m1\u001b[0m\u001b[1;33m)\u001b[0m\u001b[1;33m\u001b[0m\u001b[1;33m\u001b[0m\u001b[0m\n",
      "\u001b[1;31mNameError\u001b[0m: name 'search_name' is not defined"
     ]
    }
   ],
   "source": [
    "search(search_name)\n",
    "sleep(2)\n",
    "card_search(articul_num)\n",
    "go_to_basket()\n",
    "sleep(1)\n",
    "delete_other_cards_in_basket(articul_num)\n",
    "sleep(3)\n",
    "choose_post_place(\"г Москва, Улица Лазо 4к1\")\n",
    "choose_payment_method()\n",
    "get_qr_code('file_name.png')"
   ]
  },
  {
   "cell_type": "code",
   "execution_count": 36,
   "id": "10ee8cc3",
   "metadata": {
    "scrolled": true
   },
   "outputs": [
    {
     "ename": "StaleElementReferenceException",
     "evalue": "Message: stale element reference: element is not attached to the page document\n  (Session info: chrome=99.0.4844.82)\nStacktrace:\nBacktrace:\n\tOrdinal0 [0x00DB9943+2595139]\n\tOrdinal0 [0x00D4C9F1+2148849]\n\tOrdinal0 [0x00C44528+1066280]\n\tOrdinal0 [0x00C46E04+1076740]\n\tOrdinal0 [0x00C46CBE+1076414]\n\tOrdinal0 [0x00C46F50+1077072]\n\tOrdinal0 [0x00C72C4C+1256524]\n\tOrdinal0 [0x00C71CF1+1252593]\n\tOrdinal0 [0x00C67AB3+1211059]\n\tOrdinal0 [0x00C8B9EC+1358316]\n\tOrdinal0 [0x00C67474+1209460]\n\tOrdinal0 [0x00C8BC04+1358852]\n\tOrdinal0 [0x00C9BAF2+1424114]\n\tOrdinal0 [0x00C8B806+1357830]\n\tOrdinal0 [0x00C66086+1204358]\n\tOrdinal0 [0x00C66F96+1208214]\n\tGetHandleVerifier [0x00F5B232+1658114]\n\tGetHandleVerifier [0x0101312C+2411516]\n\tGetHandleVerifier [0x00E4F261+560433]\n\tGetHandleVerifier [0x00E4E366+556598]\n\tOrdinal0 [0x00D5286B+2173035]\n\tOrdinal0 [0x00D575F8+2192888]\n\tOrdinal0 [0x00D576E5+2193125]\n\tOrdinal0 [0x00D611FC+2232828]\n\tBaseThreadInitThunk [0x7686FA29+25]\n\tRtlGetAppContainerNamedObjectPath [0x77EA7A7E+286]\n\tRtlGetAppContainerNamedObjectPath [0x77EA7A4E+238]\n",
     "output_type": "error",
     "traceback": [
      "\u001b[1;31m---------------------------------------------------------------------------\u001b[0m",
      "\u001b[1;31mStaleElementReferenceException\u001b[0m            Traceback (most recent call last)",
      "\u001b[1;32mC:\\Users\\75BD~1\\AppData\\Local\\Temp/ipykernel_11752/960535809.py\u001b[0m in \u001b[0;36m<module>\u001b[1;34m\u001b[0m\n\u001b[0;32m      3\u001b[0m \u001b[0msearch_field\u001b[0m\u001b[1;33m.\u001b[0m\u001b[0msend_keys\u001b[0m\u001b[1;33m(\u001b[0m\u001b[0mvalue\u001b[0m\u001b[1;33m)\u001b[0m\u001b[1;33m\u001b[0m\u001b[1;33m\u001b[0m\u001b[0m\n\u001b[0;32m      4\u001b[0m \u001b[1;33m\u001b[0m\u001b[0m\n\u001b[1;32m----> 5\u001b[1;33m \u001b[0mchoose_filter_checkbox\u001b[0m\u001b[1;33m(\u001b[0m\u001b[0mfilter_name\u001b[0m\u001b[1;33m,\u001b[0m\u001b[0mvalue\u001b[0m\u001b[1;33m)\u001b[0m\u001b[1;33m\u001b[0m\u001b[1;33m\u001b[0m\u001b[0m\n\u001b[0m",
      "\u001b[1;32mC:\\Users\\75BD~1\\AppData\\Local\\Temp/ipykernel_11752/794969012.py\u001b[0m in \u001b[0;36mchoose_filter_checkbox\u001b[1;34m(filter_name, value)\u001b[0m\n\u001b[0;32m    178\u001b[0m         \u001b[0mtext\u001b[0m \u001b[1;33m=\u001b[0m \u001b[0mtext\u001b[0m\u001b[1;33m.\u001b[0m\u001b[0mstrip\u001b[0m\u001b[1;33m(\u001b[0m\u001b[1;33m)\u001b[0m\u001b[1;33m\u001b[0m\u001b[1;33m\u001b[0m\u001b[0m\n\u001b[0;32m    179\u001b[0m         \u001b[1;32mif\u001b[0m \u001b[0mtext\u001b[0m \u001b[1;33m==\u001b[0m \u001b[0mvalue\u001b[0m\u001b[1;33m:\u001b[0m\u001b[1;33m\u001b[0m\u001b[1;33m\u001b[0m\u001b[0m\n\u001b[1;32m--> 180\u001b[1;33m             \u001b[0mlabel\u001b[0m\u001b[1;33m.\u001b[0m\u001b[0mclick\u001b[0m\u001b[1;33m(\u001b[0m\u001b[1;33m)\u001b[0m\u001b[1;33m\u001b[0m\u001b[1;33m\u001b[0m\u001b[0m\n\u001b[0m\u001b[0;32m    181\u001b[0m             \u001b[1;32mbreak\u001b[0m\u001b[1;33m\u001b[0m\u001b[1;33m\u001b[0m\u001b[0m\n\u001b[0;32m    182\u001b[0m \u001b[1;33m\u001b[0m\u001b[0m\n",
      "\u001b[1;32mC:\\ProgramData\\Anaconda3\\lib\\site-packages\\selenium\\webdriver\\remote\\webelement.py\u001b[0m in \u001b[0;36mclick\u001b[1;34m(self)\u001b[0m\n\u001b[0;32m     79\u001b[0m     \u001b[1;32mdef\u001b[0m \u001b[0mclick\u001b[0m\u001b[1;33m(\u001b[0m\u001b[0mself\u001b[0m\u001b[1;33m)\u001b[0m \u001b[1;33m->\u001b[0m \u001b[1;32mNone\u001b[0m\u001b[1;33m:\u001b[0m\u001b[1;33m\u001b[0m\u001b[1;33m\u001b[0m\u001b[0m\n\u001b[0;32m     80\u001b[0m         \u001b[1;34m\"\"\"Clicks the element.\"\"\"\u001b[0m\u001b[1;33m\u001b[0m\u001b[1;33m\u001b[0m\u001b[0m\n\u001b[1;32m---> 81\u001b[1;33m         \u001b[0mself\u001b[0m\u001b[1;33m.\u001b[0m\u001b[0m_execute\u001b[0m\u001b[1;33m(\u001b[0m\u001b[0mCommand\u001b[0m\u001b[1;33m.\u001b[0m\u001b[0mCLICK_ELEMENT\u001b[0m\u001b[1;33m)\u001b[0m\u001b[1;33m\u001b[0m\u001b[1;33m\u001b[0m\u001b[0m\n\u001b[0m\u001b[0;32m     82\u001b[0m \u001b[1;33m\u001b[0m\u001b[0m\n\u001b[0;32m     83\u001b[0m     \u001b[1;32mdef\u001b[0m \u001b[0msubmit\u001b[0m\u001b[1;33m(\u001b[0m\u001b[0mself\u001b[0m\u001b[1;33m)\u001b[0m\u001b[1;33m:\u001b[0m\u001b[1;33m\u001b[0m\u001b[1;33m\u001b[0m\u001b[0m\n",
      "\u001b[1;32mC:\\ProgramData\\Anaconda3\\lib\\site-packages\\selenium\\webdriver\\remote\\webelement.py\u001b[0m in \u001b[0;36m_execute\u001b[1;34m(self, command, params)\u001b[0m\n\u001b[0;32m    708\u001b[0m             \u001b[0mparams\u001b[0m \u001b[1;33m=\u001b[0m \u001b[1;33m{\u001b[0m\u001b[1;33m}\u001b[0m\u001b[1;33m\u001b[0m\u001b[1;33m\u001b[0m\u001b[0m\n\u001b[0;32m    709\u001b[0m         \u001b[0mparams\u001b[0m\u001b[1;33m[\u001b[0m\u001b[1;34m'id'\u001b[0m\u001b[1;33m]\u001b[0m \u001b[1;33m=\u001b[0m \u001b[0mself\u001b[0m\u001b[1;33m.\u001b[0m\u001b[0m_id\u001b[0m\u001b[1;33m\u001b[0m\u001b[1;33m\u001b[0m\u001b[0m\n\u001b[1;32m--> 710\u001b[1;33m         \u001b[1;32mreturn\u001b[0m \u001b[0mself\u001b[0m\u001b[1;33m.\u001b[0m\u001b[0m_parent\u001b[0m\u001b[1;33m.\u001b[0m\u001b[0mexecute\u001b[0m\u001b[1;33m(\u001b[0m\u001b[0mcommand\u001b[0m\u001b[1;33m,\u001b[0m \u001b[0mparams\u001b[0m\u001b[1;33m)\u001b[0m\u001b[1;33m\u001b[0m\u001b[1;33m\u001b[0m\u001b[0m\n\u001b[0m\u001b[0;32m    711\u001b[0m \u001b[1;33m\u001b[0m\u001b[0m\n\u001b[0;32m    712\u001b[0m     \u001b[1;32mdef\u001b[0m \u001b[0mfind_element\u001b[0m\u001b[1;33m(\u001b[0m\u001b[0mself\u001b[0m\u001b[1;33m,\u001b[0m \u001b[0mby\u001b[0m\u001b[1;33m=\u001b[0m\u001b[0mBy\u001b[0m\u001b[1;33m.\u001b[0m\u001b[0mID\u001b[0m\u001b[1;33m,\u001b[0m \u001b[0mvalue\u001b[0m\u001b[1;33m=\u001b[0m\u001b[1;32mNone\u001b[0m\u001b[1;33m)\u001b[0m\u001b[1;33m:\u001b[0m\u001b[1;33m\u001b[0m\u001b[1;33m\u001b[0m\u001b[0m\n",
      "\u001b[1;32mC:\\ProgramData\\Anaconda3\\lib\\site-packages\\selenium\\webdriver\\remote\\webdriver.py\u001b[0m in \u001b[0;36mexecute\u001b[1;34m(self, driver_command, params)\u001b[0m\n\u001b[0;32m    423\u001b[0m         \u001b[0mresponse\u001b[0m \u001b[1;33m=\u001b[0m \u001b[0mself\u001b[0m\u001b[1;33m.\u001b[0m\u001b[0mcommand_executor\u001b[0m\u001b[1;33m.\u001b[0m\u001b[0mexecute\u001b[0m\u001b[1;33m(\u001b[0m\u001b[0mdriver_command\u001b[0m\u001b[1;33m,\u001b[0m \u001b[0mparams\u001b[0m\u001b[1;33m)\u001b[0m\u001b[1;33m\u001b[0m\u001b[1;33m\u001b[0m\u001b[0m\n\u001b[0;32m    424\u001b[0m         \u001b[1;32mif\u001b[0m \u001b[0mresponse\u001b[0m\u001b[1;33m:\u001b[0m\u001b[1;33m\u001b[0m\u001b[1;33m\u001b[0m\u001b[0m\n\u001b[1;32m--> 425\u001b[1;33m             \u001b[0mself\u001b[0m\u001b[1;33m.\u001b[0m\u001b[0merror_handler\u001b[0m\u001b[1;33m.\u001b[0m\u001b[0mcheck_response\u001b[0m\u001b[1;33m(\u001b[0m\u001b[0mresponse\u001b[0m\u001b[1;33m)\u001b[0m\u001b[1;33m\u001b[0m\u001b[1;33m\u001b[0m\u001b[0m\n\u001b[0m\u001b[0;32m    426\u001b[0m             response['value'] = self._unwrap_value(\n\u001b[0;32m    427\u001b[0m                 response.get('value', None))\n",
      "\u001b[1;32mC:\\ProgramData\\Anaconda3\\lib\\site-packages\\selenium\\webdriver\\remote\\errorhandler.py\u001b[0m in \u001b[0;36mcheck_response\u001b[1;34m(self, response)\u001b[0m\n\u001b[0;32m    245\u001b[0m                 \u001b[0malert_text\u001b[0m \u001b[1;33m=\u001b[0m \u001b[0mvalue\u001b[0m\u001b[1;33m[\u001b[0m\u001b[1;34m'alert'\u001b[0m\u001b[1;33m]\u001b[0m\u001b[1;33m.\u001b[0m\u001b[0mget\u001b[0m\u001b[1;33m(\u001b[0m\u001b[1;34m'text'\u001b[0m\u001b[1;33m)\u001b[0m\u001b[1;33m\u001b[0m\u001b[1;33m\u001b[0m\u001b[0m\n\u001b[0;32m    246\u001b[0m             \u001b[1;32mraise\u001b[0m \u001b[0mexception_class\u001b[0m\u001b[1;33m(\u001b[0m\u001b[0mmessage\u001b[0m\u001b[1;33m,\u001b[0m \u001b[0mscreen\u001b[0m\u001b[1;33m,\u001b[0m \u001b[0mstacktrace\u001b[0m\u001b[1;33m,\u001b[0m \u001b[0malert_text\u001b[0m\u001b[1;33m)\u001b[0m  \u001b[1;31m# type: ignore[call-arg]  # mypy is not smart enough here\u001b[0m\u001b[1;33m\u001b[0m\u001b[1;33m\u001b[0m\u001b[0m\n\u001b[1;32m--> 247\u001b[1;33m         \u001b[1;32mraise\u001b[0m \u001b[0mexception_class\u001b[0m\u001b[1;33m(\u001b[0m\u001b[0mmessage\u001b[0m\u001b[1;33m,\u001b[0m \u001b[0mscreen\u001b[0m\u001b[1;33m,\u001b[0m \u001b[0mstacktrace\u001b[0m\u001b[1;33m)\u001b[0m\u001b[1;33m\u001b[0m\u001b[1;33m\u001b[0m\u001b[0m\n\u001b[0m\u001b[0;32m    248\u001b[0m \u001b[1;33m\u001b[0m\u001b[0m\n\u001b[0;32m    249\u001b[0m     \u001b[1;32mdef\u001b[0m \u001b[0m_value_or_default\u001b[0m\u001b[1;33m(\u001b[0m\u001b[0mself\u001b[0m\u001b[1;33m,\u001b[0m \u001b[0mobj\u001b[0m\u001b[1;33m:\u001b[0m \u001b[0mMapping\u001b[0m\u001b[1;33m[\u001b[0m\u001b[0m_KT\u001b[0m\u001b[1;33m,\u001b[0m \u001b[0m_VT\u001b[0m\u001b[1;33m]\u001b[0m\u001b[1;33m,\u001b[0m \u001b[0mkey\u001b[0m\u001b[1;33m:\u001b[0m \u001b[0m_KT\u001b[0m\u001b[1;33m,\u001b[0m \u001b[0mdefault\u001b[0m\u001b[1;33m:\u001b[0m \u001b[0m_VT\u001b[0m\u001b[1;33m)\u001b[0m \u001b[1;33m->\u001b[0m \u001b[0m_VT\u001b[0m\u001b[1;33m:\u001b[0m\u001b[1;33m\u001b[0m\u001b[1;33m\u001b[0m\u001b[0m\n",
      "\u001b[1;31mStaleElementReferenceException\u001b[0m: Message: stale element reference: element is not attached to the page document\n  (Session info: chrome=99.0.4844.82)\nStacktrace:\nBacktrace:\n\tOrdinal0 [0x00DB9943+2595139]\n\tOrdinal0 [0x00D4C9F1+2148849]\n\tOrdinal0 [0x00C44528+1066280]\n\tOrdinal0 [0x00C46E04+1076740]\n\tOrdinal0 [0x00C46CBE+1076414]\n\tOrdinal0 [0x00C46F50+1077072]\n\tOrdinal0 [0x00C72C4C+1256524]\n\tOrdinal0 [0x00C71CF1+1252593]\n\tOrdinal0 [0x00C67AB3+1211059]\n\tOrdinal0 [0x00C8B9EC+1358316]\n\tOrdinal0 [0x00C67474+1209460]\n\tOrdinal0 [0x00C8BC04+1358852]\n\tOrdinal0 [0x00C9BAF2+1424114]\n\tOrdinal0 [0x00C8B806+1357830]\n\tOrdinal0 [0x00C66086+1204358]\n\tOrdinal0 [0x00C66F96+1208214]\n\tGetHandleVerifier [0x00F5B232+1658114]\n\tGetHandleVerifier [0x0101312C+2411516]\n\tGetHandleVerifier [0x00E4F261+560433]\n\tGetHandleVerifier [0x00E4E366+556598]\n\tOrdinal0 [0x00D5286B+2173035]\n\tOrdinal0 [0x00D575F8+2192888]\n\tOrdinal0 [0x00D576E5+2193125]\n\tOrdinal0 [0x00D611FC+2232828]\n\tBaseThreadInitThunk [0x7686FA29+25]\n\tRtlGetAppContainerNamedObjectPath [0x77EA7A7E+286]\n\tRtlGetAppContainerNamedObjectPath [0x77EA7A4E+238]\n"
     ]
    }
   ],
   "source": [
    "search_field = driver.find_element(By.XPATH, '//span[text()=\"'+filter_name+'\" and contains(@class,\"filter__name\")]/../../div/div/input')\n",
    "search_field.click()\n",
    "search_field.send_keys(value)\n",
    "sleep(1)\n",
    "choose_filter_checkbox(filter_name,value)"
   ]
  },
  {
   "cell_type": "code",
   "execution_count": 21,
   "id": "7ce01403",
   "metadata": {},
   "outputs": [],
   "source": [
    "min_price_field = driver.find_element(By.XPATH, '//span[text()=\"'+filter_name+'\" and contains(@class,\"filter__name\")]/../../div/div/div/div/div/input[@name=\"startN\"]')\n",
    "max_price_field = driver.find_element(By.XPATH, '//span[text()=\"'+filter_name+'\" and contains(@class,\"filter__name\")]/../../div/div/div/div/div/input[@name=\"endN\"]') \n",
    "min_price_field.click() \n",
    "min_price_field.send_keys(Keys.CONTROL + \"a\") \n",
    "min_price_field.send_keys(Keys.DELETE)\n",
    "min_price_field.send_keys(6800)\n",
    "max_price_field.click\n",
    "max_price_field.send_keys(Keys.CONTROL + \"a\")\n",
    "max_price_field.send_keys(Keys.DELETE)\n",
    "max_price_field.send_keys(7500)"
   ]
  },
  {
   "cell_type": "code",
   "execution_count": 8,
   "id": "da1fa970",
   "metadata": {},
   "outputs": [],
   "source": [
    "login(\"9260809627\")"
   ]
  },
  {
   "cell_type": "code",
   "execution_count": 181,
   "id": "e83d8b4c",
   "metadata": {},
   "outputs": [
    {
     "data": {
      "text/plain": [
       "1"
      ]
     },
     "execution_count": 181,
     "metadata": {},
     "output_type": "execute_result"
    }
   ],
   "source": [
    " random.choice(list(range(10)))"
   ]
  },
  {
   "cell_type": "code",
   "execution_count": 225,
   "id": "7b2c8b52",
   "metadata": {},
   "outputs": [
    {
     "data": {
      "text/plain": [
       "<selenium.webdriver.remote.webelement.WebElement (session=\"50f127e859468799ee1d347ad50bca94\", element=\"ed72a600-4794-4a17-bb63-d0e59d1e8a43\")>"
      ]
     },
     "execution_count": 225,
     "metadata": {},
     "output_type": "execute_result"
    }
   ],
   "source": []
  },
  {
   "cell_type": "code",
   "execution_count": 202,
   "id": "5a103a30",
   "metadata": {},
   "outputs": [],
   "source": [
    "    driver.find_element(By.XPATH, '//h2[text()=\"Способ доставки\"]/../../div[text()=\"Выбрать адрес доставки\"]').click()\n"
   ]
  },
  {
   "cell_type": "code",
   "execution_count": 242,
   "id": "9296d9d7",
   "metadata": {},
   "outputs": [
    {
     "name": "stdout",
     "output_type": "stream",
     "text": [
      "basket_btn <selenium.webdriver.remote.webelement.WebElement (session=\"50f127e859468799ee1d347ad50bca94\", element=\"0b41db43-b665-4d06-b677-5a0701920da0\")>\n"
     ]
    }
   ],
   "source": [
    "card_to_basket()\n"
   ]
  },
  {
   "cell_type": "code",
   "execution_count": null,
   "id": "a65a3e60",
   "metadata": {},
   "outputs": [],
   "source": []
  }
 ],
 "metadata": {
  "kernelspec": {
   "display_name": "Python 3 (ipykernel)",
   "language": "python",
   "name": "python3"
  },
  "language_info": {
   "codemirror_mode": {
    "name": "ipython",
    "version": 3
   },
   "file_extension": ".py",
   "mimetype": "text/x-python",
   "name": "python",
   "nbconvert_exporter": "python",
   "pygments_lexer": "ipython3",
   "version": "3.9.7"
  }
 },
 "nbformat": 4,
 "nbformat_minor": 5
}
