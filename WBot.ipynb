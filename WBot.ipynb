{
 "cells": [
  {
   "cell_type": "code",
   "execution_count": 1,
   "id": "7c3a7a00",
   "metadata": {
    "collapsed": true
   },
   "outputs": [
    {
     "name": "stdout",
     "output_type": "stream",
     "text": [
      "Requirement already satisfied: selenium in c:\\programdata\\anaconda3\\lib\\site-packages (4.1.3)\n",
      "Requirement already satisfied: trio-websocket~=0.9 in c:\\programdata\\anaconda3\\lib\\site-packages (from selenium) (0.9.2)\n",
      "Requirement already satisfied: trio~=0.17 in c:\\programdata\\anaconda3\\lib\\site-packages (from selenium) (0.20.0)\n",
      "Requirement already satisfied: urllib3[secure,socks]~=1.26 in c:\\programdata\\anaconda3\\lib\\site-packages (from selenium) (1.26.7)\n",
      "Requirement already satisfied: cffi>=1.14 in c:\\programdata\\anaconda3\\lib\\site-packages (from trio~=0.17->selenium) (1.14.6)\n",
      "Requirement already satisfied: idna in c:\\programdata\\anaconda3\\lib\\site-packages (from trio~=0.17->selenium) (3.2)\n",
      "Requirement already satisfied: outcome in c:\\programdata\\anaconda3\\lib\\site-packages (from trio~=0.17->selenium) (1.1.0)\n",
      "Requirement already satisfied: sortedcontainers in c:\\programdata\\anaconda3\\lib\\site-packages (from trio~=0.17->selenium) (2.4.0)\n",
      "Requirement already satisfied: async-generator>=1.9 in c:\\programdata\\anaconda3\\lib\\site-packages (from trio~=0.17->selenium) (1.10)\n",
      "Requirement already satisfied: sniffio in c:\\programdata\\anaconda3\\lib\\site-packages (from trio~=0.17->selenium) (1.2.0)\n",
      "Requirement already satisfied: attrs>=19.2.0 in c:\\programdata\\anaconda3\\lib\\site-packages (from trio~=0.17->selenium) (21.2.0)\n",
      "Requirement already satisfied: pycparser in c:\\programdata\\anaconda3\\lib\\site-packages (from cffi>=1.14->trio~=0.17->selenium) (2.20)\n",
      "Requirement already satisfied: wsproto>=0.14 in c:\\programdata\\anaconda3\\lib\\site-packages (from trio-websocket~=0.9->selenium) (1.1.0)\n",
      "Requirement already satisfied: PySocks!=1.5.7,<2.0,>=1.5.6 in c:\\programdata\\anaconda3\\lib\\site-packages (from urllib3[secure,socks]~=1.26->selenium) (1.7.1)\n",
      "Requirement already satisfied: pyOpenSSL>=0.14 in c:\\programdata\\anaconda3\\lib\\site-packages (from urllib3[secure,socks]~=1.26->selenium) (21.0.0)\n",
      "Requirement already satisfied: cryptography>=1.3.4 in c:\\programdata\\anaconda3\\lib\\site-packages (from urllib3[secure,socks]~=1.26->selenium) (3.4.8)\n",
      "Requirement already satisfied: certifi in c:\\programdata\\anaconda3\\lib\\site-packages (from urllib3[secure,socks]~=1.26->selenium) (2021.10.8)\n",
      "Requirement already satisfied: six>=1.5.2 in c:\\programdata\\anaconda3\\lib\\site-packages (from pyOpenSSL>=0.14->urllib3[secure,socks]~=1.26->selenium) (1.16.0)\n",
      "Requirement already satisfied: h11<1,>=0.9.0 in c:\\programdata\\anaconda3\\lib\\site-packages (from wsproto>=0.14->trio-websocket~=0.9->selenium) (0.13.0)\n"
     ]
    }
   ],
   "source": [
    "! pip install selenium"
   ]
  },
  {
   "cell_type": "code",
   "execution_count": 3,
   "id": "4d637886",
   "metadata": {},
   "outputs": [],
   "source": [
    "from selenium import webdriver\n",
    "from selenium.webdriver.common.by import By\n",
    "from selenium.webdriver import Keys\n",
    "from selenium.webdriver.common.action_chains import ActionChains\n",
    "from time import sleep\n",
    "import random"
   ]
  },
  {
   "cell_type": "code",
   "execution_count": 231,
   "id": "5cf2c97a",
   "metadata": {},
   "outputs": [],
   "source": [
    "search_name = \"Духи\"\n",
    "articul_num = \"1713520\""
   ]
  },
  {
   "cell_type": "code",
   "execution_count": 5,
   "id": "c692f72b",
   "metadata": {},
   "outputs": [
    {
     "name": "stderr",
     "output_type": "stream",
     "text": [
      "C:\\Users\\ASTROC~1\\AppData\\Local\\Temp/ipykernel_1720/3149595701.py:1: DeprecationWarning: executable_path has been deprecated, please pass in a Service object\n",
      "  driver = webdriver.Chrome(\"./chrome/chromedriver\")\n"
     ]
    }
   ],
   "source": [
    "driver = webdriver.Chrome(\"./chrome/chromedriver\")\n",
    "\n",
    "driver.get(\"https://www.wildberries.ru/\")"
   ]
  },
  {
   "cell_type": "code",
   "execution_count": 243,
   "id": "21566943",
   "metadata": {},
   "outputs": [],
   "source": [
    "def login(number):\n",
    "    driver.find_element(By.CLASS_NAME, 'j-main-login').click()\n",
    "    sleep(random.uniform(3,5))\n",
    "    driver.find_element(By.CLASS_NAME, 'input-item').send_keys(number)\n",
    "    sleep(random.uniform(2,4))\n",
    "    driver.find_element(By.CLASS_NAME, 'login__btn').click()\n",
    "    \n",
    "\n",
    "     \n",
    "def search(key):\n",
    "    driver.find_element(By.ID, 'searchInput').click()\n",
    "    driver.find_element(By.ID, 'searchInput').send_keys(key)\n",
    "    driver.find_element(By.ID, 'searchInput').send_keys(Keys.ENTER)\n",
    "    \n",
    "def card_search(articul, scrolling=True, fake_choose=True): #Возвращает элемент страницы карточки товара\n",
    "    hover = ActionChains(driver)\n",
    "    card_finded = False\n",
    "    scroll_step = 500\n",
    "    while not card_finded:\n",
    "        Y = 150\n",
    "        card_cnt = 4\n",
    "\n",
    "        cards = driver.find_elements(By.XPATH, '//div[contains(@class, \"product-card j-card-item\")]')\n",
    "        for card in cards:\n",
    "            print(card.get_attribute(\"id\")[1:])\n",
    "            if scrolling: # Каждые 4 провереных товара скролим экран\n",
    "                if card_cnt == 4:\n",
    "                    driver.execute_script(\"window.scrollTo({top: \"+str(Y+random.randint(-20, 20))+\",behavior: 'smooth'})\")\n",
    "                    sleep(random.uniform(1,5))\n",
    "                    Y = Y+scroll_step\n",
    "                    print(Y)\n",
    "                    card_cnt = 0\n",
    "                card_cnt += 1\n",
    "            if fake_choose:\n",
    "                if random.randint(1,10) == 8:\n",
    "                    _articul = card.get_attribute(\"id\")\n",
    "                    img = driver.find_element(By.XPATH, '//div[@id=\"'+ _articul +'\"]/div/a/div/div/img')\n",
    "                    hover.move_to_element(img).perform()\n",
    "                    sleep(1.5)\n",
    "                    card_button = driver.find_element(By.XPATH, '//div[@id=\"'+ _articul +'\"]/div/a/div/button')\n",
    "                    card_button.click()\n",
    "                    sleep(random.uniform(3,7))\n",
    "#                     if random.randint(1,5) == 3:\n",
    "                    if random.randint(1,3) == 3:\n",
    "                        if random.randint(1,2) == 2:\n",
    "                            see_images()\n",
    "                        card_to_basket()\n",
    "                        sleep(2.5)\n",
    "                    sleep(random.uniform(2,5))\n",
    "                    close_card_modal()\n",
    "            # Проверяем товар по артиклу\n",
    "            sleep(random.uniform(0,1))\n",
    "            if card.get_attribute(\"id\")[1:] == articul:\n",
    "                _articul = card.get_attribute(\"id\")\n",
    "                img = driver.find_element(By.XPATH, '//div[@id=\"'+ _articul +'\"]/div/a/div/div/img')\n",
    "                hover.move_to_element(img).perform()\n",
    "                sleep(1.5)\n",
    "                sleep(random.uniform(1,3))\n",
    "                card_button = driver.find_element(By.XPATH, '//div[@id=\"'+ _articul +'\"]/div/a/div/button')\n",
    "                card_button.click()\n",
    "                sleep(random.uniform(3,7))\n",
    "                if random.randint(2,2) == 2:\n",
    "                    see_images()\n",
    "                card_to_basket()\n",
    "                sleep(random.uniform(3,5))\n",
    "                close_card_modal()\n",
    "                return\n",
    "\n",
    "        if not card_finded:\n",
    "            next_page()\n",
    "            sleep(2)\n",
    "    \n",
    "def next_page():\n",
    "    driver.find_element(By.CLASS_NAME, 'pagination__next').click()\n",
    "    \n",
    "def close_card_modal():\n",
    "    try:\n",
    "        driver.find_element(By.CLASS_NAME, 'popup__close').click()\n",
    "    except:\n",
    "        page_back()\n",
    "        sleep(2.5)\n",
    "    \n",
    "def see_images():\n",
    "    hover = ActionChains(driver)\n",
    "\n",
    "    for slide in driver.find_elements(By.CLASS_NAME, 'slide'):\n",
    "        hover.move_to_element(slide).perform()\n",
    "        sleep(random.uniform(1,5))\n",
    "        if random.randint(1,4) == 3:\n",
    "            return\n",
    "\n",
    "def go_to_basket():\n",
    "    driver.find_element(By.CLASS_NAME, 'navbar-pc__icon--basket').click()\n",
    "    \n",
    "def like():\n",
    "    driver.find_element(By.CLASS_NAME, 'btn-heart').click()\n",
    "    \n",
    "def delete_other_cards_in_basket(articul):\n",
    "    hover = ActionChains(driver)\n",
    "    while True:\n",
    "        card_names = driver.find_elements(By.XPATH, '//a[contains(@href, \"catalog\") and @class=\"good-info__title j-product-popup\"]')\n",
    "        card_name = card_names[random.choice(list(range(len(card_names))))]\n",
    "        if card_name.get_attribute('href').find(articul) <= 0:\n",
    "            counter = card_name.find_element(By.XPATH, '../../../div[contains(@class,\"count\")]')\n",
    "            hover.move_to_element(counter).perform()\n",
    "            sleep(random.uniform(1,5))\n",
    "            counter.find_element(By.CLASS_NAME, 'btn__del').click()\n",
    "        if len(card_names)<=1:\n",
    "            return\n",
    "            \n",
    "def card_to_basket():\n",
    "    try:\n",
    "        basket_btn = driver.find_element(By.XPATH, '//span[contains(text(), \"Добавить в корзину\")]/..')\n",
    "        if basket_btn:\n",
    "#             size = driver.find_element(By.CLASS_NAME, 'j-size')\n",
    "#             print('size', size)\n",
    "#             if size:\n",
    "#                 size.click()\n",
    "            sleep(1)\n",
    "            print('basket_btn', basket_btn)\n",
    "            basket_btn.click()\n",
    "    except:\n",
    "        pass\n",
    "\n",
    "def choose_post_place(adress):\n",
    "    driver.find_element(By.XPATH, '//h2[text()=\"Способ доставки\"]/../../div[text()=\"Выбрать адрес доставки\"]').click()\n",
    "    sleep(1)\n",
    "    driver.find_element(By.XPATH, '//button[text()=\"Выбрать адрес доставки\"]').click()\n",
    "    sleep(2)\n",
    "    driver.find_element(By.XPATH, '//input[@placeholder=\"Введите адрес\"]').send_keys(adress)\n",
    "    sleep(2)\n",
    "    driver.find_element(By.XPATH, '//ymaps[text()=\"Найти\"]').click()\n",
    "    sleep(2)\n",
    "    try:\n",
    "        driver.find_element(By.XPATH, '//ymaps[contains(@class, \"__first\")]').click()\n",
    "    except:\n",
    "        pass\n",
    "    sleep(2)\n",
    "    driver.find_element(By.XPATH, '//span[contains(text(), \"'+ adress +'\")]').click()\n",
    "    sleep(2)\n",
    "    driver.find_element(By.XPATH, '//div[@class=\"balloon-content-block\"]/button').click()\n",
    "    sleep(2)\n",
    "    driver.find_element(By.XPATH, '//button[@class=\"popup__btn-main\"]').click()\n",
    "    sleep(2)\n",
    "    \n",
    "def choose_payment_method(payment_method=\"Оплата по QR-коду\"):\n",
    "    driver.find_element(By.XPATH, '//h2[text()=\"Способ оплаты\"]/../../div[text()=\"Выбрать способ оплаты\"]').click()\n",
    "    sleep(1)\n",
    "    driver.find_element(By.XPATH, '//span[text()=\"' + payment_method + '\"]').click()\n",
    "    sleep(2)\n",
    "    driver.find_element(By.XPATH, '//button[contains(@class,\"popup__btn-main\")]').click()\n",
    "    sleep(2)\n",
    "    \n",
    "def get_qr_code(file_name):\n",
    "    driver.find_element(By.XPATH, '//button[text()=\"                Оплатить заказ                \"]').click()\n",
    "    sleep(2)\n",
    "    driver.find_element(By.XPATH, '//button[contains(@class,\"popup__btn-main\")]').click()\n",
    "    sleep(2)\n",
    "    svg = driver.find_element(By.XPATH, '//div[@class=\"qr-code__value\"]')\n",
    "    save_qr_code(svg, file_name)\n",
    "    sleep(2)\n",
    "    driver.find_element(By.CLASS_NAME, 'popup__close').click()\n",
    "\n",
    "def save_qr_code(svg, file_name):\n",
    "    svg.screenshot(file_name)\n",
    "    \n",
    "def page_back():\n",
    "    driver.back()\n",
    "    \n",
    "def main_page_surfing():\n",
    "    pass"
   ]
  },
  {
   "cell_type": "code",
   "execution_count": 245,
   "id": "2aae4893",
   "metadata": {},
   "outputs": [
    {
     "name": "stdout",
     "output_type": "stream",
     "text": [
      "62698027\n",
      "650\n",
      "19394932\n",
      "1713125\n",
      "1733661\n",
      "basket_btn <selenium.webdriver.remote.webelement.WebElement (session=\"50f127e859468799ee1d347ad50bca94\", element=\"5ba86f95-7018-4c13-85db-6153500fbbdd\")>\n",
      "11996464\n",
      "1150\n",
      "11996463\n",
      "3586333\n",
      "1713127\n",
      "10790069\n",
      "1650\n",
      "41091751\n",
      "46160989\n",
      "50971041\n",
      "2695580\n",
      "2150\n",
      "59242104\n",
      "9149590\n",
      "11996467\n",
      "2237782\n",
      "2650\n",
      "10495015\n",
      "49424755\n",
      "1713499\n",
      "10495017\n",
      "3150\n",
      "3132035\n",
      "12996189\n",
      "basket_btn <selenium.webdriver.remote.webelement.WebElement (session=\"50f127e859468799ee1d347ad50bca94\", element=\"36eb3a55-6b87-4e7a-853e-f69ef0473508\")>\n",
      "31330553\n",
      "49423369\n",
      "3650\n",
      "basket_btn <selenium.webdriver.remote.webelement.WebElement (session=\"50f127e859468799ee1d347ad50bca94\", element=\"581e9748-853b-4ae1-89e1-312bac5b28ea\")>\n",
      "4738821\n",
      "57274093\n",
      "2906666\n",
      "42066350\n",
      "4150\n",
      "27973172\n",
      "13296462\n",
      "9335616\n",
      "4937222\n",
      "4650\n",
      "18599292\n",
      "1713377\n",
      "48888662\n",
      "1713520\n",
      "5150\n",
      "basket_btn <selenium.webdriver.remote.webelement.WebElement (session=\"50f127e859468799ee1d347ad50bca94\", element=\"de6ecf5c-6fe7-4e74-980f-7719a233441c\")>\n"
     ]
    }
   ],
   "source": [
    "search(search_name)\n",
    "sleep(2)\n",
    "card_search(articul_num)\n",
    "go_to_basket()\n",
    "sleep(1)\n",
    "delete_other_cards_in_basket(articul_num)\n",
    "sleep(3)\n",
    "choose_post_place(\"г Москва, Улица Лазо 4к1\")\n",
    "choose_payment_method()\n",
    "get_qr_code('file_name.png')"
   ]
  },
  {
   "cell_type": "code",
   "execution_count": 6,
   "id": "da1fa970",
   "metadata": {},
   "outputs": [],
   "source": [
    "login(\"9104499982\")"
   ]
  },
  {
   "cell_type": "code",
   "execution_count": 181,
   "id": "e83d8b4c",
   "metadata": {},
   "outputs": [
    {
     "data": {
      "text/plain": [
       "1"
      ]
     },
     "execution_count": 181,
     "metadata": {},
     "output_type": "execute_result"
    }
   ],
   "source": [
    " random.choice(list(range(10)))"
   ]
  },
  {
   "cell_type": "code",
   "execution_count": 225,
   "id": "7b2c8b52",
   "metadata": {},
   "outputs": [
    {
     "data": {
      "text/plain": [
       "<selenium.webdriver.remote.webelement.WebElement (session=\"50f127e859468799ee1d347ad50bca94\", element=\"ed72a600-4794-4a17-bb63-d0e59d1e8a43\")>"
      ]
     },
     "execution_count": 225,
     "metadata": {},
     "output_type": "execute_result"
    }
   ],
   "source": []
  },
  {
   "cell_type": "code",
   "execution_count": 202,
   "id": "5a103a30",
   "metadata": {},
   "outputs": [],
   "source": [
    "    driver.find_element(By.XPATH, '//h2[text()=\"Способ доставки\"]/../../div[text()=\"Выбрать адрес доставки\"]').click()\n"
   ]
  },
  {
   "cell_type": "code",
   "execution_count": 242,
   "id": "9296d9d7",
   "metadata": {},
   "outputs": [
    {
     "name": "stdout",
     "output_type": "stream",
     "text": [
      "basket_btn <selenium.webdriver.remote.webelement.WebElement (session=\"50f127e859468799ee1d347ad50bca94\", element=\"0b41db43-b665-4d06-b677-5a0701920da0\")>\n"
     ]
    }
   ],
   "source": [
    "card_to_basket()\n"
   ]
  },
  {
   "cell_type": "code",
   "execution_count": null,
   "id": "a65a3e60",
   "metadata": {},
   "outputs": [],
   "source": []
  }
 ],
 "metadata": {
  "kernelspec": {
   "display_name": "Python 3 (ipykernel)",
   "language": "python",
   "name": "python3"
  },
  "language_info": {
   "codemirror_mode": {
    "name": "ipython",
    "version": 3
   },
   "file_extension": ".py",
   "mimetype": "text/x-python",
   "name": "python",
   "nbconvert_exporter": "python",
   "pygments_lexer": "ipython3",
   "version": "3.9.7"
  }
 },
 "nbformat": 4,
 "nbformat_minor": 5
}
