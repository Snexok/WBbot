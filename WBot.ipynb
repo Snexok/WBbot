{
 "cells": [
  {
   "cell_type": "code",
   "execution_count": 1,
   "id": "7c3a7a00",
   "metadata": {
    "collapsed": true
   },
   "outputs": [
    {
     "name": "stdout",
     "output_type": "stream",
     "text": [
      "Requirement already satisfied: selenium in c:\\programdata\\anaconda3\\lib\\site-packages (4.1.3)\n",
      "Requirement already satisfied: trio-websocket~=0.9 in c:\\programdata\\anaconda3\\lib\\site-packages (from selenium) (0.9.2)\n",
      "Requirement already satisfied: trio~=0.17 in c:\\programdata\\anaconda3\\lib\\site-packages (from selenium) (0.20.0)\n",
      "Requirement already satisfied: urllib3[secure,socks]~=1.26 in c:\\programdata\\anaconda3\\lib\\site-packages (from selenium) (1.26.7)\n",
      "Requirement already satisfied: cffi>=1.14 in c:\\programdata\\anaconda3\\lib\\site-packages (from trio~=0.17->selenium) (1.14.6)\n",
      "Requirement already satisfied: idna in c:\\programdata\\anaconda3\\lib\\site-packages (from trio~=0.17->selenium) (3.2)\n",
      "Requirement already satisfied: outcome in c:\\programdata\\anaconda3\\lib\\site-packages (from trio~=0.17->selenium) (1.1.0)\n",
      "Requirement already satisfied: sortedcontainers in c:\\programdata\\anaconda3\\lib\\site-packages (from trio~=0.17->selenium) (2.4.0)\n",
      "Requirement already satisfied: async-generator>=1.9 in c:\\programdata\\anaconda3\\lib\\site-packages (from trio~=0.17->selenium) (1.10)\n",
      "Requirement already satisfied: sniffio in c:\\programdata\\anaconda3\\lib\\site-packages (from trio~=0.17->selenium) (1.2.0)\n",
      "Requirement already satisfied: attrs>=19.2.0 in c:\\programdata\\anaconda3\\lib\\site-packages (from trio~=0.17->selenium) (21.2.0)\n",
      "Requirement already satisfied: pycparser in c:\\programdata\\anaconda3\\lib\\site-packages (from cffi>=1.14->trio~=0.17->selenium) (2.20)\n",
      "Requirement already satisfied: wsproto>=0.14 in c:\\programdata\\anaconda3\\lib\\site-packages (from trio-websocket~=0.9->selenium) (1.1.0)\n",
      "Requirement already satisfied: PySocks!=1.5.7,<2.0,>=1.5.6 in c:\\programdata\\anaconda3\\lib\\site-packages (from urllib3[secure,socks]~=1.26->selenium) (1.7.1)\n",
      "Requirement already satisfied: pyOpenSSL>=0.14 in c:\\programdata\\anaconda3\\lib\\site-packages (from urllib3[secure,socks]~=1.26->selenium) (21.0.0)\n",
      "Requirement already satisfied: cryptography>=1.3.4 in c:\\programdata\\anaconda3\\lib\\site-packages (from urllib3[secure,socks]~=1.26->selenium) (3.4.8)\n",
      "Requirement already satisfied: certifi in c:\\programdata\\anaconda3\\lib\\site-packages (from urllib3[secure,socks]~=1.26->selenium) (2021.10.8)\n",
      "Requirement already satisfied: six>=1.5.2 in c:\\programdata\\anaconda3\\lib\\site-packages (from pyOpenSSL>=0.14->urllib3[secure,socks]~=1.26->selenium) (1.16.0)\n",
      "Requirement already satisfied: h11<1,>=0.9.0 in c:\\programdata\\anaconda3\\lib\\site-packages (from wsproto>=0.14->trio-websocket~=0.9->selenium) (0.13.0)\n"
     ]
    }
   ],
   "source": [
    "! pip install selenium"
   ]
  },
  {
   "cell_type": "code",
   "execution_count": 1,
   "id": "4d637886",
   "metadata": {},
   "outputs": [],
   "source": [
    "from selenium import webdriver\n",
    "from selenium.webdriver.common.by import By\n",
    "from selenium.webdriver import Keys\n",
    "from selenium.webdriver.common.action_chains import ActionChains\n",
    "from time import sleep\n",
    "import random\n",
    "import json\n",
    "import pandas as pd"
   ]
  },
  {
   "cell_type": "code",
   "execution_count": 2,
   "id": "5cf2c97a",
   "metadata": {},
   "outputs": [],
   "source": [
    "search_name = \"Духи\"\n",
    "articul_num = \"1713520\"\n",
    "post_place = \"г Москва, Улица Лазо 4к1\""
   ]
  },
  {
   "cell_type": "code",
   "execution_count": 74,
   "id": "39c17991",
   "metadata": {},
   "outputs": [],
   "source": [
    "_bot = bot\n",
    "bot = Bot(driver=_bot.driver)"
   ]
  },
  {
   "cell_type": "code",
   "execution_count": 15,
   "id": "834c5694",
   "metadata": {},
   "outputs": [],
   "source": [
    "# Python Modules\n",
    "import os\n",
    "import json\n",
    "import logging\n",
    "import pandas as pd\n",
    "\n",
    "# For telegram api\n",
    "# pip install python-telegram-bot --upgrade\n",
    "from telegram import Update, InlineKeyboardButton, InlineKeyboardMarkup\n",
    "from telegram.ext import Updater, CommandHandler, MessageHandler, Filters, CallbackContext, \\\n",
    "    CallbackQueryHandler, TypeHandler, ConversationHandler\n",
    "\n"
   ]
  },
  {
   "cell_type": "code",
   "execution_count": 4,
   "id": "c3c54120",
   "metadata": {},
   "outputs": [
    {
     "name": "stdout",
     "output_type": "stream",
     "text": [
      "[[[44398622, 'Серьги для девочек', 1]]]\n",
      "123 ['г. Москва, м Семёновская, Измайловское шоссе, д. 6']\n",
      "c17273059 ['44398622']\n",
      "c72635552 ['44398622']\n",
      "c12470742 ['44398622']\n",
      "c31353680 ['44398622']\n",
      "c16678199 ['44398622']\n",
      "c50215375 ['44398622']\n",
      "c15805127 ['44398622']\n",
      "c19278335 ['44398622']\n",
      "c11036625 ['44398622']\n",
      "c41917843 ['44398622']\n",
      "c60304982 ['44398622']\n",
      "c70095670 ['44398622']\n",
      "c35951389 ['44398622']\n",
      "c70414166 ['44398622']\n",
      "c48992787 ['44398622']\n",
      "c48989547 ['44398622']\n",
      "c30315850 ['44398622']\n",
      "c39312948 ['44398622']\n",
      "c25790014 ['44398622']\n",
      "c44398622 ['44398622']\n",
      "['44398622']\n",
      "['44398622']\n"
     ]
    },
    {
     "ename": "TypeError",
     "evalue": "can only concatenate str (not \"int\") to str",
     "output_type": "error",
     "traceback": [
      "\u001b[1;31m---------------------------------------------------------------------------\u001b[0m",
      "\u001b[1;31mTypeError\u001b[0m                                 Traceback (most recent call last)",
      "\u001b[1;32mC:\\Users\\ASTROC~1\\AppData\\Local\\Temp/ipykernel_17272/948045969.py\u001b[0m in \u001b[0;36m<module>\u001b[1;34m\u001b[0m\n\u001b[0;32m     31\u001b[0m \u001b[0mreport\u001b[0m \u001b[1;33m=\u001b[0m \u001b[1;33m[\u001b[0m\u001b[1;33m]\u001b[0m\u001b[1;33m\u001b[0m\u001b[1;33m\u001b[0m\u001b[0m\n\u001b[0;32m     32\u001b[0m \u001b[1;32mfor\u001b[0m \u001b[0mi\u001b[0m\u001b[1;33m,\u001b[0m \u001b[0mbot\u001b[0m \u001b[1;32min\u001b[0m \u001b[0menumerate\u001b[0m\u001b[1;33m(\u001b[0m\u001b[0m_bots\u001b[0m\u001b[1;33m)\u001b[0m\u001b[1;33m:\u001b[0m\u001b[1;33m\u001b[0m\u001b[1;33m\u001b[0m\u001b[0m\n\u001b[1;32m---> 33\u001b[1;33m     \u001b[0mreport\u001b[0m \u001b[1;33m+=\u001b[0m \u001b[0mbot\u001b[0m\u001b[1;33m.\u001b[0m\u001b[0mbuy\u001b[0m\u001b[1;33m(\u001b[0m\u001b[0mdata_for_bots\u001b[0m\u001b[1;33m[\u001b[0m\u001b[0mi\u001b[0m\u001b[1;33m]\u001b[0m\u001b[1;33m,\u001b[0m \u001b[0mpost_places\u001b[0m\u001b[1;33m[\u001b[0m\u001b[0mi\u001b[0m\u001b[1;33m]\u001b[0m\u001b[1;33m,\u001b[0m \u001b[0morder_id\u001b[0m\u001b[1;33m)\u001b[0m\u001b[1;33m\u001b[0m\u001b[1;33m\u001b[0m\u001b[0m\n\u001b[0m",
      "\u001b[1;32m~\\WBbot\\Bot.py\u001b[0m in \u001b[0;36mbuy\u001b[1;34m(self, data, post_place, order_id)\u001b[0m\n\u001b[0;32m     38\u001b[0m         \u001b[0mself\u001b[0m\u001b[1;33m.\u001b[0m\u001b[0mbasket\u001b[0m\u001b[1;33m.\u001b[0m\u001b[0mchoose_post_place\u001b[0m\u001b[1;33m(\u001b[0m\u001b[0mpost_place\u001b[0m\u001b[1;33m)\u001b[0m\u001b[1;33m\u001b[0m\u001b[1;33m\u001b[0m\u001b[0m\n\u001b[0;32m     39\u001b[0m         \u001b[0mself\u001b[0m\u001b[1;33m.\u001b[0m\u001b[0mbasket\u001b[0m\u001b[1;33m.\u001b[0m\u001b[0mchoose_payment_method\u001b[0m\u001b[1;33m(\u001b[0m\u001b[1;33m)\u001b[0m\u001b[1;33m\u001b[0m\u001b[1;33m\u001b[0m\u001b[0m\n\u001b[1;32m---> 40\u001b[1;33m         \u001b[0mreport\u001b[0m\u001b[1;33m[\u001b[0m\u001b[1;34m'qr_code'\u001b[0m\u001b[1;33m]\u001b[0m \u001b[1;33m=\u001b[0m \u001b[0mself\u001b[0m\u001b[1;33m.\u001b[0m\u001b[0mbasket\u001b[0m\u001b[1;33m.\u001b[0m\u001b[0mget_qr_code\u001b[0m\u001b[1;33m(\u001b[0m\u001b[1;34m'order_'\u001b[0m \u001b[1;33m+\u001b[0m \u001b[0morder_id\u001b[0m \u001b[1;33m+\u001b[0m \u001b[0mself\u001b[0m\u001b[1;33m.\u001b[0m\u001b[0mname\u001b[0m \u001b[1;33m+\u001b[0m \u001b[1;34m'.png'\u001b[0m\u001b[1;33m)\u001b[0m\u001b[1;33m\u001b[0m\u001b[1;33m\u001b[0m\u001b[0m\n\u001b[0m\u001b[0;32m     41\u001b[0m \u001b[1;33m\u001b[0m\u001b[0m\n\u001b[0;32m     42\u001b[0m     \u001b[1;32mdef\u001b[0m \u001b[0mget_data_cart\u001b[0m\u001b[1;33m(\u001b[0m\u001b[0mself\u001b[0m\u001b[1;33m,\u001b[0m \u001b[0marticle\u001b[0m\u001b[1;33m,\u001b[0m \u001b[0mSAVE\u001b[0m\u001b[1;33m=\u001b[0m\u001b[1;32mFalse\u001b[0m\u001b[1;33m)\u001b[0m\u001b[1;33m:\u001b[0m\u001b[1;33m\u001b[0m\u001b[1;33m\u001b[0m\u001b[0m\n",
      "\u001b[1;31mTypeError\u001b[0m: can only concatenate str (not \"int\") to str"
     ]
    }
   ],
   "source": [
    "%run Bot.py\n",
    "\n",
    "file_path = \"users_data/794329884_order.xlsx\"\n",
    "inside=True\n",
    "df = pd.read_excel(file_path)\n",
    "\n",
    "orders = [row.tolist() for i, row in df.iterrows()]\n",
    "\n",
    "max_bots = max([order[3] for order in orders])\n",
    "bots = [Bot(name=i) for i in range(1)]\n",
    "_bots = bots[:max_bots]\n",
    "data_for_bots = [[] for _ in range(max_bots)]\n",
    "\n",
    "for _, order in enumerate(orders):\n",
    "    if inside:\n",
    "        article, search_key, quantity, pvz_cnt, _, __ = order\n",
    "    else:\n",
    "        article, search_key, quantity, pvz_cnt = order\n",
    "\n",
    "    for i in range(max_bots):\n",
    "        if pvz_cnt > 0:\n",
    "            data_for_bots[i] += [[article, search_key, quantity]]\n",
    "        pvz_cnt -= 1\n",
    "print(data_for_bots)\n",
    "\n",
    "post_places = [order[5] for order in orders][:max_bots]\n",
    "order_id = str(orders[0][4])\n",
    "\n",
    "print(order_id, post_places)\n",
    "\n",
    "report = []\n",
    "for i, bot in enumerate(_bots):\n",
    "    report += bot.buy(data_for_bots[i], post_places[i], order_id)"
   ]
  },
  {
   "cell_type": "code",
   "execution_count": 16,
   "id": "674d1510",
   "metadata": {},
   "outputs": [],
   "source": [
    "def choose_post_place(adress):\n",
    "    bot.driver.find_element(By.XPATH, '//h2[text()=\"Способ доставки\"]/../../div[text()=\"Выбрать адрес доставки\"]').click()\n",
    "    sleep(1)\n",
    "    bot.driver.find_element(By.XPATH, '//button[text()=\"Выбрать адрес доставки\"]').click()\n",
    "    sleep(2)\n",
    "    bot.driver.find_element(By.XPATH, '//input[@placeholder=\"Введите адрес\"]').send_keys(adress)\n",
    "    sleep(2)\n",
    "    bot.driver.find_element(By.XPATH, '//ymaps[text()=\"Найти\"]').click()\n",
    "    sleep(2)\n",
    "    try:\n",
    "        bot.driver.find_element(By.XPATH, '//ymaps[contains(@class, \"__first\")]').click()\n",
    "    except:\n",
    "        pass\n",
    "    sleep(2)\n",
    "    bot.driver.find_element(By.XPATH, '//span[contains(text(), \"'+ adress +'\")]').click()\n",
    "    sleep(2)\n",
    "    bot.driver.find_element(By.XPATH, '//div[@class=\"balloon-content-block\"]/button').click()\n",
    "    sleep(2)\n",
    "    bot.driver.find_element(By.XPATH, '//button[@class=\"popup__btn-main\"]').click()\n",
    "    sleep(2)"
   ]
  },
  {
   "cell_type": "code",
   "execution_count": 17,
   "id": "b485edae",
   "metadata": {},
   "outputs": [],
   "source": [
    "choose_post_place(post_places[0])"
   ]
  },
  {
   "cell_type": "code",
   "execution_count": 13,
   "id": "44d9ebca",
   "metadata": {},
   "outputs": [],
   "source": [
    "import random"
   ]
  },
  {
   "cell_type": "code",
   "execution_count": 20,
   "id": "4e624ee0",
   "metadata": {},
   "outputs": [],
   "source": [
    "self = bot\n",
    "number = '9104499982'\n",
    "def get_qr_code(file_name):\n",
    "    try:\n",
    "        self.driver.find_element(By.XPATH, '//button[text()=\"                Оплатить заказ                \"]').click()\n",
    "        sleep(2)\n",
    "        self.driver.find_element(By.XPATH, '//button[contains(@class,\"popup__btn-main\")]').click()\n",
    "        sleep(2)\n",
    "        svg = self.driver.find_element(By.XPATH, '//div[@class=\"qr-code__value\"]')\n",
    "        self.save_qr_code(svg, file_name)\n",
    "        sleep(2)\n",
    "        self.driver.find_element(By.CLASS_NAME, 'popup__close').click()\n",
    "    except:\n",
    "#         Utils.login(number)\n",
    "        login(self.driver, number)\n",
    "        input(\"Нажми Enter, зайка\")\n",
    "        get_qr_code(file_name)"
   ]
  },
  {
   "cell_type": "code",
   "execution_count": 21,
   "id": "022d4e25",
   "metadata": {
    "scrolled": true
   },
   "outputs": [
    {
     "ename": "NoSuchElementException",
     "evalue": "Message: no such element: Unable to locate element: {\"method\":\"css selector\",\"selector\":\".j-main-login\"}\n  (Session info: chrome=100.0.4896.75)\nStacktrace:\nBacktrace:\n\tOrdinal0 [0x01039943+2595139]\n\tOrdinal0 [0x00FCC9F1+2148849]\n\tOrdinal0 [0x00EC4528+1066280]\n\tOrdinal0 [0x00EF0FD4+1249236]\n\tOrdinal0 [0x00EF11CB+1249739]\n\tOrdinal0 [0x00F1D812+1431570]\n\tOrdinal0 [0x00F0BA34+1358388]\n\tOrdinal0 [0x00F1BAF2+1424114]\n\tOrdinal0 [0x00F0B806+1357830]\n\tOrdinal0 [0x00EE6086+1204358]\n\tOrdinal0 [0x00EE6F96+1208214]\n\tGetHandleVerifier [0x011DB232+1658114]\n\tGetHandleVerifier [0x0129312C+2411516]\n\tGetHandleVerifier [0x010CF261+560433]\n\tGetHandleVerifier [0x010CE366+556598]\n\tOrdinal0 [0x00FD286B+2173035]\n\tOrdinal0 [0x00FD75F8+2192888]\n\tOrdinal0 [0x00FD76E5+2193125]\n\tOrdinal0 [0x00FE11FC+2232828]\n\tBaseThreadInitThunk [0x763BFA29+25]\n\tRtlGetAppContainerNamedObjectPath [0x77787A7E+286]\n\tRtlGetAppContainerNamedObjectPath [0x77787A4E+238]\n",
     "output_type": "error",
     "traceback": [
      "\u001b[1;31m---------------------------------------------------------------------------\u001b[0m",
      "\u001b[1;31mAttributeError\u001b[0m                            Traceback (most recent call last)",
      "\u001b[1;32mC:\\Users\\ASTROC~1\\AppData\\Local\\Temp/ipykernel_17272/2508058062.py\u001b[0m in \u001b[0;36mget_qr_code\u001b[1;34m(file_name)\u001b[0m\n\u001b[0;32m      9\u001b[0m         \u001b[0msvg\u001b[0m \u001b[1;33m=\u001b[0m \u001b[0mself\u001b[0m\u001b[1;33m.\u001b[0m\u001b[0mdriver\u001b[0m\u001b[1;33m.\u001b[0m\u001b[0mfind_element\u001b[0m\u001b[1;33m(\u001b[0m\u001b[0mBy\u001b[0m\u001b[1;33m.\u001b[0m\u001b[0mXPATH\u001b[0m\u001b[1;33m,\u001b[0m \u001b[1;34m'//div[@class=\"qr-code__value\"]'\u001b[0m\u001b[1;33m)\u001b[0m\u001b[1;33m\u001b[0m\u001b[1;33m\u001b[0m\u001b[0m\n\u001b[1;32m---> 10\u001b[1;33m         \u001b[0mself\u001b[0m\u001b[1;33m.\u001b[0m\u001b[0msave_qr_code\u001b[0m\u001b[1;33m(\u001b[0m\u001b[0msvg\u001b[0m\u001b[1;33m,\u001b[0m \u001b[0mfile_name\u001b[0m\u001b[1;33m)\u001b[0m\u001b[1;33m\u001b[0m\u001b[1;33m\u001b[0m\u001b[0m\n\u001b[0m\u001b[0;32m     11\u001b[0m         \u001b[0msleep\u001b[0m\u001b[1;33m(\u001b[0m\u001b[1;36m2\u001b[0m\u001b[1;33m)\u001b[0m\u001b[1;33m\u001b[0m\u001b[1;33m\u001b[0m\u001b[0m\n",
      "\u001b[1;31mAttributeError\u001b[0m: 'Bot' object has no attribute 'save_qr_code'",
      "\nDuring handling of the above exception, another exception occurred:\n",
      "\u001b[1;31mNoSuchElementException\u001b[0m                    Traceback (most recent call last)",
      "\u001b[1;32mC:\\Users\\ASTROC~1\\AppData\\Local\\Temp/ipykernel_17272/2136507517.py\u001b[0m in \u001b[0;36m<module>\u001b[1;34m\u001b[0m\n\u001b[1;32m----> 1\u001b[1;33m \u001b[0mget_qr_code\u001b[0m\u001b[1;33m(\u001b[0m\u001b[1;34m'file_name.svg'\u001b[0m\u001b[1;33m)\u001b[0m\u001b[1;33m\u001b[0m\u001b[1;33m\u001b[0m\u001b[0m\n\u001b[0m",
      "\u001b[1;32mC:\\Users\\ASTROC~1\\AppData\\Local\\Temp/ipykernel_17272/2508058062.py\u001b[0m in \u001b[0;36mget_qr_code\u001b[1;34m(file_name)\u001b[0m\n\u001b[0;32m     13\u001b[0m     \u001b[1;32mexcept\u001b[0m\u001b[1;33m:\u001b[0m\u001b[1;33m\u001b[0m\u001b[1;33m\u001b[0m\u001b[0m\n\u001b[0;32m     14\u001b[0m \u001b[1;31m#         Utils.login(number)\u001b[0m\u001b[1;33m\u001b[0m\u001b[1;33m\u001b[0m\u001b[0m\n\u001b[1;32m---> 15\u001b[1;33m         \u001b[0mlogin\u001b[0m\u001b[1;33m(\u001b[0m\u001b[0mself\u001b[0m\u001b[1;33m.\u001b[0m\u001b[0mdriver\u001b[0m\u001b[1;33m,\u001b[0m \u001b[0mnumber\u001b[0m\u001b[1;33m)\u001b[0m\u001b[1;33m\u001b[0m\u001b[1;33m\u001b[0m\u001b[0m\n\u001b[0m\u001b[0;32m     16\u001b[0m         \u001b[0minput\u001b[0m\u001b[1;33m(\u001b[0m\u001b[1;34m\"Нажми Enter, зайка\"\u001b[0m\u001b[1;33m)\u001b[0m\u001b[1;33m\u001b[0m\u001b[1;33m\u001b[0m\u001b[0m\n\u001b[0;32m     17\u001b[0m         \u001b[0mget_qr_code\u001b[0m\u001b[1;33m(\u001b[0m\u001b[0mfile_name\u001b[0m\u001b[1;33m)\u001b[0m\u001b[1;33m\u001b[0m\u001b[1;33m\u001b[0m\u001b[0m\n",
      "\u001b[1;32mC:\\Users\\ASTROC~1\\AppData\\Local\\Temp/ipykernel_17272/2129243675.py\u001b[0m in \u001b[0;36mlogin\u001b[1;34m(driver, number)\u001b[0m\n\u001b[0;32m      1\u001b[0m \u001b[1;32mdef\u001b[0m \u001b[0mlogin\u001b[0m\u001b[1;33m(\u001b[0m\u001b[0mdriver\u001b[0m\u001b[1;33m,\u001b[0m \u001b[0mnumber\u001b[0m\u001b[1;33m)\u001b[0m\u001b[1;33m:\u001b[0m\u001b[1;33m\u001b[0m\u001b[1;33m\u001b[0m\u001b[0m\n\u001b[0;32m      2\u001b[0m         \u001b[1;31m# vars # 1\u001b[0m\u001b[1;33m\u001b[0m\u001b[1;33m\u001b[0m\u001b[0m\n\u001b[1;32m----> 3\u001b[1;33m         \u001b[0mto_login_btn\u001b[0m \u001b[1;33m=\u001b[0m \u001b[0mdriver\u001b[0m\u001b[1;33m.\u001b[0m\u001b[0mfind_element\u001b[0m\u001b[1;33m(\u001b[0m\u001b[0mBy\u001b[0m\u001b[1;33m.\u001b[0m\u001b[0mCLASS_NAME\u001b[0m\u001b[1;33m,\u001b[0m \u001b[1;34m'j-main-login'\u001b[0m\u001b[1;33m)\u001b[0m\u001b[1;33m\u001b[0m\u001b[1;33m\u001b[0m\u001b[0m\n\u001b[0m\u001b[0;32m      4\u001b[0m \u001b[1;33m\u001b[0m\u001b[0m\n\u001b[0;32m      5\u001b[0m         \u001b[1;31m# resolve # 1\u001b[0m\u001b[1;33m\u001b[0m\u001b[1;33m\u001b[0m\u001b[0m\n",
      "\u001b[1;32mC:\\ProgramData\\Anaconda3\\lib\\site-packages\\selenium\\webdriver\\remote\\webdriver.py\u001b[0m in \u001b[0;36mfind_element\u001b[1;34m(self, by, value)\u001b[0m\n\u001b[0;32m   1242\u001b[0m             \u001b[0mvalue\u001b[0m \u001b[1;33m=\u001b[0m \u001b[1;34m'[name=\"%s\"]'\u001b[0m \u001b[1;33m%\u001b[0m \u001b[0mvalue\u001b[0m\u001b[1;33m\u001b[0m\u001b[1;33m\u001b[0m\u001b[0m\n\u001b[0;32m   1243\u001b[0m \u001b[1;33m\u001b[0m\u001b[0m\n\u001b[1;32m-> 1244\u001b[1;33m         return self.execute(Command.FIND_ELEMENT, {\n\u001b[0m\u001b[0;32m   1245\u001b[0m             \u001b[1;34m'using'\u001b[0m\u001b[1;33m:\u001b[0m \u001b[0mby\u001b[0m\u001b[1;33m,\u001b[0m\u001b[1;33m\u001b[0m\u001b[1;33m\u001b[0m\u001b[0m\n\u001b[0;32m   1246\u001b[0m             'value': value})['value']\n",
      "\u001b[1;32mC:\\ProgramData\\Anaconda3\\lib\\site-packages\\selenium\\webdriver\\remote\\webdriver.py\u001b[0m in \u001b[0;36mexecute\u001b[1;34m(self, driver_command, params)\u001b[0m\n\u001b[0;32m    422\u001b[0m         \u001b[0mresponse\u001b[0m \u001b[1;33m=\u001b[0m \u001b[0mself\u001b[0m\u001b[1;33m.\u001b[0m\u001b[0mcommand_executor\u001b[0m\u001b[1;33m.\u001b[0m\u001b[0mexecute\u001b[0m\u001b[1;33m(\u001b[0m\u001b[0mdriver_command\u001b[0m\u001b[1;33m,\u001b[0m \u001b[0mparams\u001b[0m\u001b[1;33m)\u001b[0m\u001b[1;33m\u001b[0m\u001b[1;33m\u001b[0m\u001b[0m\n\u001b[0;32m    423\u001b[0m         \u001b[1;32mif\u001b[0m \u001b[0mresponse\u001b[0m\u001b[1;33m:\u001b[0m\u001b[1;33m\u001b[0m\u001b[1;33m\u001b[0m\u001b[0m\n\u001b[1;32m--> 424\u001b[1;33m             \u001b[0mself\u001b[0m\u001b[1;33m.\u001b[0m\u001b[0merror_handler\u001b[0m\u001b[1;33m.\u001b[0m\u001b[0mcheck_response\u001b[0m\u001b[1;33m(\u001b[0m\u001b[0mresponse\u001b[0m\u001b[1;33m)\u001b[0m\u001b[1;33m\u001b[0m\u001b[1;33m\u001b[0m\u001b[0m\n\u001b[0m\u001b[0;32m    425\u001b[0m             response['value'] = self._unwrap_value(\n\u001b[0;32m    426\u001b[0m                 response.get('value', None))\n",
      "\u001b[1;32mC:\\ProgramData\\Anaconda3\\lib\\site-packages\\selenium\\webdriver\\remote\\errorhandler.py\u001b[0m in \u001b[0;36mcheck_response\u001b[1;34m(self, response)\u001b[0m\n\u001b[0;32m    245\u001b[0m                 \u001b[0malert_text\u001b[0m \u001b[1;33m=\u001b[0m \u001b[0mvalue\u001b[0m\u001b[1;33m[\u001b[0m\u001b[1;34m'alert'\u001b[0m\u001b[1;33m]\u001b[0m\u001b[1;33m.\u001b[0m\u001b[0mget\u001b[0m\u001b[1;33m(\u001b[0m\u001b[1;34m'text'\u001b[0m\u001b[1;33m)\u001b[0m\u001b[1;33m\u001b[0m\u001b[1;33m\u001b[0m\u001b[0m\n\u001b[0;32m    246\u001b[0m             \u001b[1;32mraise\u001b[0m \u001b[0mexception_class\u001b[0m\u001b[1;33m(\u001b[0m\u001b[0mmessage\u001b[0m\u001b[1;33m,\u001b[0m \u001b[0mscreen\u001b[0m\u001b[1;33m,\u001b[0m \u001b[0mstacktrace\u001b[0m\u001b[1;33m,\u001b[0m \u001b[0malert_text\u001b[0m\u001b[1;33m)\u001b[0m  \u001b[1;31m# type: ignore[call-arg]  # mypy is not smart enough here\u001b[0m\u001b[1;33m\u001b[0m\u001b[1;33m\u001b[0m\u001b[0m\n\u001b[1;32m--> 247\u001b[1;33m         \u001b[1;32mraise\u001b[0m \u001b[0mexception_class\u001b[0m\u001b[1;33m(\u001b[0m\u001b[0mmessage\u001b[0m\u001b[1;33m,\u001b[0m \u001b[0mscreen\u001b[0m\u001b[1;33m,\u001b[0m \u001b[0mstacktrace\u001b[0m\u001b[1;33m)\u001b[0m\u001b[1;33m\u001b[0m\u001b[1;33m\u001b[0m\u001b[0m\n\u001b[0m\u001b[0;32m    248\u001b[0m \u001b[1;33m\u001b[0m\u001b[0m\n\u001b[0;32m    249\u001b[0m     \u001b[1;32mdef\u001b[0m \u001b[0m_value_or_default\u001b[0m\u001b[1;33m(\u001b[0m\u001b[0mself\u001b[0m\u001b[1;33m,\u001b[0m \u001b[0mobj\u001b[0m\u001b[1;33m:\u001b[0m \u001b[0mMapping\u001b[0m\u001b[1;33m[\u001b[0m\u001b[0m_KT\u001b[0m\u001b[1;33m,\u001b[0m \u001b[0m_VT\u001b[0m\u001b[1;33m]\u001b[0m\u001b[1;33m,\u001b[0m \u001b[0mkey\u001b[0m\u001b[1;33m:\u001b[0m \u001b[0m_KT\u001b[0m\u001b[1;33m,\u001b[0m \u001b[0mdefault\u001b[0m\u001b[1;33m:\u001b[0m \u001b[0m_VT\u001b[0m\u001b[1;33m)\u001b[0m \u001b[1;33m->\u001b[0m \u001b[0m_VT\u001b[0m\u001b[1;33m:\u001b[0m\u001b[1;33m\u001b[0m\u001b[1;33m\u001b[0m\u001b[0m\n",
      "\u001b[1;31mNoSuchElementException\u001b[0m: Message: no such element: Unable to locate element: {\"method\":\"css selector\",\"selector\":\".j-main-login\"}\n  (Session info: chrome=100.0.4896.75)\nStacktrace:\nBacktrace:\n\tOrdinal0 [0x01039943+2595139]\n\tOrdinal0 [0x00FCC9F1+2148849]\n\tOrdinal0 [0x00EC4528+1066280]\n\tOrdinal0 [0x00EF0FD4+1249236]\n\tOrdinal0 [0x00EF11CB+1249739]\n\tOrdinal0 [0x00F1D812+1431570]\n\tOrdinal0 [0x00F0BA34+1358388]\n\tOrdinal0 [0x00F1BAF2+1424114]\n\tOrdinal0 [0x00F0B806+1357830]\n\tOrdinal0 [0x00EE6086+1204358]\n\tOrdinal0 [0x00EE6F96+1208214]\n\tGetHandleVerifier [0x011DB232+1658114]\n\tGetHandleVerifier [0x0129312C+2411516]\n\tGetHandleVerifier [0x010CF261+560433]\n\tGetHandleVerifier [0x010CE366+556598]\n\tOrdinal0 [0x00FD286B+2173035]\n\tOrdinal0 [0x00FD75F8+2192888]\n\tOrdinal0 [0x00FD76E5+2193125]\n\tOrdinal0 [0x00FE11FC+2232828]\n\tBaseThreadInitThunk [0x763BFA29+25]\n\tRtlGetAppContainerNamedObjectPath [0x77787A7E+286]\n\tRtlGetAppContainerNamedObjectPath [0x77787A4E+238]\n"
     ]
    }
   ],
   "source": [
    "get_qr_code('file_name.svg')"
   ]
  },
  {
   "cell_type": "code",
   "execution_count": 8,
   "id": "2f3c3198",
   "metadata": {},
   "outputs": [],
   "source": [
    "def login(driver, number):\n",
    "        # vars # 1\n",
    "        to_login_btn = driver.find_element(By.CLASS_NAME, 'j-main-login')\n",
    "\n",
    "        # resolve # 1\n",
    "        to_login_btn.click()\n",
    "        sleep(random.uniform(3, 5))\n",
    "        \n",
    "        # vars # 2\n",
    "        login_input = driver.find_element(By.CLASS_NAME, 'input-item')\n",
    "        login_btn = driver.find_element(By.CLASS_NAME, 'login__btn')\n",
    "\n",
    "        # resolve # 2\n",
    "        login_input.send_keys(number)\n",
    "        sleep(random.uniform(2, 4))\n",
    "        login_btn.click()"
   ]
  },
  {
   "cell_type": "code",
   "execution_count": 23,
   "id": "81a3f43d",
   "metadata": {},
   "outputs": [
    {
     "data": {
      "text/plain": [
       "[{'a': '2'}]"
      ]
     },
     "execution_count": 23,
     "metadata": {},
     "output_type": "execute_result"
    }
   ],
   "source": [
    "[]+[{'a': '2'}]"
   ]
  },
  {
   "cell_type": "code",
   "execution_count": 8,
   "id": "b342b928",
   "metadata": {},
   "outputs": [],
   "source": [
    "adresses = ['123', '321']"
   ]
  },
  {
   "cell_type": "code",
   "execution_count": 13,
   "id": "a68d38f0",
   "metadata": {},
   "outputs": [
    {
     "data": {
      "text/plain": [
       "'123\\n321'"
      ]
     },
     "execution_count": 13,
     "metadata": {},
     "output_type": "execute_result"
    }
   ],
   "source": [
    "\"\".join(map(lambda x: x+'\\n', adresses))[:-1]"
   ]
  },
  {
   "cell_type": "code",
   "execution_count": 34,
   "id": "da5cc738",
   "metadata": {},
   "outputs": [
    {
     "data": {
      "text/html": [
       "<div>\n",
       "<style scoped>\n",
       "    .dataframe tbody tr th:only-of-type {\n",
       "        vertical-align: middle;\n",
       "    }\n",
       "\n",
       "    .dataframe tbody tr th {\n",
       "        vertical-align: top;\n",
       "    }\n",
       "\n",
       "    .dataframe thead th {\n",
       "        text-align: right;\n",
       "    }\n",
       "</style>\n",
       "<table border=\"1\" class=\"dataframe\">\n",
       "  <thead>\n",
       "    <tr style=\"text-align: right;\">\n",
       "      <th></th>\n",
       "    </tr>\n",
       "  </thead>\n",
       "  <tbody>\n",
       "  </tbody>\n",
       "</table>\n",
       "</div>"
      ],
      "text/plain": [
       "Empty DataFrame\n",
       "Columns: []\n",
       "Index: []"
      ]
     },
     "execution_count": 34,
     "metadata": {},
     "output_type": "execute_result"
    }
   ],
   "source": [
    "d"
   ]
  },
  {
   "cell_type": "code",
   "execution_count": null,
   "id": "29fd7609",
   "metadata": {},
   "outputs": [],
   "source": []
  }
 ],
 "metadata": {
  "kernelspec": {
   "display_name": "Python 3 (ipykernel)",
   "language": "python",
   "name": "python3"
  },
  "language_info": {
   "codemirror_mode": {
    "name": "ipython",
    "version": 3
   },
   "file_extension": ".py",
   "mimetype": "text/x-python",
   "name": "python",
   "nbconvert_exporter": "python",
   "pygments_lexer": "ipython3",
   "version": "3.9.7"
  }
 },
 "nbformat": 4,
 "nbformat_minor": 5
}
