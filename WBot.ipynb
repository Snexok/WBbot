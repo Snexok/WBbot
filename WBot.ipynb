{
 "cells": [
  {
   "cell_type": "code",
   "execution_count": 1,
   "id": "7c3a7a00",
   "metadata": {
    "collapsed": true
   },
   "outputs": [
    {
     "name": "stdout",
     "output_type": "stream",
     "text": [
      "Requirement already satisfied: selenium in c:\\programdata\\anaconda3\\lib\\site-packages (4.1.3)\n",
      "Requirement already satisfied: trio-websocket~=0.9 in c:\\programdata\\anaconda3\\lib\\site-packages (from selenium) (0.9.2)\n",
      "Requirement already satisfied: trio~=0.17 in c:\\programdata\\anaconda3\\lib\\site-packages (from selenium) (0.20.0)\n",
      "Requirement already satisfied: urllib3[secure,socks]~=1.26 in c:\\programdata\\anaconda3\\lib\\site-packages (from selenium) (1.26.7)\n",
      "Requirement already satisfied: cffi>=1.14 in c:\\programdata\\anaconda3\\lib\\site-packages (from trio~=0.17->selenium) (1.14.6)\n",
      "Requirement already satisfied: idna in c:\\programdata\\anaconda3\\lib\\site-packages (from trio~=0.17->selenium) (3.2)\n",
      "Requirement already satisfied: outcome in c:\\programdata\\anaconda3\\lib\\site-packages (from trio~=0.17->selenium) (1.1.0)\n",
      "Requirement already satisfied: sortedcontainers in c:\\programdata\\anaconda3\\lib\\site-packages (from trio~=0.17->selenium) (2.4.0)\n",
      "Requirement already satisfied: async-generator>=1.9 in c:\\programdata\\anaconda3\\lib\\site-packages (from trio~=0.17->selenium) (1.10)\n",
      "Requirement already satisfied: sniffio in c:\\programdata\\anaconda3\\lib\\site-packages (from trio~=0.17->selenium) (1.2.0)\n",
      "Requirement already satisfied: attrs>=19.2.0 in c:\\programdata\\anaconda3\\lib\\site-packages (from trio~=0.17->selenium) (21.2.0)\n",
      "Requirement already satisfied: pycparser in c:\\programdata\\anaconda3\\lib\\site-packages (from cffi>=1.14->trio~=0.17->selenium) (2.20)\n",
      "Requirement already satisfied: wsproto>=0.14 in c:\\programdata\\anaconda3\\lib\\site-packages (from trio-websocket~=0.9->selenium) (1.1.0)\n",
      "Requirement already satisfied: PySocks!=1.5.7,<2.0,>=1.5.6 in c:\\programdata\\anaconda3\\lib\\site-packages (from urllib3[secure,socks]~=1.26->selenium) (1.7.1)\n",
      "Requirement already satisfied: pyOpenSSL>=0.14 in c:\\programdata\\anaconda3\\lib\\site-packages (from urllib3[secure,socks]~=1.26->selenium) (21.0.0)\n",
      "Requirement already satisfied: cryptography>=1.3.4 in c:\\programdata\\anaconda3\\lib\\site-packages (from urllib3[secure,socks]~=1.26->selenium) (3.4.8)\n",
      "Requirement already satisfied: certifi in c:\\programdata\\anaconda3\\lib\\site-packages (from urllib3[secure,socks]~=1.26->selenium) (2021.10.8)\n",
      "Requirement already satisfied: six>=1.5.2 in c:\\programdata\\anaconda3\\lib\\site-packages (from pyOpenSSL>=0.14->urllib3[secure,socks]~=1.26->selenium) (1.16.0)\n",
      "Requirement already satisfied: h11<1,>=0.9.0 in c:\\programdata\\anaconda3\\lib\\site-packages (from wsproto>=0.14->trio-websocket~=0.9->selenium) (0.13.0)\n"
     ]
    }
   ],
   "source": [
    "! pip install selenium"
   ]
  },
  {
   "cell_type": "code",
   "execution_count": 159,
   "id": "4d637886",
   "metadata": {},
   "outputs": [],
   "source": [
    "from selenium import webdriver\n",
    "from selenium.webdriver.common.by import By\n",
    "from selenium.webdriver import Keys\n",
    "from selenium.webdriver.common.action_chains import ActionChains\n",
    "from time import sleep\n",
    "import random\n",
    "import json\n",
    "import pandas as pd"
   ]
  },
  {
   "cell_type": "code",
   "execution_count": 124,
   "id": "5cf2c97a",
   "metadata": {},
   "outputs": [],
   "source": [
    "search_name = \"Духи\"\n",
    "articul_num = \"1713520\"\n",
    "post_place = \"г Москва, Улица Лазо 4к1\""
   ]
  },
  {
   "cell_type": "code",
   "execution_count": 160,
   "id": "fe534876",
   "metadata": {},
   "outputs": [],
   "source": [
    "%run lib.py"
   ]
  },
  {
   "cell_type": "code",
   "execution_count": 161,
   "id": "39c17991",
   "metadata": {},
   "outputs": [],
   "source": [
    "bot = Bot()"
   ]
  },
  {
   "cell_type": "code",
   "execution_count": 168,
   "id": "f50081d5",
   "metadata": {},
   "outputs": [],
   "source": [
    "try:\n",
    "    bot.login('9104499982')\n",
    "except:\n",
    "    try:\n",
    "        bot.open('https://www.wildberries.ru/')\n",
    "        bot.login('9104499982')\n",
    "    except:\n",
    "        bot.open_browser()\n",
    "        bot.open('https://www.wildberries.ru/')\n",
    "        bot.login('9104499982')"
   ]
  },
  {
   "cell_type": "code",
   "execution_count": 163,
   "id": "c3c54120",
   "metadata": {},
   "outputs": [],
   "source": [
    "datas = pd.read_csv('data.csv', sep=';')"
   ]
  },
  {
   "cell_type": "code",
   "execution_count": 165,
   "id": "120a444f",
   "metadata": {},
   "outputs": [
    {
     "name": "stdout",
     "output_type": "stream",
     "text": [
      "41091751\n",
      "650\n",
      "53821455\n",
      "1713125\n",
      "3586333\n",
      "1713127\n",
      "1150\n",
      "9149590\n",
      "basket_btn <selenium.webdriver.remote.webelement.WebElement (session=\"a3cbf70fc570bf1c90cf12aba511aa10\", element=\"89dae8a0-3b42-46e7-9627-b0816575774e\")>\n",
      "11996463\n",
      "1713499\n",
      "19154009\n",
      "1650\n",
      "10790069\n",
      "62698027\n",
      "49424755\n",
      "13399465\n",
      "2150\n",
      "39280182\n",
      "18316446\n",
      "2695580\n",
      "15695285\n",
      "2650\n",
      "46145657\n",
      "42066350\n",
      "4738821\n",
      "basket_btn <selenium.webdriver.remote.webelement.WebElement (session=\"a3cbf70fc570bf1c90cf12aba511aa10\", element=\"c2cf267c-c826-471b-81a9-ac47021516b1\")>\n",
      "3132035\n",
      "3150\n",
      "18875940\n",
      "45720665\n",
      "31330553\n",
      "49423369\n",
      "3650\n",
      "50277980\n",
      "4661669\n",
      "4937222\n",
      "9149584\n",
      "4150\n",
      "2906666\n",
      "2237782\n",
      "48888662\n",
      "4959738\n",
      "4650\n",
      "16032982\n",
      "4661651\n",
      "57822927\n",
      "16068417\n",
      "5150\n",
      "18406953\n",
      "1713380\n",
      "7292180\n",
      "16646170\n",
      "5650\n",
      "2545676\n",
      "basket_btn <selenium.webdriver.remote.webelement.WebElement (session=\"a3cbf70fc570bf1c90cf12aba511aa10\", element=\"0bae83b4-4714-487b-b073-6aa54c43886a\")>\n",
      "10537806\n",
      "21147366\n",
      "18593629\n",
      "6150\n",
      "35437971\n",
      "57562112\n",
      "19653358\n",
      "61745592\n",
      "6650\n",
      "basket_btn <selenium.webdriver.remote.webelement.WebElement (session=\"a3cbf70fc570bf1c90cf12aba511aa10\", element=\"95c9c2a8-e936-46b5-81e8-b7815bc77259\")>\n",
      "9149585\n",
      "10790068\n",
      "40133359\n",
      "2695678\n",
      "7150\n",
      "8908903\n",
      "34659218\n",
      "53564984\n",
      "40725628\n",
      "7650\n",
      "14640532\n",
      "58443550\n",
      "54291792\n",
      "1713493\n",
      "8150\n",
      "basket_btn <selenium.webdriver.remote.webelement.WebElement (session=\"a3cbf70fc570bf1c90cf12aba511aa10\", element=\"e2f1103b-59f6-4d2d-afca-e1fa0993b74f\")>\n",
      "20879547\n",
      "11996466\n",
      "4738833\n",
      "38226594\n",
      "8650\n",
      "10187963\n",
      "33634069\n",
      "48177883\n",
      "7292181\n",
      "9150\n",
      "23175362\n",
      "5889361\n",
      "47462249\n",
      "29161072\n",
      "9650\n",
      "2906662\n",
      "4955761\n",
      "42310047\n",
      "17182605\n",
      "10150\n",
      "7369820\n",
      "53564982\n",
      "10790067\n",
      "8314759\n",
      "10650\n",
      "65333430\n",
      "45721781\n",
      "46709506\n",
      "16032983\n",
      "11150\n",
      "34462660\n",
      "24634722\n",
      "21577886\n",
      "61142284\n",
      "11650\n",
      "32742732\n",
      "54267893\n",
      "4243269\n",
      "48888958\n",
      "12150\n",
      "17251463\n",
      "18219215\n",
      "4062439\n",
      "15890790\n",
      "12650\n",
      "31381588\n",
      "12190436\n",
      "50680308\n",
      "3380150\n",
      "13150\n",
      "4661668\n",
      "1749019\n",
      "6830890\n"
     ]
    },
    {
     "ename": "KeyboardInterrupt",
     "evalue": "",
     "output_type": "error",
     "traceback": [
      "\u001b[0;31m---------------------------------------------------------------------------\u001b[0m",
      "\u001b[0;31mKeyboardInterrupt\u001b[0m                         Traceback (most recent call last)",
      "\u001b[0;32m/var/folders/fk/pp0h7zr144d6g9870ncqvfl00000gn/T/ipykernel_56466/1360353568.py\u001b[0m in \u001b[0;36m<module>\u001b[0;34m\u001b[0m\n\u001b[1;32m      1\u001b[0m \u001b[0;32mfor\u001b[0m \u001b[0mindex\u001b[0m\u001b[0;34m,\u001b[0m \u001b[0mrow\u001b[0m \u001b[0;32min\u001b[0m \u001b[0mdatas\u001b[0m\u001b[0;34m.\u001b[0m\u001b[0miterrows\u001b[0m\u001b[0;34m(\u001b[0m\u001b[0;34m)\u001b[0m\u001b[0;34m:\u001b[0m\u001b[0;34m\u001b[0m\u001b[0;34m\u001b[0m\u001b[0m\n\u001b[1;32m      2\u001b[0m     \u001b[0msearch_name\u001b[0m\u001b[0;34m,\u001b[0m \u001b[0marticul_num\u001b[0m\u001b[0;34m,\u001b[0m \u001b[0mpost_place\u001b[0m \u001b[0;34m=\u001b[0m \u001b[0mrow\u001b[0m\u001b[0;34m\u001b[0m\u001b[0;34m\u001b[0m\u001b[0m\n\u001b[0;32m----> 3\u001b[0;31m     \u001b[0mbot\u001b[0m\u001b[0;34m.\u001b[0m\u001b[0mbuy\u001b[0m\u001b[0;34m(\u001b[0m\u001b[0msearch_name\u001b[0m\u001b[0;34m,\u001b[0m \u001b[0marticul_num\u001b[0m\u001b[0;34m,\u001b[0m \u001b[0mpost_place\u001b[0m\u001b[0;34m)\u001b[0m\u001b[0;34m\u001b[0m\u001b[0;34m\u001b[0m\u001b[0m\n\u001b[0m",
      "\u001b[0;32m~/WBbot/lib.py\u001b[0m in \u001b[0;36mbuy\u001b[0;34m(self, search_name, articul_num, post_place)\u001b[0m\n\u001b[1;32m    283\u001b[0m         \u001b[0mself\u001b[0m\u001b[0;34m.\u001b[0m\u001b[0msearch\u001b[0m\u001b[0;34m(\u001b[0m\u001b[0msearch_name\u001b[0m\u001b[0;34m)\u001b[0m\u001b[0;34m\u001b[0m\u001b[0;34m\u001b[0m\u001b[0m\n\u001b[1;32m    284\u001b[0m         \u001b[0msleep\u001b[0m\u001b[0;34m(\u001b[0m\u001b[0;36m2\u001b[0m\u001b[0;34m)\u001b[0m\u001b[0;34m\u001b[0m\u001b[0;34m\u001b[0m\u001b[0m\n\u001b[0;32m--> 285\u001b[0;31m         \u001b[0mself\u001b[0m\u001b[0;34m.\u001b[0m\u001b[0mcard_search\u001b[0m\u001b[0;34m(\u001b[0m\u001b[0marticul_num\u001b[0m\u001b[0;34m)\u001b[0m\u001b[0;34m\u001b[0m\u001b[0;34m\u001b[0m\u001b[0m\n\u001b[0m\u001b[1;32m    286\u001b[0m         \u001b[0mself\u001b[0m\u001b[0;34m.\u001b[0m\u001b[0mgo_to_basket\u001b[0m\u001b[0;34m(\u001b[0m\u001b[0;34m)\u001b[0m\u001b[0;34m\u001b[0m\u001b[0;34m\u001b[0m\u001b[0m\n\u001b[1;32m    287\u001b[0m         \u001b[0msleep\u001b[0m\u001b[0;34m(\u001b[0m\u001b[0;36m1\u001b[0m\u001b[0;34m)\u001b[0m\u001b[0;34m\u001b[0m\u001b[0;34m\u001b[0m\u001b[0m\n",
      "\u001b[0;32m~/WBbot/lib.py\u001b[0m in \u001b[0;36mcard_search\u001b[0;34m(self, articul, scrolling, fake_choose)\u001b[0m\n\u001b[1;32m     86\u001b[0m             \u001b[0;32mif\u001b[0m \u001b[0;32mnot\u001b[0m \u001b[0mcard_finded\u001b[0m\u001b[0;34m:\u001b[0m\u001b[0;34m\u001b[0m\u001b[0;34m\u001b[0m\u001b[0m\n\u001b[1;32m     87\u001b[0m                 \u001b[0mself\u001b[0m\u001b[0;34m.\u001b[0m\u001b[0mnext_page\u001b[0m\u001b[0;34m(\u001b[0m\u001b[0;34m)\u001b[0m\u001b[0;34m\u001b[0m\u001b[0;34m\u001b[0m\u001b[0m\n\u001b[0;32m---> 88\u001b[0;31m                 \u001b[0msleep\u001b[0m\u001b[0;34m(\u001b[0m\u001b[0;36m2\u001b[0m\u001b[0;34m)\u001b[0m\u001b[0;34m\u001b[0m\u001b[0;34m\u001b[0m\u001b[0m\n\u001b[0m\u001b[1;32m     89\u001b[0m \u001b[0;34m\u001b[0m\u001b[0m\n\u001b[1;32m     90\u001b[0m     \u001b[0;32mdef\u001b[0m \u001b[0mnext_page\u001b[0m\u001b[0;34m(\u001b[0m\u001b[0mself\u001b[0m\u001b[0;34m)\u001b[0m\u001b[0;34m:\u001b[0m\u001b[0;34m\u001b[0m\u001b[0;34m\u001b[0m\u001b[0m\n",
      "\u001b[0;31mKeyboardInterrupt\u001b[0m: "
     ]
    }
   ],
   "source": [
    "for index, row in datas.iterrows():\n",
    "    search_name, articul_num, post_place = row\n",
    "    bot.buy(search_name, articul_num, post_place)"
   ]
  },
  {
   "cell_type": "code",
   "execution_count": null,
   "id": "ff15f726",
   "metadata": {},
   "outputs": [],
   "source": []
  }
 ],
 "metadata": {
  "kernelspec": {
   "display_name": "Python 3 (ipykernel)",
   "language": "python",
   "name": "python3"
  },
  "language_info": {
   "codemirror_mode": {
    "name": "ipython",
    "version": 3
   },
   "file_extension": ".py",
   "mimetype": "text/x-python",
   "name": "python",
   "nbconvert_exporter": "python",
   "pygments_lexer": "ipython3",
   "version": "3.9.7"
  }
 },
 "nbformat": 4,
 "nbformat_minor": 5
}
