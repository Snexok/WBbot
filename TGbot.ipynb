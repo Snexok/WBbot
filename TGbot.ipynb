{
 "cells": [
  {
   "cell_type": "code",
   "execution_count": 3,
   "id": "53ea0410",
   "metadata": {},
   "outputs": [
    {
     "name": "stdout",
     "output_type": "stream",
     "text": [
      "Collecting python-telegram-bot\n",
      "  Using cached python_telegram_bot-13.11-py3-none-any.whl (497 kB)\n",
      "Collecting cachetools==4.2.2\n",
      "  Using cached cachetools-4.2.2-py3-none-any.whl (11 kB)\n",
      "Requirement already satisfied: certifi in c:\\programdata\\anaconda3\\lib\\site-packages (from python-telegram-bot) (2021.10.8)\n",
      "Collecting APScheduler==3.6.3\n",
      "  Using cached APScheduler-3.6.3-py2.py3-none-any.whl (58 kB)\n",
      "Requirement already satisfied: tornado>=6.1 in c:\\programdata\\anaconda3\\lib\\site-packages (from python-telegram-bot) (6.1)\n",
      "Requirement already satisfied: pytz>=2018.6 in c:\\programdata\\anaconda3\\lib\\site-packages (from python-telegram-bot) (2021.3)\n",
      "Collecting tzlocal>=1.2\n",
      "  Downloading tzlocal-4.2-py3-none-any.whl (19 kB)\n",
      "Requirement already satisfied: setuptools>=0.7 in c:\\programdata\\anaconda3\\lib\\site-packages (from APScheduler==3.6.3->python-telegram-bot) (58.0.4)\n",
      "Requirement already satisfied: six>=1.4.0 in c:\\programdata\\anaconda3\\lib\\site-packages (from APScheduler==3.6.3->python-telegram-bot) (1.16.0)\n",
      "Collecting tzdata\n",
      "  Downloading tzdata-2022.1-py2.py3-none-any.whl (339 kB)\n",
      "Collecting pytz-deprecation-shim\n",
      "  Using cached pytz_deprecation_shim-0.1.0.post0-py2.py3-none-any.whl (15 kB)\n",
      "Installing collected packages: tzdata, pytz-deprecation-shim, tzlocal, cachetools, APScheduler, python-telegram-bot\n",
      "Successfully installed APScheduler-3.6.3 cachetools-4.2.2 python-telegram-bot-13.11 pytz-deprecation-shim-0.1.0.post0 tzdata-2022.1 tzlocal-4.2\n"
     ]
    }
   ],
   "source": [
    "! pip install python-telegram-bot --upgrade"
   ]
  },
  {
   "cell_type": "code",
   "execution_count": 1,
   "id": "9524e4ed",
   "metadata": {},
   "outputs": [],
   "source": [
    "%run lib.py"
   ]
  },
  {
   "cell_type": "code",
   "execution_count": 2,
   "id": "87350d12",
   "metadata": {},
   "outputs": [
    {
     "ename": "ModuleNotFoundError",
     "evalue": "No module named 'telegram'",
     "output_type": "error",
     "traceback": [
      "\u001b[1;31m---------------------------------------------------------------------------\u001b[0m",
      "\u001b[1;31mModuleNotFoundError\u001b[0m                       Traceback (most recent call last)",
      "\u001b[1;32mC:\\Users\\ASTROC~1\\AppData\\Local\\Temp/ipykernel_1228/1447719903.py\u001b[0m in \u001b[0;36m<module>\u001b[1;34m\u001b[0m\n\u001b[0;32m      7\u001b[0m \u001b[1;31m# For telegram api\u001b[0m\u001b[1;33m\u001b[0m\u001b[1;33m\u001b[0m\u001b[0m\n\u001b[0;32m      8\u001b[0m \u001b[1;31m# pip install python-telegram-bot --upgrade\u001b[0m\u001b[1;33m\u001b[0m\u001b[1;33m\u001b[0m\u001b[0m\n\u001b[1;32m----> 9\u001b[1;33m \u001b[1;32mfrom\u001b[0m \u001b[0mtelegram\u001b[0m \u001b[1;32mimport\u001b[0m \u001b[0mUpdate\u001b[0m\u001b[1;33m,\u001b[0m \u001b[0mInlineKeyboardButton\u001b[0m\u001b[1;33m,\u001b[0m \u001b[0mInlineKeyboardMarkup\u001b[0m\u001b[1;33m\u001b[0m\u001b[1;33m\u001b[0m\u001b[0m\n\u001b[0m\u001b[0;32m     10\u001b[0m \u001b[1;32mfrom\u001b[0m \u001b[0mtelegram\u001b[0m\u001b[1;33m.\u001b[0m\u001b[0mext\u001b[0m \u001b[1;32mimport\u001b[0m \u001b[0mUpdater\u001b[0m\u001b[1;33m,\u001b[0m \u001b[0mCommandHandler\u001b[0m\u001b[1;33m,\u001b[0m \u001b[0mMessageHandler\u001b[0m\u001b[1;33m,\u001b[0m \u001b[0mFilters\u001b[0m\u001b[1;33m,\u001b[0m \u001b[0mCallbackContext\u001b[0m\u001b[1;33m,\u001b[0m\u001b[0;31m \u001b[0m\u001b[0;31m\\\u001b[0m\u001b[1;33m\u001b[0m\u001b[1;33m\u001b[0m\u001b[0m\n\u001b[0;32m     11\u001b[0m     \u001b[0mCallbackQueryHandler\u001b[0m\u001b[1;33m,\u001b[0m \u001b[0mTypeHandler\u001b[0m\u001b[1;33m,\u001b[0m \u001b[0mConversationHandler\u001b[0m\u001b[1;33m\u001b[0m\u001b[1;33m\u001b[0m\u001b[0m\n",
      "\u001b[1;31mModuleNotFoundError\u001b[0m: No module named 'telegram'"
     ]
    }
   ],
   "source": [
    "# Python Modules\n",
    "import os\n",
    "import json\n",
    "import logging\n",
    "import pandas as pd\n",
    "\n",
    "# For telegram api\n",
    "# pip install python-telegram-bot --upgrade\n",
    "from telegram import Update, InlineKeyboardButton, InlineKeyboardMarkup\n",
    "from telegram.ext import Updater, CommandHandler, MessageHandler, Filters, CallbackContext, \\\n",
    "    CallbackQueryHandler, TypeHandler, ConversationHandler\n",
    "\n",
    "logger = logging.getLogger(__name__)\n",
    "\n",
    "# Enable logging\n",
    "logging.basicConfig(\n",
    "    format='%(asctime)s - %(name)s - %(levelname)s - %(message)s', level=logging.INFO\n",
    ")\n",
    "\n",
    "# bots = [Bot(),Bot()]\n",
    "# Define a few command handlers. These usually take the two arguments update and\n",
    "# context.\n",
    "def start(update: Update, context: CallbackContext) -> None:\n",
    "    update.message.reply_text(\"Привет\")\n",
    "\n",
    "\n",
    "def help_command(update: Update, context: CallbackContext) -> None:\n",
    "    update.message.reply_text('Help!')\n",
    "\n",
    "\n",
    "def main_handler(update: Update, context: CallbackContext):\n",
    "    msg = update.message.text.lower()\n",
    "#     document = update.message.document()\n",
    "#     if document:\n",
    "#         print(pd.read_excel(document))\n",
    "#     if 'запустить ботов' in msg:\n",
    "#         for bot in bots:\n",
    "#             try:\n",
    "#                 bot.open('https://www.wildberries.ru')\n",
    "#             except:\n",
    "#                 bot.open_browser()\n",
    "#                 bot.open('https://www.wildberries.ru')\n",
    "    update.message.reply_text(msg)\n",
    "    \n",
    "def docs_handler(update: Update, context: CallbackContext):\n",
    "    context.bot.get_file(update.message.document).download()\n",
    "    id = str(update.effective_user.id)\n",
    "    with open(\"users_data/\" + id + \"_order.xlsx\", 'wb') as f:\n",
    "        context.bot.get_file(update.message.document).download(out=f)\n",
    "    df = pd.read_excel(\"users_data/\" + id + \"_order.xlsx\")\n",
    "    pvzs = []\n",
    "    orders = []\n",
    "    for index, row in df.iterrows():\n",
    "        articul, search_key, quantity, pvz = row.tolist()\n",
    "        orders += [row.tolist()]\n",
    "        pvzs += [pvz]\n",
    "    max_bots = max(pvzs)\n",
    "    _bots - bot[:max_bots]\n",
    "    data_for_bots = []\n",
    "    for i in range(max_bots):\n",
    "        articul, search_key, quantity, pvz = orders[i]\n",
    "        if pvz!=0:\n",
    "            data_for_bots += [articul, search_key, quantity]\n",
    "        pvz-=1\n",
    "    print(data_for_bots)\n",
    "    for i, bot in enumerate(_bots):\n",
    "        bot.open_browser()\n",
    "        bot.open('https://www.wildberries.ru')\n",
    "#         bot.login('9104499982')\n",
    "        bot.buy(data_for_bots[i])\n",
    "    update.message.reply_text('принял, понял')\n",
    "\n",
    "\n",
    "def track_users_handler(update: Update, context: CallbackContext) -> None:\n",
    "    \"\"\"Store the user id of the incoming update, if any.\"\"\"\n",
    "    id = str(update.effective_user.id)\n",
    "    if not os.path.isfile(\"users_data/\" + id + \".json\"):\n",
    "        f = open(\"users_data/\" + id + \".json\", \"a\")\n",
    "        f.write('{\"id\": ' + id + '}')\n",
    "        f.close()\n",
    "\n",
    "\n",
    "def get_config():\n",
    "    file = open(\"config/config.config\").read()\n",
    "    config = eval(file)\n",
    "    return config\n",
    "\n",
    "\n",
    "def main() -> None:\n",
    "    config = get_config()\n",
    "    updater = Updater(config['tokens']['telegram'])\n",
    "\n",
    "    dispatcher = updater.dispatcher\n",
    "\n",
    "    dispatcher.add_handler(TypeHandler(Update, track_users_handler), group=-1)\n",
    "    dispatcher.add_handler(CommandHandler(\"start\", start))\n",
    "    dispatcher.add_handler(CommandHandler(\"help\", help_command))\n",
    "\n",
    "    dispatcher.add_handler(MessageHandler(Filters.text & ~Filters.command, main_handler))\n",
    "    dispatcher.add_handler(MessageHandler(Filters.document, docs_handler))\n",
    "\n",
    "    updater.start_polling()\n",
    "\n",
    "    updater.idle()\n",
    "\n",
    "\n",
    "if __name__ == '__main__':\n",
    "    main()\n"
   ]
  },
  {
   "cell_type": "code",
   "execution_count": 4,
   "id": "68aa7373",
   "metadata": {},
   "outputs": [],
   "source": [
    "import pandas as pd"
   ]
  },
  {
   "cell_type": "code",
   "execution_count": 7,
   "id": "bdcb089b",
   "metadata": {},
   "outputs": [
    {
     "name": "stdout",
     "output_type": "stream",
     "text": [
      "[[[63267675, 'Серьги для девочек', 5], [63267673, 'Серьги', 3], [53597951, 'Пирсинг обманка', 4]], [[63267675, 'Серьги для девочек', 5], [63267673, 'Серьги', 3], [53597951, 'Пирсинг обманка', 4]], [[63267675, 'Серьги для девочек', 5], [63267673, 'Серьги', 3], [53597951, 'Пирсинг обманка', 4]], [[63267675, 'Серьги для девочек', 5], [53597951, 'Пирсинг обманка', 4]], [[63267675, 'Серьги для девочек', 5]]]\n"
     ]
    }
   ],
   "source": [
    "df = pd.read_excel(\"users_data/794329884_order.xlsx\")\n",
    "pvzs = []\n",
    "orders = []\n",
    "for index, row in df.iterrows():\n",
    "    articul, search_key, quantity, pvz = row.tolist()\n",
    "    \n",
    "    orders += [row.tolist()]\n",
    "    pvzs += [pvz]\n",
    "max_bots = max(pvzs)\n",
    "# _bots = bot[:max`_bots]\n",
    "data_for_bots = [[] for _ in range(max_bots)]\n",
    "for j, o in enumerate(orders):\n",
    "    articul, search_key, quantity, pvz = o\n",
    "    for i in range(max_bots):\n",
    "        if pvz>0:\n",
    "            data_for_bots[i] += [[articul, search_key, quantity]]\n",
    "        pvz-=1\n",
    "print(data_for_bots)\n",
    "# for i, bot in enumerate(_bots):\n",
    "#     bot.open_browser()\n",
    "#     bot.open('https://www.wildberries.ru')\n",
    "# #         bot.login('9104499982')\n",
    "#     bot.buy(data_for_bots[i])"
   ]
  },
  {
   "cell_type": "code",
   "execution_count": 22,
   "id": "0a065798",
   "metadata": {},
   "outputs": [
    {
     "data": {
      "text/plain": [
       "[[63267675, 'Серьги для девочек', 1, 5],\n",
       " [63267673, 'Серьги', 5, 3],\n",
       " [53597951, 'Пирсинг обманка', 3, 4]]"
      ]
     },
     "execution_count": 22,
     "metadata": {},
     "output_type": "execute_result"
    }
   ],
   "source": [
    "orders"
   ]
  },
  {
   "cell_type": "code",
   "execution_count": 9,
   "id": "a47cc9ef",
   "metadata": {},
   "outputs": [],
   "source": [
    "a = [1,2,3,4,5]"
   ]
  },
  {
   "cell_type": "code",
   "execution_count": 13,
   "id": "258efc0a",
   "metadata": {},
   "outputs": [],
   "source": [
    "b = [6,7,8,9]"
   ]
  },
  {
   "cell_type": "code",
   "execution_count": 14,
   "id": "6e1f299a",
   "metadata": {},
   "outputs": [
    {
     "data": {
      "text/plain": [
       "[1, 2, 3, 4, 5, 6, 7, 8, 9]"
      ]
     },
     "execution_count": 14,
     "metadata": {},
     "output_type": "execute_result"
    }
   ],
   "source": [
    "a+b"
   ]
  },
  {
   "cell_type": "code",
   "execution_count": 18,
   "id": "fc254e21",
   "metadata": {},
   "outputs": [
    {
     "data": {
      "text/plain": [
       "3"
      ]
     },
     "execution_count": 18,
     "metadata": {},
     "output_type": "execute_result"
    }
   ],
   "source": [
    "max(pvzs)"
   ]
  },
  {
   "cell_type": "code",
   "execution_count": 47,
   "id": "9e020928",
   "metadata": {},
   "outputs": [
    {
     "data": {
      "text/plain": [
       "[63267675, 63267673, 53597951]"
      ]
     },
     "execution_count": 47,
     "metadata": {},
     "output_type": "execute_result"
    }
   ],
   "source": [
    "[data[0] for data in data_for_bots[0]]"
   ]
  },
  {
   "cell_type": "code",
   "execution_count": 49,
   "id": "9c382b2b",
   "metadata": {},
   "outputs": [
    {
     "data": {
      "text/plain": [
       "[[63267675, 'Серьги для девочек', 1],\n",
       " [63267673, 'Серьги', 5],\n",
       " [53597951, 'Пирсинг обманка', 3]]"
      ]
     },
     "execution_count": 49,
     "metadata": {},
     "output_type": "execute_result"
    }
   ],
   "source": [
    "data_for_bots[0]"
   ]
  },
  {
   "cell_type": "code",
   "execution_count": null,
   "id": "1196a55c",
   "metadata": {},
   "outputs": [],
   "source": []
  }
 ],
 "metadata": {
  "kernelspec": {
   "display_name": "Python 3 (ipykernel)",
   "language": "python",
   "name": "python3"
  },
  "language_info": {
   "codemirror_mode": {
    "name": "ipython",
    "version": 3
   },
   "file_extension": ".py",
   "mimetype": "text/x-python",
   "name": "python",
   "nbconvert_exporter": "python",
   "pygments_lexer": "ipython3",
   "version": "3.9.7"
  }
 },
 "nbformat": 4,
 "nbformat_minor": 5
}
