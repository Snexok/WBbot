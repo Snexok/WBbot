{
 "cells": [
  {
   "cell_type": "code",
   "execution_count": null,
   "id": "53ea0410",
   "metadata": {},
   "outputs": [],
   "source": [
    "! pip install python-telegram-bot --upgrade"
   ]
  },
  {
   "cell_type": "code",
   "execution_count": 1,
   "id": "9524e4ed",
   "metadata": {},
   "outputs": [],
   "source": [
    "%run lib.py"
   ]
  },
  {
   "cell_type": "code",
   "execution_count": 1,
   "id": "87350d12",
   "metadata": {},
   "outputs": [
    {
     "name": "stderr",
     "output_type": "stream",
     "text": [
      "2022-04-05 20:30:33,832 - apscheduler.scheduler - INFO - Scheduler started\n"
     ]
    },
    {
     "name": "stdout",
     "output_type": "stream",
     "text": [
      "0 Артикул                                 63267675\n",
      "Ключевое слово                Серьги для девочек\n",
      "Количество                                     1\n",
      "Количество необходимых ПВЗ                     5\n",
      "Name: 0, dtype: object\n",
      "1 Артикул                       63267673\n",
      "Ключевое слово                  Серьги\n",
      "Количество                           5\n",
      "Количество необходимых ПВЗ           3\n",
      "Name: 1, dtype: object\n",
      "2 Артикул                              53597951\n",
      "Ключевое слово                Пирсинг обманка\n",
      "Количество                                  3\n",
      "Количество необходимых ПВЗ                  4\n",
      "Name: 2, dtype: object\n"
     ]
    },
    {
     "name": "stderr",
     "output_type": "stream",
     "text": [
      "2022-04-05 20:31:17,685 - telegram.ext.updater - INFO - Received signal 2 (SIGINT), stopping...\n",
      "2022-04-05 20:31:17,686 - apscheduler.scheduler - INFO - Scheduler has been shut down\n"
     ]
    }
   ],
   "source": [
    "# Python Modules\n",
    "import os\n",
    "import json\n",
    "import logging\n",
    "import pandas as pd\n",
    "\n",
    "# For telegram api\n",
    "# pip install python-telegram-bot --upgrade\n",
    "from telegram import Update, InlineKeyboardButton, InlineKeyboardMarkup\n",
    "from telegram.ext import Updater, CommandHandler, MessageHandler, Filters, CallbackContext, \\\n",
    "    CallbackQueryHandler, TypeHandler, ConversationHandler\n",
    "\n",
    "logger = logging.getLogger(__name__)\n",
    "\n",
    "# Enable logging\n",
    "logging.basicConfig(\n",
    "    format='%(asctime)s - %(name)s - %(levelname)s - %(message)s', level=logging.INFO\n",
    ")\n",
    "\n",
    "# bots = [Bot(),Bot()]\n",
    "# Define a few command handlers. These usually take the two arguments update and\n",
    "# context.\n",
    "def start(update: Update, context: CallbackContext) -> None:\n",
    "    update.message.reply_text(\"Привет\")\n",
    "\n",
    "\n",
    "def help_command(update: Update, context: CallbackContext) -> None:\n",
    "    update.message.reply_text('Help!')\n",
    "\n",
    "\n",
    "def main_handler(update: Update, context: CallbackContext):\n",
    "    msg = update.message.text.lower()\n",
    "#     document = update.message.document()\n",
    "#     if document:\n",
    "#         print(pd.read_excel(document))\n",
    "#     if 'запустить ботов' in msg:\n",
    "#         for bot in bots:\n",
    "#             try:\n",
    "#                 bot.open('https://www.wildberries.ru')\n",
    "#             except:\n",
    "#                 bot.open_browser()\n",
    "#                 bot.open('https://www.wildberries.ru')\n",
    "    update.message.reply_text(msg)\n",
    "    \n",
    "def docs_handler(update: Update, context: CallbackContext):\n",
    "    context.bot.get_file(update.message.document).download()\n",
    "    id = str(update.effective_user.id)\n",
    "    with open(\"users_data/\" + id + \"_order.xlsx\", 'wb') as f:\n",
    "        context.bot.get_file(update.message.document).download(out=f)\n",
    "    df = pd.read_excel(\"users_data/\" + id + \"_order.xlsx\")\n",
    "    pvzs = []\n",
    "    orders = []\n",
    "    for index, row in df.iterrows():\n",
    "        articul, search_key, quantity, pvz = row.tolist()\n",
    "        orders += [row.tolist()]\n",
    "        pvzs += [pvz]\n",
    "    max_bots = max(pvzs)\n",
    "    _bots - bot[:max_bots]\n",
    "    data_for_bots = []\n",
    "    for i in range(max_bots):\n",
    "        articul, search_key, quantity, pvz = orders[i]\n",
    "        if pvz!=0:\n",
    "            data_for_bots += [articul, search_key, quantity]\n",
    "        pvz-=1\n",
    "    print(data_for_bots)\n",
    "    for i, bot in enumerate(_bots):\n",
    "        bot.open_browser()\n",
    "        bot.open('https://www.wildberries.ru')\n",
    "#         bot.login('9104499982')\n",
    "        bot.buy(data_for_bots[i])\n",
    "    update.message.reply_text('принял, понял')\n",
    "\n",
    "\n",
    "def track_users_handler(update: Update, context: CallbackContext) -> None:\n",
    "    \"\"\"Store the user id of the incoming update, if any.\"\"\"\n",
    "    id = str(update.effective_user.id)\n",
    "    if not os.path.isfile(\"users_data/\" + id + \".json\"):\n",
    "        f = open(\"users_data/\" + id + \".json\", \"a\")\n",
    "        f.write('{\"id\": ' + id + '}')\n",
    "        f.close()\n",
    "\n",
    "\n",
    "def get_config():\n",
    "    file = open(\"config/config.config\").read()\n",
    "    config = eval(file)\n",
    "    return config\n",
    "\n",
    "\n",
    "def main() -> None:\n",
    "    config = get_config()\n",
    "    updater = Updater(config['tokens']['telegram'])\n",
    "\n",
    "    dispatcher = updater.dispatcher\n",
    "\n",
    "    dispatcher.add_handler(TypeHandler(Update, track_users_handler), group=-1)\n",
    "    dispatcher.add_handler(CommandHandler(\"start\", start))\n",
    "    dispatcher.add_handler(CommandHandler(\"help\", help_command))\n",
    "\n",
    "    dispatcher.add_handler(MessageHandler(Filters.text & ~Filters.command, main_handler))\n",
    "    dispatcher.add_handler(MessageHandler(Filters.document, docs_handler))\n",
    "\n",
    "    updater.start_polling()\n",
    "\n",
    "    updater.idle()\n",
    "\n",
    "\n",
    "if __name__ == '__main__':\n",
    "    main()\n"
   ]
  },
  {
   "cell_type": "code",
   "execution_count": 42,
   "id": "bdcb089b",
   "metadata": {},
   "outputs": [
    {
     "name": "stdout",
     "output_type": "stream",
     "text": [
      "[[[63267675, 'Серьги для девочек', 1], [63267673, 'Серьги', 5], [53597951, 'Пирсинг обманка', 3]], [[63267675, 'Серьги для девочек', 1], [63267673, 'Серьги', 5], [53597951, 'Пирсинг обманка', 3]]]\n"
     ]
    }
   ],
   "source": [
    "df = pd.read_excel(\"users_data/794329884_order.xlsx\")\n",
    "pvzs = []\n",
    "orders = []\n",
    "for index, row in df.iterrows():\n",
    "    articul, search_key, quantity, pvz = row.tolist()\n",
    "    \n",
    "    pvz = 2\n",
    "    row[3] = 2\n",
    "    \n",
    "    orders += [row.tolist()]\n",
    "    pvzs += [pvz]\n",
    "max_bots = max(pvzs)\n",
    "# _bots = bot[:max`_bots]\n",
    "data_for_bots = [[] for _ in range(max_bots)]\n",
    "for j, o in enumerate(orders):\n",
    "    articul, search_key, quantity, pvz = o\n",
    "    for i in range(max_bots):\n",
    "        if pvz>0:\n",
    "            data_for_bots[i] += [[articul, search_key, quantity]]\n",
    "        pvz-=1\n",
    "print(data_for_bots)\n",
    "# for i, bot in enumerate(_bots):\n",
    "#     bot.open_browser()\n",
    "#     bot.open('https://www.wildberries.ru')\n",
    "# #         bot.login('9104499982')\n",
    "#     bot.buy(data_for_bots[i])"
   ]
  },
  {
   "cell_type": "code",
   "execution_count": 22,
   "id": "0a065798",
   "metadata": {},
   "outputs": [
    {
     "data": {
      "text/plain": [
       "[[63267675, 'Серьги для девочек', 1, 5],\n",
       " [63267673, 'Серьги', 5, 3],\n",
       " [53597951, 'Пирсинг обманка', 3, 4]]"
      ]
     },
     "execution_count": 22,
     "metadata": {},
     "output_type": "execute_result"
    }
   ],
   "source": [
    "orders"
   ]
  },
  {
   "cell_type": "code",
   "execution_count": 9,
   "id": "a47cc9ef",
   "metadata": {},
   "outputs": [],
   "source": [
    "a = [1,2,3,4,5]"
   ]
  },
  {
   "cell_type": "code",
   "execution_count": 13,
   "id": "258efc0a",
   "metadata": {},
   "outputs": [],
   "source": [
    "b = [6,7,8,9]"
   ]
  },
  {
   "cell_type": "code",
   "execution_count": 14,
   "id": "6e1f299a",
   "metadata": {},
   "outputs": [
    {
     "data": {
      "text/plain": [
       "[1, 2, 3, 4, 5, 6, 7, 8, 9]"
      ]
     },
     "execution_count": 14,
     "metadata": {},
     "output_type": "execute_result"
    }
   ],
   "source": [
    "a+b"
   ]
  },
  {
   "cell_type": "code",
   "execution_count": 18,
   "id": "fc254e21",
   "metadata": {},
   "outputs": [
    {
     "data": {
      "text/plain": [
       "3"
      ]
     },
     "execution_count": 18,
     "metadata": {},
     "output_type": "execute_result"
    }
   ],
   "source": [
    "max(pvzs)"
   ]
  },
  {
   "cell_type": "code",
   "execution_count": 47,
   "id": "9e020928",
   "metadata": {},
   "outputs": [
    {
     "data": {
      "text/plain": [
       "[63267675, 63267673, 53597951]"
      ]
     },
     "execution_count": 47,
     "metadata": {},
     "output_type": "execute_result"
    }
   ],
   "source": [
    "[data[0] for data in data_for_bots[0]]"
   ]
  },
  {
   "cell_type": "code",
   "execution_count": 49,
   "id": "9c382b2b",
   "metadata": {},
   "outputs": [
    {
     "data": {
      "text/plain": [
       "[[63267675, 'Серьги для девочек', 1],\n",
       " [63267673, 'Серьги', 5],\n",
       " [53597951, 'Пирсинг обманка', 3]]"
      ]
     },
     "execution_count": 49,
     "metadata": {},
     "output_type": "execute_result"
    }
   ],
   "source": [
    "data_for_bots[0]"
   ]
  },
  {
   "cell_type": "code",
   "execution_count": null,
   "id": "1196a55c",
   "metadata": {},
   "outputs": [],
   "source": []
  }
 ],
 "metadata": {
  "kernelspec": {
   "display_name": "Python 3 (ipykernel)",
   "language": "python",
   "name": "python3"
  },
  "language_info": {
   "codemirror_mode": {
    "name": "ipython",
    "version": 3
   },
   "file_extension": ".py",
   "mimetype": "text/x-python",
   "name": "python",
   "nbconvert_exporter": "python",
   "pygments_lexer": "ipython3",
   "version": "3.9.7"
  }
 },
 "nbformat": 4,
 "nbformat_minor": 5
}
