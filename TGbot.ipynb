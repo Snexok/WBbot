{
 "cells": [
  {
   "cell_type": "code",
   "execution_count": null,
   "id": "53ea0410",
   "metadata": {},
   "outputs": [],
   "source": [
    "! pip install python-telegram-bot --upgrad\n",
    "list"
   ]
  },
  {
   "cell_type": "code",
   "execution_count": 2,
   "id": "9524e4ed",
   "metadata": {},
   "outputs": [
    {
     "ename": "Exception",
     "evalue": "File `'lib.py'` not found.",
     "output_type": "error",
     "traceback": [
      "\u001B[1;31m---------------------------------------------------------------------------\u001B[0m",
      "\u001B[1;31mOSError\u001B[0m                                   Traceback (most recent call last)",
      "\u001B[1;32mC:\\ProgramData\\Anaconda3\\lib\\site-packages\\IPython\\core\\magics\\execution.py\u001B[0m in \u001B[0;36mrun\u001B[1;34m(self, parameter_s, runner, file_finder)\u001B[0m\n\u001B[0;32m    702\u001B[0m             \u001B[0mfpath\u001B[0m \u001B[1;33m=\u001B[0m \u001B[0marg_lst\u001B[0m\u001B[1;33m[\u001B[0m\u001B[1;36m0\u001B[0m\u001B[1;33m]\u001B[0m\u001B[1;33m\u001B[0m\u001B[1;33m\u001B[0m\u001B[0m\n\u001B[1;32m--> 703\u001B[1;33m             \u001B[0mfilename\u001B[0m \u001B[1;33m=\u001B[0m \u001B[0mfile_finder\u001B[0m\u001B[1;33m(\u001B[0m\u001B[0mfpath\u001B[0m\u001B[1;33m)\u001B[0m\u001B[1;33m\u001B[0m\u001B[1;33m\u001B[0m\u001B[0m\n\u001B[0m\u001B[0;32m    704\u001B[0m         \u001B[1;32mexcept\u001B[0m \u001B[0mIndexError\u001B[0m\u001B[1;33m:\u001B[0m\u001B[1;33m\u001B[0m\u001B[1;33m\u001B[0m\u001B[0m\n",
      "\u001B[1;32mC:\\ProgramData\\Anaconda3\\lib\\site-packages\\IPython\\utils\\path.py\u001B[0m in \u001B[0;36mget_py_filename\u001B[1;34m(name, force_win32)\u001B[0m\n\u001B[0;32m    108\u001B[0m     \u001B[1;32melse\u001B[0m\u001B[1;33m:\u001B[0m\u001B[1;33m\u001B[0m\u001B[1;33m\u001B[0m\u001B[0m\n\u001B[1;32m--> 109\u001B[1;33m         \u001B[1;32mraise\u001B[0m \u001B[0mIOError\u001B[0m\u001B[1;33m(\u001B[0m\u001B[1;34m'File `%r` not found.'\u001B[0m \u001B[1;33m%\u001B[0m \u001B[0mname\u001B[0m\u001B[1;33m)\u001B[0m\u001B[1;33m\u001B[0m\u001B[1;33m\u001B[0m\u001B[0m\n\u001B[0m\u001B[0;32m    110\u001B[0m \u001B[1;33m\u001B[0m\u001B[0m\n",
      "\u001B[1;31mOSError\u001B[0m: File `'lib.py'` not found.",
      "\nDuring handling of the above exception, another exception occurred:\n",
      "\u001B[1;31mException\u001B[0m                                 Traceback (most recent call last)",
      "\u001B[1;32mC:\\Users\\75BD~1\\AppData\\Local\\Temp/ipykernel_8740/1669855418.py\u001B[0m in \u001B[0;36m<module>\u001B[1;34m\u001B[0m\n\u001B[1;32m----> 1\u001B[1;33m \u001B[0mget_ipython\u001B[0m\u001B[1;33m(\u001B[0m\u001B[1;33m)\u001B[0m\u001B[1;33m.\u001B[0m\u001B[0mrun_line_magic\u001B[0m\u001B[1;33m(\u001B[0m\u001B[1;34m'run'\u001B[0m\u001B[1;33m,\u001B[0m \u001B[1;34m'lib.py'\u001B[0m\u001B[1;33m)\u001B[0m\u001B[1;33m\u001B[0m\u001B[1;33m\u001B[0m\u001B[0m\n\u001B[0m",
      "\u001B[1;32mC:\\ProgramData\\Anaconda3\\lib\\site-packages\\IPython\\core\\interactiveshell.py\u001B[0m in \u001B[0;36mrun_line_magic\u001B[1;34m(self, magic_name, line, _stack_depth)\u001B[0m\n\u001B[0;32m   2349\u001B[0m                 \u001B[0mkwargs\u001B[0m\u001B[1;33m[\u001B[0m\u001B[1;34m'local_ns'\u001B[0m\u001B[1;33m]\u001B[0m \u001B[1;33m=\u001B[0m \u001B[0mself\u001B[0m\u001B[1;33m.\u001B[0m\u001B[0mget_local_scope\u001B[0m\u001B[1;33m(\u001B[0m\u001B[0mstack_depth\u001B[0m\u001B[1;33m)\u001B[0m\u001B[1;33m\u001B[0m\u001B[1;33m\u001B[0m\u001B[0m\n\u001B[0;32m   2350\u001B[0m             \u001B[1;32mwith\u001B[0m \u001B[0mself\u001B[0m\u001B[1;33m.\u001B[0m\u001B[0mbuiltin_trap\u001B[0m\u001B[1;33m:\u001B[0m\u001B[1;33m\u001B[0m\u001B[1;33m\u001B[0m\u001B[0m\n\u001B[1;32m-> 2351\u001B[1;33m                 \u001B[0mresult\u001B[0m \u001B[1;33m=\u001B[0m \u001B[0mfn\u001B[0m\u001B[1;33m(\u001B[0m\u001B[1;33m*\u001B[0m\u001B[0margs\u001B[0m\u001B[1;33m,\u001B[0m \u001B[1;33m**\u001B[0m\u001B[0mkwargs\u001B[0m\u001B[1;33m)\u001B[0m\u001B[1;33m\u001B[0m\u001B[1;33m\u001B[0m\u001B[0m\n\u001B[0m\u001B[0;32m   2352\u001B[0m             \u001B[1;32mreturn\u001B[0m \u001B[0mresult\u001B[0m\u001B[1;33m\u001B[0m\u001B[1;33m\u001B[0m\u001B[0m\n\u001B[0;32m   2353\u001B[0m \u001B[1;33m\u001B[0m\u001B[0m\n",
      "\u001B[1;32mC:\\ProgramData\\Anaconda3\\lib\\site-packages\\decorator.py\u001B[0m in \u001B[0;36mfun\u001B[1;34m(*args, **kw)\u001B[0m\n\u001B[0;32m    230\u001B[0m             \u001B[1;32mif\u001B[0m \u001B[1;32mnot\u001B[0m \u001B[0mkwsyntax\u001B[0m\u001B[1;33m:\u001B[0m\u001B[1;33m\u001B[0m\u001B[1;33m\u001B[0m\u001B[0m\n\u001B[0;32m    231\u001B[0m                 \u001B[0margs\u001B[0m\u001B[1;33m,\u001B[0m \u001B[0mkw\u001B[0m \u001B[1;33m=\u001B[0m \u001B[0mfix\u001B[0m\u001B[1;33m(\u001B[0m\u001B[0margs\u001B[0m\u001B[1;33m,\u001B[0m \u001B[0mkw\u001B[0m\u001B[1;33m,\u001B[0m \u001B[0msig\u001B[0m\u001B[1;33m)\u001B[0m\u001B[1;33m\u001B[0m\u001B[1;33m\u001B[0m\u001B[0m\n\u001B[1;32m--> 232\u001B[1;33m             \u001B[1;32mreturn\u001B[0m \u001B[0mcaller\u001B[0m\u001B[1;33m(\u001B[0m\u001B[0mfunc\u001B[0m\u001B[1;33m,\u001B[0m \u001B[1;33m*\u001B[0m\u001B[1;33m(\u001B[0m\u001B[0mextras\u001B[0m \u001B[1;33m+\u001B[0m \u001B[0margs\u001B[0m\u001B[1;33m)\u001B[0m\u001B[1;33m,\u001B[0m \u001B[1;33m**\u001B[0m\u001B[0mkw\u001B[0m\u001B[1;33m)\u001B[0m\u001B[1;33m\u001B[0m\u001B[1;33m\u001B[0m\u001B[0m\n\u001B[0m\u001B[0;32m    233\u001B[0m     \u001B[0mfun\u001B[0m\u001B[1;33m.\u001B[0m\u001B[0m__name__\u001B[0m \u001B[1;33m=\u001B[0m \u001B[0mfunc\u001B[0m\u001B[1;33m.\u001B[0m\u001B[0m__name__\u001B[0m\u001B[1;33m\u001B[0m\u001B[1;33m\u001B[0m\u001B[0m\n\u001B[0;32m    234\u001B[0m     \u001B[0mfun\u001B[0m\u001B[1;33m.\u001B[0m\u001B[0m__doc__\u001B[0m \u001B[1;33m=\u001B[0m \u001B[0mfunc\u001B[0m\u001B[1;33m.\u001B[0m\u001B[0m__doc__\u001B[0m\u001B[1;33m\u001B[0m\u001B[1;33m\u001B[0m\u001B[0m\n",
      "\u001B[1;32mC:\\ProgramData\\Anaconda3\\lib\\site-packages\\IPython\\core\\magic.py\u001B[0m in \u001B[0;36m<lambda>\u001B[1;34m(f, *a, **k)\u001B[0m\n\u001B[0;32m    185\u001B[0m     \u001B[1;31m# but it's overkill for just that one bit of state.\u001B[0m\u001B[1;33m\u001B[0m\u001B[1;33m\u001B[0m\u001B[0m\n\u001B[0;32m    186\u001B[0m     \u001B[1;32mdef\u001B[0m \u001B[0mmagic_deco\u001B[0m\u001B[1;33m(\u001B[0m\u001B[0marg\u001B[0m\u001B[1;33m)\u001B[0m\u001B[1;33m:\u001B[0m\u001B[1;33m\u001B[0m\u001B[1;33m\u001B[0m\u001B[0m\n\u001B[1;32m--> 187\u001B[1;33m         \u001B[0mcall\u001B[0m \u001B[1;33m=\u001B[0m \u001B[1;32mlambda\u001B[0m \u001B[0mf\u001B[0m\u001B[1;33m,\u001B[0m \u001B[1;33m*\u001B[0m\u001B[0ma\u001B[0m\u001B[1;33m,\u001B[0m \u001B[1;33m**\u001B[0m\u001B[0mk\u001B[0m\u001B[1;33m:\u001B[0m \u001B[0mf\u001B[0m\u001B[1;33m(\u001B[0m\u001B[1;33m*\u001B[0m\u001B[0ma\u001B[0m\u001B[1;33m,\u001B[0m \u001B[1;33m**\u001B[0m\u001B[0mk\u001B[0m\u001B[1;33m)\u001B[0m\u001B[1;33m\u001B[0m\u001B[1;33m\u001B[0m\u001B[0m\n\u001B[0m\u001B[0;32m    188\u001B[0m \u001B[1;33m\u001B[0m\u001B[0m\n\u001B[0;32m    189\u001B[0m         \u001B[1;32mif\u001B[0m \u001B[0mcallable\u001B[0m\u001B[1;33m(\u001B[0m\u001B[0marg\u001B[0m\u001B[1;33m)\u001B[0m\u001B[1;33m:\u001B[0m\u001B[1;33m\u001B[0m\u001B[1;33m\u001B[0m\u001B[0m\n",
      "\u001B[1;32mC:\\ProgramData\\Anaconda3\\lib\\site-packages\\IPython\\core\\magics\\execution.py\u001B[0m in \u001B[0;36mrun\u001B[1;34m(self, parameter_s, runner, file_finder)\u001B[0m\n\u001B[0;32m    712\u001B[0m             \u001B[1;32mif\u001B[0m \u001B[0mos\u001B[0m\u001B[1;33m.\u001B[0m\u001B[0mname\u001B[0m \u001B[1;33m==\u001B[0m \u001B[1;34m'nt'\u001B[0m \u001B[1;32mand\u001B[0m \u001B[0mre\u001B[0m\u001B[1;33m.\u001B[0m\u001B[0mmatch\u001B[0m\u001B[1;33m(\u001B[0m\u001B[1;34mr\"^'.*'$\"\u001B[0m\u001B[1;33m,\u001B[0m\u001B[0mfpath\u001B[0m\u001B[1;33m)\u001B[0m\u001B[1;33m:\u001B[0m\u001B[1;33m\u001B[0m\u001B[1;33m\u001B[0m\u001B[0m\n\u001B[0;32m    713\u001B[0m                 \u001B[0mwarn\u001B[0m\u001B[1;33m(\u001B[0m\u001B[1;34m'For Windows, use double quotes to wrap a filename: %run \"mypath\\\\myfile.py\"'\u001B[0m\u001B[1;33m)\u001B[0m\u001B[1;33m\u001B[0m\u001B[1;33m\u001B[0m\u001B[0m\n\u001B[1;32m--> 714\u001B[1;33m             \u001B[1;32mraise\u001B[0m \u001B[0mException\u001B[0m\u001B[1;33m(\u001B[0m\u001B[0mmsg\u001B[0m\u001B[1;33m)\u001B[0m\u001B[1;33m\u001B[0m\u001B[1;33m\u001B[0m\u001B[0m\n\u001B[0m\u001B[0;32m    715\u001B[0m         \u001B[1;32mexcept\u001B[0m \u001B[0mTypeError\u001B[0m\u001B[1;33m:\u001B[0m\u001B[1;33m\u001B[0m\u001B[1;33m\u001B[0m\u001B[0m\n\u001B[0;32m    716\u001B[0m             \u001B[1;32mif\u001B[0m \u001B[0mfpath\u001B[0m \u001B[1;32min\u001B[0m \u001B[0msys\u001B[0m\u001B[1;33m.\u001B[0m\u001B[0mmeta_path\u001B[0m\u001B[1;33m:\u001B[0m\u001B[1;33m\u001B[0m\u001B[1;33m\u001B[0m\u001B[0m\n",
      "\u001B[1;31mException\u001B[0m: File `'lib.py'` not found."
     ]
    }
   ],
   "source": [
    "%run lib.py"
   ]
  },
  {
   "cell_type": "code",
   "execution_count": 1,
   "id": "87350d12",
   "metadata": {},
   "outputs": [
    {
     "name": "stderr",
     "output_type": "stream",
     "text": [
      "2022-04-05 20:30:33,832 - apscheduler.scheduler - INFO - Scheduler started\n"
     ]
    },
    {
     "name": "stdout",
     "output_type": "stream",
     "text": [
      "0 Артикул                                 63267675\n",
      "Ключевое слово                Серьги для девочек\n",
      "Количество                                     1\n",
      "Количество необходимых ПВЗ                     5\n",
      "Name: 0, dtype: object\n",
      "1 Артикул                       63267673\n",
      "Ключевое слово                  Серьги\n",
      "Количество                           5\n",
      "Количество необходимых ПВЗ           3\n",
      "Name: 1, dtype: object\n",
      "2 Артикул                              53597951\n",
      "Ключевое слово                Пирсинг обманка\n",
      "Количество                                  3\n",
      "Количество необходимых ПВЗ                  4\n",
      "Name: 2, dtype: object\n"
     ]
    },
    {
     "name": "stderr",
     "output_type": "stream",
     "text": [
      "2022-04-05 20:31:17,685 - telegram.ext.updater - INFO - Received signal 2 (SIGINT), stopping...\n",
      "2022-04-05 20:31:17,686 - apscheduler.scheduler - INFO - Scheduler has been shut down\n"
     ]
    }
   ],
   "source": [
    "# Python Modules\n",
    "import os\n",
    "import json\n",
    "import logging\n",
    "import pandas as pd\n",
    "\n",
    "# For telegram api\n",
    "# pip install python-telegram-bot --upgrade\n",
    "from telegram import Update, InlineKeyboardButton, InlineKeyboardMarkup\n",
    "from telegram.ext import Updater, CommandHandler, MessageHandler, Filters, CallbackContext, \\\n",
    "    CallbackQueryHandler, TypeHandler, ConversationHandler\n",
    "\n",
    "logger = logging.getLogger(__name__)\n",
    "\n",
    "# Enable logging\n",
    "logging.basicConfig(\n",
    "    format='%(asctime)s - %(name)s - %(levelname)s - %(message)s', level=logging.INFO\n",
    ")\n",
    "\n",
    "# bots = [Bot(),Bot()]\n",
    "# Define a few command handlers. These usually take the two arguments update and\n",
    "# context.\n",
    "def start(update: Update, context: CallbackContext) -> None:\n",
    "    update.message.reply_text(\"Привет\")\n",
    "\n",
    "\n",
    "def help_command(update: Update, context: CallbackContext) -> None:\n",
    "    update.message.reply_text('Help!')\n",
    "\n",
    "\n",
    "def main_handler(update: Update, context: CallbackContext):\n",
    "    msg = update.message.text.lower()\n",
    "#     document = update.message.document()\n",
    "#     if document:\n",
    "#         print(pd.read_excel(document))\n",
    "#     if 'запустить ботов' in msg:\n",
    "#         for bot in bots:\n",
    "#             try:\n",
    "#                 bot.open('https://www.wildberries.ru')\n",
    "#             except:\n",
    "#                 bot.open_browser()\n",
    "#                 bot.open('https://www.wildberries.ru')\n",
    "    update.message.reply_text(msg)\n",
    "    \n",
    "def docs_handler(update: Update, context: CallbackContext):\n",
    "    context.bot.get_file(update.message.document).download()\n",
    "    id = str(update.effective_user.id)\n",
    "    with open(\"users_data/\" + id + \"_order.xlsx\", 'wb') as f:\n",
    "        context.bot.get_file(update.message.document).download(out=f)\n",
    "    df = pd.read_excel(\"users_data/\" + id + \"_order.xlsx\")\n",
    "    pvzs = []\n",
    "    orders = []\n",
    "    for index, row in df.iterrows():\n",
    "        articul, search_key, quantity, pvz = row.tolist()\n",
    "        orders += [row.tolist()]\n",
    "        pvzs += [pvz]\n",
    "    max_bots = max(pvzs)\n",
    "    _bots - bot[:max_bots]\n",
    "    data_for_bots = []\n",
    "    for i in range(max_bots):\n",
    "        articul, search_key, quantity, pvz = orders[i]\n",
    "        if pvz!=0:\n",
    "            data_for_bots += [articul, search_key, quantity]\n",
    "        pvz-=1\n",
    "    print(data_for_bots)\n",
    "    for i, bot in enumerate(_bots):\n",
    "        bot.open_browser()\n",
    "        bot.open('https://www.wildberries.ru')\n",
    "#         bot.login('9104499982')\n",
    "        bot.buy(data_for_bots[i])\n",
    "    update.message.reply_text('принял, понял')\n",
    "\n",
    "\n",
    "def track_users_handler(update: Update, context: CallbackContext) -> None:\n",
    "    \"\"\"Store the user id of the incoming update, if any.\"\"\"\n",
    "    id = str(update.effective_user.id)\n",
    "    if not os.path.isfile(\"users_data/\" + id + \".json\"):\n",
    "        f = open(\"users_data/\" + id + \".json\", \"a\")\n",
    "        f.write('{\"id\": ' + id + '}')\n",
    "        f.close()\n",
    "\n",
    "\n",
    "def get_config():\n",
    "    file = open(\"config/config.config\").read()\n",
    "    config = eval(file)\n",
    "    return config\n",
    "\n",
    "\n",
    "def main() -> None:\n",
    "    config = get_config()\n",
    "    updater = Updater(config['tokens']['telegram'])\n",
    "\n",
    "    dispatcher = updater.dispatcher\n",
    "\n",
    "    dispatcher.add_handler(TypeHandler(Update, track_users_handler), group=-1)\n",
    "    dispatcher.add_handler(CommandHandler(\"start\", start))\n",
    "    dispatcher.add_handler(CommandHandler(\"help\", help_command))\n",
    "\n",
    "    dispatcher.add_handler(MessageHandler(Filters.text & ~Filters.command, main_handler))\n",
    "    dispatcher.add_handler(MessageHandler(Filters.document, docs_handler))\n",
    "\n",
    "    updater.start_polling()\n",
    "\n",
    "    updater.idle()\n",
    "\n",
    "\n",
    "if __name__ == '__main__':\n",
    "    main()\n"
   ]
  },
  {
   "cell_type": "code",
   "execution_count": 42,
   "id": "bdcb089b",
   "metadata": {},
   "outputs": [
    {
     "name": "stdout",
     "output_type": "stream",
     "text": [
      "[[[63267675, 'Серьги для девочек', 1], [63267673, 'Серьги', 5], [53597951, 'Пирсинг обманка', 3]], [[63267675, 'Серьги для девочек', 1], [63267673, 'Серьги', 5], [53597951, 'Пирсинг обманка', 3]]]\n"
     ]
    }
   ],
   "source": [
    "df = pd.read_excel(\"users_data/794329884_order.xlsx\")\n",
    "pvzs = []\n",
    "orders = []\n",
    "for index, row in df.iterrows():\n",
    "    articul, search_key, quantity, pvz = row.tolist()\n",
    "    \n",
    "    pvz = 2\n",
    "    row[3] = 2\n",
    "    \n",
    "    orders += [row.tolist()]\n",
    "    pvzs += [pvz]\n",
    "max_bots = max(pvzs)\n",
    "# _bots = bot[:max`_bots]\n",
    "data_for_bots = [[] for _ in range(max_bots)]\n",
    "for j, o in enumerate(orders):\n",
    "    articul, search_key, quantity, pvz = o\n",
    "    for i in range(max_bots):\n",
    "        if pvz>0:\n",
    "            data_for_bots[i] += [[articul, search_key, quantity]]\n",
    "        pvz-=1\n",
    "print(data_for_bots)\n",
    "# for i, bot in enumerate(_bots):\n",
    "#     bot.open_browser()\n",
    "#     bot.open('https://www.wildberries.ru')\n",
    "# #         bot.login('9104499982')\n",
    "#     bot.buy(data_for_bots[i])"
   ]
  },
  {
   "cell_type": "code",
   "execution_count": 22,
   "id": "0a065798",
   "metadata": {},
   "outputs": [
    {
     "data": {
      "text/plain": [
       "[[63267675, 'Серьги для девочек', 1, 5],\n",
       " [63267673, 'Серьги', 5, 3],\n",
       " [53597951, 'Пирсинг обманка', 3, 4]]"
      ]
     },
     "execution_count": 22,
     "metadata": {},
     "output_type": "execute_result"
    }
   ],
   "source": [
    "orders"
   ]
  },
  {
   "cell_type": "code",
   "execution_count": 9,
   "id": "a47cc9ef",
   "metadata": {},
   "outputs": [],
   "source": [
    "a = [1,2,3,4,5]"
   ]
  },
  {
   "cell_type": "code",
   "execution_count": 13,
   "id": "258efc0a",
   "metadata": {},
   "outputs": [],
   "source": [
    "b = [6,7,8,9]"
   ]
  },
  {
   "cell_type": "code",
   "execution_count": 14,
   "id": "6e1f299a",
   "metadata": {},
   "outputs": [
    {
     "data": {
      "text/plain": [
       "[1, 2, 3, 4, 5, 6, 7, 8, 9]"
      ]
     },
     "execution_count": 14,
     "metadata": {},
     "output_type": "execute_result"
    }
   ],
   "source": [
    "a+b"
   ]
  },
  {
   "cell_type": "code",
   "execution_count": 18,
   "id": "fc254e21",
   "metadata": {},
   "outputs": [
    {
     "data": {
      "text/plain": [
       "3"
      ]
     },
     "execution_count": 18,
     "metadata": {},
     "output_type": "execute_result"
    }
   ],
   "source": [
    "max(pvzs)"
   ]
  },
  {
   "cell_type": "code",
   "execution_count": 47,
   "id": "9e020928",
   "metadata": {},
   "outputs": [
    {
     "data": {
      "text/plain": [
       "[63267675, 63267673, 53597951]"
      ]
     },
     "execution_count": 47,
     "metadata": {},
     "output_type": "execute_result"
    }
   ],
   "source": [
    "[data[0] for data in data_for_bots[0]]"
   ]
  },
  {
   "cell_type": "code",
   "execution_count": 49,
   "id": "9c382b2b",
   "metadata": {},
   "outputs": [
    {
     "data": {
      "text/plain": [
       "[[63267675, 'Серьги для девочек', 1],\n",
       " [63267673, 'Серьги', 5],\n",
       " [53597951, 'Пирсинг обманка', 3]]"
      ]
     },
     "execution_count": 49,
     "metadata": {},
     "output_type": "execute_result"
    }
   ],
   "source": [
    "data_for_bots[0]"
   ]
  },
  {
   "cell_type": "code",
   "execution_count": null,
   "outputs": [],
   "source": [
    "print(articles)\n",
    "        \n",
    "    "
   ],
   "metadata": {
    "collapsed": false,
    "pycharm": {
     "name": "#%%\n"
    }
   }
  },
  {
   "cell_type": "code",
   "execution_count": 3,
   "id": "1196a55c",
   "metadata": {},
   "outputs": [
    {
     "ename": "NameError",
     "evalue": "name 'articles' is not defined",
     "output_type": "error",
     "traceback": [
      "\u001B[1;31m---------------------------------------------------------------------------\u001B[0m",
      "\u001B[1;31mNameError\u001B[0m                                 Traceback (most recent call last)",
      "\u001B[1;32mC:\\Users\\75BD~1\\AppData\\Local\\Temp/ipykernel_8740/4264513368.py\u001B[0m in \u001B[0;36m<module>\u001B[1;34m\u001B[0m\n\u001B[1;32m----> 1\u001B[1;33m \u001B[0mprint\u001B[0m\u001B[1;33m(\u001B[0m\u001B[0marticles\u001B[0m\u001B[1;33m)\u001B[0m\u001B[1;33m\u001B[0m\u001B[1;33m\u001B[0m\u001B[0m\n\u001B[0m\u001B[0;32m      2\u001B[0m \u001B[1;33m\u001B[0m\u001B[0m\n\u001B[0;32m      3\u001B[0m \u001B[1;33m\u001B[0m\u001B[0m\n",
      "\u001B[1;31mNameError\u001B[0m: name 'articles' is not defined"
     ]
    }
   ],
   "source": []
  },
  {
   "cell_type": "code",
   "execution_count": null,
   "id": "713b7b29",
   "metadata": {},
   "outputs": [],
   "source": []
  }
 ],
 "metadata": {
  "kernelspec": {
   "display_name": "Python 3 (ipykernel)",
   "language": "python",
   "name": "python3"
  },
  "language_info": {
   "codemirror_mode": {
    "name": "ipython",
    "version": 3
   },
   "file_extension": ".py",
   "mimetype": "text/x-python",
   "name": "python",
   "nbconvert_exporter": "python",
   "pygments_lexer": "ipython3",
   "version": "3.9.7"
  }
 },
 "nbformat": 4,
 "nbformat_minor": 5
}