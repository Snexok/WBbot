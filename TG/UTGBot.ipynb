{
 "cells": [
  {
   "cell_type": "code",
   "execution_count": null,
   "id": "2e843b00",
   "metadata": {},
   "outputs": [],
   "source": [
    "#!venv/bin/python\n",
    "import logging\n",
    "from aiogram import Bot, Dispatcher, executor, types\n",
    "\n",
    "# Объект бота\n",
    "bot = Bot(token=\"5142587667:AAG0hn1NKMOfvWcF9CQJbLJaw95myKPHlrM\")\n",
    "# Диспетчер для бота\n",
    "dp = Dispatcher(bot)\n",
    "# Включаем логирование, чтобы не пропустить важные сообщения\n",
    "logging.basicConfig(level=logging.INFO)\n",
    "\n",
    "\n",
    "# Хэндлер на команду /test1\n",
    "@dp.message_handler(commands=\"test1\")\n",
    "async def cmd_test1(message: types.Message):\n",
    "    await message.reply(\"Test 1\")\n",
    "\n",
    "\n",
    "if __name__ == \"__main__\":\n",
    "    # Запуск бота\n",
    "    executor.start_polling(dp, skip_updates=True)"
   ]
  },
  {
   "cell_type": "code",
   "execution_count": null,
   "id": "96032bd7",
   "metadata": {},
   "outputs": [],
   "source": []
  }
 ],
 "metadata": {
  "kernelspec": {
   "display_name": "Python 3 (ipykernel)",
   "language": "python",
   "name": "python3"
  },
  "language_info": {
   "codemirror_mode": {
    "name": "ipython",
    "version": 3
   },
   "file_extension": ".py",
   "mimetype": "text/x-python",
   "name": "python",
   "nbconvert_exporter": "python",
   "pygments_lexer": "ipython3",
   "version": "3.9.7"
  }
 },
 "nbformat": 4,
 "nbformat_minor": 5
}
