{
 "cells": [
  {
   "cell_type": "code",
   "execution_count": 1,
   "id": "53ea0410",
   "metadata": {},
   "outputs": [],
   "source": [
    "#! pip install python-telegram-bot --upgrad"
   ]
  },
  {
   "cell_type": "code",
   "execution_count": 2,
   "id": "9524e4ed",
   "metadata": {
    "scrolled": true
   },
   "outputs": [],
   "source": [
    "%run tgbot.py"
   ]
  },
  {
   "cell_type": "code",
   "execution_count": 2,
   "id": "87350d12",
   "metadata": {},
   "outputs": [
    {
     "ename": "ModuleNotFoundError",
     "evalue": "No module named 'telegram'",
     "output_type": "error",
     "traceback": [
      "\u001b[1;31m---------------------------------------------------------------------------\u001b[0m",
      "\u001b[1;31mModuleNotFoundError\u001b[0m                       Traceback (most recent call last)",
      "\u001b[1;32mC:\\Users\\ASTROC~1\\AppData\\Local\\Temp/ipykernel_1228/1447719903.py\u001b[0m in \u001b[0;36m<module>\u001b[1;34m\u001b[0m\n\u001b[0;32m      7\u001b[0m \u001b[1;31m# For telegram api\u001b[0m\u001b[1;33m\u001b[0m\u001b[1;33m\u001b[0m\u001b[0m\n\u001b[0;32m      8\u001b[0m \u001b[1;31m# pip install python-telegram-bot --upgrade\u001b[0m\u001b[1;33m\u001b[0m\u001b[1;33m\u001b[0m\u001b[0m\n\u001b[1;32m----> 9\u001b[1;33m \u001b[1;32mfrom\u001b[0m \u001b[0mtelegram\u001b[0m \u001b[1;32mimport\u001b[0m \u001b[0mUpdate\u001b[0m\u001b[1;33m,\u001b[0m \u001b[0mInlineKeyboardButton\u001b[0m\u001b[1;33m,\u001b[0m \u001b[0mInlineKeyboardMarkup\u001b[0m\u001b[1;33m\u001b[0m\u001b[1;33m\u001b[0m\u001b[0m\n\u001b[0m\u001b[0;32m     10\u001b[0m \u001b[1;32mfrom\u001b[0m \u001b[0mtelegram\u001b[0m\u001b[1;33m.\u001b[0m\u001b[0mext\u001b[0m \u001b[1;32mimport\u001b[0m \u001b[0mUpdater\u001b[0m\u001b[1;33m,\u001b[0m \u001b[0mCommandHandler\u001b[0m\u001b[1;33m,\u001b[0m \u001b[0mMessageHandler\u001b[0m\u001b[1;33m,\u001b[0m \u001b[0mFilters\u001b[0m\u001b[1;33m,\u001b[0m \u001b[0mCallbackContext\u001b[0m\u001b[1;33m,\u001b[0m\u001b[0;31m \u001b[0m\u001b[0;31m\\\u001b[0m\u001b[1;33m\u001b[0m\u001b[1;33m\u001b[0m\u001b[0m\n\u001b[0;32m     11\u001b[0m     \u001b[0mCallbackQueryHandler\u001b[0m\u001b[1;33m,\u001b[0m \u001b[0mTypeHandler\u001b[0m\u001b[1;33m,\u001b[0m \u001b[0mConversationHandler\u001b[0m\u001b[1;33m\u001b[0m\u001b[1;33m\u001b[0m\u001b[0m\n",
      "\u001b[1;31mModuleNotFoundError\u001b[0m: No module named 'telegram'"
     ]
    }
   ],
   "source": [
    "# Python Modules\n",
    "import os\n",
    "import json\n",
    "import logging\n",
    "import pandas as pd\n",
    "\n",
    "# For telegram api\n",
    "# pip install python-telegram-bot --upgrade\n",
    "from telegram import Update, InlineKeyboardButton, InlineKeyboardMarkup\n",
    "from telegram.ext import Updater, CommandHandler, MessageHandler, Filters, CallbackContext, \\\n",
    "    CallbackQueryHandler, TypeHandler, ConversationHandler\n",
    "\n",
    "logger = logging.getLogger(__name__)\n",
    "\n",
    "# Enable logging\n",
    "logging.basicConfig(\n",
    "    format='%(asctime)s - %(name)s - %(levelname)s - %(message)s', level=logging.INFO\n",
    ")\n",
    "\n",
    "# bots = [Bot(),Bot()]\n",
    "# Define a few command handlers. These usually take the two arguments update and\n",
    "# context.\n",
    "def start(update: Update, context: CallbackContext) -> None:\n",
    "    update.message.reply_text(\"Привет\")\n",
    "\n",
    "\n",
    "def help_command(update: Update, context: CallbackContext) -> None:\n",
    "    update.message.reply_text('Help!')\n",
    "\n",
    "\n",
    "def main_handler(update: Update, context: CallbackContext):\n",
    "    msg = update.message.text.lower()\n",
    "#     document = update.message.document()\n",
    "#     if document:\n",
    "#         print(pd.read_excel(document))\n",
    "#     if 'запустить ботов' in msg:\n",
    "#         for bot in bots:\n",
    "#             try:\n",
    "#                 bot.open('https://www.wildberries.ru')\n",
    "#             except:\n",
    "#                 bot.open_browser()\n",
    "#                 bot.open('https://www.wildberries.ru')\n",
    "    update.message.reply_text(msg)\n",
    "    \n",
    "def docs_handler(update: Update, context: CallbackContext):\n",
    "    context.bot.get_file(update.message.document).download()\n",
    "    id = str(update.effective_user.id)\n",
    "    with open(\"users_data/\" + id + \"_order.xlsx\", 'wb') as f:\n",
    "        context.bot.get_file(update.message.document).download(out=f)\n",
    "    df = pd.read_excel(\"users_data/\" + id + \"_order.xlsx\")\n",
    "    pvzs = []\n",
    "    orders = []\n",
    "    for index, row in df.iterrows():\n",
    "        articul, search_key, quantity, pvz = row.tolist()\n",
    "        orders += [row.tolist()]\n",
    "        pvzs += [pvz]\n",
    "    max_bots = max(pvzs)\n",
    "    _bots - bot[:max_bots]\n",
    "    data_for_bots = []\n",
    "    for i in range(max_bots):\n",
    "        articul, search_key, quantity, pvz = orders[i]\n",
    "        if pvz!=0:\n",
    "            data_for_bots += [articul, search_key, quantity]\n",
    "        pvz-=1\n",
    "    print(data_for_bots)\n",
    "    for i, bot in enumerate(_bots):\n",
    "        bot.open_browser()\n",
    "        bot.open('https://www.wildberries.ru')\n",
    "#         bot.login('9104499982')\n",
    "        bot.buy(data_for_bots[i])\n",
    "    update.message.reply_text('принял, понял')\n",
    "\n",
    "\n",
    "def track_users_handler(update: Update, context: CallbackContext) -> None:\n",
    "    \"\"\"Store the user id of the incoming update, if any.\"\"\"\n",
    "    id = str(update.effective_user.id)\n",
    "    if not os.path.isfile(\"users_data/\" + id + \".json\"):\n",
    "        f = open(\"users_data/\" + id + \".json\", \"a\")\n",
    "        f.write('{\"id\": ' + id + '}')\n",
    "        f.close()\n",
    "\n",
    "\n",
    "def get_config():\n",
    "    file = open(\"config/config.config\").read()\n",
    "    config = eval(file)\n",
    "    return config\n",
    "\n",
    "\n",
    "def main() -> None:\n",
    "    config = get_config()\n",
    "    updater = Updater(config['tokens']['telegram'])\n",
    "\n",
    "    dispatcher = updater.dispatcher\n",
    "\n",
    "    dispatcher.add_handler(TypeHandler(Update, track_users_handler), group=-1)\n",
    "    dispatcher.add_handler(CommandHandler(\"start\", start))\n",
    "    dispatcher.add_handler(CommandHandler(\"help\", help_command))\n",
    "\n",
    "    dispatcher.add_handler(MessageHandler(Filters.text & ~Filters.command, main_handler))\n",
    "    dispatcher.add_handler(MessageHandler(Filters.document, docs_handler))\n",
    "\n",
    "    updater.start_polling()\n",
    "\n",
    "    updater.idle()\n",
    "\n",
    "\n",
    "if __name__ == '__main__':\n",
    "    main()\n"
   ]
  },
  {
   "cell_type": "code",
   "execution_count": 4,
   "id": "68aa7373",
   "metadata": {},
   "outputs": [],
   "source": [
    "import pandas as pd"
   ]
  },
  {
   "cell_type": "code",
   "execution_count": 7,
   "id": "bdcb089b",
   "metadata": {},
   "outputs": [
    {
     "name": "stdout",
     "output_type": "stream",
     "text": [
      "[[[63267675, 'Серьги для девочек', 5], [63267673, 'Серьги', 3], [53597951, 'Пирсинг обманка', 4]], [[63267675, 'Серьги для девочек', 5], [63267673, 'Серьги', 3], [53597951, 'Пирсинг обманка', 4]], [[63267675, 'Серьги для девочек', 5], [63267673, 'Серьги', 3], [53597951, 'Пирсинг обманка', 4]], [[63267675, 'Серьги для девочек', 5], [53597951, 'Пирсинг обманка', 4]], [[63267675, 'Серьги для девочек', 5]]]\n"
     ]
    }
   ],
   "source": [
    "df = pd.read_excel(\"users_data/794329884_order.xlsx\")\n",
    "pvzs = []\n",
    "orders = []\n",
    "for index, row in df.iterrows():\n",
    "    articul, search_key, quantity, pvz = row.tolist()\n",
    "    \n",
    "    orders += [row.tolist()]\n",
    "    pvzs += [pvz]\n",
    "max_bots = max(pvzs)\n",
    "# _bots = bot[:max`_bots]\n",
    "data_for_bots = [[] for _ in range(max_bots)]\n",
    "for j, o in enumerate(orders):\n",
    "    articul, search_key, quantity, pvz = o\n",
    "    for i in range(max_bots):\n",
    "        if pvz>0:\n",
    "            data_for_bots[i] += [[articul, search_key, quantity]]\n",
    "        pvz-=1\n",
    "print(data_for_bots)\n",
    "# for i, bot in enumerate(_bots):\n",
    "#     bot.open_browser()\n",
    "#     bot.open('https://www.wildberries.ru')\n",
    "# #         bot.login('9104499982')\n",
    "#     bot.buy(data_for_bots[i])"
   ]
  },
  {
   "cell_type": "code",
   "execution_count": 22,
   "id": "0a065798",
   "metadata": {},
   "outputs": [
    {
     "data": {
      "text/plain": [
       "[[63267675, 'Серьги для девочек', 1, 5],\n",
       " [63267673, 'Серьги', 5, 3],\n",
       " [53597951, 'Пирсинг обманка', 3, 4]]"
      ]
     },
     "execution_count": 22,
     "metadata": {},
     "output_type": "execute_result"
    }
   ],
   "source": [
    "orders"
   ]
  },
  {
   "cell_type": "code",
   "execution_count": 9,
   "id": "a47cc9ef",
   "metadata": {},
   "outputs": [],
   "source": [
    "a = [1,2,3,4,5]"
   ]
  },
  {
   "cell_type": "code",
   "execution_count": 13,
   "id": "258efc0a",
   "metadata": {},
   "outputs": [],
   "source": [
    "b = [6,7,8,9]"
   ]
  },
  {
   "cell_type": "code",
   "execution_count": 14,
   "id": "6e1f299a",
   "metadata": {},
   "outputs": [
    {
     "data": {
      "text/plain": [
       "[1, 2, 3, 4, 5, 6, 7, 8, 9]"
      ]
     },
     "execution_count": 14,
     "metadata": {},
     "output_type": "execute_result"
    }
   ],
   "source": [
    "a+b"
   ]
  },
  {
   "cell_type": "code",
   "execution_count": 18,
   "id": "fc254e21",
   "metadata": {},
   "outputs": [
    {
     "data": {
      "text/plain": [
       "3"
      ]
     },
     "execution_count": 18,
     "metadata": {},
     "output_type": "execute_result"
    }
   ],
   "source": [
    "max(pvzs)"
   ]
  },
  {
   "cell_type": "code",
   "execution_count": 47,
   "id": "9e020928",
   "metadata": {},
   "outputs": [
    {
     "data": {
      "text/plain": [
       "[63267675, 63267673, 53597951]"
      ]
     },
     "execution_count": 47,
     "metadata": {},
     "output_type": "execute_result"
    }
   ],
   "source": [
    "[data[0] for data in data_for_bots[0]]"
   ]
  },
  {
   "cell_type": "code",
   "execution_count": 49,
   "id": "9c382b2b",
   "metadata": {},
   "outputs": [
    {
     "data": {
      "text/plain": [
       "[[63267675, 'Серьги для девочек', 1],\n",
       " [63267673, 'Серьги', 5],\n",
       " [53597951, 'Пирсинг обманка', 3]]"
      ]
     },
     "execution_count": 49,
     "metadata": {},
     "output_type": "execute_result"
    }
   ],
   "source": [
    "data_for_bots[0]"
   ]
  },
  {
   "cell_type": "code",
   "execution_count": null,
   "id": "4b7de4d7",
   "metadata": {
    "pycharm": {
     "name": "#%%\n"
    }
   },
   "outputs": [],
   "source": [
    "print(articles)\n",
    "        \n",
    "    "
   ]
  },
  {
   "cell_type": "code",
   "execution_count": 3,
   "id": "1196a55c",
   "metadata": {},
   "outputs": [
    {
     "ename": "NameError",
     "evalue": "name 'articles' is not defined",
     "output_type": "error",
     "traceback": [
      "\u001b[1;31m---------------------------------------------------------------------------\u001b[0m",
      "\u001b[1;31mNameError\u001b[0m                                 Traceback (most recent call last)",
      "\u001b[1;32mC:\\Users\\75BD~1\\AppData\\Local\\Temp/ipykernel_8740/4264513368.py\u001b[0m in \u001b[0;36m<module>\u001b[1;34m\u001b[0m\n\u001b[1;32m----> 1\u001b[1;33m \u001b[0mprint\u001b[0m\u001b[1;33m(\u001b[0m\u001b[0marticles\u001b[0m\u001b[1;33m)\u001b[0m\u001b[1;33m\u001b[0m\u001b[1;33m\u001b[0m\u001b[0m\n\u001b[0m\u001b[0;32m      2\u001b[0m \u001b[1;33m\u001b[0m\u001b[0m\n\u001b[0;32m      3\u001b[0m \u001b[1;33m\u001b[0m\u001b[0m\n",
      "\u001b[1;31mNameError\u001b[0m: name 'articles' is not defined"
     ]
    }
   ],
   "source": []
  },
  {
   "cell_type": "code",
   "execution_count": 1,
   "id": "713b7b29",
   "metadata": {},
   "outputs": [
    {
     "ename": "RuntimeError",
     "evalue": "asyncio.run() cannot be called from a running event loop",
     "output_type": "error",
     "traceback": [
      "\u001b[0;31m---------------------------------------------------------------------------\u001b[0m",
      "\u001b[0;31mRuntimeError\u001b[0m                              Traceback (most recent call last)",
      "Input \u001b[0;32mIn [1]\u001b[0m, in \u001b[0;36m<cell line: 15>\u001b[0;34m()\u001b[0m\n\u001b[1;32m     12\u001b[0m     \u001b[38;5;28;01mfinally\u001b[39;00m:\n\u001b[1;32m     13\u001b[0m         \u001b[38;5;28;01mawait\u001b[39;00m bot\u001b[38;5;241m.\u001b[39mclose()\n\u001b[0;32m---> 15\u001b[0m \u001b[43masyncio\u001b[49m\u001b[38;5;241;43m.\u001b[39;49m\u001b[43mrun\u001b[49m\u001b[43m(\u001b[49m\u001b[43mmain\u001b[49m\u001b[43m(\u001b[49m\u001b[43m)\u001b[49m\u001b[43m)\u001b[49m\n",
      "File \u001b[0;32m~/opt/anaconda3/lib/python3.9/asyncio/runners.py:33\u001b[0m, in \u001b[0;36mrun\u001b[0;34m(main, debug)\u001b[0m\n\u001b[1;32m      9\u001b[0m \u001b[38;5;124;03m\"\"\"Execute the coroutine and return the result.\u001b[39;00m\n\u001b[1;32m     10\u001b[0m \n\u001b[1;32m     11\u001b[0m \u001b[38;5;124;03mThis function runs the passed coroutine, taking care of\u001b[39;00m\n\u001b[0;32m   (...)\u001b[0m\n\u001b[1;32m     30\u001b[0m \u001b[38;5;124;03m    asyncio.run(main())\u001b[39;00m\n\u001b[1;32m     31\u001b[0m \u001b[38;5;124;03m\"\"\"\u001b[39;00m\n\u001b[1;32m     32\u001b[0m \u001b[38;5;28;01mif\u001b[39;00m events\u001b[38;5;241m.\u001b[39m_get_running_loop() \u001b[38;5;129;01mis\u001b[39;00m \u001b[38;5;129;01mnot\u001b[39;00m \u001b[38;5;28;01mNone\u001b[39;00m:\n\u001b[0;32m---> 33\u001b[0m     \u001b[38;5;28;01mraise\u001b[39;00m \u001b[38;5;167;01mRuntimeError\u001b[39;00m(\n\u001b[1;32m     34\u001b[0m         \u001b[38;5;124m\"\u001b[39m\u001b[38;5;124masyncio.run() cannot be called from a running event loop\u001b[39m\u001b[38;5;124m\"\u001b[39m)\n\u001b[1;32m     36\u001b[0m \u001b[38;5;28;01mif\u001b[39;00m \u001b[38;5;129;01mnot\u001b[39;00m coroutines\u001b[38;5;241m.\u001b[39miscoroutine(main):\n\u001b[1;32m     37\u001b[0m     \u001b[38;5;28;01mraise\u001b[39;00m \u001b[38;5;167;01mValueError\u001b[39;00m(\u001b[38;5;124m\"\u001b[39m\u001b[38;5;124ma coroutine was expected, got \u001b[39m\u001b[38;5;132;01m{!r}\u001b[39;00m\u001b[38;5;124m\"\u001b[39m\u001b[38;5;241m.\u001b[39mformat(main))\n",
      "\u001b[0;31mRuntimeError\u001b[0m: asyncio.run() cannot be called from a running event loop"
     ]
    }
   ],
   "source": []
  },
  {
   "cell_type": "code",
   "execution_count": 4,
   "id": "195a4791",
   "metadata": {},
   "outputs": [
    {
     "name": "stdout",
     "output_type": "stream",
     "text": [
      "Collecting aiogram\n",
      "  Downloading aiogram-2.20-py3-none-any.whl (192 kB)\n",
      "\u001b[K     |████████████████████████████████| 192 kB 1.7 MB/s eta 0:00:01\n",
      "\u001b[?25hRequirement already satisfied: Babel<2.10.0,>=2.9.1 in /Users/konstantindarlin/opt/anaconda3/lib/python3.9/site-packages (from aiogram) (2.9.1)\n",
      "Requirement already satisfied: certifi>=2021.10.8 in /Users/konstantindarlin/opt/anaconda3/lib/python3.9/site-packages (from aiogram) (2021.10.8)\n",
      "Collecting aiohttp<3.9.0,>=3.8.0\n",
      "  Downloading aiohttp-3.8.1-cp39-cp39-macosx_10_9_x86_64.whl (574 kB)\n",
      "\u001b[K     |████████████████████████████████| 574 kB 12.4 MB/s eta 0:00:01\n",
      "\u001b[?25hCollecting multidict<7.0,>=4.5\n",
      "  Downloading multidict-6.0.2-cp39-cp39-macosx_10_9_x86_64.whl (28 kB)\n",
      "Collecting async-timeout<5.0,>=4.0.0a3\n",
      "  Downloading async_timeout-4.0.2-py3-none-any.whl (5.8 kB)\n",
      "Collecting aiosignal>=1.1.2\n",
      "  Downloading aiosignal-1.2.0-py3-none-any.whl (8.2 kB)\n",
      "Collecting frozenlist>=1.1.1\n",
      "  Downloading frozenlist-1.3.0-cp39-cp39-macosx_10_9_x86_64.whl (36 kB)\n",
      "Requirement already satisfied: charset-normalizer<3.0,>=2.0 in /Users/konstantindarlin/opt/anaconda3/lib/python3.9/site-packages (from aiohttp<3.9.0,>=3.8.0->aiogram) (2.0.4)\n",
      "Requirement already satisfied: attrs>=17.3.0 in /Users/konstantindarlin/opt/anaconda3/lib/python3.9/site-packages (from aiohttp<3.9.0,>=3.8.0->aiogram) (21.2.0)\n",
      "Collecting yarl<2.0,>=1.0\n",
      "  Downloading yarl-1.7.2-cp39-cp39-macosx_10_9_x86_64.whl (121 kB)\n",
      "\u001b[K     |████████████████████████████████| 121 kB 99.3 MB/s eta 0:00:01\n",
      "\u001b[?25hRequirement already satisfied: pytz>=2015.7 in /Users/konstantindarlin/opt/anaconda3/lib/python3.9/site-packages (from Babel<2.10.0,>=2.9.1->aiogram) (2021.3)\n",
      "Requirement already satisfied: idna>=2.0 in /Users/konstantindarlin/opt/anaconda3/lib/python3.9/site-packages (from yarl<2.0,>=1.0->aiohttp<3.9.0,>=3.8.0->aiogram) (3.2)\n",
      "Installing collected packages: multidict, frozenlist, yarl, async-timeout, aiosignal, aiohttp, aiogram\n",
      "Successfully installed aiogram-2.20 aiohttp-3.8.1 aiosignal-1.2.0 async-timeout-4.0.2 frozenlist-1.3.0 multidict-6.0.2 yarl-1.7.2\n"
     ]
    }
   ],
   "source": [
    "! pip install aiogram"
   ]
  },
  {
   "cell_type": "code",
   "execution_count": 8,
   "id": "df73024f",
   "metadata": {},
   "outputs": [
    {
     "name": "stdout",
     "output_type": "stream",
     "text": [
      "Requirement already satisfied: ipython in /Users/konstantindarlin/opt/anaconda3/lib/python3.9/site-packages (7.29.0)\n",
      "Collecting ipython\n",
      "  Downloading ipython-8.2.0-py3-none-any.whl (750 kB)\n",
      "\u001b[K     |████████████████████████████████| 750 kB 1.7 MB/s eta 0:00:01\n",
      "\u001b[?25hRequirement already satisfied: ipykernel in /Users/konstantindarlin/opt/anaconda3/lib/python3.9/site-packages (6.4.1)\n",
      "Collecting ipykernel\n",
      "  Downloading ipykernel-6.13.0-py3-none-any.whl (131 kB)\n",
      "\u001b[K     |████████████████████████████████| 131 kB 49.3 MB/s eta 0:00:01\n",
      "\u001b[?25hRequirement already satisfied: backcall in /Users/konstantindarlin/opt/anaconda3/lib/python3.9/site-packages (from ipython) (0.2.0)\n",
      "Requirement already satisfied: pygments>=2.4.0 in /Users/konstantindarlin/opt/anaconda3/lib/python3.9/site-packages (from ipython) (2.10.0)\n",
      "Requirement already satisfied: decorator in /Users/konstantindarlin/opt/anaconda3/lib/python3.9/site-packages (from ipython) (5.1.0)\n",
      "Requirement already satisfied: prompt-toolkit!=3.0.0,!=3.0.1,<3.1.0,>=2.0.0 in /Users/konstantindarlin/opt/anaconda3/lib/python3.9/site-packages (from ipython) (3.0.20)\n",
      "Requirement already satisfied: appnope in /Users/konstantindarlin/opt/anaconda3/lib/python3.9/site-packages (from ipython) (0.1.2)\n",
      "Requirement already satisfied: setuptools>=18.5 in /Users/konstantindarlin/opt/anaconda3/lib/python3.9/site-packages (from ipython) (58.0.4)\n",
      "Requirement already satisfied: matplotlib-inline in /Users/konstantindarlin/opt/anaconda3/lib/python3.9/site-packages (from ipython) (0.1.2)\n",
      "Requirement already satisfied: traitlets>=5 in /Users/konstantindarlin/opt/anaconda3/lib/python3.9/site-packages (from ipython) (5.1.0)\n",
      "Collecting stack-data\n",
      "  Downloading stack_data-0.2.0-py3-none-any.whl (21 kB)\n",
      "Requirement already satisfied: pexpect>4.3 in /Users/konstantindarlin/opt/anaconda3/lib/python3.9/site-packages (from ipython) (4.8.0)\n",
      "Requirement already satisfied: jedi>=0.16 in /Users/konstantindarlin/opt/anaconda3/lib/python3.9/site-packages (from ipython) (0.18.0)\n",
      "Requirement already satisfied: pickleshare in /Users/konstantindarlin/opt/anaconda3/lib/python3.9/site-packages (from ipython) (0.7.5)\n",
      "Requirement already satisfied: debugpy>=1.0 in /Users/konstantindarlin/opt/anaconda3/lib/python3.9/site-packages (from ipykernel) (1.4.1)\n",
      "Requirement already satisfied: tornado>=6.1 in /Users/konstantindarlin/opt/anaconda3/lib/python3.9/site-packages (from ipykernel) (6.1)\n",
      "Requirement already satisfied: psutil in /Users/konstantindarlin/opt/anaconda3/lib/python3.9/site-packages (from ipykernel) (5.8.0)\n",
      "Requirement already satisfied: nest-asyncio in /Users/konstantindarlin/opt/anaconda3/lib/python3.9/site-packages (from ipykernel) (1.5.1)\n",
      "Requirement already satisfied: jupyter-client>=6.1.12 in /Users/konstantindarlin/opt/anaconda3/lib/python3.9/site-packages (from ipykernel) (6.1.12)\n",
      "Requirement already satisfied: packaging in /Users/konstantindarlin/opt/anaconda3/lib/python3.9/site-packages (from ipykernel) (21.0)\n",
      "Requirement already satisfied: parso<0.9.0,>=0.8.0 in /Users/konstantindarlin/opt/anaconda3/lib/python3.9/site-packages (from jedi>=0.16->ipython) (0.8.2)\n",
      "Requirement already satisfied: jupyter-core>=4.6.0 in /Users/konstantindarlin/opt/anaconda3/lib/python3.9/site-packages (from jupyter-client>=6.1.12->ipykernel) (4.8.1)\n",
      "Requirement already satisfied: python-dateutil>=2.1 in /Users/konstantindarlin/opt/anaconda3/lib/python3.9/site-packages (from jupyter-client>=6.1.12->ipykernel) (2.8.2)\n",
      "Requirement already satisfied: pyzmq>=13 in /Users/konstantindarlin/opt/anaconda3/lib/python3.9/site-packages (from jupyter-client>=6.1.12->ipykernel) (22.2.1)\n",
      "Requirement already satisfied: ptyprocess>=0.5 in /Users/konstantindarlin/opt/anaconda3/lib/python3.9/site-packages (from pexpect>4.3->ipython) (0.7.0)\n",
      "Requirement already satisfied: wcwidth in /Users/konstantindarlin/opt/anaconda3/lib/python3.9/site-packages (from prompt-toolkit!=3.0.0,!=3.0.1,<3.1.0,>=2.0.0->ipython) (0.2.5)\n",
      "Requirement already satisfied: six>=1.5 in /Users/konstantindarlin/opt/anaconda3/lib/python3.9/site-packages (from python-dateutil>=2.1->jupyter-client>=6.1.12->ipykernel) (1.16.0)\n",
      "Requirement already satisfied: pyparsing>=2.0.2 in /Users/konstantindarlin/opt/anaconda3/lib/python3.9/site-packages (from packaging->ipykernel) (3.0.4)\n",
      "Collecting executing\n",
      "  Downloading executing-0.8.3-py2.py3-none-any.whl (16 kB)\n",
      "Collecting pure-eval\n",
      "  Downloading pure_eval-0.2.2-py3-none-any.whl (11 kB)\n",
      "Collecting asttokens\n",
      "  Downloading asttokens-2.0.5-py2.py3-none-any.whl (20 kB)\n",
      "Installing collected packages: pure-eval, executing, asttokens, stack-data, ipython, ipykernel\n",
      "  Attempting uninstall: ipython\n",
      "    Found existing installation: ipython 7.29.0\n",
      "    Uninstalling ipython-7.29.0:\n",
      "      Successfully uninstalled ipython-7.29.0\n",
      "  Attempting uninstall: ipykernel\n",
      "    Found existing installation: ipykernel 6.4.1\n",
      "    Uninstalling ipykernel-6.4.1:\n",
      "      Successfully uninstalled ipykernel-6.4.1\n",
      "\u001b[31mERROR: pip's dependency resolver does not currently take into account all the packages that are installed. This behaviour is the source of the following dependency conflicts.\n",
      "spyder 5.1.5 requires pyqt5<5.13, which is not installed.\n",
      "spyder 5.1.5 requires pyqtwebengine<5.13, which is not installed.\u001b[0m\n",
      "Successfully installed asttokens-2.0.5 executing-0.8.3 ipykernel-6.13.0 ipython-8.2.0 pure-eval-0.2.2 stack-data-0.2.0\n",
      "Note: you may need to restart the kernel to use updated packages.\n"
     ]
    }
   ],
   "source": [
    "pip install ipython ipykernel --upgrade"
   ]
  },
  {
   "cell_type": "code",
   "execution_count": null,
   "id": "bce3aa79",
   "metadata": {},
   "outputs": [],
   "source": []
  }
 ],
 "metadata": {
  "kernelspec": {
   "display_name": "Python 3 (ipykernel)",
   "language": "python",
   "name": "python3"
  },
  "language_info": {
   "codemirror_mode": {
    "name": "ipython",
    "version": 3
   },
   "file_extension": ".py",
   "mimetype": "text/x-python",
   "name": "python",
   "nbconvert_exporter": "python",
   "pygments_lexer": "ipython3",
   "version": "3.9.7"
  }
 },
 "nbformat": 4,
 "nbformat_minor": 5
}
