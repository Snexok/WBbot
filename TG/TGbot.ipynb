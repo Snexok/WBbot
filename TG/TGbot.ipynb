{
 "cells": [
  {
   "cell_type": "code",
   "execution_count": 1,
   "id": "53ea0410",
   "metadata": {},
   "outputs": [],
   "source": [
    "#! pip install python-telegram-bot --upgrad"
   ]
  },
  {
   "cell_type": "code",
   "execution_count": 1,
   "id": "dfc2b33d",
   "metadata": {},
   "outputs": [
    {
     "name": "stdout",
     "output_type": "stream",
     "text": [
      "C:\\Users\\Astrocatling\\WBbot\n"
     ]
    }
   ],
   "source": [
    "path = %pwd\n",
    "path = path[:-3]\n",
    "%cd $path"
   ]
  },
  {
   "cell_type": "code",
   "execution_count": null,
   "id": "9524e4ed",
   "metadata": {
    "scrolled": true
   },
   "outputs": [
    {
     "name": "stderr",
     "output_type": "stream",
     "text": [
      "/Users/konstantindarlin/opt/anaconda3/lib/python3.9/site-packages/telegram/ext/conversationhandler.py:287: UserWarning: If 'per_message=False', 'CallbackQueryHandler' will not be tracked for every message.\n",
      "  warnings.warn(\n"
     ]
    },
    {
     "name": "stdout",
     "output_type": "stream",
     "text": [
      "watch_bot started\n",
      "watch_bot step 0\n"
     ]
    },
    {
     "name": "stderr",
     "output_type": "stream",
     "text": [
      "No error handlers are registered, logging exception.\n",
      "Traceback (most recent call last):\n",
      "  File \"/Users/konstantindarlin/opt/anaconda3/lib/python3.9/site-packages/urllib3/connectionpool.py\", line 699, in urlopen\n",
      "    httplib_response = self._make_request(\n",
      "  File \"/Users/konstantindarlin/opt/anaconda3/lib/python3.9/site-packages/urllib3/connectionpool.py\", line 445, in _make_request\n",
      "    six.raise_from(e, None)\n",
      "  File \"<string>\", line 3, in raise_from\n",
      "  File \"/Users/konstantindarlin/opt/anaconda3/lib/python3.9/site-packages/urllib3/connectionpool.py\", line 440, in _make_request\n",
      "    httplib_response = conn.getresponse()\n",
      "  File \"/Users/konstantindarlin/opt/anaconda3/lib/python3.9/http/client.py\", line 1371, in getresponse\n",
      "    response.begin()\n",
      "  File \"/Users/konstantindarlin/opt/anaconda3/lib/python3.9/http/client.py\", line 319, in begin\n",
      "    version, status, reason = self._read_status()\n",
      "  File \"/Users/konstantindarlin/opt/anaconda3/lib/python3.9/http/client.py\", line 288, in _read_status\n",
      "    raise RemoteDisconnected(\"Remote end closed connection without\"\n",
      "http.client.RemoteDisconnected: Remote end closed connection without response\n",
      "\n",
      "During handling of the above exception, another exception occurred:\n",
      "\n",
      "Traceback (most recent call last):\n",
      "  File \"/Users/konstantindarlin/opt/anaconda3/lib/python3.9/site-packages/telegram/ext/dispatcher.py\", line 555, in process_update\n",
      "    handler.handle_update(update, self, check, context)\n",
      "  File \"/Users/konstantindarlin/opt/anaconda3/lib/python3.9/site-packages/telegram/ext/conversationhandler.py\", line 626, in handle_update\n",
      "    new_state = handler.handle_update(update, dispatcher, check_result, context)\n",
      "  File \"/Users/konstantindarlin/opt/anaconda3/lib/python3.9/site-packages/telegram/ext/handler.py\", line 198, in handle_update\n",
      "    return self.callback(update, context)\n",
      "  File \"/Users/konstantindarlin/WBbot/TG/Admin.py\", line 53, in inside_handler\n",
      "    self.run_by_doc(update, context, True)\n",
      "  File \"/Users/konstantindarlin/WBbot/TG/Admin.py\", line 125, in run_by_doc\n",
      "    orders[i] += [watch_bot.get_data_cart(article)]\n",
      "  File \"/Users/konstantindarlin/WBbot/WB/Bot.py\", line 49, in get_data_cart\n",
      "    self.driver.get(\"https://www.wildberries.ru/\")\n",
      "  File \"/Users/konstantindarlin/opt/anaconda3/lib/python3.9/site-packages/selenium/webdriver/remote/webdriver.py\", line 436, in get\n",
      "    self.execute(Command.GET, {'url': url})\n",
      "  File \"/Users/konstantindarlin/opt/anaconda3/lib/python3.9/site-packages/selenium/webdriver/remote/webdriver.py\", line 422, in execute\n",
      "    response = self.command_executor.execute(driver_command, params)\n",
      "  File \"/Users/konstantindarlin/opt/anaconda3/lib/python3.9/site-packages/selenium/webdriver/remote/remote_connection.py\", line 421, in execute\n",
      "    return self._request(command_info[0], url, body=data)\n",
      "  File \"/Users/konstantindarlin/opt/anaconda3/lib/python3.9/site-packages/selenium/webdriver/remote/remote_connection.py\", line 443, in _request\n",
      "    resp = self._conn.request(method, url, body=body, headers=headers)\n",
      "  File \"/Users/konstantindarlin/opt/anaconda3/lib/python3.9/site-packages/urllib3/request.py\", line 78, in request\n",
      "    return self.request_encode_body(\n",
      "  File \"/Users/konstantindarlin/opt/anaconda3/lib/python3.9/site-packages/urllib3/request.py\", line 170, in request_encode_body\n",
      "    return self.urlopen(method, url, **extra_kw)\n",
      "  File \"/Users/konstantindarlin/opt/anaconda3/lib/python3.9/site-packages/urllib3/poolmanager.py\", line 375, in urlopen\n",
      "    response = conn.urlopen(method, u.request_uri, **kw)\n",
      "  File \"/Users/konstantindarlin/opt/anaconda3/lib/python3.9/site-packages/urllib3/connectionpool.py\", line 755, in urlopen\n",
      "    retries = retries.increment(\n",
      "  File \"/Users/konstantindarlin/opt/anaconda3/lib/python3.9/site-packages/urllib3/util/retry.py\", line 532, in increment\n",
      "    raise six.reraise(type(error), error, _stacktrace)\n",
      "  File \"/Users/konstantindarlin/opt/anaconda3/lib/python3.9/site-packages/urllib3/packages/six.py\", line 769, in reraise\n",
      "    raise value.with_traceback(tb)\n",
      "  File \"/Users/konstantindarlin/opt/anaconda3/lib/python3.9/site-packages/urllib3/connectionpool.py\", line 699, in urlopen\n",
      "    httplib_response = self._make_request(\n",
      "  File \"/Users/konstantindarlin/opt/anaconda3/lib/python3.9/site-packages/urllib3/connectionpool.py\", line 445, in _make_request\n",
      "    six.raise_from(e, None)\n",
      "  File \"<string>\", line 3, in raise_from\n",
      "  File \"/Users/konstantindarlin/opt/anaconda3/lib/python3.9/site-packages/urllib3/connectionpool.py\", line 440, in _make_request\n",
      "    httplib_response = conn.getresponse()\n",
      "  File \"/Users/konstantindarlin/opt/anaconda3/lib/python3.9/http/client.py\", line 1371, in getresponse\n",
      "    response.begin()\n",
      "  File \"/Users/konstantindarlin/opt/anaconda3/lib/python3.9/http/client.py\", line 319, in begin\n",
      "    version, status, reason = self._read_status()\n",
      "  File \"/Users/konstantindarlin/opt/anaconda3/lib/python3.9/http/client.py\", line 288, in _read_status\n",
      "    raise RemoteDisconnected(\"Remote end closed connection without\"\n",
      "urllib3.exceptions.ProtocolError: ('Connection aborted.', RemoteDisconnected('Remote end closed connection without response'))\n"
     ]
    }
   ],
   "source": [
    "%run TG/tgbot.py"
   ]
  },
  {
   "cell_type": "code",
   "execution_count": 1,
   "id": "476685f3",
   "metadata": {},
   "outputs": [
    {
     "ename": "NameError",
     "evalue": "name 'tgbot' is not defined",
     "output_type": "error",
     "traceback": [
      "\u001b[0;31m---------------------------------------------------------------------------\u001b[0m",
      "\u001b[0;31mNameError\u001b[0m                                 Traceback (most recent call last)",
      "Input \u001b[0;32mIn [1]\u001b[0m, in \u001b[0;36m<cell line: 1>\u001b[0;34m()\u001b[0m\n\u001b[0;32m----> 1\u001b[0m \u001b[43mtgbot\u001b[49m\u001b[38;5;241m.\u001b[39mmain()\n",
      "\u001b[0;31mNameError\u001b[0m: name 'tgbot' is not defined"
     ]
    }
   ],
   "source": [
    "tgbot.main()"
   ]
  },
  {
   "cell_type": "code",
   "execution_count": null,
   "id": "14a12937",
   "metadata": {},
   "outputs": [],
   "source": []
  }
 ],
 "metadata": {
  "kernelspec": {
   "display_name": "Python 3 (ipykernel)",
   "language": "python",
   "name": "python3"
  },
  "language_info": {
   "codemirror_mode": {
    "name": "ipython",
    "version": 3
   },
   "file_extension": ".py",
   "mimetype": "text/x-python",
   "name": "python",
   "nbconvert_exporter": "python",
   "pygments_lexer": "ipython3",
   "version": "3.9.7"
  }
 },
 "nbformat": 4,
 "nbformat_minor": 5
}
