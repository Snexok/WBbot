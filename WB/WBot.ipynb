{
 "cells": [
  {
   "cell_type": "code",
   "execution_count": 1,
   "id": "7c3a7a00",
   "metadata": {
    "collapsed": true
   },
   "outputs": [
    {
     "name": "stdout",
     "output_type": "stream",
     "text": [
      "Requirement already satisfied: selenium in c:\\programdata\\anaconda3\\lib\\site-packages (4.1.3)\n",
      "Requirement already satisfied: trio-websocket~=0.9 in c:\\programdata\\anaconda3\\lib\\site-packages (from selenium) (0.9.2)\n",
      "Requirement already satisfied: trio~=0.17 in c:\\programdata\\anaconda3\\lib\\site-packages (from selenium) (0.20.0)\n",
      "Requirement already satisfied: urllib3[secure,socks]~=1.26 in c:\\programdata\\anaconda3\\lib\\site-packages (from selenium) (1.26.7)\n",
      "Requirement already satisfied: cffi>=1.14 in c:\\programdata\\anaconda3\\lib\\site-packages (from trio~=0.17->selenium) (1.14.6)\n",
      "Requirement already satisfied: idna in c:\\programdata\\anaconda3\\lib\\site-packages (from trio~=0.17->selenium) (3.2)\n",
      "Requirement already satisfied: outcome in c:\\programdata\\anaconda3\\lib\\site-packages (from trio~=0.17->selenium) (1.1.0)\n",
      "Requirement already satisfied: sortedcontainers in c:\\programdata\\anaconda3\\lib\\site-packages (from trio~=0.17->selenium) (2.4.0)\n",
      "Requirement already satisfied: async-generator>=1.9 in c:\\programdata\\anaconda3\\lib\\site-packages (from trio~=0.17->selenium) (1.10)\n",
      "Requirement already satisfied: sniffio in c:\\programdata\\anaconda3\\lib\\site-packages (from trio~=0.17->selenium) (1.2.0)\n",
      "Requirement already satisfied: attrs>=19.2.0 in c:\\programdata\\anaconda3\\lib\\site-packages (from trio~=0.17->selenium) (21.2.0)\n",
      "Requirement already satisfied: pycparser in c:\\programdata\\anaconda3\\lib\\site-packages (from cffi>=1.14->trio~=0.17->selenium) (2.20)\n",
      "Requirement already satisfied: wsproto>=0.14 in c:\\programdata\\anaconda3\\lib\\site-packages (from trio-websocket~=0.9->selenium) (1.1.0)\n",
      "Requirement already satisfied: PySocks!=1.5.7,<2.0,>=1.5.6 in c:\\programdata\\anaconda3\\lib\\site-packages (from urllib3[secure,socks]~=1.26->selenium) (1.7.1)\n",
      "Requirement already satisfied: pyOpenSSL>=0.14 in c:\\programdata\\anaconda3\\lib\\site-packages (from urllib3[secure,socks]~=1.26->selenium) (21.0.0)\n",
      "Requirement already satisfied: cryptography>=1.3.4 in c:\\programdata\\anaconda3\\lib\\site-packages (from urllib3[secure,socks]~=1.26->selenium) (3.4.8)\n",
      "Requirement already satisfied: certifi in c:\\programdata\\anaconda3\\lib\\site-packages (from urllib3[secure,socks]~=1.26->selenium) (2021.10.8)\n",
      "Requirement already satisfied: six>=1.5.2 in c:\\programdata\\anaconda3\\lib\\site-packages (from pyOpenSSL>=0.14->urllib3[secure,socks]~=1.26->selenium) (1.16.0)\n",
      "Requirement already satisfied: h11<1,>=0.9.0 in c:\\programdata\\anaconda3\\lib\\site-packages (from wsproto>=0.14->trio-websocket~=0.9->selenium) (0.13.0)\n"
     ]
    }
   ],
   "source": [
    "! pip install selenium"
   ]
  },
  {
   "cell_type": "code",
   "execution_count": 5,
   "id": "4d637886",
   "metadata": {},
   "outputs": [],
   "source": [
    "from selenium import webdriver\n",
    "from selenium.webdriver.common.by import By\n",
    "from selenium.webdriver import Keys\n",
    "from selenium.webdriver.common.action_chains import ActionChains\n",
    "from time import sleep\n",
    "import random\n",
    "import json\n",
    "import pandas as pd"
   ]
  },
  {
   "cell_type": "code",
   "execution_count": 5,
   "id": "5cf2c97a",
   "metadata": {},
   "outputs": [],
   "source": [
    "search_name = \"Духи\"\n",
    "articul_num = \"1713520\"\n",
    "post_place = \"г Москва, Улица Лазо 4к1\""
   ]
  },
  {
   "cell_type": "code",
   "execution_count": 7,
   "id": "39c17991",
   "metadata": {},
   "outputs": [
    {
     "ename": "NameError",
     "evalue": "name 'Bot' is not defined",
     "output_type": "error",
     "traceback": [
      "\u001b[0;31m---------------------------------------------------------------------------\u001b[0m",
      "\u001b[0;31mNameError\u001b[0m                                 Traceback (most recent call last)",
      "Input \u001b[0;32mIn [7]\u001b[0m, in \u001b[0;36m<cell line: 1>\u001b[0;34m()\u001b[0m\n\u001b[0;32m----> 1\u001b[0m bot \u001b[38;5;241m=\u001b[39m \u001b[43mBot\u001b[49m(driver\u001b[38;5;241m=\u001b[39m_bot\u001b[38;5;241m.\u001b[39mdriver)\n",
      "\u001b[0;31mNameError\u001b[0m: name 'Bot' is not defined"
     ]
    }
   ],
   "source": [
    "bot = Bot(driver=_bot.driver)"
   ]
  },
  {
   "cell_type": "code",
   "execution_count": 19,
   "id": "834c5694",
   "metadata": {},
   "outputs": [],
   "source": [
    "# Python Modules\n",
    "import os\n",
    "import json\n",
    "import logging\n",
    "import pandas as pd\n",
    "\n",
    "# For telegram api\n",
    "# pip install python-telegram-bot --upgrade\n",
    "from telegram import Update, InlineKeyboardButton, InlineKeyboardMarkup\n",
    "from telegram.ext import Updater, CommandHandler, MessageHandler, Filters, CallbackContext, \\\n",
    "    CallbackQueryHandler, TypeHandler, ConversationHandler\n",
    "\n"
   ]
  },
  {
   "cell_type": "code",
   "execution_count": 20,
   "id": "c3c54120",
   "metadata": {},
   "outputs": [],
   "source": [
    "import sys\n",
    "sys.path.append(\"../\")\n",
    "%run Partner.py"
   ]
  },
  {
   "cell_type": "code",
   "execution_count": 21,
   "id": "f109c37d",
   "metadata": {},
   "outputs": [
    {
     "name": "stderr",
     "output_type": "stream",
     "text": [
      "C:\\Users\\ASTROC~1\\AppData\\Local\\Temp/ipykernel_13692/2917753404.py:3: DeprecationWarning: executable_path has been deprecated, please pass in a Service object\n",
      "  driver = webdriver.Chrome(path)\n"
     ]
    }
   ],
   "source": [
    "path=\"../chrome/chromedriver\"\n",
    "path = path+\".exe\" if sys.platform == \"win32\" else path\n",
    "driver = webdriver.Chrome(path)\n",
    "partner = Partner(driver)"
   ]
  },
  {
   "cell_type": "code",
   "execution_count": 22,
   "id": "5dc9dc77",
   "metadata": {},
   "outputs": [],
   "source": [
    "def collect_orders(self):\n",
    "    orders = self.get_not_collected_orders()\n",
    "    print(len(orders))\n",
    "    self.open()\n",
    "    inns = []\n",
    "    orders.sort(key=lambda x: x.inn)\n",
    "    for order in orders:\n",
    "        if order.inn not in inns:\n",
    "            inns += [order.inn]\n",
    "    for inn in inns:\n",
    "        self.choose_inn(inn)\n",
    "        self.open_marketplace()\n",
    "        for order in orders:\n",
    "            if order.inn == inn:\n",
    "                self.choose_task(order)\n",
    "            else:\n",
    "                break\n",
    "\n",
    "def _open(self):\n",
    "    self.driver.get('https://seller.wildberries.ru/')\n",
    "    cookies = pickle.load(open('../bots_sessions/Partner_1.pkl', \"rb\"))\n",
    "    for cookie in cookies:\n",
    "        self.driver.add_cookie(cookie)\n",
    "    self.driver.get('https://seller.wildberries.ru/')\n",
    "    \n",
    "def add_to_assembly(self):\n",
    "    # Нажимаем кнопку принятия кукисов, если она еще на странице\n",
    "    try:\n",
    "        cookies_btn = self.driver.find_element(By.XPATH, \"//div[contains(@class, 'WarningCookiesBannerCard__button')]/button\")\n",
    "        cookies_btn.click()\n",
    "        sleep(1)\n",
    "    except:\n",
    "        print(\"cookies_btn not defined\")\n",
    "        pass\n",
    "\n",
    "    add_btn = WebDriverWait(self.driver, 60).until(\n",
    "        lambda d: d.find_element(By.XPATH, \"//span[text()='Добавить к сборке']/..\"))\n",
    "    add_btn.click()\n",
    "\n",
    "def go_to_assembly(self):\n",
    "    on_assembly_tab = self.driver.find_element(By.XPATH, \"//a[contains(text(),'На сборке')]\")\n",
    "    on_assembly_tab.click()\n",
    "    sleep(1)\n",
    "    \n",
    "partner.open = lambda: _open(partner)\n",
    "partner.collect_orders = lambda: collect_orders(partner)\n",
    "partner.add_to_assembly = lambda: add_to_assembly(partner)\n",
    "partner.go_to_assembly = lambda: go_to_assembly(partner)"
   ]
  },
  {
   "cell_type": "code",
   "execution_count": 23,
   "id": "56a21ce8",
   "metadata": {},
   "outputs": [
    {
     "name": "stdout",
     "output_type": "stream",
     "text": [
      "SELECT * FROM orders WHERE collected = FALSE\n",
      "21 11 1032 50 [1032] [1] ['90086267'] г Москва, Алтуфьевское Шоссе 97 791436094 Georg Григорьев Анатолий 2022-06-15 02:20:25.742358 2022-06-19 00:00:00 None None True ['payment'] 381108544328 False\n",
      "[<TG.Models.Orders.Order object at 0x000001C968E57670>]\n",
      "1\n"
     ]
    },
    {
     "ename": "FileNotFoundError",
     "evalue": "[Errno 2] No such file or directory: '../bots_sessions/Partner_1.pkl'",
     "output_type": "error",
     "traceback": [
      "\u001b[1;31m---------------------------------------------------------------------------\u001b[0m",
      "\u001b[1;31mFileNotFoundError\u001b[0m                         Traceback (most recent call last)",
      "\u001b[1;32mC:\\Users\\ASTROC~1\\AppData\\Local\\Temp/ipykernel_13692/2789226687.py\u001b[0m in \u001b[0;36m<module>\u001b[1;34m\u001b[0m\n\u001b[1;32m----> 1\u001b[1;33m \u001b[0mpartner\u001b[0m\u001b[1;33m.\u001b[0m\u001b[0mcollect_orders\u001b[0m\u001b[1;33m(\u001b[0m\u001b[1;33m)\u001b[0m\u001b[1;33m\u001b[0m\u001b[1;33m\u001b[0m\u001b[0m\n\u001b[0m",
      "\u001b[1;32mC:\\Users\\ASTROC~1\\AppData\\Local\\Temp/ipykernel_13692/1752620720.py\u001b[0m in \u001b[0;36m<lambda>\u001b[1;34m()\u001b[0m\n\u001b[0;32m     44\u001b[0m \u001b[1;33m\u001b[0m\u001b[0m\n\u001b[0;32m     45\u001b[0m \u001b[0mpartner\u001b[0m\u001b[1;33m.\u001b[0m\u001b[0mopen\u001b[0m \u001b[1;33m=\u001b[0m \u001b[1;32mlambda\u001b[0m\u001b[1;33m:\u001b[0m \u001b[0m_open\u001b[0m\u001b[1;33m(\u001b[0m\u001b[0mpartner\u001b[0m\u001b[1;33m)\u001b[0m\u001b[1;33m\u001b[0m\u001b[1;33m\u001b[0m\u001b[0m\n\u001b[1;32m---> 46\u001b[1;33m \u001b[0mpartner\u001b[0m\u001b[1;33m.\u001b[0m\u001b[0mcollect_orders\u001b[0m \u001b[1;33m=\u001b[0m \u001b[1;32mlambda\u001b[0m\u001b[1;33m:\u001b[0m \u001b[0mcollect_orders\u001b[0m\u001b[1;33m(\u001b[0m\u001b[0mpartner\u001b[0m\u001b[1;33m)\u001b[0m\u001b[1;33m\u001b[0m\u001b[1;33m\u001b[0m\u001b[0m\n\u001b[0m\u001b[0;32m     47\u001b[0m \u001b[0mpartner\u001b[0m\u001b[1;33m.\u001b[0m\u001b[0madd_to_assembly\u001b[0m \u001b[1;33m=\u001b[0m \u001b[1;32mlambda\u001b[0m\u001b[1;33m:\u001b[0m \u001b[0madd_to_assembly\u001b[0m\u001b[1;33m(\u001b[0m\u001b[0mpartner\u001b[0m\u001b[1;33m)\u001b[0m\u001b[1;33m\u001b[0m\u001b[1;33m\u001b[0m\u001b[0m\n\u001b[0;32m     48\u001b[0m \u001b[0mpartner\u001b[0m\u001b[1;33m.\u001b[0m\u001b[0mgo_to_assembly\u001b[0m \u001b[1;33m=\u001b[0m \u001b[1;32mlambda\u001b[0m\u001b[1;33m:\u001b[0m \u001b[0mgo_to_assembly\u001b[0m\u001b[1;33m(\u001b[0m\u001b[0mpartner\u001b[0m\u001b[1;33m)\u001b[0m\u001b[1;33m\u001b[0m\u001b[1;33m\u001b[0m\u001b[0m\n",
      "\u001b[1;32mC:\\Users\\ASTROC~1\\AppData\\Local\\Temp/ipykernel_13692/1752620720.py\u001b[0m in \u001b[0;36mcollect_orders\u001b[1;34m(self)\u001b[0m\n\u001b[0;32m      2\u001b[0m     \u001b[0morders\u001b[0m \u001b[1;33m=\u001b[0m \u001b[0mself\u001b[0m\u001b[1;33m.\u001b[0m\u001b[0mget_not_collected_orders\u001b[0m\u001b[1;33m(\u001b[0m\u001b[1;33m)\u001b[0m\u001b[1;33m\u001b[0m\u001b[1;33m\u001b[0m\u001b[0m\n\u001b[0;32m      3\u001b[0m     \u001b[0mprint\u001b[0m\u001b[1;33m(\u001b[0m\u001b[0mlen\u001b[0m\u001b[1;33m(\u001b[0m\u001b[0morders\u001b[0m\u001b[1;33m)\u001b[0m\u001b[1;33m)\u001b[0m\u001b[1;33m\u001b[0m\u001b[1;33m\u001b[0m\u001b[0m\n\u001b[1;32m----> 4\u001b[1;33m     \u001b[0mself\u001b[0m\u001b[1;33m.\u001b[0m\u001b[0mopen\u001b[0m\u001b[1;33m(\u001b[0m\u001b[1;33m)\u001b[0m\u001b[1;33m\u001b[0m\u001b[1;33m\u001b[0m\u001b[0m\n\u001b[0m\u001b[0;32m      5\u001b[0m     \u001b[0minns\u001b[0m \u001b[1;33m=\u001b[0m \u001b[1;33m[\u001b[0m\u001b[1;33m]\u001b[0m\u001b[1;33m\u001b[0m\u001b[1;33m\u001b[0m\u001b[0m\n\u001b[0;32m      6\u001b[0m     \u001b[0morders\u001b[0m\u001b[1;33m.\u001b[0m\u001b[0msort\u001b[0m\u001b[1;33m(\u001b[0m\u001b[0mkey\u001b[0m\u001b[1;33m=\u001b[0m\u001b[1;32mlambda\u001b[0m \u001b[0mx\u001b[0m\u001b[1;33m:\u001b[0m \u001b[0mx\u001b[0m\u001b[1;33m.\u001b[0m\u001b[0minn\u001b[0m\u001b[1;33m)\u001b[0m\u001b[1;33m\u001b[0m\u001b[1;33m\u001b[0m\u001b[0m\n",
      "\u001b[1;32mC:\\Users\\ASTROC~1\\AppData\\Local\\Temp/ipykernel_13692/1752620720.py\u001b[0m in \u001b[0;36m<lambda>\u001b[1;34m()\u001b[0m\n\u001b[0;32m     43\u001b[0m     \u001b[0msleep\u001b[0m\u001b[1;33m(\u001b[0m\u001b[1;36m1\u001b[0m\u001b[1;33m)\u001b[0m\u001b[1;33m\u001b[0m\u001b[1;33m\u001b[0m\u001b[0m\n\u001b[0;32m     44\u001b[0m \u001b[1;33m\u001b[0m\u001b[0m\n\u001b[1;32m---> 45\u001b[1;33m \u001b[0mpartner\u001b[0m\u001b[1;33m.\u001b[0m\u001b[0mopen\u001b[0m \u001b[1;33m=\u001b[0m \u001b[1;32mlambda\u001b[0m\u001b[1;33m:\u001b[0m \u001b[0m_open\u001b[0m\u001b[1;33m(\u001b[0m\u001b[0mpartner\u001b[0m\u001b[1;33m)\u001b[0m\u001b[1;33m\u001b[0m\u001b[1;33m\u001b[0m\u001b[0m\n\u001b[0m\u001b[0;32m     46\u001b[0m \u001b[0mpartner\u001b[0m\u001b[1;33m.\u001b[0m\u001b[0mcollect_orders\u001b[0m \u001b[1;33m=\u001b[0m \u001b[1;32mlambda\u001b[0m\u001b[1;33m:\u001b[0m \u001b[0mcollect_orders\u001b[0m\u001b[1;33m(\u001b[0m\u001b[0mpartner\u001b[0m\u001b[1;33m)\u001b[0m\u001b[1;33m\u001b[0m\u001b[1;33m\u001b[0m\u001b[0m\n\u001b[0;32m     47\u001b[0m \u001b[0mpartner\u001b[0m\u001b[1;33m.\u001b[0m\u001b[0madd_to_assembly\u001b[0m \u001b[1;33m=\u001b[0m \u001b[1;32mlambda\u001b[0m\u001b[1;33m:\u001b[0m \u001b[0madd_to_assembly\u001b[0m\u001b[1;33m(\u001b[0m\u001b[0mpartner\u001b[0m\u001b[1;33m)\u001b[0m\u001b[1;33m\u001b[0m\u001b[1;33m\u001b[0m\u001b[0m\n",
      "\u001b[1;32mC:\\Users\\ASTROC~1\\AppData\\Local\\Temp/ipykernel_13692/1752620720.py\u001b[0m in \u001b[0;36m_open\u001b[1;34m(self)\u001b[0m\n\u001b[0;32m     19\u001b[0m \u001b[1;32mdef\u001b[0m \u001b[0m_open\u001b[0m\u001b[1;33m(\u001b[0m\u001b[0mself\u001b[0m\u001b[1;33m)\u001b[0m\u001b[1;33m:\u001b[0m\u001b[1;33m\u001b[0m\u001b[1;33m\u001b[0m\u001b[0m\n\u001b[0;32m     20\u001b[0m     \u001b[0mself\u001b[0m\u001b[1;33m.\u001b[0m\u001b[0mdriver\u001b[0m\u001b[1;33m.\u001b[0m\u001b[0mget\u001b[0m\u001b[1;33m(\u001b[0m\u001b[1;34m'https://seller.wildberries.ru/'\u001b[0m\u001b[1;33m)\u001b[0m\u001b[1;33m\u001b[0m\u001b[1;33m\u001b[0m\u001b[0m\n\u001b[1;32m---> 21\u001b[1;33m     \u001b[0mcookies\u001b[0m \u001b[1;33m=\u001b[0m \u001b[0mpickle\u001b[0m\u001b[1;33m.\u001b[0m\u001b[0mload\u001b[0m\u001b[1;33m(\u001b[0m\u001b[0mopen\u001b[0m\u001b[1;33m(\u001b[0m\u001b[1;34m'../bots_sessions/Partner_1.pkl'\u001b[0m\u001b[1;33m,\u001b[0m \u001b[1;34m\"rb\"\u001b[0m\u001b[1;33m)\u001b[0m\u001b[1;33m)\u001b[0m\u001b[1;33m\u001b[0m\u001b[1;33m\u001b[0m\u001b[0m\n\u001b[0m\u001b[0;32m     22\u001b[0m     \u001b[1;32mfor\u001b[0m \u001b[0mcookie\u001b[0m \u001b[1;32min\u001b[0m \u001b[0mcookies\u001b[0m\u001b[1;33m:\u001b[0m\u001b[1;33m\u001b[0m\u001b[1;33m\u001b[0m\u001b[0m\n\u001b[0;32m     23\u001b[0m         \u001b[0mself\u001b[0m\u001b[1;33m.\u001b[0m\u001b[0mdriver\u001b[0m\u001b[1;33m.\u001b[0m\u001b[0madd_cookie\u001b[0m\u001b[1;33m(\u001b[0m\u001b[0mcookie\u001b[0m\u001b[1;33m)\u001b[0m\u001b[1;33m\u001b[0m\u001b[1;33m\u001b[0m\u001b[0m\n",
      "\u001b[1;31mFileNotFoundError\u001b[0m: [Errno 2] No such file or directory: '../bots_sessions/Partner_1.pkl'"
     ]
    }
   ],
   "source": [
    "partner.collect_orders()"
   ]
  },
  {
   "cell_type": "code",
   "execution_count": 15,
   "id": "a779673f",
   "metadata": {},
   "outputs": [
    {
     "name": "stdout",
     "output_type": "stream",
     "text": [
      "cookies_btn not defined\n"
     ]
    }
   ],
   "source": [
    "partner.add_to_assembly()"
   ]
  },
  {
   "cell_type": "code",
   "execution_count": 17,
   "id": "086949e0",
   "metadata": {},
   "outputs": [],
   "source": [
    "partner.go_to_assembly()"
   ]
  },
  {
   "cell_type": "code",
   "execution_count": 19,
   "id": "b4ce451a",
   "metadata": {},
   "outputs": [],
   "source": [
    "partner.driver.switch_to.window(partner.driver.window_handles[0])\n",
    "partner.driver.find_element(By.XPATH, \"//span[text()='Создать поставку']/..\").click()\n",
    "partner.driver.find_element(By.XPATH, \"//span[text()='Готово']/..\").click()\n",
    "partner.driver.find_element(By.XPATH, \"//div[contains(@class, 'Modal__close')]/button\").click()"
   ]
  },
  {
   "cell_type": "code",
   "execution_count": 20,
   "id": "77344814",
   "metadata": {},
   "outputs": [],
   "source": []
  },
  {
   "cell_type": "code",
   "execution_count": 21,
   "id": "4c75b530",
   "metadata": {},
   "outputs": [],
   "source": [
    "from time import sleep\n",
    "import base64\n",
    "def get_file_content_chrome(driver):\n",
    "    result = driver.execute_async_script(\"\"\"\n",
    "        var uri = arguments[0];\n",
    "        var callback = arguments[1];\n",
    "        var toBase64 = function(buffer){for(var r,n=new Uint8Array(buffer),t=n.length,a=new Uint8Array(4*Math.ceil(t/3)),i=new Uint8Array(64),o=0,c=0;64>c;++c)i[c]=\"ABCDEFGHIJKLMNOPQRSTUVWXYZabcdefghijklmnopqrstuvwxyz0123456789+/\".charCodeAt(c);for(c=0;t-t%3>c;c+=3,o+=4)r=n[c]<<16|n[c+1]<<8|n[c+2],a[o]=i[r>>18],a[o+1]=i[r>>12&63],a[o+2]=i[r>>6&63],a[o+3]=i[63&r];return t%3===1?(r=n[t-1],a[o]=i[r>>2],a[o+1]=i[r<<4&63],a[o+2]=61,a[o+3]=61):t%3===2&&(r=(n[t-2]<<8)+n[t-1],a[o]=i[r>>10],a[o+1]=i[r>>4&63],a[o+2]=i[r<<2&63],a[o+3]=61),new TextDecoder(\"ascii\").decode(a)};\n",
    "        var xhr = new XMLHttpRequest();\n",
    "        xhr.responseType = 'arraybuffer';\n",
    "        xhr.onload = function(){ callback(toBase64(xhr.response)) };\n",
    "        xhr.onerror = function(){ callback(xhr.status) };\n",
    "        xhr.open('GET', uri);\n",
    "        xhr.send();\n",
    "        \"\"\", driver.current_url)\n",
    "    if type(result) == int :\n",
    "        raise Exception(\"Request failed with status %s\" % result)\n",
    "    return base64.b64decode(result)"
   ]
  },
  {
   "cell_type": "code",
   "execution_count": 24,
   "id": "43199386",
   "metadata": {},
   "outputs": [
    {
     "name": "stderr",
     "output_type": "stream",
     "text": [
      "Unclosed client session\n",
      "client_session: <aiohttp.client.ClientSession object at 0x000001457F798670>\n"
     ]
    },
    {
     "name": "stdout",
     "output_type": "stream",
     "text": [
      "53597951\n",
      "63266965\n"
     ]
    }
   ],
   "source": [
    "from aiogram import Bot as TG_Bot\n",
    "partner.driver.switch_to.window(partner.driver.window_handles[0])\n",
    "bot = TG_Bot(token=\"5142587667:AAG0hn1NKMOfvWcF9CQJbLJaw95myKPHlrM\")\n",
    "rows = partner.driver.find_elements(By.XPATH, \"//div[contains(@class,'Table-row__')]\")\n",
    "for row in rows:\n",
    "    partner.driver.switch_to.window(partner.driver.window_handles[0])\n",
    "    link = row.find_element(By.XPATH, \"./div/div/a\")\n",
    "    href = link.get_attribute('href')\n",
    "    cat_i = href.index('catalog/')\n",
    "    start_art = cat_i + len('catalog/')\n",
    "    article = href[start_art:start_art + 8]\n",
    "    print(article)\n",
    "    row.find_element(By.XPATH, \"./div/div/label\").click()\n",
    "    row.find_element(By.XPATH, \"./div/div/button\").click()\n",
    "    sleep(1)\n",
    "    partner.driver.find_element(By.XPATH, \"//span[text()='Распечатать этикетку']\").click()\n",
    "    sleep(1)\n",
    "    partner.driver.switch_to.window(partner.driver.window_handles[-1])\n",
    "    b = get_file_content_chrome(partner.driver)\n",
    "#     with open('code.pdf', 'wb') as f:\n",
    "#         f.write(b)\n",
    "    await bot.send_document(\"791436094\", (f'{article}.pdf', b))\n",
    "    await bot.send_document(\"794329884\", (f'{article}.pdf', b))\n",
    "    sleep(1)\n",
    "    partner.driver.close()\n",
    "\n",
    "partner.driver.switch_to.window(partner.driver.window_handles[0])"
   ]
  },
  {
   "cell_type": "code",
   "execution_count": 110,
   "id": "379a220b",
   "metadata": {},
   "outputs": [
    {
     "name": "stdout",
     "output_type": "stream",
     "text": [
      "63266965\n"
     ]
    }
   ],
   "source": [
    "\n",
    "\n",
    "partner.driver.find_element(By.XPATH, \"//span[text()='Распечатать этикетки и добавить товары в поставку']/..\").click()\n",
    "sleep(1)\n",
    "partner.driver.find_element(By.XPATH, \"//span[@class='Button-link__text' and text()='Ок']\").click()\n",
    "self.to_only_one_tab()\n",
    "sleep(1)\n",
    "partner.driver.find_element(By.XPATH, \"//div[contains(@class, 'Modal__close')]/button\").click()\n",
    "sleep(1)\n",
    "tasks_shk = partner.driver.find_element(By.XPATH, \"//div[contains(@class,'All-tasks-view__shk')]\").text\n",
    "partner.driver.find_element(By.XPATH, \"//span[text()='Распечатать']\").click()\n",
    "sleep(1)\n",
    "partner.driver.switch_to.window(partner.driver.window_handles[-1])\n",
    "b = get_file_content_chrome(partner.driver)\n",
    "await bot.send_document(\"791436094\", (f'{tasks_shk}.pdf', b))\n",
    "await bot.send_document(\"794329884\", (f'{tasks_shk}.pdf', b))\n",
    "sleep(1)\n",
    "partner.driver.close()\n",
    "partner.driver.switch_to.window(partner.driver.window_handles[0])\n",
    "sleep(1)\n",
    "partner.driver.find_element(By.XPATH, \"//span[text()='Закрыть поставку']\").click()"
   ]
  },
  {
   "cell_type": "code",
   "execution_count": 25,
   "id": "2cf9797f",
   "metadata": {},
   "outputs": [],
   "source": []
  },
  {
   "cell_type": "code",
   "execution_count": 121,
   "id": "5feac13c",
   "metadata": {},
   "outputs": [],
   "source": []
  },
  {
   "cell_type": "code",
   "execution_count": 116,
   "id": "9830a166",
   "metadata": {},
   "outputs": [],
   "source": []
  },
  {
   "cell_type": "code",
   "execution_count": 115,
   "id": "54c4c85c",
   "metadata": {},
   "outputs": [],
   "source": []
  },
  {
   "cell_type": "code",
   "execution_count": null,
   "id": "bbd69e28",
   "metadata": {},
   "outputs": [],
   "source": []
  },
  {
   "cell_type": "code",
   "execution_count": 6,
   "id": "f12f2e0d",
   "metadata": {},
   "outputs": [
    {
     "name": "stderr",
     "output_type": "stream",
     "text": [
      "C:\\Users\\ASTROC~1\\AppData\\Local\\Temp/ipykernel_20572/4096261364.py:2: DeprecationWarning: executable_path has been deprecated, please pass in a Service object\n",
      "  driver = webdriver.Chrome(\"./../chrome/chromedriver.exe\")\n"
     ]
    }
   ],
   "source": [
    "from selenium import webdriver\n",
    "import pickle\n",
    "driver = webdriver.Chrome(\"./../chrome/chromedriver.exe\")\n",
    "driver.get('https://www.wildberries.ru/')\n",
    "bot_name = 'Georg'"
   ]
  },
  {
   "cell_type": "code",
   "execution_count": 41,
   "id": "284d7305",
   "metadata": {},
   "outputs": [],
   "source": [
    "pickle.dump(driver.get_cookies(), open(f\"./../bots_sessions/{bot_name}.pkl\", \"wb\"))"
   ]
  },
  {
   "cell_type": "code",
   "execution_count": null,
   "id": "3aa96727",
   "metadata": {},
   "outputs": [],
   "source": [
    "from selenium import webdriver\n",
    "from selenium.webdriver.common.by import By\n",
    "from selenium.webdriver.common.action_chains import ActionChains\n",
    "\n",
    "import pickle\n",
    "\n",
    "driver = webdriver.Chrome(\"./../chrome/chromedriver.exe\")\n",
    "driver.get('https://www.wildberries.ru/')\n",
    "cookies = pickle.load(open(f\"./../bots_sessions/{bot_name}.pkl\", \"rb\"))\n",
    "for cookie in cookies:\n",
    "    driver.add_cookie(cookie)\n",
    "driver.get('https://www.wildberries.ru/')"
   ]
  },
  {
   "cell_type": "code",
   "execution_count": 7,
   "id": "c6453b1a",
   "metadata": {},
   "outputs": [],
   "source": [
    "cookies = pickle.load(open('./../bots_sessions/Boulevard Depo' + \".pkl\", \"rb\"))\n",
    "\n",
    "for cookie in cookies:\n",
    "    driver.add_cookie(cookie)\n",
    "# driver.get('https://www.wildberries.ru/')"
   ]
  },
  {
   "cell_type": "code",
   "execution_count": 1,
   "id": "3b84ad23",
   "metadata": {},
   "outputs": [],
   "source": [
    "import threading"
   ]
  },
  {
   "cell_type": "code",
   "execution_count": null,
   "id": "1f925369",
   "metadata": {},
   "outputs": [],
   "source": [
    "thread_names = ['Mike', 'George', 'Wanda', 'Dingbat', 'Nina']\n",
    "for i in range(5):\n",
    "    my_thread = threading.Thread(\n",
    "        target=doubler, name=thread_names[i], args=(i,logger))\n",
    "    my_thread.start()"
   ]
  },
  {
   "cell_type": "code",
   "execution_count": 15,
   "id": "0615a7e7",
   "metadata": {},
   "outputs": [],
   "source": [
    "from time import sleep\n",
    "import asyncio\n",
    "from time import sleep\n",
    "async def hello():\n",
    "    def foo(bar, result, index):\n",
    "        sleep(index*2)\n",
    "        print ('hello {0}, {1}'.format(bar, index))\n",
    "        result[index] = \"foo\"\n",
    "\n",
    "    from threading import Thread\n",
    "\n",
    "    threads = [None] * 10\n",
    "    results = [None] * 10\n",
    "\n",
    "    for i in range(len(threads)):\n",
    "        threads[i] = Thread(target=foo, args=('world!', results, i))\n",
    "        threads[i].start()\n",
    "\n",
    "    # do some other stuff\n",
    "\n",
    "    for i in range(len(threads)):\n",
    "        await threads[i].join()\n",
    "\n",
    "    print( \" \".join(results))  # what sound does a metasyntactic locomotive make?\n",
    "    \n",
    "async def main():\n",
    "    asyncio.create_task(hello) \n",
    "    await task_1\n",
    "asyncio.run(main())"
   ]
  },
  {
   "cell_type": "code",
   "execution_count": 16,
   "id": "175aedb8",
   "metadata": {},
   "outputs": [
    {
     "ename": "RuntimeError",
     "evalue": "asyncio.run() cannot be called from a running event loop",
     "output_type": "error",
     "traceback": [
      "\u001b[1;31m---------------------------------------------------------------------------\u001b[0m",
      "\u001b[1;31mRuntimeError\u001b[0m                              Traceback (most recent call last)",
      "\u001b[1;32mC:\\Users\\ASTROC~1\\AppData\\Local\\Temp/ipykernel_7948/3245489243.py\u001b[0m in \u001b[0;36m<module>\u001b[1;34m\u001b[0m\n\u001b[0;32m      2\u001b[0m     \u001b[0masyncio\u001b[0m\u001b[1;33m.\u001b[0m\u001b[0mcreate_task\u001b[0m\u001b[1;33m(\u001b[0m\u001b[0mhello\u001b[0m\u001b[1;33m)\u001b[0m\u001b[1;33m\u001b[0m\u001b[1;33m\u001b[0m\u001b[0m\n\u001b[0;32m      3\u001b[0m     \u001b[1;32mawait\u001b[0m \u001b[0mtask_1\u001b[0m\u001b[1;33m\u001b[0m\u001b[1;33m\u001b[0m\u001b[0m\n\u001b[1;32m----> 4\u001b[1;33m \u001b[0masyncio\u001b[0m\u001b[1;33m.\u001b[0m\u001b[0mrun\u001b[0m\u001b[1;33m(\u001b[0m\u001b[0mmain\u001b[0m\u001b[1;33m(\u001b[0m\u001b[1;33m)\u001b[0m\u001b[1;33m)\u001b[0m\u001b[1;33m\u001b[0m\u001b[1;33m\u001b[0m\u001b[0m\n\u001b[0m",
      "\u001b[1;32mC:\\ProgramData\\Anaconda3\\lib\\asyncio\\runners.py\u001b[0m in \u001b[0;36mrun\u001b[1;34m(main, debug)\u001b[0m\n\u001b[0;32m     31\u001b[0m     \"\"\"\n\u001b[0;32m     32\u001b[0m     \u001b[1;32mif\u001b[0m \u001b[0mevents\u001b[0m\u001b[1;33m.\u001b[0m\u001b[0m_get_running_loop\u001b[0m\u001b[1;33m(\u001b[0m\u001b[1;33m)\u001b[0m \u001b[1;32mis\u001b[0m \u001b[1;32mnot\u001b[0m \u001b[1;32mNone\u001b[0m\u001b[1;33m:\u001b[0m\u001b[1;33m\u001b[0m\u001b[1;33m\u001b[0m\u001b[0m\n\u001b[1;32m---> 33\u001b[1;33m         raise RuntimeError(\n\u001b[0m\u001b[0;32m     34\u001b[0m             \"asyncio.run() cannot be called from a running event loop\")\n\u001b[0;32m     35\u001b[0m \u001b[1;33m\u001b[0m\u001b[0m\n",
      "\u001b[1;31mRuntimeError\u001b[0m: asyncio.run() cannot be called from a running event loop"
     ]
    }
   ],
   "source": []
  },
  {
   "cell_type": "code",
   "execution_count": null,
   "id": "e880a1a8",
   "metadata": {},
   "outputs": [],
   "source": [
    "\n",
    "\n",
    "def sync_hello():\n",
    "    for i in range(100):\n",
    "        print('sync_hello',i)\n",
    "        asyncio.sleep(1)\n",
    "    \n",
    "async def main():\n",
    "    task_1 = asyncio.create_task(hello) \n",
    "    task_2 = asyncio.create_task(sync_hello)\n",
    "    \n",
    "    await task_1\n",
    "    await task_2\n",
    "\n",
    "if __name__ == '__main__':\n",
    "    \n",
    "    asyncio.run(main())"
   ]
  },
  {
   "cell_type": "code",
   "execution_count": null,
   "id": "ae2f1573",
   "metadata": {},
   "outputs": [],
   "source": [
    "from multiprocessing import Pool\n",
    "\n",
    "def f(x):\n",
    "    return x*x\n",
    "\n",
    "with Pool(5) as p:\n",
    "    print(p.map(f, [1, 2, 3]))"
   ]
  },
  {
   "cell_type": "code",
   "execution_count": 19,
   "id": "c187a1d8",
   "metadata": {
    "scrolled": true
   },
   "outputs": [
    {
     "name": "stderr",
     "output_type": "stream",
     "text": [
      "/var/folders/fk/pp0h7zr144d6g9870ncqvfl00000gn/T/ipykernel_11154/3458620188.py:7: DeprecationWarning: executable_path has been deprecated, please pass in a Service object\n",
      "  driver = webdriver.Chrome(\"./../chrome/chromedriver\")\n"
     ]
    }
   ],
   "source": [
    "from selenium import webdriver\n",
    "from selenium.webdriver.common.by import By\n",
    "from selenium.webdriver.common.action_chains import ActionChains\n",
    "\n",
    "import pickle\n",
    "\n",
    "driver = webdriver.Chrome(\"./../chrome/chromedriver\")\n",
    "driver.get('https://seller.wildberries.ru/')"
   ]
  },
  {
   "cell_type": "code",
   "execution_count": 20,
   "id": "8b5626c5",
   "metadata": {},
   "outputs": [],
   "source": [
    "# pickle.dump(driver.get_cookies(), open('Parther' + \".pkl\", \"wb\"))"
   ]
  },
  {
   "cell_type": "code",
   "execution_count": 1,
   "id": "e79392bb",
   "metadata": {},
   "outputs": [
    {
     "name": "stderr",
     "output_type": "stream",
     "text": [
      "C:\\Users\\ASTROC~1\\AppData\\Local\\Temp/ipykernel_21728/4169890047.py:7: DeprecationWarning: executable_path has been deprecated, please pass in a Service object\n",
      "  driver = webdriver.Chrome(\"./../chrome/chromedriver.exe\")\n"
     ]
    }
   ],
   "source": [
    "from selenium import webdriver\n",
    "from selenium.webdriver.common.by import By\n",
    "from selenium.webdriver.common.action_chains import ActionChains\n",
    "\n",
    "import pickle\n",
    "\n",
    "driver = webdriver.Chrome(\"./../chrome/chromedriver.exe\")\n",
    "driver.get('https://seller.wildberries.ru/')\n",
    "cookies = pickle.load(open('./../bots_sessions/Partner_1' + \".pkl\", \"rb\"))\n",
    "for cookie in cookies:\n",
    "    driver.add_cookie(cookie)\n",
    "driver.get('https://seller.wildberries.ru/')"
   ]
  },
  {
   "cell_type": "code",
   "execution_count": 38,
   "id": "ad842e04",
   "metadata": {},
   "outputs": [],
   "source": []
  },
  {
   "cell_type": "code",
   "execution_count": 41,
   "id": "5b21cb25",
   "metadata": {},
   "outputs": [],
   "source": [
    "inn = 312\n",
    "driver.find_element(By.XPATH, \"//div[contains(@class,'DesktopProfileSelect')]/button\").click()\n",
    "driver.find_element(By.XPATH, f\"//*[contains(text(),'ИНН {inn}')]\").click()"
   ]
  },
  {
   "cell_type": "code",
   "execution_count": 8,
   "id": "0f3a8d3e",
   "metadata": {},
   "outputs": [],
   "source": [
    "driver.find_element(By.XPATH, \"//span[text()='Маркетплейс']/../../a\").click()\n",
    "sleep(1)\n",
    "# marketplace = driver.find_element(By.XPATH, \"//span[text()='Сборочные задания (везу на склад WB)']/../../a\").click()"
   ]
  },
  {
   "cell_type": "code",
   "execution_count": null,
   "id": "ab1a023b",
   "metadata": {},
   "outputs": [],
   "source": [
    "orders = [{'article':'53597951', 'datetime': '2022-05-14 00:00:00.000000'}, {'article':'63266965', 'datetime': '2022-05-29 18:20:32.449000'}]\n",
    "for order in orders:\n",
    "    tasks = self.get_tasks()\n",
    "    for task in tasks:\n",
    "        if task['article'] == order['article'] :\n",
    "            _task_time = datetime.fromisoformat(str(task['datetime']))\n",
    "            task_time = datetime.fromisoformat(str(order['datetime']))\n",
    "            if abs(task_time - task_time).seconds < 120:\n",
    "                \n",
    "                break"
   ]
  },
  {
   "cell_type": "code",
   "execution_count": 8,
   "id": "49a4e05a",
   "metadata": {},
   "outputs": [
    {
     "name": "stdout",
     "output_type": "stream",
     "text": [
      "05.06.2022 21:21 63266967 г Смоленск, Улица Матросова 9\n",
      "04.06.2022 22:09 53597951 г Москва, Коровинское Шоссе 3к2\n"
     ]
    }
   ],
   "source": [
    "rows = driver.find_elements(By.XPATH, \"//div[contains(@class,'row__')]\")[1:]\n",
    "orders = []\n",
    "for row in rows:\n",
    "    link = row.find_element(By.XPATH, \"./div/div/a\")\n",
    "    href = link.get_attribute('href')\n",
    "    cat_i = href.index('catalog/')\n",
    "    start_art = cat_i+len('catalog/')\n",
    "    article = href[start_art:start_art+8]\n",
    "\n",
    "    date = row.find_element(By.XPATH, \"./div[contains(@class,'creationDat')]/div/div/div[contains(@class,'date')]\").text\n",
    "    time = row.find_element(By.XPATH, \"./div[contains(@class,'creationDat')]/div/div/div[contains(@class,'time')]\").text\n",
    "    \n",
    "    delivery_address = row.find_element(By.XPATH, \"./div[contains(@class,'deliveryAddress')]\").text\n",
    "    print(date, time, article, delivery_address)\n"
   ]
  },
  {
   "cell_type": "code",
   "execution_count": 58,
   "id": "c3a69214",
   "metadata": {},
   "outputs": [
    {
     "data": {
      "text/plain": [
       "2022"
      ]
     },
     "execution_count": 58,
     "metadata": {},
     "output_type": "execute_result"
    }
   ],
   "source": [
    "from datetime import date\n",
    "date.today().year"
   ]
  },
  {
   "cell_type": "code",
   "execution_count": 39,
   "id": "e329d071",
   "metadata": {},
   "outputs": [],
   "source": [
    "# pickle.dump(driver.get_cookies(), open('./../bots_sessions/Einstein' + \".pkl\", \"wb\"))"
   ]
  },
  {
   "cell_type": "code",
   "execution_count": 81,
   "id": "39ef29a7",
   "metadata": {},
   "outputs": [],
   "source": [
    "hover = ActionChains(driver)\n",
    "\n",
    "profile_btn = driver.find_element(By.XPATH, \"//span[contains(@class,'navbar-pc__icon--profile')]\")\n",
    "hover.move_to_element(profile_btn).perform()\n",
    "delivery_btn = driver.find_element(By.XPATH, \"//span[text()='Доставки']/../../a[contains(@class,'profile-menu__link')]\")\n",
    "delivery_btn.click()"
   ]
  },
  {
   "cell_type": "code",
   "execution_count": 87,
   "id": "ca23b667",
   "metadata": {},
   "outputs": [
    {
     "data": {
      "text/plain": [
       "['В пути в сортировочный центр', 'Ожидается 19-21 мая']"
      ]
     },
     "execution_count": 87,
     "metadata": {},
     "output_type": "execute_result"
    }
   ],
   "source": [
    "order_statuses = [i.text for i in driver.find_elements(By.XPATH, \"//span[contains(@class,'goods-list-delivery__price-link')]\")]\n",
    "order_statuses"
   ]
  },
  {
   "cell_type": "code",
   "execution_count": 89,
   "id": "059bcaaf",
   "metadata": {},
   "outputs": [
    {
     "data": {
      "text/plain": [
       "'428'"
      ]
     },
     "execution_count": 89,
     "metadata": {},
     "output_type": "execute_result"
    }
   ],
   "source": [
    "order_code = driver.find_element(By.XPATH, \"//div[contains(@class,'delivery-code__value')]\").text"
   ]
  },
  {
   "cell_type": "code",
   "execution_count": 105,
   "id": "25a86a6c",
   "metadata": {},
   "outputs": [
    {
     "name": "stdout",
     "output_type": "stream",
     "text": [
      "536\n",
      "['63266967', '63266966']\n",
      "['Отсортирован в сортировочном центре', 'Ожидается 19-21 мая']\n",
      "536\n",
      "['63266967', '63266966']\n",
      "['Отсортирован в сортировочном центре', 'Ожидается 19-21 мая']\n"
     ]
    }
   ],
   "source": [
    "ARTICLE_LEN = 8\n",
    "\n",
    "for order_row in driver.find_elements(By.XPATH, '//div[@class=\"delivery-block__content\"]'):\n",
    "    pup_address = order_row.find_element(By.XPATH, './div/div/div[contains(@class, \"delivery-address__info\")]')\n",
    "    item_imgs = order_row.find_elements(By.XPATH, './div/ul/li/div/div/img')\n",
    "    img_ext_len = len('-1.avif')\n",
    "    articles = [img.get_attribute('src')[-img_ext_len-ARTICLE_LEN:-img_ext_len] for img in item_imgs]\n",
    "    statuses = order_row.find_elements(By.XPATH, './div/ul/li/div/div/div[@class=\"goods-list-delivery__price-status\"]')\n",
    "    statuses = [status.text for status in statuses]\n",
    "    print(order_row.find_element(By.XPATH, \"./div/div/div[contains(@class,'delivery-code__value')]\").text)\n",
    "    print(articles)\n",
    "    print(statuses)"
   ]
  },
  {
   "cell_type": "code",
   "execution_count": null,
   "id": "8d1220bb",
   "metadata": {},
   "outputs": [],
   "source": []
  },
  {
   "cell_type": "code",
   "execution_count": null,
   "id": "71b3b269",
   "metadata": {},
   "outputs": [],
   "source": []
  },
  {
   "cell_type": "code",
   "execution_count": 35,
   "id": "1b03898f",
   "metadata": {},
   "outputs": [],
   "source": [
    "driver.get('https://www.wildberries.ru')"
   ]
  },
  {
   "cell_type": "code",
   "execution_count": 16,
   "id": "d7801c0f",
   "metadata": {},
   "outputs": [],
   "source": [
    "import sys"
   ]
  },
  {
   "cell_type": "code",
   "execution_count": 17,
   "id": "d08af236",
   "metadata": {},
   "outputs": [
    {
     "data": {
      "text/plain": [
       "'darwin'"
      ]
     },
     "execution_count": 17,
     "metadata": {},
     "output_type": "execute_result"
    }
   ],
   "source": [
    "sys.platform"
   ]
  },
  {
   "cell_type": "code",
   "execution_count": 6,
   "id": "e9f8b61b",
   "metadata": {},
   "outputs": [],
   "source": [
    "import datetime, random"
   ]
  },
  {
   "cell_type": "code",
   "execution_count": 15,
   "id": "d9d07170",
   "metadata": {},
   "outputs": [
    {
     "data": {
      "text/plain": [
       "'7:39:48'"
      ]
     },
     "execution_count": 15,
     "metadata": {},
     "output_type": "execute_result"
    }
   ],
   "source": [
    "str(datetime.timedelta(hours=random.randint(7, 14), minutes=random.randint(0, 60), seconds=random.randint(0, 60)))"
   ]
  },
  {
   "cell_type": "code",
   "execution_count": 16,
   "id": "5694f4d1",
   "metadata": {
    "scrolled": true
   },
   "outputs": [
    {
     "data": {
      "text/plain": [
       "'2022-05-13 12:44:07'"
      ]
     },
     "execution_count": 16,
     "metadata": {},
     "output_type": "execute_result"
    }
   ],
   "source": [
    "str(datetime.datetime.fromisoformat(\"2022-05-13\") + datetime.timedelta(hours=random.randint(7, 14), minutes=random.randint(0, 60), seconds=random.randint(0, 60)))"
   ]
  },
  {
   "cell_type": "code",
   "execution_count": 30,
   "id": "983afe13",
   "metadata": {},
   "outputs": [],
   "source": [
    "end_datetime = datetime.datetime.fromisoformat(\"2022-05-17\") + datetime.timedelta(hours=random.randint(7, 14), minutes=random.randint(0, 60), seconds=random.randint(0, 60))\n",
    "start_datetime = datetime.datetime.now()\n",
    "\n",
    "time_to_end = (end_datetime - start_datetime).total_seconds()"
   ]
  },
  {
   "cell_type": "code",
   "execution_count": 31,
   "id": "e4db4ee4",
   "metadata": {},
   "outputs": [
    {
     "data": {
      "text/plain": [
       "('2022-05-17 09:35:23', '2022-05-15 12:52:04.587031', '160998.412969')"
      ]
     },
     "execution_count": 31,
     "metadata": {},
     "output_type": "execute_result"
    }
   ],
   "source": [
    "str(end_datetime), str(start_datetime), str(time_to_end)"
   ]
  },
  {
   "cell_type": "code",
   "execution_count": 107,
   "id": "1be2645c",
   "metadata": {},
   "outputs": [],
   "source": [
    "class Order():\n",
    "    def __init__(self, id=1, number=0, total_price=0, services_price=0, prices=[], quantities=[], articles=[],\n",
    "                 statuses=[], pup_address='', pup_tg_id='', bot_name='', bot_surname='', start_date='',\n",
    "                 pred_end_date='', end_date='', code_for_approve='', active=True):\n",
    "        super().__init__()\n",
    "        self.id = id\n",
    "        self.number = number\n",
    "        self.total_price = total_price\n",
    "        self.services_price = services_price\n",
    "        self.prices = prices\n",
    "        self.quantities = quantities\n",
    "        self.statuses = statuses\n",
    "        self.articles = articles\n",
    "        self.pup_address = pup_address\n",
    "        self.pup_tg_id = pup_tg_id\n",
    "        self.bot_name = bot_name\n",
    "        self.bot_surname = bot_surname\n",
    "        self.start_date = start_date\n",
    "        self.pred_end_date = pred_end_date\n",
    "        self.end_date = end_date\n",
    "        self.code_for_approve = code_for_approve\n",
    "        self.active = active\n",
    "\n",
    "    def __str__(self):\n",
    "        res = \"\"\n",
    "        for i, col in enumerate(COLUMNS):\n",
    "            res += col + \" = \" + str(getattr(self, col)) + \"; \"\n",
    "        return res\n",
    "\n",
    "    def insert(self):\n",
    "        c = [col for col in COLUMNS if getattr(self, col)]\n",
    "        path = \"INSERT INTO orders (\" + \", \".join(c) + \") VALUES \"\n",
    "        path += \"((SELECT MAX(id)+1 FROM orders), \"\n",
    "        for k in COLUMNS[1:]:\n",
    "            v = getattr(self, k)\n",
    "            if v:\n",
    "                if type(v) is int:\n",
    "                    path += str(v) + \", \"\n",
    "                elif type(v) is str:\n",
    "                    path += \"'\" + str(v) + \"', \"\n",
    "                elif type(v) is bool:\n",
    "                    path += (\"TRUE\" if v else \"FALSE\") + \", \"\n",
    "                elif type(v) is list:\n",
    "                    if type(v[0]) is str:\n",
    "                        path += \"ARRAY\" + str(v) + \"::text[], \"\n",
    "                    elif type(v[0]) is int:\n",
    "                        path += \"ARRAY\" + str(v) + \"::integer[], \"\n",
    "        path = path[:-2]\n",
    "        path += \")\"\n",
    "        print(path)\n",
    "        Order.execute(path)\n",
    "\n",
    "    def update(self):\n",
    "        if self.changed:\n",
    "            path = \"UPDATE orders SET \"\n",
    "            path += \"addresses= ARRAY\" + str(self.addresses) + \"::text[] \"\n",
    "            path += \"WHERE name='\" + str(self.name) + \"'\"\n",
    "            Order.execute(path)\n"
   ]
  },
  {
   "cell_type": "code",
   "execution_count": 108,
   "id": "24ad977d",
   "metadata": {},
   "outputs": [],
   "source": [
    "order = Order()"
   ]
  },
  {
   "cell_type": "code",
   "execution_count": 110,
   "id": "80ce9905",
   "metadata": {},
   "outputs": [
    {
     "ename": "TypeError",
     "evalue": "'Order' object is not iterable",
     "output_type": "error",
     "traceback": [
      "\u001b[1;31m---------------------------------------------------------------------------\u001b[0m",
      "\u001b[1;31mTypeError\u001b[0m                                 Traceback (most recent call last)",
      "\u001b[1;32mC:\\Users\\ASTROC~1\\AppData\\Local\\Temp/ipykernel_9000/3214582906.py\u001b[0m in \u001b[0;36m<module>\u001b[1;34m\u001b[0m\n\u001b[1;32m----> 1\u001b[1;33m \u001b[0mlist\u001b[0m\u001b[1;33m(\u001b[0m\u001b[0morder\u001b[0m\u001b[1;33m)\u001b[0m\u001b[1;33m\u001b[0m\u001b[1;33m\u001b[0m\u001b[0m\n\u001b[0m",
      "\u001b[1;31mTypeError\u001b[0m: 'Order' object is not iterable"
     ]
    }
   ],
   "source": [
    "list(order)"
   ]
  }
 ],
 "metadata": {
  "kernelspec": {
   "display_name": "Python 3 (ipykernel)",
   "language": "python",
   "name": "python3"
  },
  "language_info": {
   "codemirror_mode": {
    "name": "ipython",
    "version": 3
   },
   "file_extension": ".py",
   "mimetype": "text/x-python",
   "name": "python",
   "nbconvert_exporter": "python",
   "pygments_lexer": "ipython3",
   "version": "3.9.7"
  }
 },
 "nbformat": 4,
 "nbformat_minor": 5
}
