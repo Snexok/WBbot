{
 "cells": [
  {
   "cell_type": "code",
   "execution_count": 1,
   "id": "7c3a7a00",
   "metadata": {
    "collapsed": true
   },
   "outputs": [
    {
     "name": "stdout",
     "output_type": "stream",
     "text": [
      "Requirement already satisfied: selenium in c:\\programdata\\anaconda3\\lib\\site-packages (4.1.3)\n",
      "Requirement already satisfied: trio-websocket~=0.9 in c:\\programdata\\anaconda3\\lib\\site-packages (from selenium) (0.9.2)\n",
      "Requirement already satisfied: trio~=0.17 in c:\\programdata\\anaconda3\\lib\\site-packages (from selenium) (0.20.0)\n",
      "Requirement already satisfied: urllib3[secure,socks]~=1.26 in c:\\programdata\\anaconda3\\lib\\site-packages (from selenium) (1.26.7)\n",
      "Requirement already satisfied: cffi>=1.14 in c:\\programdata\\anaconda3\\lib\\site-packages (from trio~=0.17->selenium) (1.14.6)\n",
      "Requirement already satisfied: idna in c:\\programdata\\anaconda3\\lib\\site-packages (from trio~=0.17->selenium) (3.2)\n",
      "Requirement already satisfied: outcome in c:\\programdata\\anaconda3\\lib\\site-packages (from trio~=0.17->selenium) (1.1.0)\n",
      "Requirement already satisfied: sortedcontainers in c:\\programdata\\anaconda3\\lib\\site-packages (from trio~=0.17->selenium) (2.4.0)\n",
      "Requirement already satisfied: async-generator>=1.9 in c:\\programdata\\anaconda3\\lib\\site-packages (from trio~=0.17->selenium) (1.10)\n",
      "Requirement already satisfied: sniffio in c:\\programdata\\anaconda3\\lib\\site-packages (from trio~=0.17->selenium) (1.2.0)\n",
      "Requirement already satisfied: attrs>=19.2.0 in c:\\programdata\\anaconda3\\lib\\site-packages (from trio~=0.17->selenium) (21.2.0)\n",
      "Requirement already satisfied: pycparser in c:\\programdata\\anaconda3\\lib\\site-packages (from cffi>=1.14->trio~=0.17->selenium) (2.20)\n",
      "Requirement already satisfied: wsproto>=0.14 in c:\\programdata\\anaconda3\\lib\\site-packages (from trio-websocket~=0.9->selenium) (1.1.0)\n",
      "Requirement already satisfied: PySocks!=1.5.7,<2.0,>=1.5.6 in c:\\programdata\\anaconda3\\lib\\site-packages (from urllib3[secure,socks]~=1.26->selenium) (1.7.1)\n",
      "Requirement already satisfied: pyOpenSSL>=0.14 in c:\\programdata\\anaconda3\\lib\\site-packages (from urllib3[secure,socks]~=1.26->selenium) (21.0.0)\n",
      "Requirement already satisfied: cryptography>=1.3.4 in c:\\programdata\\anaconda3\\lib\\site-packages (from urllib3[secure,socks]~=1.26->selenium) (3.4.8)\n",
      "Requirement already satisfied: certifi in c:\\programdata\\anaconda3\\lib\\site-packages (from urllib3[secure,socks]~=1.26->selenium) (2021.10.8)\n",
      "Requirement already satisfied: six>=1.5.2 in c:\\programdata\\anaconda3\\lib\\site-packages (from pyOpenSSL>=0.14->urllib3[secure,socks]~=1.26->selenium) (1.16.0)\n",
      "Requirement already satisfied: h11<1,>=0.9.0 in c:\\programdata\\anaconda3\\lib\\site-packages (from wsproto>=0.14->trio-websocket~=0.9->selenium) (0.13.0)\n"
     ]
    }
   ],
   "source": [
    "! pip install selenium"
   ]
  },
  {
   "cell_type": "code",
   "execution_count": 3,
   "id": "4d637886",
   "metadata": {},
   "outputs": [],
   "source": [
    "from selenium import webdriver\n",
    "from selenium.webdriver.common.by import By\n",
    "from selenium.webdriver import Keys\n",
    "from selenium.webdriver.common.action_chains import ActionChains\n",
    "from time import sleep\n",
    "import random\n",
    "import json\n",
    "import pandas as pd"
   ]
  },
  {
   "cell_type": "code",
   "execution_count": 5,
   "id": "5cf2c97a",
   "metadata": {},
   "outputs": [],
   "source": [
    "search_name = \"Духи\"\n",
    "articul_num = \"1713520\"\n",
    "post_place = \"г Москва, Улица Лазо 4к1\""
   ]
  },
  {
   "cell_type": "code",
   "execution_count": 7,
   "id": "39c17991",
   "metadata": {},
   "outputs": [
    {
     "ename": "NameError",
     "evalue": "name 'Bot' is not defined",
     "output_type": "error",
     "traceback": [
      "\u001b[0;31m---------------------------------------------------------------------------\u001b[0m",
      "\u001b[0;31mNameError\u001b[0m                                 Traceback (most recent call last)",
      "Input \u001b[0;32mIn [7]\u001b[0m, in \u001b[0;36m<cell line: 1>\u001b[0;34m()\u001b[0m\n\u001b[0;32m----> 1\u001b[0m bot \u001b[38;5;241m=\u001b[39m \u001b[43mBot\u001b[49m(driver\u001b[38;5;241m=\u001b[39m_bot\u001b[38;5;241m.\u001b[39mdriver)\n",
      "\u001b[0;31mNameError\u001b[0m: name 'Bot' is not defined"
     ]
    }
   ],
   "source": [
    "bot = Bot(driver=_bot.driver)"
   ]
  },
  {
   "cell_type": "code",
   "execution_count": 4,
   "id": "834c5694",
   "metadata": {},
   "outputs": [
    {
     "name": "stderr",
     "output_type": "stream",
     "text": [
      "C:\\ProgramData\\Anaconda3\\lib\\site-packages\\pkg_resources\\__init__.py:2420: RuntimeWarning: coroutine 'Executor._startup_polling' was never awaited\n",
      "  self.name = name\n",
      "RuntimeWarning: Enable tracemalloc to get the object allocation traceback\n",
      "C:\\ProgramData\\Anaconda3\\lib\\site-packages\\pkg_resources\\__init__.py:2420: RuntimeWarning: coroutine 'Executor._shutdown_polling' was never awaited\n",
      "  self.name = name\n",
      "RuntimeWarning: Enable tracemalloc to get the object allocation traceback\n"
     ]
    }
   ],
   "source": [
    "# Python Modules\n",
    "import os\n",
    "import json\n",
    "import logging\n",
    "import pandas as pd\n",
    "\n",
    "# For telegram api\n",
    "# pip install python-telegram-bot --upgrade\n",
    "from telegram import Update, InlineKeyboardButton, InlineKeyboardMarkup\n",
    "from telegram.ext import Updater, CommandHandler, MessageHandler, Filters, CallbackContext, \\\n",
    "    CallbackQueryHandler, TypeHandler, ConversationHandler\n",
    "\n"
   ]
  },
  {
   "cell_type": "code",
   "execution_count": 8,
   "id": "c3c54120",
   "metadata": {},
   "outputs": [
    {
     "ename": "ModuleNotFoundError",
     "evalue": "No module named 'TG'",
     "output_type": "error",
     "traceback": [
      "\u001b[0;31m---------------------------------------------------------------------------\u001b[0m",
      "\u001b[0;31mModuleNotFoundError\u001b[0m                       Traceback (most recent call last)",
      "File \u001b[0;32m~/WBbot/WB/Bot.py:7\u001b[0m, in \u001b[0;36m<module>\u001b[0;34m\u001b[0m\n\u001b[1;32m      4\u001b[0m \u001b[38;5;28;01mfrom\u001b[39;00m \u001b[38;5;21;01mtime\u001b[39;00m \u001b[38;5;28;01mimport\u001b[39;00m sleep\n\u001b[1;32m      5\u001b[0m \u001b[38;5;28;01mimport\u001b[39;00m \u001b[38;5;21;01mjson\u001b[39;00m\n\u001b[0;32m----> 7\u001b[0m \u001b[38;5;28;01mfrom\u001b[39;00m \u001b[38;5;21;01mTG\u001b[39;00m\u001b[38;5;21;01m.\u001b[39;00m\u001b[38;5;21;01mModels\u001b[39;00m\u001b[38;5;21;01m.\u001b[39;00m\u001b[38;5;21;01mBot\u001b[39;00m \u001b[38;5;28;01mimport\u001b[39;00m Bots \u001b[38;5;28;01mas\u001b[39;00m Bots_model\n\u001b[1;32m      8\u001b[0m \u001b[38;5;28;01mfrom\u001b[39;00m \u001b[38;5;21;01mWB\u001b[39;00m\u001b[38;5;21;01m.\u001b[39;00m\u001b[38;5;21;01mPages\u001b[39;00m\u001b[38;5;21;01m.\u001b[39;00m\u001b[38;5;21;01mBasket\u001b[39;00m \u001b[38;5;28;01mimport\u001b[39;00m Basket\n\u001b[1;32m      9\u001b[0m \u001b[38;5;28;01mfrom\u001b[39;00m \u001b[38;5;21;01mWB\u001b[39;00m\u001b[38;5;21;01m.\u001b[39;00m\u001b[38;5;21;01mBrowser\u001b[39;00m \u001b[38;5;28;01mimport\u001b[39;00m Browser\n",
      "\u001b[0;31mModuleNotFoundError\u001b[0m: No module named 'TG'"
     ]
    }
   ],
   "source": [
    "%run Bot.py\n",
    "\n"
   ]
  },
  {
   "cell_type": "code",
   "execution_count": 16,
   "id": "674d1510",
   "metadata": {},
   "outputs": [],
   "source": [
    "def choose_post_place(adress):\n",
    "    bot.driver.find_element(By.XPATH, '//h2[text()=\"Способ доставки\"]/../../div[text()=\"Выбрать адрес доставки\"]').click()\n",
    "    sleep(1)\n",
    "    bot.driver.find_element(By.XPATH, '//button[text()=\"Выбрать адрес доставки\"]').click()\n",
    "    sleep(2)\n",
    "    bot.driver.find_element(By.XPATH, '//input[@placeholder=\"Введите адрес\"]').send_keys(adress)\n",
    "    sleep(2)\n",
    "    bot.driver.find_element(By.XPATH, '//ymaps[text()=\"Найти\"]').click()\n",
    "    sleep(2)\n",
    "    try:\n",
    "        bot.driver.find_element(By.XPATH, '//ymaps[contains(@class, \"__first\")]').click()\n",
    "    except:\n",
    "        pass\n",
    "    sleep(2)\n",
    "    bot.driver.find_element(By.XPATH, '//span[contains(text(), \"'+ adress +'\")]').click()\n",
    "    sleep(2)\n",
    "    bot.driver.find_element(By.XPATH, '//div[@class=\"balloon-content-block\"]/button').click()\n",
    "    sleep(2)\n",
    "    bot.driver.find_element(By.XPATH, '//button[@class=\"popup__btn-main\"]').click()\n",
    "    sleep(2)"
   ]
  },
  {
   "cell_type": "code",
   "execution_count": 17,
   "id": "b485edae",
   "metadata": {},
   "outputs": [],
   "source": [
    "choose_post_place(post_places[0])"
   ]
  },
  {
   "cell_type": "code",
   "execution_count": 13,
   "id": "44d9ebca",
   "metadata": {},
   "outputs": [],
   "source": [
    "import random"
   ]
  },
  {
   "cell_type": "code",
   "execution_count": 20,
   "id": "4e624ee0",
   "metadata": {},
   "outputs": [],
   "source": [
    "self = bot\n",
    "number = '9104499982'\n",
    "def get_qr_code(file_name):\n",
    "    try:\n",
    "        self.driver.find_element(By.XPATH, '//button[text()=\"                Оплатить заказ                \"]').click()\n",
    "        sleep(2)\n",
    "        self.driver.find_element(By.XPATH, '//button[contains(@class,\"popup__btn-main\")]').click()\n",
    "        sleep(2)\n",
    "        svg = self.driver.find_element(By.XPATH, '//div[@class=\"qr-code__value\"]')\n",
    "        self.save_qr_code(svg, file_name)\n",
    "        sleep(2)\n",
    "        self.driver.find_element(By.CLASS_NAME, 'popup__close').click()\n",
    "    except:\n",
    "#         Utils.login(number)\n",
    "        login(self.driver, number)\n",
    "        input(\"Нажми Enter, зайка\")\n",
    "        get_qr_code(file_name)"
   ]
  },
  {
   "cell_type": "code",
   "execution_count": 21,
   "id": "022d4e25",
   "metadata": {
    "scrolled": true
   },
   "outputs": [
    {
     "ename": "NoSuchElementException",
     "evalue": "Message: no such element: Unable to locate element: {\"method\":\"css selector\",\"selector\":\".j-main-login\"}\n  (Session info: chrome=100.0.4896.75)\nStacktrace:\nBacktrace:\n\tOrdinal0 [0x01039943+2595139]\n\tOrdinal0 [0x00FCC9F1+2148849]\n\tOrdinal0 [0x00EC4528+1066280]\n\tOrdinal0 [0x00EF0FD4+1249236]\n\tOrdinal0 [0x00EF11CB+1249739]\n\tOrdinal0 [0x00F1D812+1431570]\n\tOrdinal0 [0x00F0BA34+1358388]\n\tOrdinal0 [0x00F1BAF2+1424114]\n\tOrdinal0 [0x00F0B806+1357830]\n\tOrdinal0 [0x00EE6086+1204358]\n\tOrdinal0 [0x00EE6F96+1208214]\n\tGetHandleVerifier [0x011DB232+1658114]\n\tGetHandleVerifier [0x0129312C+2411516]\n\tGetHandleVerifier [0x010CF261+560433]\n\tGetHandleVerifier [0x010CE366+556598]\n\tOrdinal0 [0x00FD286B+2173035]\n\tOrdinal0 [0x00FD75F8+2192888]\n\tOrdinal0 [0x00FD76E5+2193125]\n\tOrdinal0 [0x00FE11FC+2232828]\n\tBaseThreadInitThunk [0x763BFA29+25]\n\tRtlGetAppContainerNamedObjectPath [0x77787A7E+286]\n\tRtlGetAppContainerNamedObjectPath [0x77787A4E+238]\n",
     "output_type": "error",
     "traceback": [
      "\u001b[1;31m---------------------------------------------------------------------------\u001b[0m",
      "\u001b[1;31mAttributeError\u001b[0m                            Traceback (most recent call last)",
      "\u001b[1;32mC:\\Users\\ASTROC~1\\AppData\\Local\\Temp/ipykernel_17272/2508058062.py\u001b[0m in \u001b[0;36mget_qr_code\u001b[1;34m(file_name)\u001b[0m\n\u001b[0;32m      9\u001b[0m         \u001b[0msvg\u001b[0m \u001b[1;33m=\u001b[0m \u001b[0mself\u001b[0m\u001b[1;33m.\u001b[0m\u001b[0mdriver\u001b[0m\u001b[1;33m.\u001b[0m\u001b[0mfind_element\u001b[0m\u001b[1;33m(\u001b[0m\u001b[0mBy\u001b[0m\u001b[1;33m.\u001b[0m\u001b[0mXPATH\u001b[0m\u001b[1;33m,\u001b[0m \u001b[1;34m'//div[@class=\"qr-code__value\"]'\u001b[0m\u001b[1;33m)\u001b[0m\u001b[1;33m\u001b[0m\u001b[1;33m\u001b[0m\u001b[0m\n\u001b[1;32m---> 10\u001b[1;33m         \u001b[0mself\u001b[0m\u001b[1;33m.\u001b[0m\u001b[0msave_qr_code\u001b[0m\u001b[1;33m(\u001b[0m\u001b[0msvg\u001b[0m\u001b[1;33m,\u001b[0m \u001b[0mfile_name\u001b[0m\u001b[1;33m)\u001b[0m\u001b[1;33m\u001b[0m\u001b[1;33m\u001b[0m\u001b[0m\n\u001b[0m\u001b[0;32m     11\u001b[0m         \u001b[0msleep\u001b[0m\u001b[1;33m(\u001b[0m\u001b[1;36m2\u001b[0m\u001b[1;33m)\u001b[0m\u001b[1;33m\u001b[0m\u001b[1;33m\u001b[0m\u001b[0m\n",
      "\u001b[1;31mAttributeError\u001b[0m: 'Bot' object has no attribute 'save_qr_code'",
      "\nDuring handling of the above exception, another exception occurred:\n",
      "\u001b[1;31mNoSuchElementException\u001b[0m                    Traceback (most recent call last)",
      "\u001b[1;32mC:\\Users\\ASTROC~1\\AppData\\Local\\Temp/ipykernel_17272/2136507517.py\u001b[0m in \u001b[0;36m<module>\u001b[1;34m\u001b[0m\n\u001b[1;32m----> 1\u001b[1;33m \u001b[0mget_qr_code\u001b[0m\u001b[1;33m(\u001b[0m\u001b[1;34m'file_name.svg'\u001b[0m\u001b[1;33m)\u001b[0m\u001b[1;33m\u001b[0m\u001b[1;33m\u001b[0m\u001b[0m\n\u001b[0m",
      "\u001b[1;32mC:\\Users\\ASTROC~1\\AppData\\Local\\Temp/ipykernel_17272/2508058062.py\u001b[0m in \u001b[0;36mget_qr_code\u001b[1;34m(file_name)\u001b[0m\n\u001b[0;32m     13\u001b[0m     \u001b[1;32mexcept\u001b[0m\u001b[1;33m:\u001b[0m\u001b[1;33m\u001b[0m\u001b[1;33m\u001b[0m\u001b[0m\n\u001b[0;32m     14\u001b[0m \u001b[1;31m#         Utils.login(number)\u001b[0m\u001b[1;33m\u001b[0m\u001b[1;33m\u001b[0m\u001b[0m\n\u001b[1;32m---> 15\u001b[1;33m         \u001b[0mlogin\u001b[0m\u001b[1;33m(\u001b[0m\u001b[0mself\u001b[0m\u001b[1;33m.\u001b[0m\u001b[0mdriver\u001b[0m\u001b[1;33m,\u001b[0m \u001b[0mnumber\u001b[0m\u001b[1;33m)\u001b[0m\u001b[1;33m\u001b[0m\u001b[1;33m\u001b[0m\u001b[0m\n\u001b[0m\u001b[0;32m     16\u001b[0m         \u001b[0minput\u001b[0m\u001b[1;33m(\u001b[0m\u001b[1;34m\"Нажми Enter, зайка\"\u001b[0m\u001b[1;33m)\u001b[0m\u001b[1;33m\u001b[0m\u001b[1;33m\u001b[0m\u001b[0m\n\u001b[0;32m     17\u001b[0m         \u001b[0mget_qr_code\u001b[0m\u001b[1;33m(\u001b[0m\u001b[0mfile_name\u001b[0m\u001b[1;33m)\u001b[0m\u001b[1;33m\u001b[0m\u001b[1;33m\u001b[0m\u001b[0m\n",
      "\u001b[1;32mC:\\Users\\ASTROC~1\\AppData\\Local\\Temp/ipykernel_17272/2129243675.py\u001b[0m in \u001b[0;36mlogin\u001b[1;34m(driver, number)\u001b[0m\n\u001b[0;32m      1\u001b[0m \u001b[1;32mdef\u001b[0m \u001b[0mlogin\u001b[0m\u001b[1;33m(\u001b[0m\u001b[0mdriver\u001b[0m\u001b[1;33m,\u001b[0m \u001b[0mnumber\u001b[0m\u001b[1;33m)\u001b[0m\u001b[1;33m:\u001b[0m\u001b[1;33m\u001b[0m\u001b[1;33m\u001b[0m\u001b[0m\n\u001b[0;32m      2\u001b[0m         \u001b[1;31m# vars # 1\u001b[0m\u001b[1;33m\u001b[0m\u001b[1;33m\u001b[0m\u001b[0m\n\u001b[1;32m----> 3\u001b[1;33m         \u001b[0mto_login_btn\u001b[0m \u001b[1;33m=\u001b[0m \u001b[0mdriver\u001b[0m\u001b[1;33m.\u001b[0m\u001b[0mfind_element\u001b[0m\u001b[1;33m(\u001b[0m\u001b[0mBy\u001b[0m\u001b[1;33m.\u001b[0m\u001b[0mCLASS_NAME\u001b[0m\u001b[1;33m,\u001b[0m \u001b[1;34m'j-main-login'\u001b[0m\u001b[1;33m)\u001b[0m\u001b[1;33m\u001b[0m\u001b[1;33m\u001b[0m\u001b[0m\n\u001b[0m\u001b[0;32m      4\u001b[0m \u001b[1;33m\u001b[0m\u001b[0m\n\u001b[0;32m      5\u001b[0m         \u001b[1;31m# resolve # 1\u001b[0m\u001b[1;33m\u001b[0m\u001b[1;33m\u001b[0m\u001b[0m\n",
      "\u001b[1;32mC:\\ProgramData\\Anaconda3\\lib\\site-packages\\selenium\\webdriver\\remote\\webdriver.py\u001b[0m in \u001b[0;36mfind_element\u001b[1;34m(self, by, value)\u001b[0m\n\u001b[0;32m   1242\u001b[0m             \u001b[0mvalue\u001b[0m \u001b[1;33m=\u001b[0m \u001b[1;34m'[name=\"%s\"]'\u001b[0m \u001b[1;33m%\u001b[0m \u001b[0mvalue\u001b[0m\u001b[1;33m\u001b[0m\u001b[1;33m\u001b[0m\u001b[0m\n\u001b[0;32m   1243\u001b[0m \u001b[1;33m\u001b[0m\u001b[0m\n\u001b[1;32m-> 1244\u001b[1;33m         return self.execute(Command.FIND_ELEMENT, {\n\u001b[0m\u001b[0;32m   1245\u001b[0m             \u001b[1;34m'using'\u001b[0m\u001b[1;33m:\u001b[0m \u001b[0mby\u001b[0m\u001b[1;33m,\u001b[0m\u001b[1;33m\u001b[0m\u001b[1;33m\u001b[0m\u001b[0m\n\u001b[0;32m   1246\u001b[0m             'value': value})['value']\n",
      "\u001b[1;32mC:\\ProgramData\\Anaconda3\\lib\\site-packages\\selenium\\webdriver\\remote\\webdriver.py\u001b[0m in \u001b[0;36mexecute\u001b[1;34m(self, driver_command, params)\u001b[0m\n\u001b[0;32m    422\u001b[0m         \u001b[0mresponse\u001b[0m \u001b[1;33m=\u001b[0m \u001b[0mself\u001b[0m\u001b[1;33m.\u001b[0m\u001b[0mcommand_executor\u001b[0m\u001b[1;33m.\u001b[0m\u001b[0mexecute\u001b[0m\u001b[1;33m(\u001b[0m\u001b[0mdriver_command\u001b[0m\u001b[1;33m,\u001b[0m \u001b[0mparams\u001b[0m\u001b[1;33m)\u001b[0m\u001b[1;33m\u001b[0m\u001b[1;33m\u001b[0m\u001b[0m\n\u001b[0;32m    423\u001b[0m         \u001b[1;32mif\u001b[0m \u001b[0mresponse\u001b[0m\u001b[1;33m:\u001b[0m\u001b[1;33m\u001b[0m\u001b[1;33m\u001b[0m\u001b[0m\n\u001b[1;32m--> 424\u001b[1;33m             \u001b[0mself\u001b[0m\u001b[1;33m.\u001b[0m\u001b[0merror_handler\u001b[0m\u001b[1;33m.\u001b[0m\u001b[0mcheck_response\u001b[0m\u001b[1;33m(\u001b[0m\u001b[0mresponse\u001b[0m\u001b[1;33m)\u001b[0m\u001b[1;33m\u001b[0m\u001b[1;33m\u001b[0m\u001b[0m\n\u001b[0m\u001b[0;32m    425\u001b[0m             response['value'] = self._unwrap_value(\n\u001b[0;32m    426\u001b[0m                 response.get('value', None))\n",
      "\u001b[1;32mC:\\ProgramData\\Anaconda3\\lib\\site-packages\\selenium\\webdriver\\remote\\errorhandler.py\u001b[0m in \u001b[0;36mcheck_response\u001b[1;34m(self, response)\u001b[0m\n\u001b[0;32m    245\u001b[0m                 \u001b[0malert_text\u001b[0m \u001b[1;33m=\u001b[0m \u001b[0mvalue\u001b[0m\u001b[1;33m[\u001b[0m\u001b[1;34m'alert'\u001b[0m\u001b[1;33m]\u001b[0m\u001b[1;33m.\u001b[0m\u001b[0mget\u001b[0m\u001b[1;33m(\u001b[0m\u001b[1;34m'text'\u001b[0m\u001b[1;33m)\u001b[0m\u001b[1;33m\u001b[0m\u001b[1;33m\u001b[0m\u001b[0m\n\u001b[0;32m    246\u001b[0m             \u001b[1;32mraise\u001b[0m \u001b[0mexception_class\u001b[0m\u001b[1;33m(\u001b[0m\u001b[0mmessage\u001b[0m\u001b[1;33m,\u001b[0m \u001b[0mscreen\u001b[0m\u001b[1;33m,\u001b[0m \u001b[0mstacktrace\u001b[0m\u001b[1;33m,\u001b[0m \u001b[0malert_text\u001b[0m\u001b[1;33m)\u001b[0m  \u001b[1;31m# type: ignore[call-arg]  # mypy is not smart enough here\u001b[0m\u001b[1;33m\u001b[0m\u001b[1;33m\u001b[0m\u001b[0m\n\u001b[1;32m--> 247\u001b[1;33m         \u001b[1;32mraise\u001b[0m \u001b[0mexception_class\u001b[0m\u001b[1;33m(\u001b[0m\u001b[0mmessage\u001b[0m\u001b[1;33m,\u001b[0m \u001b[0mscreen\u001b[0m\u001b[1;33m,\u001b[0m \u001b[0mstacktrace\u001b[0m\u001b[1;33m)\u001b[0m\u001b[1;33m\u001b[0m\u001b[1;33m\u001b[0m\u001b[0m\n\u001b[0m\u001b[0;32m    248\u001b[0m \u001b[1;33m\u001b[0m\u001b[0m\n\u001b[0;32m    249\u001b[0m     \u001b[1;32mdef\u001b[0m \u001b[0m_value_or_default\u001b[0m\u001b[1;33m(\u001b[0m\u001b[0mself\u001b[0m\u001b[1;33m,\u001b[0m \u001b[0mobj\u001b[0m\u001b[1;33m:\u001b[0m \u001b[0mMapping\u001b[0m\u001b[1;33m[\u001b[0m\u001b[0m_KT\u001b[0m\u001b[1;33m,\u001b[0m \u001b[0m_VT\u001b[0m\u001b[1;33m]\u001b[0m\u001b[1;33m,\u001b[0m \u001b[0mkey\u001b[0m\u001b[1;33m:\u001b[0m \u001b[0m_KT\u001b[0m\u001b[1;33m,\u001b[0m \u001b[0mdefault\u001b[0m\u001b[1;33m:\u001b[0m \u001b[0m_VT\u001b[0m\u001b[1;33m)\u001b[0m \u001b[1;33m->\u001b[0m \u001b[0m_VT\u001b[0m\u001b[1;33m:\u001b[0m\u001b[1;33m\u001b[0m\u001b[1;33m\u001b[0m\u001b[0m\n",
      "\u001b[1;31mNoSuchElementException\u001b[0m: Message: no such element: Unable to locate element: {\"method\":\"css selector\",\"selector\":\".j-main-login\"}\n  (Session info: chrome=100.0.4896.75)\nStacktrace:\nBacktrace:\n\tOrdinal0 [0x01039943+2595139]\n\tOrdinal0 [0x00FCC9F1+2148849]\n\tOrdinal0 [0x00EC4528+1066280]\n\tOrdinal0 [0x00EF0FD4+1249236]\n\tOrdinal0 [0x00EF11CB+1249739]\n\tOrdinal0 [0x00F1D812+1431570]\n\tOrdinal0 [0x00F0BA34+1358388]\n\tOrdinal0 [0x00F1BAF2+1424114]\n\tOrdinal0 [0x00F0B806+1357830]\n\tOrdinal0 [0x00EE6086+1204358]\n\tOrdinal0 [0x00EE6F96+1208214]\n\tGetHandleVerifier [0x011DB232+1658114]\n\tGetHandleVerifier [0x0129312C+2411516]\n\tGetHandleVerifier [0x010CF261+560433]\n\tGetHandleVerifier [0x010CE366+556598]\n\tOrdinal0 [0x00FD286B+2173035]\n\tOrdinal0 [0x00FD75F8+2192888]\n\tOrdinal0 [0x00FD76E5+2193125]\n\tOrdinal0 [0x00FE11FC+2232828]\n\tBaseThreadInitThunk [0x763BFA29+25]\n\tRtlGetAppContainerNamedObjectPath [0x77787A7E+286]\n\tRtlGetAppContainerNamedObjectPath [0x77787A4E+238]\n"
     ]
    }
   ],
   "source": [
    "get_qr_code('file_name.svg')"
   ]
  },
  {
   "cell_type": "code",
   "execution_count": 8,
   "id": "2f3c3198",
   "metadata": {},
   "outputs": [],
   "source": [
    "def login(driver, number):\n",
    "        # vars # 1\n",
    "        to_login_btn = driver.find_element(By.CLASS_NAME, 'j-main-login')\n",
    "\n",
    "        # resolve # 1\n",
    "        to_login_btn.click()\n",
    "        sleep(random.uniform(3, 5))\n",
    "        \n",
    "        # vars # 2\n",
    "        login_input = driver.find_element(By.CLASS_NAME, 'input-item')\n",
    "        login_btn = driver.find_element(By.CLASS_NAME, 'login__btn')\n",
    "\n",
    "        # resolve # 2\n",
    "        login_input.send_keys(number)\n",
    "        sleep(random.uniform(2, 4))\n",
    "        login_btn.click()"
   ]
  },
  {
   "cell_type": "code",
   "execution_count": 23,
   "id": "81a3f43d",
   "metadata": {},
   "outputs": [
    {
     "data": {
      "text/plain": [
       "[{'a': '2'}]"
      ]
     },
     "execution_count": 23,
     "metadata": {},
     "output_type": "execute_result"
    }
   ],
   "source": [
    "[]+[{'a': '2'}]"
   ]
  },
  {
   "cell_type": "code",
   "execution_count": 8,
   "id": "b342b928",
   "metadata": {},
   "outputs": [],
   "source": [
    "adresses = ['123', '321']"
   ]
  },
  {
   "cell_type": "code",
   "execution_count": 13,
   "id": "1da44e00",
   "metadata": {},
   "outputs": [
    {
     "data": {
      "text/plain": [
       "'123\\n321'"
      ]
     },
     "execution_count": 13,
     "metadata": {},
     "output_type": "execute_result"
    }
   ],
   "source": [
    "\"\".join(map(lambda x: x+'\\n', adresses))[:-1]"
   ]
  },
  {
   "cell_type": "code",
   "execution_count": 60,
   "id": "dcd859f5",
   "metadata": {},
   "outputs": [],
   "source": [
    "a = [i for i in range(30000000)]"
   ]
  },
  {
   "cell_type": "code",
   "execution_count": 61,
   "id": "adb214ca",
   "metadata": {},
   "outputs": [
    {
     "ename": "TypeError",
     "evalue": "object of type 'filter' has no len()",
     "output_type": "error",
     "traceback": [
      "\u001b[0;31m---------------------------------------------------------------------------\u001b[0m",
      "\u001b[0;31mTypeError\u001b[0m                                 Traceback (most recent call last)",
      "File \u001b[0;32m<timed eval>:1\u001b[0m, in \u001b[0;36m<module>\u001b[0;34m\u001b[0m\n",
      "\u001b[0;31mTypeError\u001b[0m: object of type 'filter' has no len()"
     ]
    }
   ],
   "source": [
    "%%time\n",
    "len(filter(lambda x: x==1, a))"
   ]
  },
  {
   "cell_type": "code",
   "execution_count": 59,
   "id": "fb1a639a",
   "metadata": {},
   "outputs": [
    {
     "name": "stdout",
     "output_type": "stream",
     "text": [
      "CPU times: user 13.1 s, sys: 4.5 s, total: 17.6 s\n",
      "Wall time: 20.5 s\n"
     ]
    }
   ],
   "source": [
    "%%time\n",
    "l = []\n",
    "for i in a:\n",
    "    if i==1:\n",
    "        l.append(i)"
   ]
  },
  {
   "cell_type": "code",
   "execution_count": 65,
   "id": "2e51e6a5",
   "metadata": {},
   "outputs": [],
   "source": []
  },
  {
   "cell_type": "code",
   "execution_count": 77,
   "id": "92f30d0b",
   "metadata": {},
   "outputs": [],
   "source": [
    "i = 0\n",
    "y = 1"
   ]
  },
  {
   "cell_type": "code",
   "execution_count": 111,
   "id": "47b5e7a2",
   "metadata": {},
   "outputs": [
    {
     "name": "stdout",
     "output_type": "stream",
     "text": [
      "[True, False, True, False, False, False, False, False]\n"
     ]
    }
   ],
   "source": [
    "a = [[True, True, False, False],[False, False, False, False]]\n",
    "l1 = len(a[0])\n",
    "l2 = len(a)\n",
    "a = [a[y][i] for i in range(len(a[0])) for y in range(len(a))]\n",
    "print(a)"
   ]
  },
  {
   "cell_type": "code",
   "execution_count": 112,
   "id": "f87d1dd2",
   "metadata": {},
   "outputs": [
    {
     "data": {
      "text/plain": [
       "[1, 1, 0, 0]"
      ]
     },
     "execution_count": 112,
     "metadata": {},
     "output_type": "execute_result"
    }
   ],
   "source": [
    "[sum(a[i*l2:(i+1)*l2]) for i in range(l1)]"
   ]
  },
  {
   "cell_type": "code",
   "execution_count": 97,
   "id": "9c1c7e2e",
   "metadata": {},
   "outputs": [
    {
     "data": {
      "text/plain": [
       "2"
      ]
     },
     "execution_count": 97,
     "metadata": {},
     "output_type": "execute_result"
    }
   ],
   "source": [
    "sum([True, True])"
   ]
  },
  {
   "cell_type": "code",
   "execution_count": 107,
   "id": "417b2d64",
   "metadata": {},
   "outputs": [
    {
     "data": {
      "text/plain": [
       "2"
      ]
     },
     "execution_count": 107,
     "metadata": {},
     "output_type": "execute_result"
    }
   ],
   "source": [
    "sum(a[0:2])"
   ]
  },
  {
   "cell_type": "code",
   "execution_count": 108,
   "id": "62de0b97",
   "metadata": {},
   "outputs": [
    {
     "data": {
      "text/plain": [
       "[True, True, True, False, False, False, False, True]"
      ]
     },
     "execution_count": 108,
     "metadata": {},
     "output_type": "execute_result"
    }
   ],
   "source": [
    "a"
   ]
  },
  {
   "cell_type": "code",
   "execution_count": 115,
   "id": "8f8fc8e7",
   "metadata": {},
   "outputs": [
    {
     "ename": "ModuleNotFoundError",
     "evalue": "No module named 'reduce'",
     "output_type": "error",
     "traceback": [
      "\u001b[0;31m---------------------------------------------------------------------------\u001b[0m",
      "\u001b[0;31mModuleNotFoundError\u001b[0m                       Traceback (most recent call last)",
      "Input \u001b[0;32mIn [115]\u001b[0m, in \u001b[0;36m<cell line: 1>\u001b[0;34m()\u001b[0m\n\u001b[0;32m----> 1\u001b[0m \u001b[38;5;28;01mimport\u001b[39;00m \u001b[38;5;21;01mreduce\u001b[39;00m\n",
      "\u001b[0;31mModuleNotFoundError\u001b[0m: No module named 'reduce'"
     ]
    }
   ],
   "source": [
    "from reduce"
   ]
  },
  {
   "cell_type": "code",
   "execution_count": 3,
   "id": "ac4ee3e6",
   "metadata": {},
   "outputs": [],
   "source": [
    "import pickle\n"
   ]
  },
  {
   "cell_type": "code",
   "execution_count": 1,
   "id": "f12f2e0d",
   "metadata": {},
   "outputs": [
    {
     "name": "stderr",
     "output_type": "stream",
     "text": [
      "C:\\Users\\ANASTA~1\\AppData\\Local\\Temp/ipykernel_11160/4096261364.py:2: DeprecationWarning: executable_path has been deprecated, please pass in a Service object\n",
      "  driver = webdriver.Chrome(\"./../chrome/chromedriver.exe\")\n"
     ]
    }
   ],
   "source": [
    "from selenium import webdriver\n",
    "driver = webdriver.Chrome(\"./../chrome/chromedriver.exe\")\n",
    "driver.get('https://www.wildberries.ru/')"
   ]
  },
  {
   "cell_type": "code",
   "execution_count": 5,
   "id": "284d7305",
   "metadata": {},
   "outputs": [],
   "source": [
    "pickle.dump(driver.get_cookies(), open('./../bots_sessions/Oleg' + \".pkl\", \"wb\"))"
   ]
  },
  {
   "cell_type": "code",
   "execution_count": 7,
   "id": "c6453b1a",
   "metadata": {},
   "outputs": [],
   "source": [
    "cookies = pickle.load(open('./../bots_sessions/Oleg' + \".pkl\", \"rb\"))\n",
    "\n",
    "for cookie in cookies:\n",
    "    driver.add_cookie(cookie)\n",
    "# driver.get('https://www.wildberries.ru/')"
   ]
  },
  {
   "cell_type": "code",
   "execution_count": 1,
   "id": "3b84ad23",
   "metadata": {},
   "outputs": [],
   "source": [
    "import threading"
   ]
  },
  {
   "cell_type": "code",
   "execution_count": null,
   "id": "1f925369",
   "metadata": {},
   "outputs": [],
   "source": [
    "thread_names = ['Mike', 'George', 'Wanda', 'Dingbat', 'Nina']\n",
    "for i in range(5):\n",
    "    my_thread = threading.Thread(\n",
    "        target=doubler, name=thread_names[i], args=(i,logger))\n",
    "    my_thread.start()"
   ]
  },
  {
   "cell_type": "code",
   "execution_count": 15,
   "id": "0615a7e7",
   "metadata": {},
   "outputs": [],
   "source": [
    "from time import sleep\n",
    "import asyncio\n",
    "from time import sleep\n",
    "async def hello():\n",
    "    def foo(bar, result, index):\n",
    "        sleep(index*2)\n",
    "        print ('hello {0}, {1}'.format(bar, index))\n",
    "        result[index] = \"foo\"\n",
    "\n",
    "    from threading import Thread\n",
    "\n",
    "    threads = [None] * 10\n",
    "    results = [None] * 10\n",
    "\n",
    "    for i in range(len(threads)):\n",
    "        threads[i] = Thread(target=foo, args=('world!', results, i))\n",
    "        threads[i].start()\n",
    "\n",
    "    # do some other stuff\n",
    "\n",
    "    for i in range(len(threads)):\n",
    "        await threads[i].join()\n",
    "\n",
    "    print( \" \".join(results))  # what sound does a metasyntactic locomotive make?\n",
    "    \n",
    "async def main():\n",
    "    asyncio.create_task(hello) \n",
    "    await task_1\n",
    "asyncio.run(main())"
   ]
  },
  {
   "cell_type": "code",
   "execution_count": 16,
   "id": "175aedb8",
   "metadata": {},
   "outputs": [
    {
     "ename": "RuntimeError",
     "evalue": "asyncio.run() cannot be called from a running event loop",
     "output_type": "error",
     "traceback": [
      "\u001b[1;31m---------------------------------------------------------------------------\u001b[0m",
      "\u001b[1;31mRuntimeError\u001b[0m                              Traceback (most recent call last)",
      "\u001b[1;32mC:\\Users\\ASTROC~1\\AppData\\Local\\Temp/ipykernel_7948/3245489243.py\u001b[0m in \u001b[0;36m<module>\u001b[1;34m\u001b[0m\n\u001b[0;32m      2\u001b[0m     \u001b[0masyncio\u001b[0m\u001b[1;33m.\u001b[0m\u001b[0mcreate_task\u001b[0m\u001b[1;33m(\u001b[0m\u001b[0mhello\u001b[0m\u001b[1;33m)\u001b[0m\u001b[1;33m\u001b[0m\u001b[1;33m\u001b[0m\u001b[0m\n\u001b[0;32m      3\u001b[0m     \u001b[1;32mawait\u001b[0m \u001b[0mtask_1\u001b[0m\u001b[1;33m\u001b[0m\u001b[1;33m\u001b[0m\u001b[0m\n\u001b[1;32m----> 4\u001b[1;33m \u001b[0masyncio\u001b[0m\u001b[1;33m.\u001b[0m\u001b[0mrun\u001b[0m\u001b[1;33m(\u001b[0m\u001b[0mmain\u001b[0m\u001b[1;33m(\u001b[0m\u001b[1;33m)\u001b[0m\u001b[1;33m)\u001b[0m\u001b[1;33m\u001b[0m\u001b[1;33m\u001b[0m\u001b[0m\n\u001b[0m",
      "\u001b[1;32mC:\\ProgramData\\Anaconda3\\lib\\asyncio\\runners.py\u001b[0m in \u001b[0;36mrun\u001b[1;34m(main, debug)\u001b[0m\n\u001b[0;32m     31\u001b[0m     \"\"\"\n\u001b[0;32m     32\u001b[0m     \u001b[1;32mif\u001b[0m \u001b[0mevents\u001b[0m\u001b[1;33m.\u001b[0m\u001b[0m_get_running_loop\u001b[0m\u001b[1;33m(\u001b[0m\u001b[1;33m)\u001b[0m \u001b[1;32mis\u001b[0m \u001b[1;32mnot\u001b[0m \u001b[1;32mNone\u001b[0m\u001b[1;33m:\u001b[0m\u001b[1;33m\u001b[0m\u001b[1;33m\u001b[0m\u001b[0m\n\u001b[1;32m---> 33\u001b[1;33m         raise RuntimeError(\n\u001b[0m\u001b[0;32m     34\u001b[0m             \"asyncio.run() cannot be called from a running event loop\")\n\u001b[0;32m     35\u001b[0m \u001b[1;33m\u001b[0m\u001b[0m\n",
      "\u001b[1;31mRuntimeError\u001b[0m: asyncio.run() cannot be called from a running event loop"
     ]
    }
   ],
   "source": []
  },
  {
   "cell_type": "code",
   "execution_count": null,
   "id": "e880a1a8",
   "metadata": {},
   "outputs": [],
   "source": [
    "\n",
    "\n",
    "def sync_hello():\n",
    "    for i in range(100):\n",
    "        print('sync_hello',i)\n",
    "        asyncio.sleep(1)\n",
    "    \n",
    "async def main():\n",
    "    task_1 = asyncio.create_task(hello) \n",
    "    task_2 = asyncio.create_task(sync_hello)\n",
    "    \n",
    "    await task_1\n",
    "    await task_2\n",
    "\n",
    "if __name__ == '__main__':\n",
    "    \n",
    "    asyncio.run(main())"
   ]
  },
  {
   "cell_type": "code",
   "execution_count": null,
   "id": "ae2f1573",
   "metadata": {},
   "outputs": [],
   "source": [
    "from multiprocessing import Pool\n",
    "\n",
    "def f(x):\n",
    "    return x*x\n",
    "\n",
    "with Pool(5) as p:\n",
    "    print(p.map(f, [1, 2, 3]))"
   ]
  },
  {
   "cell_type": "code",
   "execution_count": 19,
   "id": "c187a1d8",
   "metadata": {
    "scrolled": true
   },
   "outputs": [
    {
     "name": "stderr",
     "output_type": "stream",
     "text": [
      "/var/folders/fk/pp0h7zr144d6g9870ncqvfl00000gn/T/ipykernel_11154/3458620188.py:7: DeprecationWarning: executable_path has been deprecated, please pass in a Service object\n",
      "  driver = webdriver.Chrome(\"./../chrome/chromedriver\")\n"
     ]
    }
   ],
   "source": [
    "from selenium import webdriver\n",
    "from selenium.webdriver.common.by import By\n",
    "from selenium.webdriver.common.action_chains import ActionChains\n",
    "\n",
    "import pickle\n",
    "\n",
    "driver = webdriver.Chrome(\"./../chrome/chromedriver\")\n",
    "driver.get('https://seller.wildberries.ru/')"
   ]
  },
  {
   "cell_type": "code",
   "execution_count": 20,
   "id": "8b5626c5",
   "metadata": {},
   "outputs": [],
   "source": [
    "# pickle.dump(driver.get_cookies(), open('Parther' + \".pkl\", \"wb\"))"
   ]
  },
  {
   "cell_type": "code",
   "execution_count": 1,
   "id": "e79392bb",
   "metadata": {},
   "outputs": [
    {
     "name": "stderr",
     "output_type": "stream",
     "text": [
      "C:\\Users\\ASTROC~1\\AppData\\Local\\Temp/ipykernel_21728/4169890047.py:7: DeprecationWarning: executable_path has been deprecated, please pass in a Service object\n",
      "  driver = webdriver.Chrome(\"./../chrome/chromedriver.exe\")\n"
     ]
    }
   ],
   "source": [
    "from selenium import webdriver\n",
    "from selenium.webdriver.common.by import By\n",
    "from selenium.webdriver.common.action_chains import ActionChains\n",
    "\n",
    "import pickle\n",
    "\n",
    "driver = webdriver.Chrome(\"./../chrome/chromedriver.exe\")\n",
    "driver.get('https://seller.wildberries.ru/')\n",
    "cookies = pickle.load(open('./../bots_sessions/Partner_1' + \".pkl\", \"rb\"))\n",
    "for cookie in cookies:\n",
    "    driver.add_cookie(cookie)\n",
    "driver.get('https://seller.wildberries.ru/')"
   ]
  },
  {
   "cell_type": "code",
   "execution_count": 38,
   "id": "ad842e04",
   "metadata": {},
   "outputs": [],
   "source": []
  },
  {
   "cell_type": "code",
   "execution_count": 41,
   "id": "5b21cb25",
   "metadata": {},
   "outputs": [],
   "source": [
    "inn = 312\n",
    "driver.find_element(By.XPATH, \"//div[contains(@class,'DesktopProfileSelect')]/button\").click()\n",
    "driver.find_element(By.XPATH, f\"//*[contains(text(),'ИНН {inn}')]\").click()"
   ]
  },
  {
   "cell_type": "code",
   "execution_count": 8,
   "id": "0f3a8d3e",
   "metadata": {},
   "outputs": [],
   "source": [
    "driver.find_element(By.XPATH, \"//span[text()='Маркетплейс']/../../a\").click()\n",
    "sleep(1)\n",
    "# marketplace = driver.find_element(By.XPATH, \"//span[text()='Сборочные задания (везу на склад WB)']/../../a\").click()"
   ]
  },
  {
   "cell_type": "code",
   "execution_count": null,
   "id": "ab1a023b",
   "metadata": {},
   "outputs": [],
   "source": [
    "orders = [{'article':'53597951', 'datetime': '2022-05-14 00:00:00.000000'}, {'article':'63266965', 'datetime': '2022-05-29 18:20:32.449000'}]\n",
    "for order in orders:\n",
    "    tasks = self.get_tasks()\n",
    "    for task in tasks:\n",
    "        if task['article'] == order['article'] :\n",
    "            _task_time = datetime.fromisoformat(str(task['datetime']))\n",
    "            task_time = datetime.fromisoformat(str(order['datetime']))\n",
    "            if abs(task_time - task_time).seconds < 120:\n",
    "                \n",
    "                break"
   ]
  },
  {
   "cell_type": "code",
   "execution_count": 8,
   "id": "49a4e05a",
   "metadata": {},
   "outputs": [
    {
     "name": "stdout",
     "output_type": "stream",
     "text": [
      "05.06.2022 21:21 63266967 г Смоленск, Улица Матросова 9\n",
      "04.06.2022 22:09 53597951 г Москва, Коровинское Шоссе 3к2\n"
     ]
    }
   ],
   "source": [
    "rows = driver.find_elements(By.XPATH, \"//div[contains(@class,'row__')]\")[1:]\n",
    "orders = []\n",
    "for row in rows:\n",
    "    link = row.find_element(By.XPATH, \"./div/div/a\")\n",
    "    href = link.get_attribute('href')\n",
    "    cat_i = href.index('catalog/')\n",
    "    start_art = cat_i+len('catalog/')\n",
    "    article = href[start_art:start_art+8]\n",
    "\n",
    "    date = row.find_element(By.XPATH, \"./div[contains(@class,'creationDat')]/div/div/div[contains(@class,'date')]\").text\n",
    "    time = row.find_element(By.XPATH, \"./div[contains(@class,'creationDat')]/div/div/div[contains(@class,'time')]\").text\n",
    "    \n",
    "    delivery_address = row.find_element(By.XPATH, \"./div[contains(@class,'deliveryAddress')]\").text\n",
    "    print(date, time, article, delivery_address)\n"
   ]
  },
  {
   "cell_type": "code",
   "execution_count": 58,
   "id": "c3a69214",
   "metadata": {},
   "outputs": [
    {
     "data": {
      "text/plain": [
       "2022"
      ]
     },
     "execution_count": 58,
     "metadata": {},
     "output_type": "execute_result"
    }
   ],
   "source": [
    "from datetime import date\n",
    "date.today().year"
   ]
  },
  {
   "cell_type": "code",
   "execution_count": 39,
   "id": "e329d071",
   "metadata": {},
   "outputs": [],
   "source": [
    "# pickle.dump(driver.get_cookies(), open('./../bots_sessions/Einstein' + \".pkl\", \"wb\"))"
   ]
  },
  {
   "cell_type": "code",
   "execution_count": 81,
   "id": "39ef29a7",
   "metadata": {},
   "outputs": [],
   "source": [
    "hover = ActionChains(driver)\n",
    "\n",
    "profile_btn = driver.find_element(By.XPATH, \"//span[contains(@class,'navbar-pc__icon--profile')]\")\n",
    "hover.move_to_element(profile_btn).perform()\n",
    "delivery_btn = driver.find_element(By.XPATH, \"//span[text()='Доставки']/../../a[contains(@class,'profile-menu__link')]\")\n",
    "delivery_btn.click()"
   ]
  },
  {
   "cell_type": "code",
   "execution_count": 87,
   "id": "ca23b667",
   "metadata": {},
   "outputs": [
    {
     "data": {
      "text/plain": [
       "['В пути в сортировочный центр', 'Ожидается 19-21 мая']"
      ]
     },
     "execution_count": 87,
     "metadata": {},
     "output_type": "execute_result"
    }
   ],
   "source": [
    "order_statuses = [i.text for i in driver.find_elements(By.XPATH, \"//span[contains(@class,'goods-list-delivery__price-link')]\")]\n",
    "order_statuses"
   ]
  },
  {
   "cell_type": "code",
   "execution_count": 89,
   "id": "059bcaaf",
   "metadata": {},
   "outputs": [
    {
     "data": {
      "text/plain": [
       "'428'"
      ]
     },
     "execution_count": 89,
     "metadata": {},
     "output_type": "execute_result"
    }
   ],
   "source": [
    "order_code = driver.find_element(By.XPATH, \"//div[contains(@class,'delivery-code__value')]\").text"
   ]
  },
  {
   "cell_type": "code",
   "execution_count": 105,
   "id": "25a86a6c",
   "metadata": {},
   "outputs": [
    {
     "name": "stdout",
     "output_type": "stream",
     "text": [
      "536\n",
      "['63266967', '63266966']\n",
      "['Отсортирован в сортировочном центре', 'Ожидается 19-21 мая']\n",
      "536\n",
      "['63266967', '63266966']\n",
      "['Отсортирован в сортировочном центре', 'Ожидается 19-21 мая']\n"
     ]
    }
   ],
   "source": [
    "ARTICLE_LEN = 8\n",
    "\n",
    "for order_row in driver.find_elements(By.XPATH, '//div[@class=\"delivery-block__content\"]'):\n",
    "    pup_address = order_row.find_element(By.XPATH, './div/div/div[contains(@class, \"delivery-address__info\")]')\n",
    "    item_imgs = order_row.find_elements(By.XPATH, './div/ul/li/div/div/img')\n",
    "    img_ext_len = len('-1.avif')\n",
    "    articles = [img.get_attribute('src')[-img_ext_len-ARTICLE_LEN:-img_ext_len] for img in item_imgs]\n",
    "    statuses = order_row.find_elements(By.XPATH, './div/ul/li/div/div/div[@class=\"goods-list-delivery__price-status\"]')\n",
    "    statuses = [status.text for status in statuses]\n",
    "    print(order_row.find_element(By.XPATH, \"./div/div/div[contains(@class,'delivery-code__value')]\").text)\n",
    "    print(articles)\n",
    "    print(statuses)"
   ]
  },
  {
   "cell_type": "code",
   "execution_count": null,
   "id": "8d1220bb",
   "metadata": {},
   "outputs": [],
   "source": []
  },
  {
   "cell_type": "code",
   "execution_count": null,
   "id": "71b3b269",
   "metadata": {},
   "outputs": [],
   "source": []
  },
  {
   "cell_type": "code",
   "execution_count": 35,
   "id": "1b03898f",
   "metadata": {},
   "outputs": [],
   "source": [
    "driver.get('https://www.wildberries.ru')"
   ]
  },
  {
   "cell_type": "code",
   "execution_count": 16,
   "id": "d7801c0f",
   "metadata": {},
   "outputs": [],
   "source": [
    "import sys"
   ]
  },
  {
   "cell_type": "code",
   "execution_count": 17,
   "id": "d08af236",
   "metadata": {},
   "outputs": [
    {
     "data": {
      "text/plain": [
       "'darwin'"
      ]
     },
     "execution_count": 17,
     "metadata": {},
     "output_type": "execute_result"
    }
   ],
   "source": [
    "sys.platform"
   ]
  },
  {
   "cell_type": "code",
   "execution_count": 6,
   "id": "e9f8b61b",
   "metadata": {},
   "outputs": [],
   "source": [
    "import datetime, random"
   ]
  },
  {
   "cell_type": "code",
   "execution_count": 15,
   "id": "d9d07170",
   "metadata": {},
   "outputs": [
    {
     "data": {
      "text/plain": [
       "'7:39:48'"
      ]
     },
     "execution_count": 15,
     "metadata": {},
     "output_type": "execute_result"
    }
   ],
   "source": [
    "str(datetime.timedelta(hours=random.randint(7, 14), minutes=random.randint(0, 60), seconds=random.randint(0, 60)))"
   ]
  },
  {
   "cell_type": "code",
   "execution_count": 16,
   "id": "5694f4d1",
   "metadata": {
    "scrolled": true
   },
   "outputs": [
    {
     "data": {
      "text/plain": [
       "'2022-05-13 12:44:07'"
      ]
     },
     "execution_count": 16,
     "metadata": {},
     "output_type": "execute_result"
    }
   ],
   "source": [
    "str(datetime.datetime.fromisoformat(\"2022-05-13\") + datetime.timedelta(hours=random.randint(7, 14), minutes=random.randint(0, 60), seconds=random.randint(0, 60)))"
   ]
  },
  {
   "cell_type": "code",
   "execution_count": 30,
   "id": "983afe13",
   "metadata": {},
   "outputs": [],
   "source": [
    "end_datetime = datetime.datetime.fromisoformat(\"2022-05-17\") + datetime.timedelta(hours=random.randint(7, 14), minutes=random.randint(0, 60), seconds=random.randint(0, 60))\n",
    "start_datetime = datetime.datetime.now()\n",
    "\n",
    "time_to_end = (end_datetime - start_datetime).total_seconds()"
   ]
  },
  {
   "cell_type": "code",
   "execution_count": 31,
   "id": "e4db4ee4",
   "metadata": {},
   "outputs": [
    {
     "data": {
      "text/plain": [
       "('2022-05-17 09:35:23', '2022-05-15 12:52:04.587031', '160998.412969')"
      ]
     },
     "execution_count": 31,
     "metadata": {},
     "output_type": "execute_result"
    }
   ],
   "source": [
    "str(end_datetime), str(start_datetime), str(time_to_end)"
   ]
  },
  {
   "cell_type": "code",
   "execution_count": 107,
   "id": "1be2645c",
   "metadata": {},
   "outputs": [],
   "source": [
    "class Order():\n",
    "    def __init__(self, id=1, number=0, total_price=0, services_price=0, prices=[], quantities=[], articles=[],\n",
    "                 statuses=[], pup_address='', pup_tg_id='', bot_name='', bot_surname='', start_date='',\n",
    "                 pred_end_date='', end_date='', code_for_approve='', active=True):\n",
    "        super().__init__()\n",
    "        self.id = id\n",
    "        self.number = number\n",
    "        self.total_price = total_price\n",
    "        self.services_price = services_price\n",
    "        self.prices = prices\n",
    "        self.quantities = quantities\n",
    "        self.statuses = statuses\n",
    "        self.articles = articles\n",
    "        self.pup_address = pup_address\n",
    "        self.pup_tg_id = pup_tg_id\n",
    "        self.bot_name = bot_name\n",
    "        self.bot_surname = bot_surname\n",
    "        self.start_date = start_date\n",
    "        self.pred_end_date = pred_end_date\n",
    "        self.end_date = end_date\n",
    "        self.code_for_approve = code_for_approve\n",
    "        self.active = active\n",
    "\n",
    "    def __str__(self):\n",
    "        res = \"\"\n",
    "        for i, col in enumerate(COLUMNS):\n",
    "            res += col + \" = \" + str(getattr(self, col)) + \"; \"\n",
    "        return res\n",
    "\n",
    "    def insert(self):\n",
    "        c = [col for col in COLUMNS if getattr(self, col)]\n",
    "        path = \"INSERT INTO orders (\" + \", \".join(c) + \") VALUES \"\n",
    "        path += \"((SELECT MAX(id)+1 FROM orders), \"\n",
    "        for k in COLUMNS[1:]:\n",
    "            v = getattr(self, k)\n",
    "            if v:\n",
    "                if type(v) is int:\n",
    "                    path += str(v) + \", \"\n",
    "                elif type(v) is str:\n",
    "                    path += \"'\" + str(v) + \"', \"\n",
    "                elif type(v) is bool:\n",
    "                    path += (\"TRUE\" if v else \"FALSE\") + \", \"\n",
    "                elif type(v) is list:\n",
    "                    if type(v[0]) is str:\n",
    "                        path += \"ARRAY\" + str(v) + \"::text[], \"\n",
    "                    elif type(v[0]) is int:\n",
    "                        path += \"ARRAY\" + str(v) + \"::integer[], \"\n",
    "        path = path[:-2]\n",
    "        path += \")\"\n",
    "        print(path)\n",
    "        Order.execute(path)\n",
    "\n",
    "    def update(self):\n",
    "        if self.changed:\n",
    "            path = \"UPDATE orders SET \"\n",
    "            path += \"addresses= ARRAY\" + str(self.addresses) + \"::text[] \"\n",
    "            path += \"WHERE name='\" + str(self.name) + \"'\"\n",
    "            Order.execute(path)\n"
   ]
  },
  {
   "cell_type": "code",
   "execution_count": 108,
   "id": "24ad977d",
   "metadata": {},
   "outputs": [],
   "source": [
    "order = Order()"
   ]
  },
  {
   "cell_type": "code",
   "execution_count": 110,
   "id": "80ce9905",
   "metadata": {},
   "outputs": [
    {
     "ename": "TypeError",
     "evalue": "'Order' object is not iterable",
     "output_type": "error",
     "traceback": [
      "\u001b[1;31m---------------------------------------------------------------------------\u001b[0m",
      "\u001b[1;31mTypeError\u001b[0m                                 Traceback (most recent call last)",
      "\u001b[1;32mC:\\Users\\ASTROC~1\\AppData\\Local\\Temp/ipykernel_9000/3214582906.py\u001b[0m in \u001b[0;36m<module>\u001b[1;34m\u001b[0m\n\u001b[1;32m----> 1\u001b[1;33m \u001b[0mlist\u001b[0m\u001b[1;33m(\u001b[0m\u001b[0morder\u001b[0m\u001b[1;33m)\u001b[0m\u001b[1;33m\u001b[0m\u001b[1;33m\u001b[0m\u001b[0m\n\u001b[0m",
      "\u001b[1;31mTypeError\u001b[0m: 'Order' object is not iterable"
     ]
    }
   ],
   "source": [
    "list(order)"
   ]
  },
  {
   "cell_type": "code",
   "execution_count": 5,
   "id": "638a52f6",
   "metadata": {},
   "outputs": [
    {
     "data": {
      "text/plain": [
       "[{'a': 2, 'b': 0}, {'a': 1, 'b': 2}]"
      ]
     },
     "execution_count": 5,
     "metadata": {},
     "output_type": "execute_result"
    }
   ],
   "source": [
    "a = [{'a':1, 'b':2}, {'a':2, 'b':0}]\n",
    "a.sort(key=lambda x: x['b'])\n",
    "a"
   ]
  },
  {
   "cell_type": "code",
   "execution_count": 6,
   "id": "11959cc1",
   "metadata": {
    "scrolled": false
   },
   "outputs": [
    {
     "name": "stdout",
     "output_type": "stream",
     "text": [
      "Collecting obs-websocket-py\n",
      "  Downloading obs-websocket-py-0.5.3.tar.gz (26 kB)\n",
      "Requirement already satisfied: six in c:\\programdata\\anaconda3\\lib\\site-packages (from obs-websocket-py) (1.16.0)\n",
      "Collecting websocket-client\n",
      "  Downloading websocket_client-1.3.2-py3-none-any.whl (54 kB)\n",
      "Building wheels for collected packages: obs-websocket-py\n",
      "  Building wheel for obs-websocket-py (setup.py): started\n",
      "  Building wheel for obs-websocket-py (setup.py): finished with status 'done'\n",
      "  Created wheel for obs-websocket-py: filename=obs_websocket_py-0.5.3-py3-none-any.whl size=28133 sha256=36a8cec52d29e2aee8599d9f3712c6a36ce72936fcbd661b1fc6401f68f2b670\n",
      "  Stored in directory: c:\\users\\astrocatling\\appdata\\local\\pip\\cache\\wheels\\01\\ad\\ee\\1b5081fd90dcdc5e000699109b7baabae91f1ebf97ec72c4c1\n",
      "Successfully built obs-websocket-py\n",
      "Installing collected packages: websocket-client, obs-websocket-py\n",
      "Successfully installed obs-websocket-py-0.5.3 websocket-client-1.3.2\n"
     ]
    }
   ],
   "source": [
    "!pip install obs-websocket-py"
   ]
  },
  {
   "cell_type": "code",
   "execution_count": 1,
   "id": "17f88e13",
   "metadata": {},
   "outputs": [
    {
     "ename": "RuntimeError",
     "evalue": "This event loop is already running",
     "output_type": "error",
     "traceback": [
      "\u001b[1;31m---------------------------------------------------------------------------\u001b[0m",
      "\u001b[1;31mRuntimeError\u001b[0m                              Traceback (most recent call last)",
      "\u001b[1;32mC:\\ProgramData\\Anaconda3\\lib\\site-packages\\aiogram\\utils\\executor.py\u001b[0m in \u001b[0;36mstart_polling\u001b[1;34m(self, reset_webhook, timeout, relax, fast, allowed_updates)\u001b[0m\n\u001b[0;32m    319\u001b[0m         \u001b[1;32mtry\u001b[0m\u001b[1;33m:\u001b[0m\u001b[1;33m\u001b[0m\u001b[1;33m\u001b[0m\u001b[0m\n\u001b[1;32m--> 320\u001b[1;33m             \u001b[0mloop\u001b[0m\u001b[1;33m.\u001b[0m\u001b[0mrun_until_complete\u001b[0m\u001b[1;33m(\u001b[0m\u001b[0mself\u001b[0m\u001b[1;33m.\u001b[0m\u001b[0m_startup_polling\u001b[0m\u001b[1;33m(\u001b[0m\u001b[1;33m)\u001b[0m\u001b[1;33m)\u001b[0m\u001b[1;33m\u001b[0m\u001b[1;33m\u001b[0m\u001b[0m\n\u001b[0m\u001b[0;32m    321\u001b[0m             loop.create_task(self.dispatcher.start_polling(reset_webhook=reset_webhook, timeout=timeout,\n",
      "\u001b[1;32mC:\\ProgramData\\Anaconda3\\lib\\asyncio\\base_events.py\u001b[0m in \u001b[0;36mrun_until_complete\u001b[1;34m(self, future)\u001b[0m\n\u001b[0;32m    617\u001b[0m         \u001b[0mself\u001b[0m\u001b[1;33m.\u001b[0m\u001b[0m_check_closed\u001b[0m\u001b[1;33m(\u001b[0m\u001b[1;33m)\u001b[0m\u001b[1;33m\u001b[0m\u001b[1;33m\u001b[0m\u001b[0m\n\u001b[1;32m--> 618\u001b[1;33m         \u001b[0mself\u001b[0m\u001b[1;33m.\u001b[0m\u001b[0m_check_running\u001b[0m\u001b[1;33m(\u001b[0m\u001b[1;33m)\u001b[0m\u001b[1;33m\u001b[0m\u001b[1;33m\u001b[0m\u001b[0m\n\u001b[0m\u001b[0;32m    619\u001b[0m \u001b[1;33m\u001b[0m\u001b[0m\n",
      "\u001b[1;32mC:\\ProgramData\\Anaconda3\\lib\\asyncio\\base_events.py\u001b[0m in \u001b[0;36m_check_running\u001b[1;34m(self)\u001b[0m\n\u001b[0;32m    577\u001b[0m         \u001b[1;32mif\u001b[0m \u001b[0mself\u001b[0m\u001b[1;33m.\u001b[0m\u001b[0mis_running\u001b[0m\u001b[1;33m(\u001b[0m\u001b[1;33m)\u001b[0m\u001b[1;33m:\u001b[0m\u001b[1;33m\u001b[0m\u001b[1;33m\u001b[0m\u001b[0m\n\u001b[1;32m--> 578\u001b[1;33m             \u001b[1;32mraise\u001b[0m \u001b[0mRuntimeError\u001b[0m\u001b[1;33m(\u001b[0m\u001b[1;34m'This event loop is already running'\u001b[0m\u001b[1;33m)\u001b[0m\u001b[1;33m\u001b[0m\u001b[1;33m\u001b[0m\u001b[0m\n\u001b[0m\u001b[0;32m    579\u001b[0m         \u001b[1;32mif\u001b[0m \u001b[0mevents\u001b[0m\u001b[1;33m.\u001b[0m\u001b[0m_get_running_loop\u001b[0m\u001b[1;33m(\u001b[0m\u001b[1;33m)\u001b[0m \u001b[1;32mis\u001b[0m \u001b[1;32mnot\u001b[0m \u001b[1;32mNone\u001b[0m\u001b[1;33m:\u001b[0m\u001b[1;33m\u001b[0m\u001b[1;33m\u001b[0m\u001b[0m\n",
      "\u001b[1;31mRuntimeError\u001b[0m: This event loop is already running",
      "\nDuring handling of the above exception, another exception occurred:\n",
      "\u001b[1;31mRuntimeError\u001b[0m                              Traceback (most recent call last)",
      "\u001b[1;32mC:\\Users\\ASTROC~1\\AppData\\Local\\Temp/ipykernel_25108/4085608186.py\u001b[0m in \u001b[0;36m<module>\u001b[1;34m\u001b[0m\n\u001b[0;32m     48\u001b[0m     \u001b[1;32mawait\u001b[0m \u001b[0mmessage\u001b[0m\u001b[1;33m.\u001b[0m\u001b[0mreply\u001b[0m\u001b[1;33m(\u001b[0m\u001b[1;34m\"Привет\"\u001b[0m\u001b[1;33m)\u001b[0m\u001b[1;33m\u001b[0m\u001b[1;33m\u001b[0m\u001b[0m\n\u001b[0;32m     49\u001b[0m \u001b[1;33m\u001b[0m\u001b[0m\n\u001b[1;32m---> 50\u001b[1;33m \u001b[0mexecutor\u001b[0m\u001b[1;33m.\u001b[0m\u001b[0mstart_polling\u001b[0m\u001b[1;33m(\u001b[0m\u001b[0mdp\u001b[0m\u001b[1;33m)\u001b[0m\u001b[1;33m\u001b[0m\u001b[1;33m\u001b[0m\u001b[0m\n\u001b[0m",
      "\u001b[1;32mC:\\ProgramData\\Anaconda3\\lib\\site-packages\\aiogram\\utils\\executor.py\u001b[0m in \u001b[0;36mstart_polling\u001b[1;34m(dispatcher, loop, skip_updates, reset_webhook, on_startup, on_shutdown, timeout, relax, fast, allowed_updates)\u001b[0m\n\u001b[0;32m     43\u001b[0m     \u001b[0m_setup_callbacks\u001b[0m\u001b[1;33m(\u001b[0m\u001b[0mexecutor\u001b[0m\u001b[1;33m,\u001b[0m \u001b[0mon_startup\u001b[0m\u001b[1;33m,\u001b[0m \u001b[0mon_shutdown\u001b[0m\u001b[1;33m)\u001b[0m\u001b[1;33m\u001b[0m\u001b[1;33m\u001b[0m\u001b[0m\n\u001b[0;32m     44\u001b[0m \u001b[1;33m\u001b[0m\u001b[0m\n\u001b[1;32m---> 45\u001b[1;33m     executor.start_polling(\n\u001b[0m\u001b[0;32m     46\u001b[0m         \u001b[0mreset_webhook\u001b[0m\u001b[1;33m=\u001b[0m\u001b[0mreset_webhook\u001b[0m\u001b[1;33m,\u001b[0m\u001b[1;33m\u001b[0m\u001b[1;33m\u001b[0m\u001b[0m\n\u001b[0;32m     47\u001b[0m         \u001b[0mtimeout\u001b[0m\u001b[1;33m=\u001b[0m\u001b[0mtimeout\u001b[0m\u001b[1;33m,\u001b[0m\u001b[1;33m\u001b[0m\u001b[1;33m\u001b[0m\u001b[0m\n",
      "\u001b[1;32mC:\\ProgramData\\Anaconda3\\lib\\site-packages\\aiogram\\utils\\executor.py\u001b[0m in \u001b[0;36mstart_polling\u001b[1;34m(self, reset_webhook, timeout, relax, fast, allowed_updates)\u001b[0m\n\u001b[0;32m    326\u001b[0m             \u001b[1;32mpass\u001b[0m\u001b[1;33m\u001b[0m\u001b[1;33m\u001b[0m\u001b[0m\n\u001b[0;32m    327\u001b[0m         \u001b[1;32mfinally\u001b[0m\u001b[1;33m:\u001b[0m\u001b[1;33m\u001b[0m\u001b[1;33m\u001b[0m\u001b[0m\n\u001b[1;32m--> 328\u001b[1;33m             \u001b[0mloop\u001b[0m\u001b[1;33m.\u001b[0m\u001b[0mrun_until_complete\u001b[0m\u001b[1;33m(\u001b[0m\u001b[0mself\u001b[0m\u001b[1;33m.\u001b[0m\u001b[0m_shutdown_polling\u001b[0m\u001b[1;33m(\u001b[0m\u001b[1;33m)\u001b[0m\u001b[1;33m)\u001b[0m\u001b[1;33m\u001b[0m\u001b[1;33m\u001b[0m\u001b[0m\n\u001b[0m\u001b[0;32m    329\u001b[0m             \u001b[0mlog\u001b[0m\u001b[1;33m.\u001b[0m\u001b[0mwarning\u001b[0m\u001b[1;33m(\u001b[0m\u001b[1;34m\"Goodbye!\"\u001b[0m\u001b[1;33m)\u001b[0m\u001b[1;33m\u001b[0m\u001b[1;33m\u001b[0m\u001b[0m\n\u001b[0;32m    330\u001b[0m \u001b[1;33m\u001b[0m\u001b[0m\n",
      "\u001b[1;32mC:\\ProgramData\\Anaconda3\\lib\\asyncio\\base_events.py\u001b[0m in \u001b[0;36mrun_until_complete\u001b[1;34m(self, future)\u001b[0m\n\u001b[0;32m    616\u001b[0m         \"\"\"\n\u001b[0;32m    617\u001b[0m         \u001b[0mself\u001b[0m\u001b[1;33m.\u001b[0m\u001b[0m_check_closed\u001b[0m\u001b[1;33m(\u001b[0m\u001b[1;33m)\u001b[0m\u001b[1;33m\u001b[0m\u001b[1;33m\u001b[0m\u001b[0m\n\u001b[1;32m--> 618\u001b[1;33m         \u001b[0mself\u001b[0m\u001b[1;33m.\u001b[0m\u001b[0m_check_running\u001b[0m\u001b[1;33m(\u001b[0m\u001b[1;33m)\u001b[0m\u001b[1;33m\u001b[0m\u001b[1;33m\u001b[0m\u001b[0m\n\u001b[0m\u001b[0;32m    619\u001b[0m \u001b[1;33m\u001b[0m\u001b[0m\n\u001b[0;32m    620\u001b[0m         \u001b[0mnew_task\u001b[0m \u001b[1;33m=\u001b[0m \u001b[1;32mnot\u001b[0m \u001b[0mfutures\u001b[0m\u001b[1;33m.\u001b[0m\u001b[0misfuture\u001b[0m\u001b[1;33m(\u001b[0m\u001b[0mfuture\u001b[0m\u001b[1;33m)\u001b[0m\u001b[1;33m\u001b[0m\u001b[1;33m\u001b[0m\u001b[0m\n",
      "\u001b[1;32mC:\\ProgramData\\Anaconda3\\lib\\asyncio\\base_events.py\u001b[0m in \u001b[0;36m_check_running\u001b[1;34m(self)\u001b[0m\n\u001b[0;32m    576\u001b[0m     \u001b[1;32mdef\u001b[0m \u001b[0m_check_running\u001b[0m\u001b[1;33m(\u001b[0m\u001b[0mself\u001b[0m\u001b[1;33m)\u001b[0m\u001b[1;33m:\u001b[0m\u001b[1;33m\u001b[0m\u001b[1;33m\u001b[0m\u001b[0m\n\u001b[0;32m    577\u001b[0m         \u001b[1;32mif\u001b[0m \u001b[0mself\u001b[0m\u001b[1;33m.\u001b[0m\u001b[0mis_running\u001b[0m\u001b[1;33m(\u001b[0m\u001b[1;33m)\u001b[0m\u001b[1;33m:\u001b[0m\u001b[1;33m\u001b[0m\u001b[1;33m\u001b[0m\u001b[0m\n\u001b[1;32m--> 578\u001b[1;33m             \u001b[1;32mraise\u001b[0m \u001b[0mRuntimeError\u001b[0m\u001b[1;33m(\u001b[0m\u001b[1;34m'This event loop is already running'\u001b[0m\u001b[1;33m)\u001b[0m\u001b[1;33m\u001b[0m\u001b[1;33m\u001b[0m\u001b[0m\n\u001b[0m\u001b[0;32m    579\u001b[0m         \u001b[1;32mif\u001b[0m \u001b[0mevents\u001b[0m\u001b[1;33m.\u001b[0m\u001b[0m_get_running_loop\u001b[0m\u001b[1;33m(\u001b[0m\u001b[1;33m)\u001b[0m \u001b[1;32mis\u001b[0m \u001b[1;32mnot\u001b[0m \u001b[1;32mNone\u001b[0m\u001b[1;33m:\u001b[0m\u001b[1;33m\u001b[0m\u001b[1;33m\u001b[0m\u001b[0m\n\u001b[0;32m    580\u001b[0m             raise RuntimeError(\n",
      "\u001b[1;31mRuntimeError\u001b[0m: This event loop is already running"
     ]
    }
   ],
   "source": []
  },
  {
   "cell_type": "code",
   "execution_count": 10,
   "id": "2d88b3ef",
   "metadata": {},
   "outputs": [
    {
     "name": "stderr",
     "output_type": "stream",
     "text": [
      "INFO:obswebsocket.core:Connecting...\n",
      "INFO:obswebsocket.core:Connected!\n"
     ]
    },
    {
     "name": "stdout",
     "output_type": "stream",
     "text": [
      "\n",
      "Сцена\n",
      "\n"
     ]
    },
    {
     "name": "stderr",
     "output_type": "stream",
     "text": [
      "INFO:obswebsocket.core:Disconnecting...\n"
     ]
    },
    {
     "name": "stdout",
     "output_type": "stream",
     "text": [
      "End of list\n"
     ]
    }
   ],
   "source": [
    "import sys\n",
    "import time\n",
    "\n",
    "from obswebsocket import obsws, requests  # noqa: E402\n",
    "\n",
    "\n",
    "host = \"localhost\"\n",
    "port = 4444\n",
    "\n",
    "ws = obsws(host, port)\n",
    "ws.connect()\n",
    "ws.call(requests.StartRecording())\n",
    "time.sleep(2)\n",
    "ws.call(requests.StopRecording())\n",
    "\n",
    "\n",
    "ws.disconnect()"
   ]
  }
 ],
 "metadata": {
  "kernelspec": {
   "display_name": "Python 3 (ipykernel)",
   "language": "python",
   "name": "python3"
  },
  "language_info": {
   "codemirror_mode": {
    "name": "ipython",
    "version": 3
   },
   "file_extension": ".py",
   "mimetype": "text/x-python",
   "name": "python",
   "nbconvert_exporter": "python",
   "pygments_lexer": "ipython3",
   "version": "3.9.7"
  }
 },
 "nbformat": 4,
 "nbformat_minor": 5
}
