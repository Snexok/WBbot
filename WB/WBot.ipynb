{
 "cells": [
  {
   "cell_type": "code",
   "execution_count": 7,
   "id": "39c17991",
   "metadata": {},
   "outputs": [
    {
     "ename": "NameError",
     "evalue": "name 'Bot' is not defined",
     "output_type": "error",
     "traceback": [
      "\u001b[0;31m---------------------------------------------------------------------------\u001b[0m",
      "\u001b[0;31mNameError\u001b[0m                                 Traceback (most recent call last)",
      "Input \u001b[0;32mIn [7]\u001b[0m, in \u001b[0;36m<cell line: 1>\u001b[0;34m()\u001b[0m\n\u001b[0;32m----> 1\u001b[0m bot \u001b[38;5;241m=\u001b[39m \u001b[43mBot\u001b[49m(driver\u001b[38;5;241m=\u001b[39m_bot\u001b[38;5;241m.\u001b[39mdriver)\n",
      "\u001b[0;31mNameError\u001b[0m: name 'Bot' is not defined"
     ]
    }
   ],
   "source": [
    "bot = Bot(driver=_bot.driver)"
   ]
  },
  {
   "cell_type": "code",
   "execution_count": 1,
   "id": "834c5694",
   "metadata": {},
   "outputs": [],
   "source": [
    "# Python Modules\n",
    "import os\n",
    "import json\n",
    "import logging\n",
    "import pandas as pd\n",
    "\n",
    "# For telegram api\n",
    "# pip install python-telegram-bot --upgrade\n",
    "from telegram import Update, InlineKeyboardButton, InlineKeyboardMarkup\n",
    "from telegram.ext import Updater, CommandHandler, MessageHandler, Filters, CallbackContext, \\\n",
    "    CallbackQueryHandler, TypeHandler, ConversationHandler\n",
    "from selenium import webdriver\n",
    "from selenium.webdriver.common.by import By\n",
    "from selenium.webdriver import Keys\n",
    "from selenium.webdriver.common.action_chains import ActionChains\n",
    "from selenium.webdriver.support.wait import WebDriverWait\n",
    "from time import sleep\n",
    "import random\n",
    "import json\n",
    "import pandas as pd\n"
   ]
  },
  {
   "cell_type": "code",
   "execution_count": null,
   "id": "c3c54120",
   "metadata": {},
   "outputs": [],
   "source": [
    "import sys\n",
    "sys.path.append(\"../\")\n",
    "%run Partner.py"
   ]
  },
  {
   "cell_type": "code",
   "execution_count": 3,
   "id": "f109c37d",
   "metadata": {},
   "outputs": [
    {
     "name": "stderr",
     "output_type": "stream",
     "text": [
      "C:\\Users\\ASTROC~1\\AppData\\Local\\Temp/ipykernel_20860/2917753404.py:3: DeprecationWarning: executable_path has been deprecated, please pass in a Service object\n",
      "  driver = webdriver.Chrome(path)\n"
     ]
    }
   ],
   "source": [
    "path=\"../chrome/chromedriver\"\n",
    "path = path+\".exe\" if sys.platform == \"win32\" else path\n",
    "driver = webdriver.Chrome(path)\n",
    "partner = Partner(driver)"
   ]
  },
  {
   "cell_type": "code",
   "execution_count": 5,
   "id": "56a21ce8",
   "metadata": {
    "scrolled": true
   },
   "outputs": [
    {
     "name": "stdout",
     "output_type": "stream",
     "text": [
      "SELECT * FROM orders WHERE collected = FALSE\n",
      "[<TG.Models.Orders.Order object at 0x000001B993925D30>, <TG.Models.Orders.Order object at 0x000001B993925DF0>, <TG.Models.Orders.Order object at 0x000001B996B5D640>]\n",
      "id = 36; number = 26; total_price = 1104; services_price = 50; prices = [1104]; quantities = [1]; articles = ['90085903']; pup_address = г Москва, Старомарьинское Шоссе 22; pup_tg_id = 791436094; bot_name = Coder; bot_surname = Абрамов Семён; start_date = 2022-06-17 15:37:51.915097; pred_end_date = 2022-06-21 00:00:00; end_date = None; code_for_approve = None; active = True; statuses = ['payment']; inn = 381108544328; collected = False; \n",
      "❌ Не найден заказ ❌\n",
      "Артикул: 90085903\n",
      "Адрес: г Москва, Старомарьинское Шоссе 22\n",
      "Время выкупа: 2022-06-17 15:37:51.915097\n",
      "❗Вероятно уехал с ФБО❗\n",
      "id = 38; number = 28; total_price = 996; services_price = 50; prices = [996]; quantities = [1]; articles = ['90085903']; pup_address = г Москва, Улица Мусоргского 5к3; pup_tg_id = 791436094; bot_name = Rubick; bot_surname = Безруков Сергей; start_date = 2022-06-18 06:06:07.138709; pred_end_date = 2022-06-21 00:00:00; end_date = None; code_for_approve = None; active = True; statuses = ['payment']; inn = 381108544328; collected = False; \n",
      "❌ Не найден заказ ❌\n",
      "Артикул: 90085903\n",
      "Адрес: г Москва, Улица Мусоргского 5к3\n",
      "Время выкупа: 2022-06-18 06:06:07.138709\n",
      "❗Вероятно уехал с ФБО❗\n",
      "id = 46; number = 36; total_price = 984; services_price = 50; prices = [984]; quantities = [1]; articles = ['90086527']; pup_address = г Москва, Улица Мусоргского 5к3; pup_tg_id = 791436094; bot_name = Doctor; bot_surname = Егоров Александр; start_date = 2022-06-19 20:16:33.827356; pred_end_date = 2022-06-22 00:00:00; end_date = None; code_for_approve = None; active = True; statuses = ['payment']; inn = 381108544328; collected = False; \n",
      "❌ Не найден заказ ❌\n",
      "Артикул: 90086527\n",
      "Адрес: г Москва, Улица Мусоргского 5к3\n",
      "Время выкупа: 2022-06-19 20:16:33.827356\n",
      "❗Вероятно уехал с ФБО❗\n"
     ]
    },
    {
     "ename": "NoSuchElementException",
     "evalue": "Message: no such element: Unable to locate element: {\"method\":\"xpath\",\"selector\":\"//span[text()='Готово']/..\"}\n  (Session info: chrome=102.0.5005.115)\nStacktrace:\nBacktrace:\n\tOrdinal0 [0x00C1B8F3+2406643]\n\tOrdinal0 [0x00BAAF31+1945393]\n\tOrdinal0 [0x00A9C748+837448]\n\tOrdinal0 [0x00AC92E0+1020640]\n\tOrdinal0 [0x00AC957B+1021307]\n\tOrdinal0 [0x00AF6372+1205106]\n\tOrdinal0 [0x00AE42C4+1131204]\n\tOrdinal0 [0x00AF4682+1197698]\n\tOrdinal0 [0x00AE4096+1130646]\n\tOrdinal0 [0x00ABE636+976438]\n\tOrdinal0 [0x00ABF546+980294]\n\tGetHandleVerifier [0x00E89612+2498066]\n\tGetHandleVerifier [0x00E7C920+2445600]\n\tGetHandleVerifier [0x00CB4F2A+579370]\n\tGetHandleVerifier [0x00CB3D36+574774]\n\tOrdinal0 [0x00BB1C0B+1973259]\n\tOrdinal0 [0x00BB6688+1992328]\n\tOrdinal0 [0x00BB6775+1992565]\n\tOrdinal0 [0x00BBF8D1+2029777]\n\tBaseThreadInitThunk [0x76A5FA29+25]\n\tRtlGetAppContainerNamedObjectPath [0x77D87A9E+286]\n\tRtlGetAppContainerNamedObjectPath [0x77D87A6E+238]\n",
     "output_type": "error",
     "traceback": [
      "\u001b[1;31m---------------------------------------------------------------------------\u001b[0m",
      "\u001b[1;31mNoSuchElementException\u001b[0m                    Traceback (most recent call last)",
      "\u001b[1;32mC:\\Users\\ASTROC~1\\AppData\\Local\\Temp/ipykernel_29040/1057403848.py\u001b[0m in \u001b[0;36m<module>\u001b[1;34m\u001b[0m\n\u001b[1;32m----> 1\u001b[1;33m \u001b[1;32mawait\u001b[0m \u001b[0mpartner\u001b[0m\u001b[1;33m.\u001b[0m\u001b[0mcollect_orders\u001b[0m\u001b[1;33m(\u001b[0m\u001b[1;33m)\u001b[0m\u001b[1;33m\u001b[0m\u001b[1;33m\u001b[0m\u001b[0m\n\u001b[0m",
      "\u001b[1;32m~\\WBbot\\WB\\Partner.py\u001b[0m in \u001b[0;36mcollect_orders\u001b[1;34m(self)\u001b[0m\n\u001b[0;32m     45\u001b[0m             \u001b[1;31m# if is_add_to_assembly:\u001b[0m\u001b[1;33m\u001b[0m\u001b[1;33m\u001b[0m\u001b[0m\n\u001b[0;32m     46\u001b[0m             \u001b[1;32mawait\u001b[0m \u001b[0mself\u001b[0m\u001b[1;33m.\u001b[0m\u001b[0mgo_to_assembly\u001b[0m\u001b[1;33m(\u001b[0m\u001b[1;33m)\u001b[0m\u001b[1;33m\u001b[0m\u001b[1;33m\u001b[0m\u001b[0m\n\u001b[1;32m---> 47\u001b[1;33m             \u001b[1;32mawait\u001b[0m \u001b[0mself\u001b[0m\u001b[1;33m.\u001b[0m\u001b[0mcreate_assembly\u001b[0m\u001b[1;33m(\u001b[0m\u001b[1;33m)\u001b[0m\u001b[1;33m\u001b[0m\u001b[1;33m\u001b[0m\u001b[0m\n\u001b[0m\u001b[0;32m     48\u001b[0m             \u001b[1;32mawait\u001b[0m \u001b[0mself\u001b[0m\u001b[1;33m.\u001b[0m\u001b[0mopen_and_send_shks\u001b[0m\u001b[1;33m(\u001b[0m\u001b[1;33m)\u001b[0m\u001b[1;33m\u001b[0m\u001b[1;33m\u001b[0m\u001b[0m\n\u001b[0;32m     49\u001b[0m             \u001b[1;32mawait\u001b[0m \u001b[0mself\u001b[0m\u001b[1;33m.\u001b[0m\u001b[0mpick_all_tasks\u001b[0m\u001b[1;33m(\u001b[0m\u001b[1;33m)\u001b[0m\u001b[1;33m\u001b[0m\u001b[1;33m\u001b[0m\u001b[0m\n",
      "\u001b[1;32m~\\WBbot\\WB\\Partner.py\u001b[0m in \u001b[0;36mcreate_assembly\u001b[1;34m(self)\u001b[0m\n\u001b[0;32m    202\u001b[0m         \u001b[0mself\u001b[0m\u001b[1;33m.\u001b[0m\u001b[0mdriver\u001b[0m\u001b[1;33m.\u001b[0m\u001b[0mfind_element\u001b[0m\u001b[1;33m(\u001b[0m\u001b[0mBy\u001b[0m\u001b[1;33m.\u001b[0m\u001b[0mXPATH\u001b[0m\u001b[1;33m,\u001b[0m \u001b[1;34m\"//span[text()='Создать поставку']/..\"\u001b[0m\u001b[1;33m)\u001b[0m\u001b[1;33m.\u001b[0m\u001b[0mclick\u001b[0m\u001b[1;33m(\u001b[0m\u001b[1;33m)\u001b[0m\u001b[1;33m\u001b[0m\u001b[1;33m\u001b[0m\u001b[0m\n\u001b[0;32m    203\u001b[0m         \u001b[1;32mawait\u001b[0m \u001b[0msleep\u001b[0m\u001b[1;33m(\u001b[0m\u001b[1;36m2\u001b[0m\u001b[1;33m)\u001b[0m\u001b[1;33m\u001b[0m\u001b[1;33m\u001b[0m\u001b[0m\n\u001b[1;32m--> 204\u001b[1;33m         \u001b[0mself\u001b[0m\u001b[1;33m.\u001b[0m\u001b[0mdriver\u001b[0m\u001b[1;33m.\u001b[0m\u001b[0mfind_element\u001b[0m\u001b[1;33m(\u001b[0m\u001b[0mBy\u001b[0m\u001b[1;33m.\u001b[0m\u001b[0mXPATH\u001b[0m\u001b[1;33m,\u001b[0m \u001b[1;34m\"//span[text()='Готово']/..\"\u001b[0m\u001b[1;33m)\u001b[0m\u001b[1;33m.\u001b[0m\u001b[0mclick\u001b[0m\u001b[1;33m(\u001b[0m\u001b[1;33m)\u001b[0m\u001b[1;33m\u001b[0m\u001b[1;33m\u001b[0m\u001b[0m\n\u001b[0m\u001b[0;32m    205\u001b[0m         \u001b[1;32mawait\u001b[0m \u001b[0msleep\u001b[0m\u001b[1;33m(\u001b[0m\u001b[1;36m2\u001b[0m\u001b[1;33m)\u001b[0m\u001b[1;33m\u001b[0m\u001b[1;33m\u001b[0m\u001b[0m\n\u001b[0;32m    206\u001b[0m         \u001b[0mself\u001b[0m\u001b[1;33m.\u001b[0m\u001b[0mdriver\u001b[0m\u001b[1;33m.\u001b[0m\u001b[0mfind_element\u001b[0m\u001b[1;33m(\u001b[0m\u001b[0mBy\u001b[0m\u001b[1;33m.\u001b[0m\u001b[0mXPATH\u001b[0m\u001b[1;33m,\u001b[0m \u001b[1;34m\"//div[contains(@class, 'Modal__close')]/button\"\u001b[0m\u001b[1;33m)\u001b[0m\u001b[1;33m.\u001b[0m\u001b[0mclick\u001b[0m\u001b[1;33m(\u001b[0m\u001b[1;33m)\u001b[0m\u001b[1;33m\u001b[0m\u001b[1;33m\u001b[0m\u001b[0m\n",
      "\u001b[1;32mC:\\ProgramData\\Anaconda3\\lib\\site-packages\\selenium\\webdriver\\remote\\webdriver.py\u001b[0m in \u001b[0;36mfind_element\u001b[1;34m(self, by, value)\u001b[0m\n\u001b[0;32m   1242\u001b[0m             \u001b[0mvalue\u001b[0m \u001b[1;33m=\u001b[0m \u001b[1;34m'[name=\"%s\"]'\u001b[0m \u001b[1;33m%\u001b[0m \u001b[0mvalue\u001b[0m\u001b[1;33m\u001b[0m\u001b[1;33m\u001b[0m\u001b[0m\n\u001b[0;32m   1243\u001b[0m \u001b[1;33m\u001b[0m\u001b[0m\n\u001b[1;32m-> 1244\u001b[1;33m         return self.execute(Command.FIND_ELEMENT, {\n\u001b[0m\u001b[0;32m   1245\u001b[0m             \u001b[1;34m'using'\u001b[0m\u001b[1;33m:\u001b[0m \u001b[0mby\u001b[0m\u001b[1;33m,\u001b[0m\u001b[1;33m\u001b[0m\u001b[1;33m\u001b[0m\u001b[0m\n\u001b[0;32m   1246\u001b[0m             'value': value})['value']\n",
      "\u001b[1;32mC:\\ProgramData\\Anaconda3\\lib\\site-packages\\selenium\\webdriver\\remote\\webdriver.py\u001b[0m in \u001b[0;36mexecute\u001b[1;34m(self, driver_command, params)\u001b[0m\n\u001b[0;32m    422\u001b[0m         \u001b[0mresponse\u001b[0m \u001b[1;33m=\u001b[0m \u001b[0mself\u001b[0m\u001b[1;33m.\u001b[0m\u001b[0mcommand_executor\u001b[0m\u001b[1;33m.\u001b[0m\u001b[0mexecute\u001b[0m\u001b[1;33m(\u001b[0m\u001b[0mdriver_command\u001b[0m\u001b[1;33m,\u001b[0m \u001b[0mparams\u001b[0m\u001b[1;33m)\u001b[0m\u001b[1;33m\u001b[0m\u001b[1;33m\u001b[0m\u001b[0m\n\u001b[0;32m    423\u001b[0m         \u001b[1;32mif\u001b[0m \u001b[0mresponse\u001b[0m\u001b[1;33m:\u001b[0m\u001b[1;33m\u001b[0m\u001b[1;33m\u001b[0m\u001b[0m\n\u001b[1;32m--> 424\u001b[1;33m             \u001b[0mself\u001b[0m\u001b[1;33m.\u001b[0m\u001b[0merror_handler\u001b[0m\u001b[1;33m.\u001b[0m\u001b[0mcheck_response\u001b[0m\u001b[1;33m(\u001b[0m\u001b[0mresponse\u001b[0m\u001b[1;33m)\u001b[0m\u001b[1;33m\u001b[0m\u001b[1;33m\u001b[0m\u001b[0m\n\u001b[0m\u001b[0;32m    425\u001b[0m             response['value'] = self._unwrap_value(\n\u001b[0;32m    426\u001b[0m                 response.get('value', None))\n",
      "\u001b[1;32mC:\\ProgramData\\Anaconda3\\lib\\site-packages\\selenium\\webdriver\\remote\\errorhandler.py\u001b[0m in \u001b[0;36mcheck_response\u001b[1;34m(self, response)\u001b[0m\n\u001b[0;32m    245\u001b[0m                 \u001b[0malert_text\u001b[0m \u001b[1;33m=\u001b[0m \u001b[0mvalue\u001b[0m\u001b[1;33m[\u001b[0m\u001b[1;34m'alert'\u001b[0m\u001b[1;33m]\u001b[0m\u001b[1;33m.\u001b[0m\u001b[0mget\u001b[0m\u001b[1;33m(\u001b[0m\u001b[1;34m'text'\u001b[0m\u001b[1;33m)\u001b[0m\u001b[1;33m\u001b[0m\u001b[1;33m\u001b[0m\u001b[0m\n\u001b[0;32m    246\u001b[0m             \u001b[1;32mraise\u001b[0m \u001b[0mexception_class\u001b[0m\u001b[1;33m(\u001b[0m\u001b[0mmessage\u001b[0m\u001b[1;33m,\u001b[0m \u001b[0mscreen\u001b[0m\u001b[1;33m,\u001b[0m \u001b[0mstacktrace\u001b[0m\u001b[1;33m,\u001b[0m \u001b[0malert_text\u001b[0m\u001b[1;33m)\u001b[0m  \u001b[1;31m# type: ignore[call-arg]  # mypy is not smart enough here\u001b[0m\u001b[1;33m\u001b[0m\u001b[1;33m\u001b[0m\u001b[0m\n\u001b[1;32m--> 247\u001b[1;33m         \u001b[1;32mraise\u001b[0m \u001b[0mexception_class\u001b[0m\u001b[1;33m(\u001b[0m\u001b[0mmessage\u001b[0m\u001b[1;33m,\u001b[0m \u001b[0mscreen\u001b[0m\u001b[1;33m,\u001b[0m \u001b[0mstacktrace\u001b[0m\u001b[1;33m)\u001b[0m\u001b[1;33m\u001b[0m\u001b[1;33m\u001b[0m\u001b[0m\n\u001b[0m\u001b[0;32m    248\u001b[0m \u001b[1;33m\u001b[0m\u001b[0m\n\u001b[0;32m    249\u001b[0m     \u001b[1;32mdef\u001b[0m \u001b[0m_value_or_default\u001b[0m\u001b[1;33m(\u001b[0m\u001b[0mself\u001b[0m\u001b[1;33m,\u001b[0m \u001b[0mobj\u001b[0m\u001b[1;33m:\u001b[0m \u001b[0mMapping\u001b[0m\u001b[1;33m[\u001b[0m\u001b[0m_KT\u001b[0m\u001b[1;33m,\u001b[0m \u001b[0m_VT\u001b[0m\u001b[1;33m]\u001b[0m\u001b[1;33m,\u001b[0m \u001b[0mkey\u001b[0m\u001b[1;33m:\u001b[0m \u001b[0m_KT\u001b[0m\u001b[1;33m,\u001b[0m \u001b[0mdefault\u001b[0m\u001b[1;33m:\u001b[0m \u001b[0m_VT\u001b[0m\u001b[1;33m)\u001b[0m \u001b[1;33m->\u001b[0m \u001b[0m_VT\u001b[0m\u001b[1;33m:\u001b[0m\u001b[1;33m\u001b[0m\u001b[1;33m\u001b[0m\u001b[0m\n",
      "\u001b[1;31mNoSuchElementException\u001b[0m: Message: no such element: Unable to locate element: {\"method\":\"xpath\",\"selector\":\"//span[text()='Готово']/..\"}\n  (Session info: chrome=102.0.5005.115)\nStacktrace:\nBacktrace:\n\tOrdinal0 [0x00C1B8F3+2406643]\n\tOrdinal0 [0x00BAAF31+1945393]\n\tOrdinal0 [0x00A9C748+837448]\n\tOrdinal0 [0x00AC92E0+1020640]\n\tOrdinal0 [0x00AC957B+1021307]\n\tOrdinal0 [0x00AF6372+1205106]\n\tOrdinal0 [0x00AE42C4+1131204]\n\tOrdinal0 [0x00AF4682+1197698]\n\tOrdinal0 [0x00AE4096+1130646]\n\tOrdinal0 [0x00ABE636+976438]\n\tOrdinal0 [0x00ABF546+980294]\n\tGetHandleVerifier [0x00E89612+2498066]\n\tGetHandleVerifier [0x00E7C920+2445600]\n\tGetHandleVerifier [0x00CB4F2A+579370]\n\tGetHandleVerifier [0x00CB3D36+574774]\n\tOrdinal0 [0x00BB1C0B+1973259]\n\tOrdinal0 [0x00BB6688+1992328]\n\tOrdinal0 [0x00BB6775+1992565]\n\tOrdinal0 [0x00BBF8D1+2029777]\n\tBaseThreadInitThunk [0x76A5FA29+25]\n\tRtlGetAppContainerNamedObjectPath [0x77D87A9E+286]\n\tRtlGetAppContainerNamedObjectPath [0x77D87A6E+238]\n"
     ]
    }
   ],
   "source": [
    "await partner.collect_orders()"
   ]
  },
  {
   "cell_type": "code",
   "execution_count": 8,
   "id": "1a38ad11",
   "metadata": {},
   "outputs": [
    {
     "name": "stdout",
     "output_type": "stream",
     "text": [
      "article 90086527\n"
     ]
    },
    {
     "name": "stderr",
     "output_type": "stream",
     "text": [
      "Unclosed client session\n",
      "client_session: <aiohttp.client.ClientSession object at 0x000001B998D31C40>\n",
      "Unclosed connector\n",
      "connections: ['[(<aiohttp.client_proto.ResponseHandler object at 0x000001B996A349A0>, 332974.718)]']\n",
      "connector: <aiohttp.connector.TCPConnector object at 0x000001B996C1B8E0>\n"
     ]
    }
   ],
   "source": [
    "await partner.open_and_send_shks()"
   ]
  },
  {
   "cell_type": "code",
   "execution_count": 15,
   "id": "a779673f",
   "metadata": {},
   "outputs": [
    {
     "name": "stdout",
     "output_type": "stream",
     "text": [
      "cookies_btn not defined\n"
     ]
    }
   ],
   "source": [
    "partner.add_to_assembly()"
   ]
  },
  {
   "cell_type": "code",
   "execution_count": 17,
   "id": "086949e0",
   "metadata": {},
   "outputs": [],
   "source": [
    "partner.go_to_assembly()"
   ]
  },
  {
   "cell_type": "code",
   "execution_count": 19,
   "id": "b4ce451a",
   "metadata": {},
   "outputs": [],
   "source": [
    "partner.driver.switch_to.window(partner.driver.window_handles[0])\n",
    "partner.driver.find_element(By.XPATH, \"//span[text()='Создать поставку']/..\").click()\n",
    "partner.driver.find_element(By.XPATH, \"//span[text()='Готово']/..\").click()\n",
    "partner.driver.find_element(By.XPATH, \"//div[contains(@class, 'Modal__close')]/button\").click()"
   ]
  },
  {
   "cell_type": "code",
   "execution_count": 20,
   "id": "77344814",
   "metadata": {},
   "outputs": [],
   "source": []
  },
  {
   "cell_type": "code",
   "execution_count": 21,
   "id": "4c75b530",
   "metadata": {},
   "outputs": [],
   "source": [
    "from time import sleep\n",
    "import base64\n",
    "def get_file_content_chrome(driver):\n",
    "    result = driver.execute_async_script(\"\"\"\n",
    "        var uri = arguments[0];\n",
    "        var callback = arguments[1];\n",
    "        var toBase64 = function(buffer){for(var r,n=new Uint8Array(buffer),t=n.length,a=new Uint8Array(4*Math.ceil(t/3)),i=new Uint8Array(64),o=0,c=0;64>c;++c)i[c]=\"ABCDEFGHIJKLMNOPQRSTUVWXYZabcdefghijklmnopqrstuvwxyz0123456789+/\".charCodeAt(c);for(c=0;t-t%3>c;c+=3,o+=4)r=n[c]<<16|n[c+1]<<8|n[c+2],a[o]=i[r>>18],a[o+1]=i[r>>12&63],a[o+2]=i[r>>6&63],a[o+3]=i[63&r];return t%3===1?(r=n[t-1],a[o]=i[r>>2],a[o+1]=i[r<<4&63],a[o+2]=61,a[o+3]=61):t%3===2&&(r=(n[t-2]<<8)+n[t-1],a[o]=i[r>>10],a[o+1]=i[r>>4&63],a[o+2]=i[r<<2&63],a[o+3]=61),new TextDecoder(\"ascii\").decode(a)};\n",
    "        var xhr = new XMLHttpRequest();\n",
    "        xhr.responseType = 'arraybuffer';\n",
    "        xhr.onload = function(){ callback(toBase64(xhr.response)) };\n",
    "        xhr.onerror = function(){ callback(xhr.status) };\n",
    "        xhr.open('GET', uri);\n",
    "        xhr.send();\n",
    "        \"\"\", driver.current_url)\n",
    "    if type(result) == int :\n",
    "        raise Exception(\"Request failed with status %s\" % result)\n",
    "    return base64.b64decode(result)"
   ]
  },
  {
   "cell_type": "code",
   "execution_count": 24,
   "id": "43199386",
   "metadata": {},
   "outputs": [
    {
     "name": "stderr",
     "output_type": "stream",
     "text": [
      "Unclosed client session\n",
      "client_session: <aiohttp.client.ClientSession object at 0x000001457F798670>\n"
     ]
    },
    {
     "name": "stdout",
     "output_type": "stream",
     "text": [
      "53597951\n",
      "63266965\n"
     ]
    }
   ],
   "source": [
    "from aiogram import Bot as TG_Bot\n",
    "partner.driver.switch_to.window(partner.driver.window_handles[0])\n",
    "bot = TG_Bot(token=\"5142587667:AAG0hn1NKMOfvWcF9CQJbLJaw95myKPHlrM\")\n",
    "rows = partner.driver.find_elements(By.XPATH, \"//div[contains(@class,'Table-row__')]\")\n",
    "for row in rows:\n",
    "    partner.driver.switch_to.window(partner.driver.window_handles[0])\n",
    "    link = row.find_element(By.XPATH, \"./div/div/a\")\n",
    "    href = link.get_attribute('href')\n",
    "    cat_i = href.index('catalog/')\n",
    "    start_art = cat_i + len('catalog/')\n",
    "    article = href[start_art:start_art + 8]\n",
    "    print(article)\n",
    "    row.find_element(By.XPATH, \"./div/div/label\").click()\n",
    "    row.find_element(By.XPATH, \"./div/div/button\").click()\n",
    "    sleep(1)\n",
    "    partner.driver.find_element(By.XPATH, \"//span[text()='Распечатать этикетку']\").click()\n",
    "    sleep(1)\n",
    "    partner.driver.switch_to.window(partner.driver.window_handles[-1])\n",
    "    b = get_file_content_chrome(partner.driver)\n",
    "#     with open('code.pdf', 'wb') as f:\n",
    "#         f.write(b)\n",
    "    await bot.send_document(\"791436094\", (f'{article}.pdf', b))\n",
    "    await bot.send_document(\"794329884\", (f'{article}.pdf', b))\n",
    "    sleep(1)\n",
    "    partner.driver.close()\n",
    "\n",
    "partner.driver.switch_to.window(partner.driver.window_handles[0])"
   ]
  },
  {
   "cell_type": "code",
   "execution_count": 110,
   "id": "379a220b",
   "metadata": {},
   "outputs": [
    {
     "name": "stdout",
     "output_type": "stream",
     "text": [
      "63266965\n"
     ]
    }
   ],
   "source": [
    "\n",
    "\n",
    "partner.driver.find_element(By.XPATH, \"//span[text()='Распечатать этикетки и добавить товары в поставку']/..\").click()\n",
    "sleep(1)\n",
    "partner.driver.find_element(By.XPATH, \"//span[@class='Button-link__text' and text()='Ок']\").click()\n",
    "self.to_only_one_tab()\n",
    "sleep(1)\n",
    "partner.driver.find_element(By.XPATH, \"//div[contains(@class, 'Modal__close')]/button\").click()\n",
    "sleep(1)\n",
    "tasks_shk = partner.driver.find_element(By.XPATH, \"//div[contains(@class,'All-tasks-view__shk')]\").text\n",
    "partner.driver.find_element(By.XPATH, \"//span[text()='Распечатать']\").click()\n",
    "sleep(1)\n",
    "partner.driver.switch_to.window(partner.driver.window_handles[-1])\n",
    "b = get_file_content_chrome(partner.driver)\n",
    "await bot.send_document(\"791436094\", (f'{tasks_shk}.pdf', b))\n",
    "await bot.send_document(\"794329884\", (f'{tasks_shk}.pdf', b))\n",
    "sleep(1)\n",
    "partner.driver.close()\n",
    "partner.driver.switch_to.window(partner.driver.window_handles[0])\n",
    "sleep(1)\n",
    "partner.driver.find_element(By.XPATH, \"//span[text()='Закрыть поставку']\").click()"
   ]
  },
  {
   "cell_type": "code",
   "execution_count": 11,
   "id": "2cf9797f",
   "metadata": {},
   "outputs": [
    {
     "name": "stdout",
     "output_type": "stream",
     "text": [
      "Collecting PyMuPDF\n",
      "  Downloading PyMuPDF-1.20.0-cp39-cp39-win_amd64.whl (6.6 MB)\n",
      "Installing collected packages: PyMuPDF\n",
      "Successfully installed PyMuPDF-1.20.0\n"
     ]
    }
   ],
   "source": [
    "!pip install PyMuPDF"
   ]
  },
  {
   "cell_type": "code",
   "execution_count": 20,
   "id": "5feac13c",
   "metadata": {},
   "outputs": [
    {
     "data": {
      "text/plain": [
       "[{'order_number': '329546588', 'barcode': '5032779974840'},\n",
       " {'order_number': '329546769', 'barcode': '5032779979480'},\n",
       " {'order_number': '329546813', 'barcode': '5032779980140'},\n",
       " {'order_number': '329546853', 'barcode': '5032779977871'}]"
      ]
     },
     "execution_count": 20,
     "metadata": {},
     "output_type": "execute_result"
    }
   ],
   "source": [
    "import fitz # install using: pip install PyMuPDF\n",
    "\n",
    "with fitz.open(\"WB-GI-9677596.pdf\") as doc:\n",
    "    text = \"\"\n",
    "    for page in doc:\n",
    "        text += page.get_text()\n",
    "\n",
    "data  = text.split(\"\\n\")[4:-1]\n",
    "res = []\n",
    "for i, o in enumerate(data):\n",
    "    if i%2 == 0:\n",
    "        res += [{'order_number': o, 'barcode': data[i+1]}] \n",
    "res"
   ]
  },
  {
   "cell_type": "code",
   "execution_count": 19,
   "id": "9830a166",
   "metadata": {
    "collapsed": true
   },
   "outputs": [
    {
     "ename": "WebDriverException",
     "evalue": "Message: chrome not reachable\n  (Session info: chrome=104.0.5112.82)\nStacktrace:\nBacktrace:\n\tOrdinal0 [0x00FE6463+2188387]\n\tOrdinal0 [0x00F7E461+1762401]\n\tOrdinal0 [0x00E93C40+801856]\n\tOrdinal0 [0x00E88932+756018]\n\tOrdinal0 [0x00E89168+758120]\n\tOrdinal0 [0x00E8AA22+764450]\n\tOrdinal0 [0x00E84379+738169]\n\tOrdinal0 [0x00E950D0+807120]\n\tOrdinal0 [0x00EEC402+1164290]\n\tOrdinal0 [0x00EDC5F6+1099254]\n\tOrdinal0 [0x00EB6BE0+945120]\n\tOrdinal0 [0x00EB7AD6+948950]\n\tGetHandleVerifier [0x012871F2+2712546]\n\tGetHandleVerifier [0x0127886D+2652765]\n\tGetHandleVerifier [0x0107002A+520730]\n\tGetHandleVerifier [0x0106EE06+516086]\n\tOrdinal0 [0x00F8468B+1787531]\n\tOrdinal0 [0x00F88E88+1805960]\n\tOrdinal0 [0x00F88F75+1806197]\n\tOrdinal0 [0x00F91DF1+1842673]\n\tBaseThreadInitThunk [0x769BFA29+25]\n\tRtlGetAppContainerNamedObjectPath [0x77E87A9E+286]\n\tRtlGetAppContainerNamedObjectPath [0x77E87A6E+238]\n",
     "output_type": "error",
     "traceback": [
      "\u001b[1;31m---------------------------------------------------------------------------\u001b[0m",
      "\u001b[1;31mWebDriverException\u001b[0m                        Traceback (most recent call last)",
      "\u001b[1;32mC:\\Users\\ASTROC~1\\AppData\\Local\\Temp/ipykernel_22280/1883318292.py\u001b[0m in \u001b[0;36m<module>\u001b[1;34m\u001b[0m\n\u001b[1;32m----> 1\u001b[1;33m \u001b[0mass\u001b[0m \u001b[1;33m=\u001b[0m \u001b[0mdriver\u001b[0m\u001b[1;33m.\u001b[0m\u001b[0mfind_elements\u001b[0m\u001b[1;33m(\u001b[0m\u001b[0mBy\u001b[0m\u001b[1;33m.\u001b[0m\u001b[0mXPATH\u001b[0m\u001b[1;33m,\u001b[0m \u001b[1;34mf'//div[text()=\"Товары для взрослых\"]'\u001b[0m\u001b[1;33m)\u001b[0m\u001b[1;33m\u001b[0m\u001b[1;33m\u001b[0m\u001b[0m\n\u001b[0m\u001b[0;32m      2\u001b[0m \u001b[1;32mif\u001b[0m \u001b[0mass\u001b[0m\u001b[1;33m:\u001b[0m\u001b[1;33m\u001b[0m\u001b[1;33m\u001b[0m\u001b[0m\n\u001b[0;32m      3\u001b[0m     \u001b[1;32mfor\u001b[0m \u001b[0ma\u001b[0m \u001b[1;32min\u001b[0m \u001b[0mass\u001b[0m\u001b[1;33m:\u001b[0m\u001b[1;33m\u001b[0m\u001b[1;33m\u001b[0m\u001b[0m\n\u001b[0;32m      4\u001b[0m         \u001b[1;32mtry\u001b[0m\u001b[1;33m:\u001b[0m\u001b[1;33m\u001b[0m\u001b[1;33m\u001b[0m\u001b[0m\n\u001b[0;32m      5\u001b[0m                 \u001b[0ma\u001b[0m\u001b[1;33m.\u001b[0m\u001b[0mclick\u001b[0m\u001b[1;33m(\u001b[0m\u001b[1;33m)\u001b[0m\u001b[1;33m\u001b[0m\u001b[1;33m\u001b[0m\u001b[0m\n",
      "\u001b[1;32mC:\\ProgramData\\Anaconda3\\lib\\site-packages\\selenium\\webdriver\\remote\\webdriver.py\u001b[0m in \u001b[0;36mfind_elements\u001b[1;34m(self, by, value)\u001b[0m\n\u001b[0;32m   1277\u001b[0m         \u001b[1;31m# Return empty list if driver returns null\u001b[0m\u001b[1;33m\u001b[0m\u001b[1;33m\u001b[0m\u001b[0m\n\u001b[0;32m   1278\u001b[0m         \u001b[1;31m# See https://github.com/SeleniumHQ/selenium/issues/4555\u001b[0m\u001b[1;33m\u001b[0m\u001b[1;33m\u001b[0m\u001b[0m\n\u001b[1;32m-> 1279\u001b[1;33m         return self.execute(Command.FIND_ELEMENTS, {\n\u001b[0m\u001b[0;32m   1280\u001b[0m             \u001b[1;34m'using'\u001b[0m\u001b[1;33m:\u001b[0m \u001b[0mby\u001b[0m\u001b[1;33m,\u001b[0m\u001b[1;33m\u001b[0m\u001b[1;33m\u001b[0m\u001b[0m\n\u001b[0;32m   1281\u001b[0m             'value': value})['value'] or []\n",
      "\u001b[1;32mC:\\ProgramData\\Anaconda3\\lib\\site-packages\\selenium\\webdriver\\remote\\webdriver.py\u001b[0m in \u001b[0;36mexecute\u001b[1;34m(self, driver_command, params)\u001b[0m\n\u001b[0;32m    422\u001b[0m         \u001b[0mresponse\u001b[0m \u001b[1;33m=\u001b[0m \u001b[0mself\u001b[0m\u001b[1;33m.\u001b[0m\u001b[0mcommand_executor\u001b[0m\u001b[1;33m.\u001b[0m\u001b[0mexecute\u001b[0m\u001b[1;33m(\u001b[0m\u001b[0mdriver_command\u001b[0m\u001b[1;33m,\u001b[0m \u001b[0mparams\u001b[0m\u001b[1;33m)\u001b[0m\u001b[1;33m\u001b[0m\u001b[1;33m\u001b[0m\u001b[0m\n\u001b[0;32m    423\u001b[0m         \u001b[1;32mif\u001b[0m \u001b[0mresponse\u001b[0m\u001b[1;33m:\u001b[0m\u001b[1;33m\u001b[0m\u001b[1;33m\u001b[0m\u001b[0m\n\u001b[1;32m--> 424\u001b[1;33m             \u001b[0mself\u001b[0m\u001b[1;33m.\u001b[0m\u001b[0merror_handler\u001b[0m\u001b[1;33m.\u001b[0m\u001b[0mcheck_response\u001b[0m\u001b[1;33m(\u001b[0m\u001b[0mresponse\u001b[0m\u001b[1;33m)\u001b[0m\u001b[1;33m\u001b[0m\u001b[1;33m\u001b[0m\u001b[0m\n\u001b[0m\u001b[0;32m    425\u001b[0m             response['value'] = self._unwrap_value(\n\u001b[0;32m    426\u001b[0m                 response.get('value', None))\n",
      "\u001b[1;32mC:\\ProgramData\\Anaconda3\\lib\\site-packages\\selenium\\webdriver\\remote\\errorhandler.py\u001b[0m in \u001b[0;36mcheck_response\u001b[1;34m(self, response)\u001b[0m\n\u001b[0;32m    245\u001b[0m                 \u001b[0malert_text\u001b[0m \u001b[1;33m=\u001b[0m \u001b[0mvalue\u001b[0m\u001b[1;33m[\u001b[0m\u001b[1;34m'alert'\u001b[0m\u001b[1;33m]\u001b[0m\u001b[1;33m.\u001b[0m\u001b[0mget\u001b[0m\u001b[1;33m(\u001b[0m\u001b[1;34m'text'\u001b[0m\u001b[1;33m)\u001b[0m\u001b[1;33m\u001b[0m\u001b[1;33m\u001b[0m\u001b[0m\n\u001b[0;32m    246\u001b[0m             \u001b[1;32mraise\u001b[0m \u001b[0mexception_class\u001b[0m\u001b[1;33m(\u001b[0m\u001b[0mmessage\u001b[0m\u001b[1;33m,\u001b[0m \u001b[0mscreen\u001b[0m\u001b[1;33m,\u001b[0m \u001b[0mstacktrace\u001b[0m\u001b[1;33m,\u001b[0m \u001b[0malert_text\u001b[0m\u001b[1;33m)\u001b[0m  \u001b[1;31m# type: ignore[call-arg]  # mypy is not smart enough here\u001b[0m\u001b[1;33m\u001b[0m\u001b[1;33m\u001b[0m\u001b[0m\n\u001b[1;32m--> 247\u001b[1;33m         \u001b[1;32mraise\u001b[0m \u001b[0mexception_class\u001b[0m\u001b[1;33m(\u001b[0m\u001b[0mmessage\u001b[0m\u001b[1;33m,\u001b[0m \u001b[0mscreen\u001b[0m\u001b[1;33m,\u001b[0m \u001b[0mstacktrace\u001b[0m\u001b[1;33m)\u001b[0m\u001b[1;33m\u001b[0m\u001b[1;33m\u001b[0m\u001b[0m\n\u001b[0m\u001b[0;32m    248\u001b[0m \u001b[1;33m\u001b[0m\u001b[0m\n\u001b[0;32m    249\u001b[0m     \u001b[1;32mdef\u001b[0m \u001b[0m_value_or_default\u001b[0m\u001b[1;33m(\u001b[0m\u001b[0mself\u001b[0m\u001b[1;33m,\u001b[0m \u001b[0mobj\u001b[0m\u001b[1;33m:\u001b[0m \u001b[0mMapping\u001b[0m\u001b[1;33m[\u001b[0m\u001b[0m_KT\u001b[0m\u001b[1;33m,\u001b[0m \u001b[0m_VT\u001b[0m\u001b[1;33m]\u001b[0m\u001b[1;33m,\u001b[0m \u001b[0mkey\u001b[0m\u001b[1;33m:\u001b[0m \u001b[0m_KT\u001b[0m\u001b[1;33m,\u001b[0m \u001b[0mdefault\u001b[0m\u001b[1;33m:\u001b[0m \u001b[0m_VT\u001b[0m\u001b[1;33m)\u001b[0m \u001b[1;33m->\u001b[0m \u001b[0m_VT\u001b[0m\u001b[1;33m:\u001b[0m\u001b[1;33m\u001b[0m\u001b[1;33m\u001b[0m\u001b[0m\n",
      "\u001b[1;31mWebDriverException\u001b[0m: Message: chrome not reachable\n  (Session info: chrome=104.0.5112.82)\nStacktrace:\nBacktrace:\n\tOrdinal0 [0x00FE6463+2188387]\n\tOrdinal0 [0x00F7E461+1762401]\n\tOrdinal0 [0x00E93C40+801856]\n\tOrdinal0 [0x00E88932+756018]\n\tOrdinal0 [0x00E89168+758120]\n\tOrdinal0 [0x00E8AA22+764450]\n\tOrdinal0 [0x00E84379+738169]\n\tOrdinal0 [0x00E950D0+807120]\n\tOrdinal0 [0x00EEC402+1164290]\n\tOrdinal0 [0x00EDC5F6+1099254]\n\tOrdinal0 [0x00EB6BE0+945120]\n\tOrdinal0 [0x00EB7AD6+948950]\n\tGetHandleVerifier [0x012871F2+2712546]\n\tGetHandleVerifier [0x0127886D+2652765]\n\tGetHandleVerifier [0x0107002A+520730]\n\tGetHandleVerifier [0x0106EE06+516086]\n\tOrdinal0 [0x00F8468B+1787531]\n\tOrdinal0 [0x00F88E88+1805960]\n\tOrdinal0 [0x00F88F75+1806197]\n\tOrdinal0 [0x00F91DF1+1842673]\n\tBaseThreadInitThunk [0x769BFA29+25]\n\tRtlGetAppContainerNamedObjectPath [0x77E87A9E+286]\n\tRtlGetAppContainerNamedObjectPath [0x77E87A6E+238]\n"
     ]
    }
   ],
   "source": [
    "ass = driver.find_elements(By.XPATH, f'//div[text()=\"Товары для взрослых\"]')\n",
    "if ass:\n",
    "    for a in ass:\n",
    "        try:\n",
    "                a.click()\n",
    "                break\n",
    "        except:\n",
    "            pass"
   ]
  },
  {
   "cell_type": "code",
   "execution_count": 13,
   "id": "54c4c85c",
   "metadata": {},
   "outputs": [
    {
     "name": "stderr",
     "output_type": "stream",
     "text": [
      "C:\\Users\\ASTROC~1\\AppData\\Local\\Temp/ipykernel_22280/3083172791.py:12: RuntimeWarning: coroutine 'sleep' was never awaited\n",
      "  sleep(1)\n",
      "RuntimeWarning: Enable tracemalloc to get the object allocation traceback\n"
     ]
    }
   ],
   "source": [
    "articul = \"28428658\"\n",
    "\n",
    "img = driver.find_element(By.XPATH, f'//div[@id=\"c{articul}\"]/div/a/div/div/img')\n",
    "\n",
    "hover = ActionChains(driver)\n",
    "\n",
    "# resolve\n",
    "hover.move_to_element(img).perform()\n",
    "\n",
    "driver.find_element(By.XPATH, f'//div[text()=\"Товары для взрослых\"]').click()\n",
    "\n",
    "sleep(1)\n",
    "\n",
    "driver.find_element(By.XPATH, f'//button[text()=\"Да, мне есть 18 лет\"]').click()"
   ]
  },
  {
   "cell_type": "code",
   "execution_count": 22,
   "id": "2163f72e",
   "metadata": {},
   "outputs": [],
   "source": []
  },
  {
   "cell_type": "code",
   "execution_count": 32,
   "id": "1a65565c",
   "metadata": {},
   "outputs": [],
   "source": [
    "while True:\n",
    "    try:\n",
    "        color_element_last = driver.find_elements(By.XPATH, '//ul/li[not(contains(@class,\"blur\"))]/a[@class=\"img-plug\"]')[-1]        \n",
    "        color_element_last.click()\n",
    "        break\n",
    "    except:\n",
    "        driver.find_element(By.XPATH, '//div[contains(@class, \"sw-slider-colorpicker\")]/button[(contains(@class,\"swiper-button-next\"))]').click()\n",
    "    \n",
    "    \n",
    "    \n",
    "    \n",
    "    "
   ]
  },
  {
   "cell_type": "code",
   "execution_count": null,
   "id": "80fb0ca2",
   "metadata": {},
   "outputs": [],
   "source": []
  },
  {
   "cell_type": "code",
   "execution_count": 27,
   "id": "3aa96727",
   "metadata": {},
   "outputs": [
    {
     "name": "stderr",
     "output_type": "stream",
     "text": [
      "/var/folders/fk/pp0h7zr144d6g9870ncqvfl00000gn/T/ipykernel_86439/1007126877.py:7: DeprecationWarning: executable_path has been deprecated, please pass in a Service object\n",
      "  driver = webdriver.Chrome(\"./../chrome/chromedriver\")\n"
     ]
    },
    {
     "ename": "NameError",
     "evalue": "name 'bot_name' is not defined",
     "output_type": "error",
     "traceback": [
      "\u001b[0;31m---------------------------------------------------------------------------\u001b[0m",
      "\u001b[0;31mNameError\u001b[0m                                 Traceback (most recent call last)",
      "Input \u001b[0;32mIn [27]\u001b[0m, in \u001b[0;36m<cell line: 9>\u001b[0;34m()\u001b[0m\n\u001b[1;32m      7\u001b[0m driver \u001b[38;5;241m=\u001b[39m webdriver\u001b[38;5;241m.\u001b[39mChrome(\u001b[38;5;124m\"\u001b[39m\u001b[38;5;124m./../chrome/chromedriver\u001b[39m\u001b[38;5;124m\"\u001b[39m)\n\u001b[1;32m      8\u001b[0m driver\u001b[38;5;241m.\u001b[39mget(\u001b[38;5;124m'\u001b[39m\u001b[38;5;124mhttps://www.wildberries.ru/\u001b[39m\u001b[38;5;124m'\u001b[39m)\n\u001b[0;32m----> 9\u001b[0m cookies \u001b[38;5;241m=\u001b[39m pickle\u001b[38;5;241m.\u001b[39mload(\u001b[38;5;28mopen\u001b[39m(\u001b[38;5;124mf\u001b[39m\u001b[38;5;124m\"\u001b[39m\u001b[38;5;124m./../bots_sessions/\u001b[39m\u001b[38;5;132;01m{\u001b[39;00mbot_name\u001b[38;5;132;01m}\u001b[39;00m\u001b[38;5;124m.pkl\u001b[39m\u001b[38;5;124m\"\u001b[39m, \u001b[38;5;124m\"\u001b[39m\u001b[38;5;124mrb\u001b[39m\u001b[38;5;124m\"\u001b[39m))\n\u001b[1;32m     10\u001b[0m \u001b[38;5;28;01mfor\u001b[39;00m cookie \u001b[38;5;129;01min\u001b[39;00m cookies:\n\u001b[1;32m     11\u001b[0m     driver\u001b[38;5;241m.\u001b[39madd_cookie(cookie)\n",
      "\u001b[0;31mNameError\u001b[0m: name 'bot_name' is not defined"
     ]
    }
   ],
   "source": [
    "from selenium import webdriver\n",
    "from selenium.webdriver.common.by import By\n",
    "from selenium.webdriver.common.action_chains import ActionChains\n",
    "\n",
    "import pickle\n",
    "\n",
    "driver = webdriver.Chrome(\"./../chrome/chromedriver\")\n",
    "driver.get('https://www.wildberries.ru/')\n",
    "cookies = pickle.load(open(f\"./../bots_sessions/{bot_name}.pkl\", \"rb\"))\n",
    "for cookie in cookies:\n",
    "    driver.add_cookie(cookie)\n",
    "driver.get('https://www.wildberries.ru/')"
   ]
  },
  {
   "cell_type": "code",
   "execution_count": 41,
   "id": "f558ef48",
   "metadata": {},
   "outputs": [],
   "source": [
    "pickle.dump(driver.get_cookies(), open(f\"./../bots_sessions/{bot_name}.pkl\", \"wb\"))"
   ]
  },
  {
   "cell_type": "code",
   "execution_count": 8,
   "id": "c7b726e4",
   "metadata": {},
   "outputs": [],
   "source": [
    "# hover_profile_modal(self):\n",
    "hover = ActionChains(driver)\n",
    "\n",
    "profile_btn = driver.find_element(By.XPATH, \"//span[contains(@class,'navbar-pc__icon--profile')]\")\n",
    "hover.move_to_element(profile_btn).perform()\n",
    "# ---------------------\n",
    "\n",
    "purchases_btn = driver.find_element(By.XPATH,\n",
    "                                        \"//span[text()='Покупки']/../../a[contains(@class,'profile-menu__link')]\")\n",
    "purchases_btn.click()\n"
   ]
  },
  {
   "cell_type": "code",
   "execution_count": 22,
   "id": "34fa3781",
   "metadata": {},
   "outputs": [],
   "source": [
    "# get all articles\n",
    "class Purchases:\n",
    "    def __init__(self, driver):\n",
    "        self.driver = driver\n",
    "        \n",
    "    def get_all_articles(self):\n",
    "        cards_elements = WebDriverWait(self.driver, 5).until(\n",
    "            lambda d: d.find_elements(By.XPATH, f'//div[contains(@class, \"archive-item__img-wrap\")]'))\n",
    "        articles = [c_e.get_attribute(\"data-popup-nm-id\") for c_e in cards_elements]\n",
    "        return articles"
   ]
  },
  {
   "cell_type": "code",
   "execution_count": 24,
   "id": "7d833583",
   "metadata": {},
   "outputs": [
    {
     "data": {
      "text/plain": [
       "True"
      ]
     },
     "execution_count": 24,
     "metadata": {},
     "output_type": "execute_result"
    }
   ],
   "source": [
    "p = Purchases(driver)\n",
    "articles = p.get_all_articles()\n",
    "if not articles:\n",
    "    print(\"Purshes are empty\")\n",
    "'96289070' in articles"
   ]
  },
  {
   "cell_type": "code",
   "execution_count": null,
   "id": "d62787c7",
   "metadata": {},
   "outputs": [],
   "source": []
  },
  {
   "cell_type": "code",
   "execution_count": null,
   "id": "9cea95ac",
   "metadata": {},
   "outputs": [],
   "source": []
  },
  {
   "cell_type": "code",
   "execution_count": null,
   "id": "1e26c918",
   "metadata": {},
   "outputs": [],
   "source": []
  },
  {
   "cell_type": "code",
   "execution_count": 7,
   "id": "c6453b1a",
   "metadata": {},
   "outputs": [],
   "source": [
    "cookies = pickle.load(open('./../bots_sessions/Boulevard Depo' + \".pkl\", \"rb\"))\n",
    "\n",
    "for cookie in cookies:\n",
    "    driver.add_cookie(cookie)\n",
    "# driver.get('https://www.wildberries.ru/')"
   ]
  },
  {
   "cell_type": "code",
   "execution_count": 4,
   "id": "c187a1d8",
   "metadata": {
    "scrolled": true
   },
   "outputs": [
    {
     "name": "stderr",
     "output_type": "stream",
     "text": [
      "C:\\Users\\ASTROC~1\\AppData\\Local\\Temp/ipykernel_20860/2202501120.py:7: DeprecationWarning: executable_path has been deprecated, please pass in a Service object\n",
      "  driver = webdriver.Chrome(\"./../chrome/chromedriver.exe\")\n"
     ]
    }
   ],
   "source": [
    "from selenium import webdriver\n",
    "from selenium.webdriver.common.by import By\n",
    "from selenium.webdriver.common.action_chains import ActionChains\n",
    "\n",
    "import pickle\n",
    "\n",
    "driver = webdriver.Chrome(\"./../chrome/chromedriver.exe\")\n",
    "driver.get('https://seller.wildberries.ru/')"
   ]
  },
  {
   "cell_type": "code",
   "execution_count": 5,
   "id": "92f662c9",
   "metadata": {},
   "outputs": [],
   "source": [
    "# ИП Максимова Н. С.\n",
    "pickle.dump(driver.get_cookies(), open('./../bots_sessions/Partner_781431467440' + \".pkl\", \"wb\"))"
   ]
  },
  {
   "cell_type": "code",
   "execution_count": 6,
   "id": "8b5626c5",
   "metadata": {},
   "outputs": [],
   "source": [
    "# ИП Познахирев Н. В.\n",
    "pickle.dump(driver.get_cookies(), open('./../bots_sessions/Partner_312333011857' + \".pkl\", \"wb\"))"
   ]
  },
  {
   "cell_type": "code",
   "execution_count": 7,
   "id": "d07ec538",
   "metadata": {},
   "outputs": [],
   "source": [
    "# ИП Чемоданов И. С.\n",
    "pickle.dump(driver.get_cookies(), open('./../bots_sessions/Partner_771375894400' + \".pkl\", \"wb\"))"
   ]
  },
  {
   "cell_type": "code",
   "execution_count": 8,
   "id": "827a3f9b",
   "metadata": {},
   "outputs": [],
   "source": [
    "# Хуснимарданова Неля Раиловна\n",
    "pickle.dump(driver.get_cookies(), open('./../bots_sessions/Partner_023903059155' + \".pkl\", \"wb\"))"
   ]
  },
  {
   "cell_type": "code",
   "execution_count": 9,
   "id": "d99d1bee",
   "metadata": {},
   "outputs": [],
   "source": [
    "# ИП Бенуж А. А.\n",
    "pickle.dump(driver.get_cookies(), open('./../bots_sessions/Partner_667415436031' + \".pkl\", \"wb\"))"
   ]
  },
  {
   "cell_type": "code",
   "execution_count": 10,
   "id": "d663d986",
   "metadata": {},
   "outputs": [],
   "source": [
    "# ИП Белова О. А.\n",
    "pickle.dump(driver.get_cookies(), open('./../bots_sessions/Partner_583511424419' + \".pkl\", \"wb\"))"
   ]
  },
  {
   "cell_type": "code",
   "execution_count": 19,
   "id": "e79392bb",
   "metadata": {},
   "outputs": [
    {
     "name": "stderr",
     "output_type": "stream",
     "text": [
      "C:\\Users\\ASTROC~1\\AppData\\Local\\Temp/ipykernel_20860/1831755286.py:7: DeprecationWarning: executable_path has been deprecated, please pass in a Service object\n",
      "  driver = webdriver.Chrome(\"./../chrome/chromedriver.exe\")\n"
     ]
    }
   ],
   "source": [
    "from selenium import webdriver\n",
    "from selenium.webdriver.common.by import By\n",
    "from selenium.webdriver.common.action_chains import ActionChains\n",
    "\n",
    "import pickle\n",
    "\n",
    "driver = webdriver.Chrome(\"./../chrome/chromedriver.exe\")\n",
    "driver.get('https://seller.wildberries.ru/')\n",
    "cookies = pickle.load(open('./../bots_sessions/Partner_583511424419' + \".pkl\", \"rb\"))\n",
    "for cookie in cookies:\n",
    "    driver.add_cookie(cookie)\n",
    "driver.get('https://seller.wildberries.ru/')"
   ]
  }
 ],
 "metadata": {
  "kernelspec": {
   "display_name": "Python 3 (ipykernel)",
   "language": "python",
   "name": "python3"
  },
  "language_info": {
   "codemirror_mode": {
    "name": "ipython",
    "version": 3
   },
   "file_extension": ".py",
   "mimetype": "text/x-python",
   "name": "python",
   "nbconvert_exporter": "python",
   "pygments_lexer": "ipython3",
   "version": "3.9.7"
  }
 },
 "nbformat": 4,
 "nbformat_minor": 5
}
