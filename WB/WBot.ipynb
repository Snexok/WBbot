{
 "cells": [
  {
   "cell_type": "code",
   "execution_count": 7,
   "id": "39c17991",
   "metadata": {},
   "outputs": [
    {
     "ename": "NameError",
     "evalue": "name 'Bot' is not defined",
     "output_type": "error",
     "traceback": [
      "\u001b[0;31m---------------------------------------------------------------------------\u001b[0m",
      "\u001b[0;31mNameError\u001b[0m                                 Traceback (most recent call last)",
      "Input \u001b[0;32mIn [7]\u001b[0m, in \u001b[0;36m<cell line: 1>\u001b[0;34m()\u001b[0m\n\u001b[0;32m----> 1\u001b[0m bot \u001b[38;5;241m=\u001b[39m \u001b[43mBot\u001b[49m(driver\u001b[38;5;241m=\u001b[39m_bot\u001b[38;5;241m.\u001b[39mdriver)\n",
      "\u001b[0;31mNameError\u001b[0m: name 'Bot' is not defined"
     ]
    }
   ],
   "source": [
    "bot = Bot(driver=_bot.driver)"
   ]
  },
  {
   "cell_type": "code",
   "execution_count": 10,
   "id": "834c5694",
   "metadata": {},
   "outputs": [],
   "source": [
    "# Python Modules\n",
    "import os\n",
    "import json\n",
    "import logging\n",
    "import pandas as pd\n",
    "\n",
    "# For telegram api\n",
    "# pip install python-telegram-bot --upgrade\n",
    "from telegram import Update, InlineKeyboardButton, InlineKeyboardMarkup\n",
    "from telegram.ext import Updater, CommandHandler, MessageHandler, Filters, CallbackContext, \\\n",
    "    CallbackQueryHandler, TypeHandler, ConversationHandler\n",
    "from selenium import webdriver\n",
    "from selenium.webdriver.common.by import By\n",
    "from selenium.webdriver import Keys\n",
    "from selenium.webdriver.common.action_chains import ActionChains\n",
    "from selenium.webdriver.support.wait import WebDriverWait\n",
    "from time import sleep\n",
    "import random\n",
    "import json\n",
    "import pandas as pd\n"
   ]
  },
  {
   "cell_type": "code",
   "execution_count": null,
   "id": "c3c54120",
   "metadata": {},
   "outputs": [],
   "source": [
    "import sys\n",
    "sys.path.append(\"../\")\n",
    "%run Partner.py"
   ]
  },
  {
   "cell_type": "code",
   "execution_count": 27,
   "id": "3aa96727",
   "metadata": {},
   "outputs": [
    {
     "name": "stderr",
     "output_type": "stream",
     "text": [
      "/var/folders/fk/pp0h7zr144d6g9870ncqvfl00000gn/T/ipykernel_86439/1007126877.py:7: DeprecationWarning: executable_path has been deprecated, please pass in a Service object\n",
      "  driver = webdriver.Chrome(\"./../chrome/chromedriver\")\n"
     ]
    },
    {
     "ename": "NameError",
     "evalue": "name 'bot_name' is not defined",
     "output_type": "error",
     "traceback": [
      "\u001b[0;31m---------------------------------------------------------------------------\u001b[0m",
      "\u001b[0;31mNameError\u001b[0m                                 Traceback (most recent call last)",
      "Input \u001b[0;32mIn [27]\u001b[0m, in \u001b[0;36m<cell line: 9>\u001b[0;34m()\u001b[0m\n\u001b[1;32m      7\u001b[0m driver \u001b[38;5;241m=\u001b[39m webdriver\u001b[38;5;241m.\u001b[39mChrome(\u001b[38;5;124m\"\u001b[39m\u001b[38;5;124m./../chrome/chromedriver\u001b[39m\u001b[38;5;124m\"\u001b[39m)\n\u001b[1;32m      8\u001b[0m driver\u001b[38;5;241m.\u001b[39mget(\u001b[38;5;124m'\u001b[39m\u001b[38;5;124mhttps://www.wildberries.ru/\u001b[39m\u001b[38;5;124m'\u001b[39m)\n\u001b[0;32m----> 9\u001b[0m cookies \u001b[38;5;241m=\u001b[39m pickle\u001b[38;5;241m.\u001b[39mload(\u001b[38;5;28mopen\u001b[39m(\u001b[38;5;124mf\u001b[39m\u001b[38;5;124m\"\u001b[39m\u001b[38;5;124m./../bots_sessions/\u001b[39m\u001b[38;5;132;01m{\u001b[39;00mbot_name\u001b[38;5;132;01m}\u001b[39;00m\u001b[38;5;124m.pkl\u001b[39m\u001b[38;5;124m\"\u001b[39m, \u001b[38;5;124m\"\u001b[39m\u001b[38;5;124mrb\u001b[39m\u001b[38;5;124m\"\u001b[39m))\n\u001b[1;32m     10\u001b[0m \u001b[38;5;28;01mfor\u001b[39;00m cookie \u001b[38;5;129;01min\u001b[39;00m cookies:\n\u001b[1;32m     11\u001b[0m     driver\u001b[38;5;241m.\u001b[39madd_cookie(cookie)\n",
      "\u001b[0;31mNameError\u001b[0m: name 'bot_name' is not defined"
     ]
    }
   ],
   "source": [
    "from selenium import webdriver\n",
    "from selenium.webdriver.common.by import By\n",
    "from selenium.webdriver.common.action_chains import ActionChains\n",
    "\n",
    "import pickle\n",
    "\n",
    "driver = webdriver.Chrome(\"./../chrome/chromedriver\")\n",
    "driver.get('https://www.wildberries.ru/')\n",
    "cookies = pickle.load(open(f\"./../bots_sessions/{bot_name}.pkl\", \"rb\"))\n",
    "for cookie in cookies:\n",
    "    driver.add_cookie(cookie)\n",
    "driver.get('https://www.wildberries.ru/')"
   ]
  },
  {
   "cell_type": "code",
   "execution_count": 41,
   "id": "f558ef48",
   "metadata": {},
   "outputs": [],
   "source": [
    "pickle.dump(driver.get_cookies(), open(f\"./../bots_sessions/{bot_name}.pkl\", \"wb\"))"
   ]
  },
  {
   "cell_type": "code",
   "execution_count": 8,
   "id": "c7b726e4",
   "metadata": {},
   "outputs": [],
   "source": [
    "# hover_profile_modal(self):\n",
    "hover = ActionChains(driver)\n",
    "\n",
    "profile_btn = driver.find_element(By.XPATH, \"//span[contains(@class,'navbar-pc__icon--profile')]\")\n",
    "hover.move_to_element(profile_btn).perform()\n",
    "# ---------------------\n",
    "\n",
    "purchases_btn = driver.find_element(By.XPATH,\n",
    "                                        \"//span[text()='Покупки']/../../a[contains(@class,'profile-menu__link')]\")\n",
    "purchases_btn.click()\n"
   ]
  },
  {
   "cell_type": "code",
   "execution_count": null,
   "id": "1e26c918",
   "metadata": {},
   "outputs": [],
   "source": []
  },
  {
   "cell_type": "code",
   "execution_count": 7,
   "id": "c6453b1a",
   "metadata": {},
   "outputs": [],
   "source": [
    "cookies = pickle.load(open('./../bots_sessions/Boulevard Depo' + \".pkl\", \"rb\"))\n",
    "\n",
    "for cookie in cookies:\n",
    "    driver.add_cookie(cookie)\n",
    "# driver.get('https://www.wildberries.ru/')"
   ]
  },
  {
   "cell_type": "code",
   "execution_count": 3,
   "id": "c187a1d8",
   "metadata": {
    "scrolled": true
   },
   "outputs": [
    {
     "name": "stderr",
     "output_type": "stream",
     "text": [
      "/var/folders/fk/pp0h7zr144d6g9870ncqvfl00000gn/T/ipykernel_1200/3458620188.py:7: DeprecationWarning: executable_path has been deprecated, please pass in a Service object\n",
      "  driver = webdriver.Chrome(\"./../chrome/chromedriver\")\n"
     ]
    }
   ],
   "source": []
  },
  {
   "cell_type": "code",
   "execution_count": 5,
   "id": "92f662c9",
   "metadata": {},
   "outputs": [],
   "source": [
    "# ИП Максимова Н. С.\n",
    "pickle.dump(driver.get_cookies(), open('./../bots_sessions/Partner_781431467440' + \".pkl\", \"wb\"))"
   ]
  },
  {
   "cell_type": "code",
   "execution_count": 5,
   "id": "33c0db7c",
   "metadata": {},
   "outputs": [],
   "source": []
  },
  {
   "cell_type": "code",
   "execution_count": 4,
   "id": "8b5626c5",
   "metadata": {},
   "outputs": [],
   "source": []
  },
  {
   "cell_type": "code",
   "execution_count": 7,
   "id": "d07ec538",
   "metadata": {},
   "outputs": [],
   "source": [
    "# ИП Чемоданов И. С.\n",
    "pickle.dump(driver.get_cookies(), open('./../bots_sessions/Partner_771375894400' + \".pkl\", \"wb\"))"
   ]
  },
  {
   "cell_type": "code",
   "execution_count": 8,
   "id": "827a3f9b",
   "metadata": {},
   "outputs": [],
   "source": [
    "# Хуснимарданова Неля Раиловна\n",
    "pickle.dump(driver.get_cookies(), open('./../bots_sessions/Partner_023903059155' + \".pkl\", \"wb\"))"
   ]
  },
  {
   "cell_type": "code",
   "execution_count": 9,
   "id": "d99d1bee",
   "metadata": {},
   "outputs": [],
   "source": [
    "# ИП Бенуж А. А.\n",
    "pickle.dump(driver.get_cookies(), open('./../bots_sessions/Partner_667415436031' + \".pkl\", \"wb\"))"
   ]
  },
  {
   "cell_type": "code",
   "execution_count": 10,
   "id": "d663d986",
   "metadata": {},
   "outputs": [],
   "source": [
    "# ИП Белова О. А.\n",
    "pickle.dump(driver.get_cookies(), open('./../bots_sessions/Partner_583511424419' + \".pkl\", \"wb\"))"
   ]
  },
  {
   "cell_type": "code",
   "execution_count": 19,
   "id": "e79392bb",
   "metadata": {},
   "outputs": [
    {
     "name": "stderr",
     "output_type": "stream",
     "text": [
      "C:\\Users\\ASTROC~1\\AppData\\Local\\Temp/ipykernel_20860/1831755286.py:7: DeprecationWarning: executable_path has been deprecated, please pass in a Service object\n",
      "  driver = webdriver.Chrome(\"./../chrome/chromedriver.exe\")\n"
     ]
    }
   ],
   "source": [
    "from selenium import webdriver\n",
    "from selenium.webdriver.common.by import By\n",
    "from selenium.webdriver.common.action_chains import ActionChains\n",
    "\n",
    "import pickle\n",
    "\n",
    "driver = webdriver.Chrome(\"./../chrome/chromedriver.exe\")\n",
    "driver.get('https://seller.wildberries.ru/')\n",
    "cookies = pickle.load(open('./../bots_sessions/Partner_583511424419' + \".pkl\", \"rb\"))\n",
    "for cookie in cookies:\n",
    "    driver.add_cookie(cookie)\n",
    "driver.get('https://seller.wildberries.ru/')"
   ]
  },
  {
   "cell_type": "code",
   "execution_count": null,
   "id": "fbacd3cc",
   "metadata": {},
   "outputs": [],
   "source": [
    "sys.path.append(\"/Users/konstantindarlin/WBbot/TG/Models\")"
   ]
  },
  {
   "cell_type": "code",
   "execution_count": 5,
   "id": "96e26ed3",
   "metadata": {},
   "outputs": [],
   "source": [
    "import sys\n",
    "sys.path.append(\"../\")\n",
    "sys.path.append(\"../TG/\")\n",
    "sys.path.append(\"../TG/Models\")"
   ]
  },
  {
   "cell_type": "code",
   "execution_count": 7,
   "id": "9fbeea22",
   "metadata": {},
   "outputs": [
    {
     "name": "stdout",
     "output_type": "stream",
     "text": [
      "bots_names ['Catcher', 'Watcher', 'Blumber', 'Torch', 'Nuker', 'Prisoner', 'Bututum', 'Trader', 'Disco', 'Yone', 'Coder', 'Uma', 'Robin', 'Viral', 'Builder', 'Evolution', 'Shef', 'Blackbi', 'Luffy', 'Truble', 'Robovek', 'Tanjiro', 'Drowner', 'Chelobot', 'Kotik', 'Tika', 'Eater', 'Oleg', 'Predator', 'Creator', 'Decadance', 'Robobot', 'Polsha', 'Lavanda', 'Ultrabultra', 'Alien', 'Shaper', 'Sniper', 'Bubble', 'Nezuca', 'Skiter', 'Genshin', 'Tinker', 'Destroyer', 'Makio', 'Kitagava', 'Razengun', 'Skrillex', 'Awakener', 'Clockverk', 'Unicorn', 'Trump', 'Kota', 'Minyon', 'Alisa', 'Nami', 'Romero', 'Doctor', 'Lover', 'Pumper', 'Dalic', 'Komi', 'Misa', 'Cucumber', 'Satellite', 'Zorro', 'Bumb', 'Banana', 'Jupyter', 'Ichigo']\n",
      "bots_sessions ['Satellite', 'Evolution', 'Skiter', 'Shaper', 'Watcher', 'Unicorn', 'Lover', 'Clockverk', 'Bututum', 'Robin', 'Komi', 'Uma', 'Eater', 'Shef', 'Nami', 'Ultrabultra', 'Genshin', 'Coder', 'Builder', 'Jupyter', 'Doctor', 'Awakener', 'Skrillex', 'Tika', 'Bumb', 'Torch', 'Bubble', 'Catcher', 'Oleg', 'Ichigo', 'Romero', 'Dalic', 'Destroyer', 'Trader', 'Decadance', 'Kotik', 'Zorro', 'Nuker', 'Yone', 'Alien', 'Disco', 'Luffy', 'Kitagava', 'Viral', 'Pumper', 'Alisa', 'Minyon', 'Partner_770906775219', 'Partner_312333011857', 'Lavanda', 'Blumber', 'Blackbi', 'Sniper', 'Prisoner', 'Cucumber', 'Banana', 'Tanjiro', 'Creator', 'Razengun', 'Robobot', 'Drowner', 'Predator', 'Misa', 'Polsha', 'Robovek', 'Trump', 'Kota', 'Makio', 'Chelobot', 'Tinker', 'Truble', 'Nezuca']\n"
     ]
    }
   ],
   "source": [
    "from Bots import Bots_Model, Bot_Model\n",
    "\n",
    "import pickle\n",
    "\n",
    "bots_names = []\n",
    "bots = Bots_Model.load()\n",
    "for bot in bots:\n",
    "    if bot.name not in bots_names:\n",
    "        bots_names += [bot.name]\n",
    "print(\"bots_names\", bots_names)\n",
    "bots_sessions = os.listdir(\"../bots_sessions\")\n",
    "\n",
    "bs_i = bots_sessions.index(\".DS_Store\")\n",
    "if bs_i:\n",
    "    del bots_sessions[bs_i]\n",
    "\n",
    "bots_sessions = [bot_session[:-4] for bot_session in bots_sessions]\n",
    "print(\"bots_sessions\", bots_sessions)\n",
    "\n",
    "def open_profile(driver):\n",
    "    hover = ActionChains(driver)\n",
    "    profile_btn = WebDriverWait(driver, 10).until(\n",
    "        lambda d: d.find_element(By.XPATH, \"//span[contains(@class,'navbar-pc__icon--profile')]\"))\n",
    "    profile_btn.click()\n",
    "\n",
    "def hover_profile_modal(driver):\n",
    "    hover = ActionChains(driver)\n",
    "    profile_btn = WebDriverWait(driver, 10).until(\n",
    "        lambda d: d.find_element(By.XPATH, \"//span[contains(@class,'navbar-pc__icon--profile')]\"))\n",
    "    hover.move_to_element(profile_btn).perform()\n",
    "\n",
    "def go_to_basket(driver):\n",
    "    WebDriverWait(driver, 10).until(\n",
    "        lambda d: d.find_element(By.CLASS_NAME, 'navbar-pc__icon--basket')).click()\n",
    "    \n",
    "def get_addresses(driver):\n",
    "    addresses = []\n",
    "    try:\n",
    "        WebDriverWait(driver, 10).until(\n",
    "            lambda d: d.find_element(By.XPATH,\n",
    "                                 '//h2[text()=\"Способ доставки\"]/../../div[text()=\"Выбрать адрес доставки\"]')).click()\n",
    "    except:\n",
    "        WebDriverWait(driver, 10).until(\n",
    "            lambda d: d.find_element(By.XPATH,\n",
    "                                 '//h2[text()=\"Способ доставки\"]/../button/span[text()=\"Изменить\"]')).click()\n",
    "    sleep(1)\n",
    "    try:\n",
    "        addresses_el = WebDriverWait(driver, 10).until(\n",
    "                lambda d: d.find_elements(By.XPATH,\n",
    "                            f'//ul[contains(@class,\"history__list\")]/li/label/span/span[contains(@class,\"history__address\")]'))\n",
    "    \n",
    "        for address in addresses_el:\n",
    "            if address.text != \"— Пункт выдачи\":\n",
    "                addresses += [address.text]\n",
    "    except:\n",
    "        pass\n",
    "    \n",
    "    return addresses\n",
    "\n",
    "def to_basket(driver):\n",
    "    try:\n",
    "        WebDriverWait(driver, 10).until(\n",
    "            lambda d: d.find_element(By.XPATH, '//span[contains(text(), \"Добавить в корзину\")]/..')).click()\n",
    "    except:\n",
    "        pass\n",
    "    try:\n",
    "        basket_btns = WebDriverWait(driver, 10).until(\n",
    "            lambda d: d.find_elements(By.XPATH, '//span[contains(text(), \"Добавить в корзину\")]/..'))\n",
    "        for basket_btn in basket_btns:\n",
    "            try:\n",
    "                basket_btn.click()\n",
    "            except:\n",
    "                pass\n",
    "    except:\n",
    "        pass\n",
    "\n",
    "def check_balance(driver):\n",
    "    hover_profile_modal(driver)\n",
    "    sleep(2)\n",
    "    balance_text = driver.find_element(By.XPATH, \"//span[contains(@class,'profile-menu__balance')]\").text\n",
    "    balance = int(\"\".join(balance_text.split(\" \")[:-1]))\n",
    "    return balance\n",
    "\n",
    "# for bot_name in bots_sessions:\n",
    "#     if bot_name not in bots_names:\n",
    "#         bots_names += [bot.name]\n",
    "        \n",
    "#         driver = webdriver.Chrome(\"./../chrome/chromedriver\")\n",
    "#         driver.get('https://www.wildberries.ru/')\n",
    "#         print(bot_name)\n",
    "#         cookies = pickle.load(open(f\"./../bots_sessions/{bot_name}.pkl\", \"rb\"))\n",
    "#         for cookie in cookies:\n",
    "#             driver.add_cookie(cookie)\n",
    "#         driver.get('https://www.wildberries.ru/')\n",
    "        \n",
    "#         bot = Bot_Model()\n",
    "\n",
    "#         bot.name = bot_name\n",
    "#         bot.type = \"WB\"\n",
    "#         bot.status = \"FREE\"\n",
    "\n",
    "#         open_profile(driver)\n",
    "#         sleep(1)\n",
    "#         driver.find_element(By.XPATH, \"//a[@class='lk-menu-main__title' and text()='Профиль']\").click()\n",
    "#         sleep(1)\n",
    "#         bot.username = driver.find_element(By.XPATH, \"//h2[@class='personal-data__header']\").text\n",
    "#         bot.balance = check_balance(driver)\n",
    "\n",
    "#         go_to_basket(driver)\n",
    "#         sleep(2)\n",
    "#         try:\n",
    "#             driver.find_element(By.XPATH, \"//h1[text()='В корзине пока пусто']\")\n",
    "#             driver.get('https://www.wildberries.ru/catalog/43028100/detail.aspx?targetUrl=GP')\n",
    "#             sleep(2)\n",
    "#             to_basket(driver)\n",
    "#             sleep(2)\n",
    "#             go_to_basket(driver)\n",
    "#         except:\n",
    "#             pass\n",
    "\n",
    "\n",
    "#         bot.addresses = get_addresses(driver)\n",
    "#         bot.insert()\n",
    "#         driver.close()"
   ]
  },
  {
   "cell_type": "code",
   "execution_count": 18,
   "id": "0f915ab1",
   "metadata": {},
   "outputs": [],
   "source": [
    "bot_name = bots_sessions[0]"
   ]
  },
  {
   "cell_type": "code",
   "execution_count": 19,
   "id": "87bd7cdf",
   "metadata": {},
   "outputs": [
    {
     "data": {
      "text/plain": [
       "'Satellite.pkl'"
      ]
     },
     "execution_count": 19,
     "metadata": {},
     "output_type": "execute_result"
    }
   ],
   "source": [
    "bot_name"
   ]
  },
  {
   "cell_type": "code",
   "execution_count": 15,
   "id": "e5acda8a",
   "metadata": {},
   "outputs": [
    {
     "name": "stderr",
     "output_type": "stream",
     "text": [
      "/var/folders/fk/pp0h7zr144d6g9870ncqvfl00000gn/T/ipykernel_14880/1159734909.py:3: DeprecationWarning: executable_path has been deprecated, please pass in a Service object\n",
      "  driver = webdriver.Chrome(\"./../chrome/chromedriver\")\n"
     ]
    },
    {
     "name": "stdout",
     "output_type": "stream",
     "text": [
      "Satellite\n",
      "UPDATE bots SET name = 'Satellite', addresses = ARRAY['г Москва; Широкая Улица 23к1','г. Москва; м Пушкинская; Дегтярный переулок; д. 10с2']::text[], number = '+7(926)566-23-51', username = 'Максим', type = 'WB', status = 'FREE', gender = 'm' WHERE id='29'\n",
      "Alisa\n",
      "UPDATE bots SET name = 'Alisa', addresses = ARRAY['г Москва; Широкая Улица 23к1']::text[], number = '+7(991)706-75-56', username = 'Елена', type = 'WB', status = 'FREE', gender = 'w' WHERE id='19'\n",
      "Minyon\n",
      "UPDATE bots SET name = 'Minyon', addresses = ARRAY['г Москва; Улица Мусоргского 5к3']::text[], number = '+7(966)203-74-64', username = 'Дарья', type = 'WB', status = 'FREE', gender = 'w' WHERE id='37'\n",
      "Lavanda\n",
      "UPDATE bots SET name = 'Lavanda', addresses = ARRAY['г Москва; Алтуфьевское Шоссе 97','г Москва; Шенкурский Проезд 11']::text[], number = '+7(952)289-41-87', username = 'Даниил', type = 'WB', status = 'FREE', gender = 'm' WHERE id='67'\n",
      "Blumber\n",
      "UPDATE bots SET name = 'Blumber', addresses = ARRAY['г Долгопрудный; Московское Шоссе 6а','г Москва; Старомарьинское Шоссе 22']::text[], number = '+7(967)986-32-00', username = 'Сергей', type = 'WB', status = 'FREE', gender = 'm' WHERE id='36'\n",
      "Blackbi\n",
      "UPDATE bots SET name = 'Blackbi', addresses = ARRAY['г Долгопрудный; Московское Шоссе 6а']::text[], number = '+7(900)627-51-23', username = 'Татьяна', type = 'WB', status = 'FREE', gender = 'w' WHERE id='21'\n",
      "Sniper\n",
      "UPDATE bots SET name = 'Sniper', addresses = ARRAY['г Москва; Шенкурский Проезд 11','г Москва; Алтуфьевское Шоссе 97']::text[], number = '+7(930)963-31-83', username = 'Евгений', type = 'WB', status = 'FREE', gender = 'm' WHERE id='1'\n",
      "Prisoner\n",
      "UPDATE bots SET name = 'Prisoner', addresses = ARRAY['г Москва; Туристская Улица 33','г Москва; Улица Седова 3']::text[], number = '+7(926)286-64-43', username = 'Анфиса', type = 'WB', status = 'FREE', balance = 186, gender = 'w' WHERE id='53'\n",
      "Cucumber\n",
      "UPDATE bots SET name = 'Cucumber', addresses = ARRAY['г Москва; Коровинское Шоссе 3к2','г Москва; Улица Мусоргского 5к3']::text[], number = '+7(969)768-95-94', username = 'Степан', type = 'WB', status = 'FREE', gender = 'm' WHERE id='10'\n",
      "Banana\n",
      "UPDATE bots SET name = 'Banana', addresses = ARRAY['г Москва; Улица Мусоргского 5к3','г Москва; Алтуфьевское Шоссе 97']::text[], number = '+7(967)986-30-12', username = 'Полина', type = 'WB', status = 'FREE', gender = 'w' WHERE id='5'\n",
      "Tanjiro\n",
      "UPDATE bots SET name = 'Tanjiro', addresses = ARRAY['г Москва; Алтуфьевское Шоссе 97']::text[], number = '+7(967)438-17-97', username = 'Тимур', type = 'WB', status = 'FREE', gender = 'm' WHERE id='66'\n",
      "Creator\n",
      "UPDATE bots SET name = 'Creator', addresses = ARRAY['г Москва; Шенкурский Проезд 11','г Москва; Старомарьинское Шоссе 22']::text[], number = '+7(966)285-06-39', username = 'Константин', type = 'WB', status = 'FREE', gender = 'm' WHERE id='65'\n",
      "Razengun\n",
      "UPDATE bots SET name = 'Razengun', number = '+7(952)385-74-45', username = 'Глеб', type = 'WB', status = 'FREE', gender = 'm' WHERE id='62'\n",
      "Robobot\n",
      "UPDATE bots SET name = 'Robobot', addresses = ARRAY['г Москва; Коровинское Шоссе 3к2']::text[], number = '+7(969)768-95-85', username = 'Елена', type = 'WB', status = 'FREE', gender = 'w' WHERE id='64'\n",
      "Drowner\n",
      "UPDATE bots SET name = 'Drowner', addresses = ARRAY['; с Стрелецкое; улица Калмыкова; 19']::text[], number = '+7(996)476-69-38', username = 'Карина', type = 'WB', status = 'FREE', gender = 'w' WHERE id='55'\n",
      "Predator\n",
      "UPDATE bots SET name = 'Predator', addresses = ARRAY['г Москва; Коровинское Шоссе 3к2','г Москва; Широкая Улица 23к1','г. Москва Вилиса Лациса 1']::text[], number = '+7(983)072-25-35', username = 'Андрей', type = 'WB', status = 'FREE', gender = 'm' WHERE id='33'\n",
      "Misa\n",
      "UPDATE bots SET name = 'Misa', addresses = ARRAY['г Москва; Улица Мусоргского 5к3']::text[], number = '+7(966)203-15-75', username = 'Анна', type = 'WB', status = 'FREE', gender = 'w' WHERE id='40'\n",
      "Polsha\n",
      "UPDATE bots SET name = 'Polsha', addresses = ARRAY['г Москва; Коровинское Шоссе 3к2']::text[], number = '+7(969)720-26-75', username = 'Анатолий', type = 'WB', status = 'FREE', gender = 'm' WHERE id='13'\n",
      "Robovek\n",
      "UPDATE bots SET name = 'Robovek', addresses = ARRAY['г Москва; Туристская Улица 33','г Москва; Улица Мусоргского 5к3']::text[], number = '+7(966)284-12-17', username = 'Святослав', type = 'WB', status = 'FREE', balance = 150, gender = 'm' WHERE id='12'\n",
      "Trump\n",
      "UPDATE bots SET name = 'Trump', addresses = ARRAY['г Москва; Туристская Улица 33','г Москва; Широкая Улица 23к1']::text[], number = '+7(984)251-83-89', username = 'Людмила', type = 'WB', status = 'FREE', balance = 11, gender = 'w' WHERE id='60'\n",
      "Kota\n",
      "UPDATE bots SET name = 'Kota', addresses = ARRAY['г Москва; Старомарьинское Шоссе 22','г Москва; Алтуфьевское Шоссе 97']::text[], number = '+7(966)287-87-24', username = 'Василиса', type = 'WB', status = 'FREE', gender = 'w' WHERE id='39'\n",
      "Makio\n",
      "UPDATE bots SET name = 'Makio', addresses = ARRAY['г Москва; Коровинское Шоссе 3к2']::text[], number = '+7(938)879-19-10', username = 'Елена', type = 'WB', status = 'FREE', gender = 'w' WHERE id='26'\n",
      "Chelobot\n",
      "UPDATE bots SET name = 'Chelobot', addresses = ARRAY['г Долгопрудный; Московское Шоссе 6а']::text[], number = '+7(952)289-41-80', username = 'Ипполит', type = 'WB', status = 'FREE', gender = 'm' WHERE id='9'\n",
      "Tinker\n",
      "UPDATE bots SET name = 'Tinker', addresses = ARRAY['г Белгород; Проспект Богдана Хмельницкого 156','г. Москва Вилиса Лациса 1']::text[], number = '+7(937)791-62-21', username = 'Юрий', type = 'WB', status = 'FREE', gender = 'm' WHERE id='43'\n",
      "Truble\n",
      "UPDATE bots SET name = 'Truble', addresses = ARRAY['г Москва; Улица Мусоргского 5к3','г Москва; Шенкурский Проезд 11']::text[], number = '+7(926)598-84-32', username = 'Нурлана', type = 'WB', status = 'FREE', gender = 'w' WHERE id='23'\n",
      "Nezuca\n",
      "UPDATE bots SET name = 'Nezuca', addresses = ARRAY['г Москва; Старомарьинское Шоссе 22']::text[], number = '+7(901)257-14-62', username = 'Ксения', type = 'WB', status = 'FREE', gender = 'w' WHERE id='7'\n"
     ]
    }
   ],
   "source": [
    "for bot_name in bots_sessions:\n",
    "    if \"Partner_\" not in bot_name and bot_name in bot_names:\n",
    "        driver = webdriver.Chrome(\"./../chrome/chromedriver\")\n",
    "        driver.get('https://www.wildberries.ru/')\n",
    "        print(bot_name)\n",
    "        cookies = pickle.load(open(f\"./../bots_sessions/Watcher.pkl\", \"rb\"))\n",
    "        for cookie in cookies:\n",
    "            driver.add_cookie(cookie)\n",
    "        driver.get('https://www.wildberries.ru/')\n",
    "\n",
    "        bot = Bots_Model.load(bot_name)\n",
    "        sleep(1)\n",
    "        open_profile(driver)\n",
    "        sleep(1)\n",
    "        number = driver.find_element(By.XPATH, \"//div[contains(@class,'lk-item__bottom')]/p[contains(text(),'Телефон')]\")\n",
    "        bot.number = number.text[8:].replace(\" \", \"\")\n",
    "        bot.update()\n",
    "        driver.close()"
   ]
  },
  {
   "cell_type": "code",
   "execution_count": 16,
   "id": "3d0bdebb",
   "metadata": {},
   "outputs": [
    {
     "name": "stderr",
     "output_type": "stream",
     "text": [
      "/var/folders/fk/pp0h7zr144d6g9870ncqvfl00000gn/T/ipykernel_14880/4136691211.py:1: DeprecationWarning: executable_path has been deprecated, please pass in a Service object\n",
      "  driver = webdriver.Chrome(\"./../chrome/chromedriver\")\n"
     ]
    }
   ],
   "source": [
    "driver = webdriver.Chrome(\"./../chrome/chromedriver\")\n",
    "driver.get('https://www.wildberries.ru/')\n",
    "cookies = pickle.load(open(f\"./../bots_sessions/Watcher.pkl\", \"rb\"))\n",
    "for cookie in cookies:\n",
    "    driver.add_cookie(cookie)\n",
    "driver.get('https://www.wildberries.ru/')"
   ]
  },
  {
   "cell_type": "code",
   "execution_count": 14,
   "id": "f5c6b93d",
   "metadata": {},
   "outputs": [],
   "source": [
    "bot_names_numbers = [\n",
    "[\"Blackbi\",\"+7(900)627-51-23\"]\n",
    "[\"Yone\",\"+7(901)245-42-28\"]\n",
    "[\"Nezuca\",\"+7(901)257-14-62\"]\n",
    "[\"Eater\",\"+7(901)470-95-02\"]\n",
    "[\"Oleg\",\"+7(910)449-99-82\"]\n",
    "[\"Genshin\",\"+7(925)627-13-80\"]\n",
    "[\"Unicorn\",\"+7(926)237-43-45\"]\n",
    "[\"Prisoner\",\"+7(926)286-64-43\"]\n",
    "[\"Watcher\",\"+7(926)316-59-93\"]\n",
    "[\"Satellite\",\"+7(926)566-23-51\"]\n",
    "[\"Truble\",\"+7(926)598-84-32\"]\n",
    "[\"Komi\",\"+7(926)837-73-44\"]\n",
    "[\"Alien\",\"+7(929)589-30-86\"]\n",
    "[\"Uma\",\"+7(929)902-64-63\"]\n",
    "[\"Shef\",\"+7(929)909-55-13\"]\n",
    "[\"Awakener\",\"+7(929)994-98-19\"]\n",
    "[\"Clockverk\",\"+7(930)319-84-34\"]\n",
    "[\"Nuker\",\"+7(930)439-17-31\"]\n",
    "[\"Sniper\",\"+7(930)963-31-83\"]\n",
    "[\"Nami\",\"+7(932)127-58-61\"]\n",
    "[\"Luffy\",\"+7(932)443-63-03\"]\n",
    "[\"Builder\",\"+7(936)109-71-74\"]\n",
    "[\"Doctor\",\"+7(936)109-79-45\"]\n",
    "[\"Jupyter\",\"+7(936)620-19-14\"]\n",
    "[\"Evolution\",\"+7(936)620-98-06\"]\n",
    "[\"Destroyer\",\"+7(936)621-46-24\"]\n",
    "[\"Tika\",\"+7(936)999-78-15\"]\n",
    "[\"Tinker\",\"+7(937)791-62-21\"]\n",
    "[\"Torch\",\"+7(938)528-18-01\"]\n",
    "[\"Makio\",\"+7(938)879-19-10\"]\n",
    "[\"Coder\",\"+7(950)012-75-21\"]\n",
    "[\"Bubble\",\"+7(952)266-91-98\"]\n",
    "[\"Pumper\",\"+7(952)267-43-09\"]\n",
    "[\"Bumb\",\"+7(952)268-92-26\"]\n",
    "[\"Chelobot\",\"+7(952)289-41-80\"]\n",
    "[\"Lavanda\",\"+7(952)289-41-87\"]\n",
    "[\"Razengun\",\"+7(952)385-74-45\"]\n",
    "[\"Disco\",\"+7(953)343-66-41\"]\n",
    "[\"Viral\",\"+7(961)839-02-12\"]\n",
    "[\"Skiter\",\"+7(966)203-09-04\"]\n",
    "[\"Misa\",\"+7(966)203-15-75\"]\n",
    "[\"Minyon\",\"+7(966)203-74-64\"]\n",
    "[\"Lover\",\"+7(966)203-81-83\"]\n",
    "[\"Robovek\",\"+7(966)284-12-17\"]\n",
    "[\"Creator\",\"+7(966)285-06-39\"]\n",
    "[\"Kota\",\"+7(966)287-87-24\"]\n",
    "[\"Skrillex\",\"+7(966)294-30-80\"]\n",
    "[\"Zorro\",\"+7(966)739-95-91\"]\n",
    "[\"Tanjiro\",\"+7(967)438-17-97\"]\n",
    "[\"Shaper\",\"+7(967)697-36-30\"]\n",
    "[\"Ultrabultra\",\"+7(967)697-95-75\"]\n",
    "[\"Dalic\",\"+7(967)744-18-26\"]\n",
    "[\"Banana\",\"+7(967)986-30-12\"]\n",
    "[\"Blumber\",\"+7(967)986-32-00\"]\n",
    "[\"Polsha\",\"+7(969)720-26-75\"]\n",
    "[\"Romero\",\"+7(969)767-64-63\"]\n",
    "[\"Robobot\",\"+7(969)768-95-85\"]\n",
    "[\"Cucumber\",\"+7(969)768-95-94\"]\n",
    "[\"Kitagava\",\"+7(977)124-76-51\"]\n",
    "[\"Predator\",\"+7(983)072-25-35\"]\n",
    "[\"Kotik\",\"+7(984)185-75-59\"]\n",
    "[\"Bututum\",\"+7(984)251-75-71\"]\n",
    "[\"Trump\",\"+7(984)251-83-89\"]\n",
    "[\"Trader\",\"+7(984)252-46-06\"]\n",
    "[\"Catcher\",\"+7(985)602-48-68\"]\n",
    "[\"Alisa\",\"+7(991)706-75-56\"]\n",
    "[\"Drowner\",\"+7(996)476-69-38\"]\n",
    "[\"Robin\",\"+7(996)769-47-49\"]\n",
    "[\"Decadance\",\"+7(996)776-20-50\"]\n",
    "[\"Ichigo\",\"+7(999)544-97-38\"]\n",
    "]"
   ]
  },
  {
   "cell_type": "code",
   "execution_count": null,
   "id": "339b38b7",
   "metadata": {},
   "outputs": [],
   "source": []
  }
 ],
 "metadata": {
  "kernelspec": {
   "display_name": "Python 3 (ipykernel)",
   "language": "python",
   "name": "python3"
  },
  "language_info": {
   "codemirror_mode": {
    "name": "ipython",
    "version": 3
   },
   "file_extension": ".py",
   "mimetype": "text/x-python",
   "name": "python",
   "nbconvert_exporter": "python",
   "pygments_lexer": "ipython3",
   "version": "3.9.7"
  }
 },
 "nbformat": 4,
 "nbformat_minor": 5
}
