{
 "cells": [
  {
   "cell_type": "code",
   "execution_count": 7,
   "id": "39c17991",
   "metadata": {},
   "outputs": [
    {
     "ename": "NameError",
     "evalue": "name 'Bot' is not defined",
     "output_type": "error",
     "traceback": [
      "\u001b[0;31m---------------------------------------------------------------------------\u001b[0m",
      "\u001b[0;31mNameError\u001b[0m                                 Traceback (most recent call last)",
      "Input \u001b[0;32mIn [7]\u001b[0m, in \u001b[0;36m<cell line: 1>\u001b[0;34m()\u001b[0m\n\u001b[0;32m----> 1\u001b[0m bot \u001b[38;5;241m=\u001b[39m \u001b[43mBot\u001b[49m(driver\u001b[38;5;241m=\u001b[39m_bot\u001b[38;5;241m.\u001b[39mdriver)\n",
      "\u001b[0;31mNameError\u001b[0m: name 'Bot' is not defined"
     ]
    }
   ],
   "source": [
    "bot = Bot(driver=_bot.driver)"
   ]
  },
  {
   "cell_type": "code",
   "execution_count": 1,
   "id": "834c5694",
   "metadata": {},
   "outputs": [],
   "source": [
    "# Python Modules\n",
    "import os\n",
    "import json\n",
    "import logging\n",
    "import pandas as pd\n",
    "\n",
    "# For telegram api\n",
    "# pip install python-telegram-bot --upgrade\n",
    "from telegram import Update, InlineKeyboardButton, InlineKeyboardMarkup\n",
    "from telegram.ext import Updater, CommandHandler, MessageHandler, Filters, CallbackContext, \\\n",
    "    CallbackQueryHandler, TypeHandler, ConversationHandler\n",
    "from selenium import webdriver\n",
    "from selenium.webdriver.common.by import By\n",
    "from selenium.webdriver import Keys\n",
    "from selenium.webdriver.common.action_chains import ActionChains\n",
    "from selenium.webdriver.support.wait import WebDriverWait\n",
    "from time import sleep\n",
    "import random\n",
    "import json\n",
    "import pandas as pd\n"
   ]
  },
  {
   "cell_type": "code",
   "execution_count": null,
   "id": "c3c54120",
   "metadata": {},
   "outputs": [],
   "source": [
    "import sys\n",
    "sys.path.append(\"../\")\n",
    "%run Partner.py"
   ]
  },
  {
   "cell_type": "code",
   "execution_count": 27,
   "id": "3aa96727",
   "metadata": {},
   "outputs": [
    {
     "name": "stderr",
     "output_type": "stream",
     "text": [
      "/var/folders/fk/pp0h7zr144d6g9870ncqvfl00000gn/T/ipykernel_86439/1007126877.py:7: DeprecationWarning: executable_path has been deprecated, please pass in a Service object\n",
      "  driver = webdriver.Chrome(\"./../chrome/chromedriver\")\n"
     ]
    },
    {
     "ename": "NameError",
     "evalue": "name 'bot_name' is not defined",
     "output_type": "error",
     "traceback": [
      "\u001b[0;31m---------------------------------------------------------------------------\u001b[0m",
      "\u001b[0;31mNameError\u001b[0m                                 Traceback (most recent call last)",
      "Input \u001b[0;32mIn [27]\u001b[0m, in \u001b[0;36m<cell line: 9>\u001b[0;34m()\u001b[0m\n\u001b[1;32m      7\u001b[0m driver \u001b[38;5;241m=\u001b[39m webdriver\u001b[38;5;241m.\u001b[39mChrome(\u001b[38;5;124m\"\u001b[39m\u001b[38;5;124m./../chrome/chromedriver\u001b[39m\u001b[38;5;124m\"\u001b[39m)\n\u001b[1;32m      8\u001b[0m driver\u001b[38;5;241m.\u001b[39mget(\u001b[38;5;124m'\u001b[39m\u001b[38;5;124mhttps://www.wildberries.ru/\u001b[39m\u001b[38;5;124m'\u001b[39m)\n\u001b[0;32m----> 9\u001b[0m cookies \u001b[38;5;241m=\u001b[39m pickle\u001b[38;5;241m.\u001b[39mload(\u001b[38;5;28mopen\u001b[39m(\u001b[38;5;124mf\u001b[39m\u001b[38;5;124m\"\u001b[39m\u001b[38;5;124m./../bots_sessions/\u001b[39m\u001b[38;5;132;01m{\u001b[39;00mbot_name\u001b[38;5;132;01m}\u001b[39;00m\u001b[38;5;124m.pkl\u001b[39m\u001b[38;5;124m\"\u001b[39m, \u001b[38;5;124m\"\u001b[39m\u001b[38;5;124mrb\u001b[39m\u001b[38;5;124m\"\u001b[39m))\n\u001b[1;32m     10\u001b[0m \u001b[38;5;28;01mfor\u001b[39;00m cookie \u001b[38;5;129;01min\u001b[39;00m cookies:\n\u001b[1;32m     11\u001b[0m     driver\u001b[38;5;241m.\u001b[39madd_cookie(cookie)\n",
      "\u001b[0;31mNameError\u001b[0m: name 'bot_name' is not defined"
     ]
    }
   ],
   "source": [
    "from selenium import webdriver\n",
    "from selenium.webdriver.common.by import By\n",
    "from selenium.webdriver.common.action_chains import ActionChains\n",
    "\n",
    "import pickle\n",
    "\n",
    "driver = webdriver.Chrome(\"./../chrome/chromedriver\")\n",
    "driver.get('https://www.wildberries.ru/')\n",
    "cookies = pickle.load(open(f\"./../bots_sessions/{bot_name}.pkl\", \"rb\"))\n",
    "for cookie in cookies:\n",
    "    driver.add_cookie(cookie)\n",
    "driver.get('https://www.wildberries.ru/')"
   ]
  },
  {
   "cell_type": "code",
   "execution_count": 41,
   "id": "f558ef48",
   "metadata": {},
   "outputs": [],
   "source": [
    "pickle.dump(driver.get_cookies(), open(f\"./../bots_sessions/{bot_name}.pkl\", \"wb\"))"
   ]
  },
  {
   "cell_type": "code",
   "execution_count": 8,
   "id": "c7b726e4",
   "metadata": {},
   "outputs": [],
   "source": [
    "# hover_profile_modal(self):\n",
    "hover = ActionChains(driver)\n",
    "\n",
    "profile_btn = driver.find_element(By.XPATH, \"//span[contains(@class,'navbar-pc__icon--profile')]\")\n",
    "hover.move_to_element(profile_btn).perform()\n",
    "# ---------------------\n",
    "\n",
    "purchases_btn = driver.find_element(By.XPATH,\n",
    "                                        \"//span[text()='Покупки']/../../a[contains(@class,'profile-menu__link')]\")\n",
    "purchases_btn.click()\n"
   ]
  },
  {
   "cell_type": "code",
   "execution_count": null,
   "id": "1e26c918",
   "metadata": {},
   "outputs": [],
   "source": []
  },
  {
   "cell_type": "code",
   "execution_count": 7,
   "id": "c6453b1a",
   "metadata": {},
   "outputs": [],
   "source": [
    "cookies = pickle.load(open('./../bots_sessions/Boulevard Depo' + \".pkl\", \"rb\"))\n",
    "\n",
    "for cookie in cookies:\n",
    "    driver.add_cookie(cookie)\n",
    "# driver.get('https://www.wildberries.ru/')"
   ]
  },
  {
   "cell_type": "code",
   "execution_count": 4,
   "id": "c187a1d8",
   "metadata": {
    "scrolled": true
   },
   "outputs": [
    {
     "name": "stderr",
     "output_type": "stream",
     "text": [
      "C:\\Users\\ASTROC~1\\AppData\\Local\\Temp/ipykernel_20860/2202501120.py:7: DeprecationWarning: executable_path has been deprecated, please pass in a Service object\n",
      "  driver = webdriver.Chrome(\"./../chrome/chromedriver.exe\")\n"
     ]
    }
   ],
   "source": [
    "from selenium import webdriver\n",
    "from selenium.webdriver.common.by import By\n",
    "from selenium.webdriver.common.action_chains import ActionChains\n",
    "\n",
    "import pickle\n",
    "\n",
    "driver = webdriver.Chrome(\"./../chrome/chromedriver.exe\")\n",
    "driver.get('https://seller.wildberries.ru/')"
   ]
  },
  {
   "cell_type": "code",
   "execution_count": 5,
   "id": "92f662c9",
   "metadata": {},
   "outputs": [],
   "source": [
    "# ИП Максимова Н. С.\n",
    "pickle.dump(driver.get_cookies(), open('./../bots_sessions/Partner_781431467440' + \".pkl\", \"wb\"))"
   ]
  },
  {
   "cell_type": "code",
   "execution_count": 6,
   "id": "8b5626c5",
   "metadata": {},
   "outputs": [],
   "source": [
    "# ИП Познахирев Н. В.\n",
    "pickle.dump(driver.get_cookies(), open('./../bots_sessions/Partner_312333011857' + \".pkl\", \"wb\"))"
   ]
  },
  {
   "cell_type": "code",
   "execution_count": 7,
   "id": "d07ec538",
   "metadata": {},
   "outputs": [],
   "source": [
    "# ИП Чемоданов И. С.\n",
    "pickle.dump(driver.get_cookies(), open('./../bots_sessions/Partner_771375894400' + \".pkl\", \"wb\"))"
   ]
  },
  {
   "cell_type": "code",
   "execution_count": 8,
   "id": "827a3f9b",
   "metadata": {},
   "outputs": [],
   "source": [
    "# Хуснимарданова Неля Раиловна\n",
    "pickle.dump(driver.get_cookies(), open('./../bots_sessions/Partner_023903059155' + \".pkl\", \"wb\"))"
   ]
  },
  {
   "cell_type": "code",
   "execution_count": 9,
   "id": "d99d1bee",
   "metadata": {},
   "outputs": [],
   "source": [
    "# ИП Бенуж А. А.\n",
    "pickle.dump(driver.get_cookies(), open('./../bots_sessions/Partner_667415436031' + \".pkl\", \"wb\"))"
   ]
  },
  {
   "cell_type": "code",
   "execution_count": 10,
   "id": "d663d986",
   "metadata": {},
   "outputs": [],
   "source": [
    "# ИП Белова О. А.\n",
    "pickle.dump(driver.get_cookies(), open('./../bots_sessions/Partner_583511424419' + \".pkl\", \"wb\"))"
   ]
  },
  {
   "cell_type": "code",
   "execution_count": 19,
   "id": "e79392bb",
   "metadata": {},
   "outputs": [
    {
     "name": "stderr",
     "output_type": "stream",
     "text": [
      "C:\\Users\\ASTROC~1\\AppData\\Local\\Temp/ipykernel_20860/1831755286.py:7: DeprecationWarning: executable_path has been deprecated, please pass in a Service object\n",
      "  driver = webdriver.Chrome(\"./../chrome/chromedriver.exe\")\n"
     ]
    }
   ],
   "source": [
    "from selenium import webdriver\n",
    "from selenium.webdriver.common.by import By\n",
    "from selenium.webdriver.common.action_chains import ActionChains\n",
    "\n",
    "import pickle\n",
    "\n",
    "driver = webdriver.Chrome(\"./../chrome/chromedriver.exe\")\n",
    "driver.get('https://seller.wildberries.ru/')\n",
    "cookies = pickle.load(open('./../bots_sessions/Partner_583511424419' + \".pkl\", \"rb\"))\n",
    "for cookie in cookies:\n",
    "    driver.add_cookie(cookie)\n",
    "driver.get('https://seller.wildberries.ru/')"
   ]
  },
  {
   "cell_type": "code",
   "execution_count": null,
   "id": "fbacd3cc",
   "metadata": {},
   "outputs": [],
   "source": [
    "sys.path.append(\"/Users/konstantindarlin/WBbot/TG/Models\")"
   ]
  },
  {
   "cell_type": "code",
   "execution_count": 41,
   "id": "96e26ed3",
   "metadata": {},
   "outputs": [],
   "source": [
    "import sys\n",
    "sys.path.append(\"../TG\")"
   ]
  },
  {
   "cell_type": "code",
   "execution_count": 141,
   "id": "9fbeea22",
   "metadata": {},
   "outputs": [
    {
     "name": "stdout",
     "output_type": "stream",
     "text": [
      "bots_names ['Satellite', 'Skiter', 'Shaper', 'Lover', 'Clockverk', 'Komi', 'Uma', 'Eater', 'Builder', 'Jupyter', 'Doctor', 'Awakener', 'Skrillex', 'Tika', 'Torch', 'Catcher', 'Oleg', 'Romero', 'Dalic', 'Destroyer', 'Trader', 'Kotik', 'Zorro', 'Nuker', 'Yone', 'Alien', 'Luffy', 'Kitagava', 'Viral', 'Sniper', 'Prisoner', 'Tanjiro', 'Creator', 'Drowner', 'Watcher', 'Predator', 'Misa', 'Makio', 'Tinker', 'Nezuca', 'Evolution', 'Unicorn', 'Bututum', 'Robin', 'Shef', 'Nami', 'Ultrabultra', 'Genshin', 'Coder', 'Bumb', 'Bubble', 'Ichigo', 'Decadance', 'Disco', 'Pumper', 'Alisa', 'Minyon', 'Lavanda', 'Blumber', 'Blackbi', 'Cucumber', 'Banana']\n",
      "bots_sessions ['Satellite', 'Evolution', 'Skiter', 'Shaper', 'Watcher', 'Unicorn', 'Lover', 'Clockverk', 'Bututum', 'Robin', 'Komi', 'Uma', 'Eater', 'Shef', 'Nami', 'Ultrabultra', 'Genshin', 'Coder', 'Builder', 'Jupyter', 'Doctor', 'Awakener', 'Skrillex', 'Tika', 'Bumb', 'Torch', 'Bubble', 'Catcher', 'Oleg', 'Ichigo', 'Romero', 'Dalic', 'Destroyer', 'Trader', 'Decadance', 'Kotik', 'Zorro', 'Nuker', 'Yone', 'Alien', 'Disco', 'Luffy', 'Kitagava', 'Viral', 'Pumper', 'Alisa', 'Minyon', 'Lavanda', 'Blumber', 'Blackbi', 'Sniper', 'Prisoner', 'Cucumber', 'Banana', 'Tanjiro', 'Creator', 'Razengun', 'Robobot', 'Drowner', 'Predator', 'Misa', 'Polsha', 'Robovek', 'Trump', 'Kota', 'Makio', 'Chelobot', 'Tinker', 'Truble', 'Nezuca']\n"
     ]
    },
    {
     "name": "stderr",
     "output_type": "stream",
     "text": [
      "/var/folders/fk/pp0h7zr144d6g9870ncqvfl00000gn/T/ipykernel_6200/1629248993.py:93: DeprecationWarning: executable_path has been deprecated, please pass in a Service object\n",
      "  driver = webdriver.Chrome(\"./../chrome/chromedriver\")\n"
     ]
    },
    {
     "name": "stdout",
     "output_type": "stream",
     "text": [
      "Razengun\n",
      "INSERT INTO bots (id, name, username, type, status) VALUES ('0', 'Razengun', 'Глеб', 'WB', 'FREE')\n",
      "Robobot\n",
      "INSERT INTO bots (id, name, addresses, username, type, status) VALUES ('0', 'Robobot', ARRAY['г Москва; Коровинское Шоссе 3к2']::text[], 'Елена', 'WB', 'FREE')\n",
      "Polsha\n",
      "INSERT INTO bots (id, name, addresses, username, type, status) VALUES ('0', 'Polsha', ARRAY['г Москва; Коровинское Шоссе 3к2']::text[], 'Анатолий', 'WB', 'FREE')\n",
      "Robovek\n",
      "INSERT INTO bots (id, name, addresses, username, type, status, balance) VALUES ('0', 'Robovek', ARRAY['г Москва; Туристская Улица 33','г Москва; Улица Мусоргского 5к3']::text[], 'Святослав', 'WB', 'FREE', 150)\n",
      "Trump\n",
      "INSERT INTO bots (id, name, addresses, username, type, status, balance) VALUES ('0', 'Trump', ARRAY['г Москва; Туристская Улица 33','г Москва; Широкая Улица 23к1']::text[], 'Людмила', 'WB', 'FREE', 11)\n",
      "Kota\n",
      "INSERT INTO bots (id, name, addresses, username, type, status) VALUES ('0', 'Kota', ARRAY['г Москва; Старомарьинское Шоссе 22','г Москва; Алтуфьевское Шоссе 97']::text[], 'Василиса', 'WB', 'FREE')\n",
      "Chelobot\n",
      "INSERT INTO bots (id, name, addresses, username, type, status) VALUES ('0', 'Chelobot', ARRAY['г Долгопрудный; Московское Шоссе 6а']::text[], 'Ипполит', 'WB', 'FREE')\n",
      "Truble\n",
      "INSERT INTO bots (id, name, addresses, username, type, status) VALUES ('0', 'Truble', ARRAY['г Москва; Улица Мусоргского 5к3','г Москва; Шенкурский Проезд 11']::text[], 'Нурлана', 'WB', 'FREE')\n"
     ]
    }
   ],
   "source": [
    "from Model import Model\n",
    "from Bots import Bots_Model, Bot_Model\n",
    "\n",
    "from selenium import webdriver\n",
    "from selenium.webdriver.common.by import By\n",
    "from selenium.webdriver.common.action_chains import ActionChains\n",
    "\n",
    "import pickle\n",
    "\n",
    "bots_names = []\n",
    "bots = Bots_Model.load()\n",
    "for bot in bots:\n",
    "    if bot.name not in bots_names:\n",
    "        bots_names += [bot.name]\n",
    "print(\"bots_names\", bots_names)\n",
    "bots_sessions = os.listdir(\"../bots_sessions\")\n",
    "\n",
    "bs_i = bots_sessions.index(\".DS_Store\")\n",
    "if bs_i:\n",
    "    del bots_sessions[bs_i]\n",
    "\n",
    "bots_sessions = [bot_session[:-4] for bot_session in bots_sessions]\n",
    "print(\"bots_sessions\", bots_sessions)\n",
    "\n",
    "def open_profile(driver):\n",
    "    hover = ActionChains(driver)\n",
    "    profile_btn = WebDriverWait(driver, 10).until(\n",
    "        lambda d: d.find_element(By.XPATH, \"//span[contains(@class,'navbar-pc__icon--profile')]\"))\n",
    "    profile_btn.click()\n",
    "\n",
    "def hover_profile_modal(driver):\n",
    "    hover = ActionChains(driver)\n",
    "    profile_btn = WebDriverWait(driver, 10).until(\n",
    "        lambda d: d.find_element(By.XPATH, \"//span[contains(@class,'navbar-pc__icon--profile')]\"))\n",
    "    hover.move_to_element(profile_btn).perform()\n",
    "\n",
    "def go_to_basket(driver):\n",
    "    WebDriverWait(driver, 10).until(\n",
    "        lambda d: d.find_element(By.CLASS_NAME, 'navbar-pc__icon--basket')).click()\n",
    "    \n",
    "def get_addresses(driver):\n",
    "    addresses = []\n",
    "    try:\n",
    "        WebDriverWait(driver, 10).until(\n",
    "            lambda d: d.find_element(By.XPATH,\n",
    "                                 '//h2[text()=\"Способ доставки\"]/../../div[text()=\"Выбрать адрес доставки\"]')).click()\n",
    "    except:\n",
    "        WebDriverWait(driver, 10).until(\n",
    "            lambda d: d.find_element(By.XPATH,\n",
    "                                 '//h2[text()=\"Способ доставки\"]/../button/span[text()=\"Изменить\"]')).click()\n",
    "    sleep(1)\n",
    "    try:\n",
    "        addresses_el = WebDriverWait(driver, 10).until(\n",
    "                lambda d: d.find_elements(By.XPATH,\n",
    "                            f'//ul[contains(@class,\"history__list\")]/li/label/span/span[contains(@class,\"history__address\")]'))\n",
    "    \n",
    "        for address in addresses_el:\n",
    "            if address.text != \"— Пункт выдачи\":\n",
    "                addresses += [address.text]\n",
    "    except:\n",
    "        pass\n",
    "    \n",
    "    return addresses\n",
    "\n",
    "def to_basket(driver):\n",
    "    try:\n",
    "        WebDriverWait(driver, 10).until(\n",
    "            lambda d: d.find_element(By.XPATH, '//span[contains(text(), \"Добавить в корзину\")]/..')).click()\n",
    "    except:\n",
    "        pass\n",
    "    try:\n",
    "        basket_btns = WebDriverWait(driver, 10).until(\n",
    "            lambda d: d.find_elements(By.XPATH, '//span[contains(text(), \"Добавить в корзину\")]/..'))\n",
    "        for basket_btn in basket_btns:\n",
    "            try:\n",
    "                basket_btn.click()\n",
    "            except:\n",
    "                pass\n",
    "    except:\n",
    "        pass\n",
    "\n",
    "def check_balance(driver):\n",
    "    hover_profile_modal(driver)\n",
    "    sleep(2)\n",
    "    balance_text = driver.find_element(By.XPATH, \"//span[contains(@class,'profile-menu__balance')]\").text\n",
    "    balance = int(\"\".join(balance_text.split(\" \")[:-1]))\n",
    "    return balance\n",
    "\n",
    "for bot_name in bots_sessions:\n",
    "    if bot_name not in bots_names:\n",
    "        bots_names += [bot.name]\n",
    "        \n",
    "        driver = webdriver.Chrome(\"./../chrome/chromedriver\")\n",
    "        driver.get('https://www.wildberries.ru/')\n",
    "        print(bot_name)\n",
    "        cookies = pickle.load(open(f\"./../bots_sessions/{bot_name}.pkl\", \"rb\"))\n",
    "        for cookie in cookies:\n",
    "            driver.add_cookie(cookie)\n",
    "        driver.get('https://www.wildberries.ru/')\n",
    "        \n",
    "        bot = Bot_Model()\n",
    "\n",
    "        bot.name = bot_name\n",
    "        bot.type = \"WB\"\n",
    "        bot.status = \"FREE\"\n",
    "\n",
    "        open_profile(driver)\n",
    "        sleep(1)\n",
    "        driver.find_element(By.XPATH, \"//a[@class='lk-menu-main__title' and text()='Профиль']\").click()\n",
    "        sleep(1)\n",
    "        bot.username = driver.find_element(By.XPATH, \"//h2[@class='personal-data__header']\").text\n",
    "        bot.balance = check_balance(driver)\n",
    "\n",
    "        go_to_basket(driver)\n",
    "        sleep(2)\n",
    "        try:\n",
    "            driver.find_element(By.XPATH, \"//h1[text()='В корзине пока пусто']\")\n",
    "            driver.get('https://www.wildberries.ru/catalog/43028100/detail.aspx?targetUrl=GP')\n",
    "            sleep(2)\n",
    "            to_basket(driver)\n",
    "            sleep(2)\n",
    "            go_to_basket(driver)\n",
    "        except:\n",
    "            pass\n",
    "\n",
    "\n",
    "        bot.addresses = get_addresses(driver)\n",
    "        bot.insert()\n",
    "        driver.close()"
   ]
  },
  {
   "cell_type": "code",
   "execution_count": null,
   "id": "0f915ab1",
   "metadata": {},
   "outputs": [],
   "source": []
  }
 ],
 "metadata": {
  "kernelspec": {
   "display_name": "Python 3 (ipykernel)",
   "language": "python",
   "name": "python3"
  },
  "language_info": {
   "codemirror_mode": {
    "name": "ipython",
    "version": 3
   },
   "file_extension": ".py",
   "mimetype": "text/x-python",
   "name": "python",
   "nbconvert_exporter": "python",
   "pygments_lexer": "ipython3",
   "version": "3.9.7"
  }
 },
 "nbformat": 4,
 "nbformat_minor": 5
}
